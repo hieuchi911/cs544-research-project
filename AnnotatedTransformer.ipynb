{
 "cells": [
  {
   "cell_type": "code",
   "execution_count": 1,
   "id": "e04e0d98",
   "metadata": {},
   "outputs": [],
   "source": [
    "import de_core_news_sm\n",
    "import en_core_web_sm\n",
    "import portalocker"
   ]
  },
  {
   "cell_type": "code",
   "execution_count": 2,
   "id": "3e033351",
   "metadata": {},
   "outputs": [],
   "source": [
    "from subword_nmt.learn_bpe import learn_bpe\n",
    "from subword_nmt import apply_bpe\n",
    "from subword_nmt.apply_bpe import BPE\n",
    "import nltk\n",
    "import gensim"
   ]
  },
  {
   "cell_type": "code",
   "execution_count": 3,
   "id": "2be830f7",
   "metadata": {},
   "outputs": [],
   "source": [
    "from torchtext.data.metrics import bleu_score\n",
    "from torchtext.data.functional import to_map_style_dataset\n",
    "from torch.utils.data import DataLoader\n",
    "from torchtext.vocab import build_vocab_from_iterator, vocab\n",
    "import torchtext.datasets as datasets\n",
    "from torch.utils.data.distributed import DistributedSampler\n",
    "import torch.distributed as dist\n",
    "import torch.multiprocessing as mp\n",
    "from torch.nn.parallel import DistributedDataParallel as DDP\n",
    "import torch\n",
    "import torch.nn as nn\n",
    "from torch.nn.functional import log_softmax, pad\n",
    "from torch.optim.lr_scheduler import LambdaLR"
   ]
  },
  {
   "cell_type": "code",
   "execution_count": 4,
   "id": "b22fd774",
   "metadata": {},
   "outputs": [],
   "source": [
    "from sklearn.utils import shuffle\n",
    "import pandas as pd\n",
    "import spacy"
   ]
  },
  {
   "cell_type": "code",
   "execution_count": 5,
   "id": "1bf3deb7",
   "metadata": {
    "execution": {
     "iopub.execute_input": "2022-05-02T01:25:17.560273Z",
     "iopub.status.busy": "2022-05-02T01:25:17.559273Z",
     "iopub.status.idle": "2022-05-02T01:25:18.690005Z",
     "shell.execute_reply": "2022-05-02T01:25:18.690769Z"
    },
    "id": "v1-1MX6oTsp9",
    "lines_to_next_cell": 2
   },
   "outputs": [],
   "source": [
    "import os\n",
    "from os.path import exists\n",
    "import json\n",
    "from collections import Counter, OrderedDict\n",
    "import math\n",
    "import copy\n",
    "import time\n",
    "import gc\n",
    "import altair as alt\n",
    "import matplotlib.pyplot as plt\n",
    "import GPUtil\n",
    "import warnings\n",
    "from entmax import sparsemax, entmax15\n",
    "warnings.filterwarnings('ignore')\n",
    "RUN_EXAMPLES = True"
   ]
  },
  {
   "cell_type": "code",
   "execution_count": 6,
   "id": "3eca19a3",
   "metadata": {},
   "outputs": [],
   "source": [
    "from entmax import sparsemax, entmax15"
   ]
  },
  {
   "cell_type": "code",
   "execution_count": 7,
   "id": "df3e80c9",
   "metadata": {},
   "outputs": [],
   "source": [
    "from gensim.models import Word2Vec, KeyedVectors"
   ]
  },
  {
   "cell_type": "code",
   "execution_count": 8,
   "id": "fbceed1e",
   "metadata": {},
   "outputs": [],
   "source": [
    "os.environ[\"PYTORCH_CUDA_ALLOC_CONF\"] = \"max_split_size_mb:512\""
   ]
  },
  {
   "cell_type": "code",
   "execution_count": 9,
   "id": "60359a1a",
   "metadata": {
    "execution": {
     "iopub.execute_input": "2022-05-02T01:25:18.702574Z",
     "iopub.status.busy": "2022-05-02T01:25:18.701680Z",
     "iopub.status.idle": "2022-05-02T01:25:18.704131Z",
     "shell.execute_reply": "2022-05-02T01:25:18.704839Z"
    }
   },
   "outputs": [],
   "source": [
    "# Some convenience helper functions used throughout the notebook\n",
    "\n",
    "def is_interactive_notebook():\n",
    "    return __name__ == '__main__'\n",
    "\n",
    "\n",
    "def show_example(fn, args=[]):\n",
    "    if __name__ == '__main__' and RUN_EXAMPLES:\n",
    "        return fn(*args)\n",
    "\n",
    "\n",
    "def execute_example(fn, args=[]):\n",
    "    if __name__ == '__main__' and RUN_EXAMPLES:\n",
    "        fn(*args)\n",
    "\n",
    "\n",
    "class DummyOptimizer(torch.optim.Optimizer):\n",
    "    def __init__(self):\n",
    "        self.param_groups = [{'lr': 0}]\n",
    "        None\n",
    "\n",
    "    def step(self):\n",
    "        None\n",
    "\n",
    "    def zero_grad(self, set_to_none=False):\n",
    "        None\n",
    "\n",
    "\n",
    "class DummyScheduler:\n",
    "    def step(self):\n",
    "        None"
   ]
  },
  {
   "cell_type": "code",
   "execution_count": null,
   "id": "d7e60503",
   "metadata": {},
   "outputs": [],
   "source": []
  },
  {
   "cell_type": "code",
   "execution_count": 10,
   "id": "d8c8de30",
   "metadata": {},
   "outputs": [],
   "source": [
    "# plt.plot([2.8922460307237907, 2.194109773455518, 2.0563710700215725, 1.979828157081014], label='Softmax Attention')\n",
    "# plt.plot([4.57104134212686, 3.9963503417950355, 3.7907971491658072, 3.6298673703196926], label='Rectified Linear Attention')\n",
    "# plt.plot([3.2588626102080673, 2.5048274199231493, 2.317883473525828, 2.2120773215414973], label='Sparsemax Attention')\n",
    "\n",
    "# plt.xticks(range(4))\n",
    "# plt.xlabel('Epochs')\n",
    "# plt.ylabel('Loss')\n",
    "# plt.title('Train Loss Over Time')\n",
    "# plt.legend()\n",
    "# plt.show()"
   ]
  },
  {
   "cell_type": "code",
   "execution_count": 11,
   "id": "3276ce74",
   "metadata": {},
   "outputs": [],
   "source": [
    "torch.cuda.empty_cache()"
   ]
  },
  {
   "cell_type": "code",
   "execution_count": 12,
   "id": "124f751e",
   "metadata": {},
   "outputs": [],
   "source": [
    "# max_train, max_val, max_test = 2977999, 18719, 19151\n",
    "# max_train, max_val, max_test = 50000, 15000, 15000\n",
    "# max_train, max_val, max_test = 1000, 500, 500"
   ]
  },
  {
   "cell_type": "code",
   "execution_count": 13,
   "id": "3575855e",
   "metadata": {},
   "outputs": [],
   "source": [
    "# './models/vi_to_en_complete_softmax_3.pt'\n",
    "# './models/vi_to_en_complete_rela_3.pt'\n",
    "# './models/vi_to_en_complete_sparsemax_3.pt'"
   ]
  },
  {
   "cell_type": "code",
   "execution_count": 14,
   "id": "f74b7bf5",
   "metadata": {},
   "outputs": [],
   "source": [
    "# a = torch.load('./models/vi_to_en_complete_softmax_3.pt')"
   ]
  },
  {
   "cell_type": "code",
   "execution_count": 15,
   "id": "1ad90516",
   "metadata": {},
   "outputs": [],
   "source": [
    "# a['validation_epoch_loss']"
   ]
  },
  {
   "cell_type": "code",
   "execution_count": 16,
   "id": "2d892f3e",
   "metadata": {},
   "outputs": [],
   "source": [
    "# b = torch.load('./models/vi_to_en_BPE_complete_softmax_3.pt')"
   ]
  },
  {
   "cell_type": "code",
   "execution_count": 17,
   "id": "cbf7a2ce",
   "metadata": {},
   "outputs": [],
   "source": [
    "# b['score']"
   ]
  },
  {
   "cell_type": "code",
   "execution_count": 18,
   "id": "43273039",
   "metadata": {},
   "outputs": [],
   "source": [
    "# c = torch.load('./models/vi_to_en_complete_rela_3.pt')"
   ]
  },
  {
   "cell_type": "code",
   "execution_count": 19,
   "id": "bf76449d",
   "metadata": {},
   "outputs": [],
   "source": [
    "# c['validation_epoch_loss']"
   ]
  },
  {
   "cell_type": "code",
   "execution_count": 20,
   "id": "8196d8c1",
   "metadata": {},
   "outputs": [],
   "source": [
    "# d = torch.load('./models/vi_to_en_BPE_complete_rela_3.pt')"
   ]
  },
  {
   "cell_type": "code",
   "execution_count": 21,
   "id": "39af47a0",
   "metadata": {},
   "outputs": [],
   "source": [
    "# d['score']"
   ]
  },
  {
   "cell_type": "code",
   "execution_count": 22,
   "id": "fdf3f4a4",
   "metadata": {},
   "outputs": [],
   "source": [
    "# e = torch.load('./models/vi_to_en_complete_sparsemax_3.pt')"
   ]
  },
  {
   "cell_type": "code",
   "execution_count": 23,
   "id": "a32187a5",
   "metadata": {},
   "outputs": [],
   "source": [
    "# e['validation_epoch_loss']"
   ]
  },
  {
   "cell_type": "code",
   "execution_count": 24,
   "id": "f942def1",
   "metadata": {},
   "outputs": [],
   "source": [
    "# f = torch.load('./models/vi_to_en_BPE_complete_sparsemax_3.pt')"
   ]
  },
  {
   "cell_type": "code",
   "execution_count": 25,
   "id": "33ffcad0",
   "metadata": {},
   "outputs": [],
   "source": [
    "# f['score']"
   ]
  },
  {
   "cell_type": "markdown",
   "id": "af8b3f4b",
   "metadata": {},
   "source": [
    "# Part 1: Model Architecture"
   ]
  },
  {
   "cell_type": "markdown",
   "id": "4ffe7928",
   "metadata": {
    "id": "pFrPajezTsqB"
   },
   "source": [
    "# Model Architecture"
   ]
  },
  {
   "cell_type": "markdown",
   "id": "c96103f9",
   "metadata": {
    "id": "ReuU_h-fTsqB"
   },
   "source": [
    "\n",
    "Most competitive neural sequence transduction models have an\n",
    "encoder-decoder structure\n",
    "[(cite)](https://arxiv.org/abs/1409.0473). Here, the encoder maps an\n",
    "input sequence of symbol representations $(x_1, ..., x_n)$ to a\n",
    "sequence of continuous representations $\\mathbf{z} = (z_1, ...,\n",
    "z_n)$. Given $\\mathbf{z}$, the decoder then generates an output\n",
    "sequence $(y_1,...,y_m)$ of symbols one element at a time. At each\n",
    "step the model is auto-regressive\n",
    "[(cite)](https://arxiv.org/abs/1308.0850), consuming the previously\n",
    "generated symbols as additional input when generating the next."
   ]
  },
  {
   "cell_type": "code",
   "execution_count": 26,
   "id": "90e7e57e",
   "metadata": {
    "execution": {
     "iopub.execute_input": "2022-05-02T01:25:18.716980Z",
     "iopub.status.busy": "2022-05-02T01:25:18.716023Z",
     "iopub.status.idle": "2022-05-02T01:25:18.718971Z",
     "shell.execute_reply": "2022-05-02T01:25:18.718190Z"
    },
    "id": "k0XGXhzRTsqB"
   },
   "outputs": [],
   "source": [
    "class EncoderDecoder(nn.Module):\n",
    "    '''\n",
    "    A standard Encoder-Decoder architecture. Base for this and many\n",
    "    other models.\n",
    "    '''\n",
    "\n",
    "    def __init__(self, encoder, decoder, src_embed, tgt_embed, generator):\n",
    "        super(EncoderDecoder, self).__init__()\n",
    "        self.encoder = encoder\n",
    "        self.decoder = decoder\n",
    "        self.src_embed = src_embed\n",
    "        self.tgt_embed = tgt_embed\n",
    "        self.generator = generator\n",
    "\n",
    "    def forward(self, src, tgt, src_mask, tgt_mask):\n",
    "        'Take in and process masked src and target sequences.'\n",
    "        src_encode = self.encode(src, src_mask)\n",
    "        return self.decode(src_encode, src_mask, tgt, tgt_mask)\n",
    "\n",
    "    def encode(self, src, src_mask):\n",
    "        src_embed = self.src_embed(src)\n",
    "        return self.encoder(src_embed, src_mask)\n",
    "\n",
    "    def decode(self, memory, src_mask, tgt, tgt_mask):\n",
    "        tgt_embed = self.tgt_embed(tgt)\n",
    "        return self.decoder(tgt_embed, memory, src_mask, tgt_mask)"
   ]
  },
  {
   "cell_type": "code",
   "execution_count": 27,
   "id": "85bfcee7",
   "metadata": {
    "execution": {
     "iopub.execute_input": "2022-05-02T01:25:18.725923Z",
     "iopub.status.busy": "2022-05-02T01:25:18.724967Z",
     "iopub.status.idle": "2022-05-02T01:25:18.727616Z",
     "shell.execute_reply": "2022-05-02T01:25:18.726912Z"
    },
    "id": "NKGoH2RsTsqC",
    "lines_to_next_cell": 2
   },
   "outputs": [],
   "source": [
    "class Generator(nn.Module):\n",
    "    'Define standard linear + softmax generation step.'\n",
    "\n",
    "    def __init__(self, d_model, vocab):\n",
    "        super(Generator, self).__init__()\n",
    "        self.proj = nn.Linear(d_model, vocab)\n",
    "\n",
    "    def forward(self, x):\n",
    "        return log_softmax(self.proj(x), dim=-1)"
   ]
  },
  {
   "cell_type": "markdown",
   "id": "bd5d4af0",
   "metadata": {
    "id": "mOoEnF_jTsqC"
   },
   "source": [
    "\n",
    "The Transformer follows this overall architecture using stacked\n",
    "self-attention and point-wise, fully connected layers for both the\n",
    "encoder and decoder, shown in the left and right halves of Figure 1,\n",
    "respectively."
   ]
  },
  {
   "cell_type": "markdown",
   "id": "592fd662",
   "metadata": {
    "id": "oredWloYTsqC",
    "lines_to_next_cell": 2
   },
   "source": [
    "![](images/ModalNet-21.png)"
   ]
  },
  {
   "cell_type": "markdown",
   "id": "0ef04378",
   "metadata": {
    "id": "bh092NZBTsqD"
   },
   "source": [
    "## Encoder and Decoder Stacks\n",
    "\n",
    "### Encoder\n",
    "\n",
    "The encoder is composed of a stack of $N=6$ identical layers."
   ]
  },
  {
   "cell_type": "code",
   "execution_count": 28,
   "id": "0367c79f",
   "metadata": {
    "execution": {
     "iopub.execute_input": "2022-05-02T01:25:18.733957Z",
     "iopub.status.busy": "2022-05-02T01:25:18.733114Z",
     "iopub.status.idle": "2022-05-02T01:25:18.735146Z",
     "shell.execute_reply": "2022-05-02T01:25:18.735851Z"
    },
    "id": "2gxTApUYTsqD"
   },
   "outputs": [],
   "source": [
    "def clones(module, N):\n",
    "    'Produce N identical layers.'\n",
    "    return nn.ModuleList([copy.deepcopy(module) for _ in range(N)])"
   ]
  },
  {
   "cell_type": "code",
   "execution_count": 29,
   "id": "1d643018",
   "metadata": {
    "execution": {
     "iopub.execute_input": "2022-05-02T01:25:18.744483Z",
     "iopub.status.busy": "2022-05-02T01:25:18.743617Z",
     "iopub.status.idle": "2022-05-02T01:25:18.745891Z",
     "shell.execute_reply": "2022-05-02T01:25:18.746578Z"
    },
    "id": "xqVTz9MkTsqD"
   },
   "outputs": [],
   "source": [
    "class Encoder(nn.Module):\n",
    "    'Core encoder is a stack of N layers'\n",
    "\n",
    "    def __init__(self, layer, N):\n",
    "        super(Encoder, self).__init__()\n",
    "        self.layers = clones(layer, N)\n",
    "        self.norm = LayerNorm(layer.size)\n",
    "\n",
    "    def forward(self, x, mask):\n",
    "        'Pass the input (and mask) through each layer in turn.'\n",
    "        for layer in self.layers:\n",
    "            x = layer(x, mask)\n",
    "        return self.norm(x)"
   ]
  },
  {
   "cell_type": "markdown",
   "id": "9f730d85",
   "metadata": {
    "id": "GjAKgjGwTsqD"
   },
   "source": [
    "\n",
    "We employ a residual connection\n",
    "[(cite)](https://arxiv.org/abs/1512.03385) around each of the two\n",
    "sub-layers, followed by layer normalization\n",
    "[(cite)](https://arxiv.org/abs/1607.06450)."
   ]
  },
  {
   "cell_type": "code",
   "execution_count": 30,
   "id": "1eb56a59",
   "metadata": {
    "execution": {
     "iopub.execute_input": "2022-05-02T01:25:18.756189Z",
     "iopub.status.busy": "2022-05-02T01:25:18.755315Z",
     "iopub.status.idle": "2022-05-02T01:25:18.757924Z",
     "shell.execute_reply": "2022-05-02T01:25:18.758590Z"
    },
    "id": "3jKa_prZTsqE"
   },
   "outputs": [],
   "source": [
    "class LayerNorm(nn.Module):\n",
    "    'Construct a layernorm module (See citation for details).'\n",
    "\n",
    "    def __init__(self, features, eps=1e-6):\n",
    "        super(LayerNorm, self).__init__()\n",
    "        self.a_2 = nn.Parameter(torch.ones(features))\n",
    "        self.b_2 = nn.Parameter(torch.zeros(features))\n",
    "        self.eps = eps\n",
    "\n",
    "    def forward(self, x):\n",
    "        mean = x.mean(-1, keepdim=True)\n",
    "        std = x.std(-1, keepdim=True)\n",
    "        return self.a_2 * (x - mean) / (std + self.eps) + self.b_2"
   ]
  },
  {
   "cell_type": "markdown",
   "id": "c9c1edc4",
   "metadata": {
    "id": "nXSJ3QYmTsqE"
   },
   "source": [
    "\n",
    "That is, the output of each sub-layer is $\\mathrm{LayerNorm}(x +\n",
    "\\mathrm{Sublayer}(x))$, where $\\mathrm{Sublayer}(x)$ is the function\n",
    "implemented by the sub-layer itself.  We apply dropout\n",
    "[(cite)](http://jmlr.org/papers/v15/srivastava14a.html) to the\n",
    "output of each sub-layer, before it is added to the sub-layer input\n",
    "and normalized.\n",
    "\n",
    "To facilitate these residual connections, all sub-layers in the\n",
    "model, as well as the embedding layers, produce outputs of dimension\n",
    "$d_{\\text{model}}=512$."
   ]
  },
  {
   "cell_type": "code",
   "execution_count": 31,
   "id": "a7f34584",
   "metadata": {
    "execution": {
     "iopub.execute_input": "2022-05-02T01:25:18.767044Z",
     "iopub.status.busy": "2022-05-02T01:25:18.766174Z",
     "iopub.status.idle": "2022-05-02T01:25:18.768689Z",
     "shell.execute_reply": "2022-05-02T01:25:18.769383Z"
    },
    "id": "U1P7zI0eTsqE"
   },
   "outputs": [],
   "source": [
    "class SublayerConnection(nn.Module):\n",
    "    '''\n",
    "    A residual connection followed by a layer norm.\n",
    "    Note for code simplicity the norm is first as opposed to last.\n",
    "    '''\n",
    "\n",
    "    def __init__(self, size, dropout):\n",
    "        super(SublayerConnection, self).__init__()\n",
    "        self.norm = LayerNorm(size)\n",
    "        self.dropout = nn.Dropout(dropout)\n",
    "\n",
    "    def forward(self, x, sublayer):\n",
    "        'Apply residual connection to any sublayer with the same size.'\n",
    "        return x + self.dropout(sublayer(self.norm(x)))"
   ]
  },
  {
   "cell_type": "markdown",
   "id": "e1d6e20d",
   "metadata": {
    "id": "ML6oDlEqTsqE"
   },
   "source": [
    "\n",
    "Each layer has two sub-layers. The first is a multi-head\n",
    "self-attention mechanism, and the second is a simple, position-wise\n",
    "fully connected feed-forward network."
   ]
  },
  {
   "cell_type": "code",
   "execution_count": 32,
   "id": "3db97336",
   "metadata": {
    "execution": {
     "iopub.execute_input": "2022-05-02T01:25:18.779893Z",
     "iopub.status.busy": "2022-05-02T01:25:18.778804Z",
     "iopub.status.idle": "2022-05-02T01:25:18.780994Z",
     "shell.execute_reply": "2022-05-02T01:25:18.781710Z"
    },
    "id": "qYkUFr6GTsqE"
   },
   "outputs": [],
   "source": [
    "class EncoderLayer(nn.Module):\n",
    "    'Encoder is made up of self-attn and feed forward (defined below)'\n",
    "\n",
    "    def __init__(self, size, self_attn, feed_forward, dropout):\n",
    "        super(EncoderLayer, self).__init__()\n",
    "        self.self_attn = self_attn\n",
    "        self.feed_forward = feed_forward\n",
    "        # creates the two 'add & norm' found in the figure\n",
    "        self.sublayer = clones(SublayerConnection(size, dropout), 2)\n",
    "        self.size = size\n",
    "\n",
    "    def forward(self, x, mask):\n",
    "        'Follow Figure 1 (left) for connections.'\n",
    "        # first, feed the multi-head attention to the sublayer 'add & norm'\n",
    "        x = self.sublayer[0](x, lambda x: self.self_attn(x, x, x, mask))\n",
    "        # next feed that output along with feed forward into the sublayer 'add & norm'\n",
    "        return self.sublayer[1](x, self.feed_forward)"
   ]
  },
  {
   "cell_type": "markdown",
   "id": "9c90d6ee",
   "metadata": {
    "id": "7ecOQIhkTsqF"
   },
   "source": [
    "### Decoder\n",
    "\n",
    "The decoder is also composed of a stack of $N=6$ identical layers.\n"
   ]
  },
  {
   "cell_type": "code",
   "execution_count": 33,
   "id": "4dbe403d",
   "metadata": {
    "execution": {
     "iopub.execute_input": "2022-05-02T01:25:18.790602Z",
     "iopub.status.busy": "2022-05-02T01:25:18.789754Z",
     "iopub.status.idle": "2022-05-02T01:25:18.791985Z",
     "shell.execute_reply": "2022-05-02T01:25:18.792756Z"
    }
   },
   "outputs": [],
   "source": [
    "class Decoder(nn.Module):\n",
    "    'Generic N layer decoder with masking.'\n",
    "\n",
    "    def __init__(self, layer, N):\n",
    "        super(Decoder, self).__init__()\n",
    "        self.layers = clones(layer, N)\n",
    "        self.norm = LayerNorm(layer.size)\n",
    "\n",
    "    def forward(self, x, memory, src_mask, tgt_mask):\n",
    "        for layer in self.layers:\n",
    "            x = layer(x, memory, src_mask, tgt_mask)\n",
    "        return self.norm(x)"
   ]
  },
  {
   "cell_type": "markdown",
   "id": "c202cebd",
   "metadata": {
    "id": "dXlCB12pTsqF"
   },
   "source": [
    "\n",
    "In addition to the two sub-layers in each encoder layer, the decoder\n",
    "inserts a third sub-layer, which performs multi-head attention over\n",
    "the output of the encoder stack.  Similar to the encoder, we employ\n",
    "residual connections around each of the sub-layers, followed by\n",
    "layer normalization."
   ]
  },
  {
   "cell_type": "code",
   "execution_count": 34,
   "id": "3b1df6b1",
   "metadata": {
    "execution": {
     "iopub.execute_input": "2022-05-02T01:25:18.803099Z",
     "iopub.status.busy": "2022-05-02T01:25:18.796132Z",
     "iopub.status.idle": "2022-05-02T01:25:18.806479Z",
     "shell.execute_reply": "2022-05-02T01:25:18.805667Z"
    },
    "id": "M2hA1xFQTsqF"
   },
   "outputs": [],
   "source": [
    "class DecoderLayer(nn.Module):\n",
    "    'Decoder is made of self-attn, src-attn, and feed forward (defined below)'\n",
    "\n",
    "    def __init__(self, size, self_attn, src_attn, feed_forward, dropout):\n",
    "        super(DecoderLayer, self).__init__()\n",
    "        self.size = size\n",
    "        self.self_attn = self_attn\n",
    "        self.src_attn = src_attn\n",
    "        self.feed_forward = feed_forward\n",
    "        # 3 'add & norm'\n",
    "        self.sublayer = clones(SublayerConnection(size, dropout), 3)\n",
    "\n",
    "    def forward(self, x, memory, src_mask, tgt_mask):\n",
    "        'Follow Figure 1 (right) for connections.'\n",
    "        m = memory\n",
    "        # do self attention first, then do cross attention using memory\n",
    "        x = self.sublayer[0](x, lambda x: self.self_attn(x, x, x, tgt_mask))\n",
    "        x = self.sublayer[1](x, lambda x: self.src_attn(x, m, m, src_mask))\n",
    "        return self.sublayer[2](x, self.feed_forward)"
   ]
  },
  {
   "cell_type": "markdown",
   "id": "a6852ba5",
   "metadata": {
    "id": "FZz5rLl4TsqF"
   },
   "source": [
    "\n",
    "We also modify the self-attention sub-layer in the decoder stack to\n",
    "prevent positions from attending to subsequent positions.  This\n",
    "masking, combined with fact that the output embeddings are offset by\n",
    "one position, ensures that the predictions for position $i$ can\n",
    "depend only on the known outputs at positions less than $i$."
   ]
  },
  {
   "cell_type": "code",
   "execution_count": 35,
   "id": "1fe1b467",
   "metadata": {
    "execution": {
     "iopub.execute_input": "2022-05-02T01:25:18.813309Z",
     "iopub.status.busy": "2022-05-02T01:25:18.812387Z",
     "iopub.status.idle": "2022-05-02T01:25:18.815171Z",
     "shell.execute_reply": "2022-05-02T01:25:18.814519Z"
    },
    "id": "QN98O2l3TsqF"
   },
   "outputs": [],
   "source": [
    "def subsequent_mask(size):\n",
    "    'Mask out subsequent positions.'\n",
    "    attn_shape = (1, size, size)\n",
    "    subsequent_mask = torch.triu(torch.ones(attn_shape), diagonal=1).type(torch.uint8)\n",
    "    return subsequent_mask == 0"
   ]
  },
  {
   "cell_type": "markdown",
   "id": "ad536665",
   "metadata": {
    "id": "Vg_f_w-PTsqG"
   },
   "source": [
    "\n",
    "> Below the attention mask shows the position each tgt word (row) is\n",
    "> allowed to look at (column). Words are blocked for attending to\n",
    "> future words during training."
   ]
  },
  {
   "cell_type": "code",
   "execution_count": 36,
   "id": "789f803c",
   "metadata": {
    "execution": {
     "iopub.execute_input": "2022-05-02T01:25:18.825279Z",
     "iopub.status.busy": "2022-05-02T01:25:18.824491Z",
     "iopub.status.idle": "2022-05-02T01:25:19.243442Z",
     "shell.execute_reply": "2022-05-02T01:25:19.243674Z"
    },
    "id": "ht_FtgYAokC4"
   },
   "outputs": [],
   "source": [
    "# def example_mask():\n",
    "#     LS_data = pd.concat(\n",
    "#         [\n",
    "#             pd.DataFrame(\n",
    "#                 {\n",
    "#                     'Subsequent Mask': subsequent_mask(20)[0][x, y].flatten(),\n",
    "#                     'Window': y,\n",
    "#                     'Masking': x,\n",
    "#                 }\n",
    "#             )\n",
    "#             for y in range(20)\n",
    "#             for x in range(20)\n",
    "#         ]\n",
    "#     )\n",
    "\n",
    "#     return (\n",
    "#         alt.Chart(LS_data)\n",
    "#         .mark_rect()\n",
    "#         .properties(height=250, width=250)\n",
    "#         .encode(\n",
    "#             alt.X('Window:O'),\n",
    "#             alt.Y('Masking:O'),\n",
    "#             alt.Color('Subsequent Mask:Q', scale=alt.Scale(scheme='viridis')),\n",
    "#         )\n",
    "#         .interactive()\n",
    "#     )\n",
    "\n",
    "\n",
    "# show_example(example_mask)"
   ]
  },
  {
   "cell_type": "markdown",
   "id": "4946c508",
   "metadata": {
    "id": "Qto_yg7BTsqG",
    "lines_to_next_cell": 2
   },
   "source": [
    "### Attention\n",
    "\n",
    "An attention function can be described as mapping a query and a set\n",
    "of key-value pairs to an output, where the query, keys, values, and\n",
    "output are all vectors.  The output is computed as a weighted sum of\n",
    "the values, where the weight assigned to each value is computed by a\n",
    "compatibility function of the query with the corresponding key.\n",
    "\n",
    "We call our particular attention 'Scaled Dot-Product Attention'.\n",
    "The input consists of queries and keys of dimension $d_k$, and\n",
    "values of dimension $d_v$.  We compute the dot products of the query\n",
    "with all keys, divide each by $\\sqrt{d_k}$, and apply a softmax\n",
    "function to obtain the weights on the values.\n",
    "\n",
    "\n",
    "\n",
    "![](images/ModalNet-19.png)"
   ]
  },
  {
   "cell_type": "markdown",
   "id": "4fe740ac",
   "metadata": {
    "id": "EYJLWk6cTsqG"
   },
   "source": [
    "\n",
    "In practice, we compute the attention function on a set of queries\n",
    "simultaneously, packed together into a matrix $Q$.  The keys and\n",
    "values are also packed together into matrices $K$ and $V$.  We\n",
    "compute the matrix of outputs as:\n",
    "\n",
    "$$\n",
    "   \\mathrm{Attention}(Q, K, V) = \\mathrm{softmax}(\\frac{QK^T}{\\sqrt{d_k}})V\n",
    "$$"
   ]
  },
  {
   "cell_type": "code",
   "execution_count": 37,
   "id": "6c92d7c5",
   "metadata": {
    "execution": {
     "iopub.execute_input": "2022-05-02T01:25:19.251181Z",
     "iopub.status.busy": "2022-05-02T01:25:19.250905Z",
     "iopub.status.idle": "2022-05-02T01:25:19.253190Z",
     "shell.execute_reply": "2022-05-02T01:25:19.253437Z"
    },
    "id": "qsoVxS5yTsqG",
    "lines_to_next_cell": 2
   },
   "outputs": [],
   "source": [
    "def attention(query, key, value, attention_method='softmax', mask=None, dropout=None, norm=None):\n",
    "    \"Compute Scaled Dot Product Attention\"\n",
    "    d_k = query.size(-1)\n",
    "    scores = torch.matmul(query, key.transpose(-2, -1)) / math.sqrt(d_k)\n",
    "    if mask is not None:\n",
    "        scores = scores.masked_fill(mask == 0, -1e9)\n",
    "    \n",
    "    if attention_method == 'softmax':\n",
    "        p_attn = scores.softmax(dim=-1)\n",
    "    elif attention_method == 'rela':\n",
    "        p_attn = scores.relu() \n",
    "    elif attention_method == 'sparsemax':\n",
    "        p_attn = sparsemax(scores, dim=-1)\n",
    "    elif attention_method == 'entmax':\n",
    "        p_attn = entmax15(scores, dim=-1)\n",
    "    else:\n",
    "        pass\n",
    "        \n",
    "    if dropout is not None:\n",
    "        p_attn = dropout(p_attn)\n",
    "            \n",
    "    if attention_method == 'softmax':\n",
    "        return torch.matmul(p_attn, value), p_attn\n",
    "    elif attention_method == 'rela':\n",
    "        return norm(torch.matmul(p_attn, value)), p_attn\n",
    "    elif attention_method == 'sparsemax':\n",
    "        return torch.matmul(p_attn, value), p_attn\n",
    "    elif attention_method == 'entmax':\n",
    "        return torch.matmul(p_attn, value), p_attn\n",
    "    else:\n",
    "        pass\n",
    "    "
   ]
  },
  {
   "cell_type": "markdown",
   "id": "dd48248c",
   "metadata": {
    "id": "jUkpwu8kTsqG"
   },
   "source": [
    "\n",
    "The two most commonly used attention functions are additive\n",
    "attention [(cite)](https://arxiv.org/abs/1409.0473), and dot-product\n",
    "(multiplicative) attention.  Dot-product attention is identical to\n",
    "our algorithm, except for the scaling factor of\n",
    "$\\frac{1}{\\sqrt{d_k}}$. Additive attention computes the\n",
    "compatibility function using a feed-forward network with a single\n",
    "hidden layer.  While the two are similar in theoretical complexity,\n",
    "dot-product attention is much faster and more space-efficient in\n",
    "practice, since it can be implemented using highly optimized matrix\n",
    "multiplication code.\n",
    "\n",
    "\n",
    "While for small values of $d_k$ the two mechanisms perform\n",
    "similarly, additive attention outperforms dot product attention\n",
    "without scaling for larger values of $d_k$\n",
    "[(cite)](https://arxiv.org/abs/1703.03906). We suspect that for\n",
    "large values of $d_k$, the dot products grow large in magnitude,\n",
    "pushing the softmax function into regions where it has extremely\n",
    "small gradients (To illustrate why the dot products get large,\n",
    "assume that the components of $q$ and $k$ are independent random\n",
    "variables with mean $0$ and variance $1$.  Then their dot product,\n",
    "$q \\cdot k = \\sum_{i=1}^{d_k} q_ik_i$, has mean $0$ and variance\n",
    "$d_k$.). To counteract this effect, we scale the dot products by\n",
    "$\\frac{1}{\\sqrt{d_k}}$.\n",
    "\n"
   ]
  },
  {
   "cell_type": "markdown",
   "id": "e4c162ba",
   "metadata": {
    "id": "bS1FszhVTsqG",
    "lines_to_next_cell": 2
   },
   "source": [
    "![](images/ModalNet-20.png)"
   ]
  },
  {
   "cell_type": "markdown",
   "id": "795454ef",
   "metadata": {
    "id": "TNtVyZ-pTsqH"
   },
   "source": [
    "\n",
    "Multi-head attention allows the model to jointly attend to\n",
    "information from different representation subspaces at different\n",
    "positions. With a single attention head, averaging inhibits this.\n",
    "\n",
    "$$\n",
    "\\mathrm{MultiHead}(Q, K, V) =\n",
    "    \\mathrm{Concat}(\\mathrm{head_1}, ..., \\mathrm{head_h})W^O \\\\\n",
    "    \\text{where}~\\mathrm{head_i} = \\mathrm{Attention}(QW^Q_i, KW^K_i, VW^V_i)\n",
    "$$\n",
    "\n",
    "Where the projections are parameter matrices $W^Q_i \\in\n",
    "\\mathbb{R}^{d_{\\text{model}} \\times d_k}$, $W^K_i \\in\n",
    "\\mathbb{R}^{d_{\\text{model}} \\times d_k}$, $W^V_i \\in\n",
    "\\mathbb{R}^{d_{\\text{model}} \\times d_v}$ and $W^O \\in\n",
    "\\mathbb{R}^{hd_v \\times d_{\\text{model}}}$.\n",
    "\n",
    "In this work we employ $h=8$ parallel attention layers, or\n",
    "heads. For each of these we use $d_k=d_v=d_{\\text{model}}/h=64$. Due\n",
    "to the reduced dimension of each head, the total computational cost\n",
    "is similar to that of single-head attention with full\n",
    "dimensionality."
   ]
  },
  {
   "cell_type": "code",
   "execution_count": 38,
   "id": "e7901bdc",
   "metadata": {
    "execution": {
     "iopub.execute_input": "2022-05-02T01:25:19.265961Z",
     "iopub.status.busy": "2022-05-02T01:25:19.265360Z",
     "iopub.status.idle": "2022-05-02T01:25:19.267873Z",
     "shell.execute_reply": "2022-05-02T01:25:19.267306Z"
    },
    "id": "D2LBMKCQTsqH"
   },
   "outputs": [],
   "source": [
    "class MultiHeadedAttention(nn.Module):\n",
    "    def __init__(self, h, d_model, dropout=0.1, attention_method='softmax'):\n",
    "        'Take in model size and number of heads.'\n",
    "        super(MultiHeadedAttention, self).__init__()\n",
    "        assert d_model % h == 0\n",
    "        # We assume d_v always equals d_k\n",
    "        self.d_k = d_model // h\n",
    "        self.h = h\n",
    "        self.linears = clones(nn.Linear(d_model, d_model), 4)\n",
    "        self.attn = None\n",
    "        self.attention_method = attention_method\n",
    "        self.dropout = nn.Dropout(p=dropout)\n",
    "        self.norm = LayerNorm(int(d_model/h))\n",
    "\n",
    "    def forward(self, query, key, value, mask=None):\n",
    "        'Implements Figure 2'\n",
    "        if mask is not None:\n",
    "            # Same mask applied to all h heads.\n",
    "            mask = mask.unsqueeze(1)\n",
    "        nbatches = query.size(0)\n",
    "\n",
    "        # 1) Do all the linear projections in batch from d_model => h x d_k\n",
    "        query, key, value = [\n",
    "            lin(x).view(nbatches, -1, self.h, self.d_k).transpose(1, 2)\n",
    "            for lin, x in zip(self.linears, (query, key, value))\n",
    "        ]\n",
    "\n",
    "        # 2) Apply attention on all the projected vectors in batch.\n",
    "        x, self.attn = attention(query, key, value, self.attention_method, mask=mask, dropout=self.dropout, norm=self.norm)\n",
    "\n",
    "        # 3) 'Concat' using a view and apply a final linear.\n",
    "        x = x.transpose(1, 2).contiguous().view(nbatches, -1, self.h * self.d_k)\n",
    "        del query\n",
    "        del key\n",
    "        del value\n",
    "        \n",
    "        return self.linears[-1](x)"
   ]
  },
  {
   "cell_type": "markdown",
   "id": "8223c349",
   "metadata": {
    "id": "EDRba3J3TsqH"
   },
   "source": [
    "### Applications of Attention in our Model\n",
    "\n",
    "The Transformer uses multi-head attention in three different ways:\n",
    "1) In 'encoder-decoder attention' layers, the queries come from the\n",
    "previous decoder layer, and the memory keys and values come from the\n",
    "output of the encoder.  This allows every position in the decoder to\n",
    "attend over all positions in the input sequence.  This mimics the\n",
    "typical encoder-decoder attention mechanisms in sequence-to-sequence\n",
    "models such as [(cite)](https://arxiv.org/abs/1609.08144).\n",
    "\n",
    "\n",
    "2) The encoder contains self-attention layers.  In a self-attention\n",
    "layer all of the keys, values and queries come from the same place,\n",
    "in this case, the output of the previous layer in the encoder.  Each\n",
    "position in the encoder can attend to all positions in the previous\n",
    "layer of the encoder.\n",
    "\n",
    "\n",
    "3) Similarly, self-attention layers in the decoder allow each\n",
    "position in the decoder to attend to all positions in the decoder up\n",
    "to and including that position.  We need to prevent leftward\n",
    "information flow in the decoder to preserve the auto-regressive\n",
    "property.  We implement this inside of scaled dot-product attention\n",
    "by masking out (setting to $-\\infty$) all values in the input of the\n",
    "softmax which correspond to illegal connections."
   ]
  },
  {
   "cell_type": "markdown",
   "id": "8299eb68",
   "metadata": {
    "id": "M-en97_GTsqH"
   },
   "source": [
    "## Position-wise Feed-Forward Networks\n",
    "\n",
    "In addition to attention sub-layers, each of the layers in our\n",
    "encoder and decoder contains a fully connected feed-forward network,\n",
    "which is applied to each position separately and identically.  This\n",
    "consists of two linear transformations with a ReLU activation in\n",
    "between.\n",
    "\n",
    "$$\\mathrm{FFN}(x)=\\max(0, xW_1 + b_1) W_2 + b_2$$\n",
    "\n",
    "While the linear transformations are the same across different\n",
    "positions, they use different parameters from layer to\n",
    "layer. Another way of describing this is as two convolutions with\n",
    "kernel size 1.  The dimensionality of input and output is\n",
    "$d_{\\text{model}}=512$, and the inner-layer has dimensionality\n",
    "$d_{ff}=2048$."
   ]
  },
  {
   "cell_type": "code",
   "execution_count": 39,
   "id": "cf547802",
   "metadata": {
    "execution": {
     "iopub.execute_input": "2022-05-02T01:25:19.274902Z",
     "iopub.status.busy": "2022-05-02T01:25:19.274161Z",
     "iopub.status.idle": "2022-05-02T01:25:19.277708Z",
     "shell.execute_reply": "2022-05-02T01:25:19.278473Z"
    },
    "id": "6HHCemCxTsqH"
   },
   "outputs": [],
   "source": [
    "class PositionwiseFeedForward(nn.Module):\n",
    "    'Implements FFN equation.'\n",
    "\n",
    "    def __init__(self, d_model, d_ff, dropout=0.1):\n",
    "        super(PositionwiseFeedForward, self).__init__()\n",
    "        self.w_1 = nn.Linear(d_model, d_ff)\n",
    "        self.w_2 = nn.Linear(d_ff, d_model)\n",
    "        self.dropout = nn.Dropout(dropout)\n",
    "\n",
    "    def forward(self, x):\n",
    "        x = self.w_1(x).relu()\n",
    "        x = self.dropout(x)\n",
    "        return self.w_2(x)"
   ]
  },
  {
   "cell_type": "markdown",
   "id": "9c1dcffc",
   "metadata": {
    "id": "dR1YM520TsqH"
   },
   "source": [
    "## Embeddings and Softmax\n",
    "\n",
    "Similarly to other sequence transduction models, we use learned\n",
    "embeddings to convert the input tokens and output tokens to vectors\n",
    "of dimension $d_{\\text{model}}$.  We also use the usual learned\n",
    "linear transformation and softmax function to convert the decoder\n",
    "output to predicted next-token probabilities.  In our model, we\n",
    "share the same weight matrix between the two embedding layers and\n",
    "the pre-softmax linear transformation, similar to\n",
    "[(cite)](https://arxiv.org/abs/1608.05859). In the embedding layers,\n",
    "we multiply those weights by $\\sqrt{d_{\\text{model}}}$."
   ]
  },
  {
   "cell_type": "code",
   "execution_count": 40,
   "id": "f851b029",
   "metadata": {
    "execution": {
     "iopub.execute_input": "2022-05-02T01:25:19.286884Z",
     "iopub.status.busy": "2022-05-02T01:25:19.285947Z",
     "iopub.status.idle": "2022-05-02T01:25:19.288160Z",
     "shell.execute_reply": "2022-05-02T01:25:19.288878Z"
    },
    "id": "pyrChq9qTsqH"
   },
   "outputs": [],
   "source": [
    "class Embeddings(nn.Module):\n",
    "    def __init__(self, d_model, vocab):\n",
    "        super(Embeddings, self).__init__()\n",
    "        self.lut = nn.Embedding(vocab, d_model)\n",
    "        self.d_model = d_model\n",
    "\n",
    "    def forward(self, x):\n",
    "        return self.lut(x) * math.sqrt(self.d_model)"
   ]
  },
  {
   "cell_type": "markdown",
   "id": "a6005590",
   "metadata": {
    "id": "vOkdui-cTsqH"
   },
   "source": [
    "## Positional Encoding\n",
    "\n",
    "Since our model contains no recurrence and no convolution, in order\n",
    "for the model to make use of the order of the sequence, we must\n",
    "inject some information about the relative or absolute position of\n",
    "the tokens in the sequence.  To this end, we add 'positional\n",
    "encodings' to the input embeddings at the bottoms of the encoder and\n",
    "decoder stacks.  The positional encodings have the same dimension\n",
    "$d_{\\text{model}}$ as the embeddings, so that the two can be summed.\n",
    "There are many choices of positional encodings, learned and fixed\n",
    "[(cite)](https://arxiv.org/pdf/1705.03122.pdf).\n",
    "\n",
    "In this work, we use sine and cosine functions of different frequencies:\n",
    "\n",
    "$$PE_{(pos,2i)} = \\sin(pos / 10000^{2i/d_{\\text{model}}})$$\n",
    "\n",
    "$$PE_{(pos,2i+1)} = \\cos(pos / 10000^{2i/d_{\\text{model}}})$$\n",
    "\n",
    "where $pos$ is the position and $i$ is the dimension.  That is, each\n",
    "dimension of the positional encoding corresponds to a sinusoid.  The\n",
    "wavelengths form a geometric progression from $2\\pi$ to $10000 \\cdot\n",
    "2\\pi$.  We chose this function because we hypothesized it would\n",
    "allow the model to easily learn to attend by relative positions,\n",
    "since for any fixed offset $k$, $PE_{pos+k}$ can be represented as a\n",
    "linear function of $PE_{pos}$.\n",
    "\n",
    "In addition, we apply dropout to the sums of the embeddings and the\n",
    "positional encodings in both the encoder and decoder stacks.  For\n",
    "the base model, we use a rate of $P_{drop}=0.1$.\n",
    "\n"
   ]
  },
  {
   "cell_type": "code",
   "execution_count": 41,
   "id": "dfacc553",
   "metadata": {
    "execution": {
     "iopub.execute_input": "2022-05-02T01:25:19.300508Z",
     "iopub.status.busy": "2022-05-02T01:25:19.299554Z",
     "iopub.status.idle": "2022-05-02T01:25:19.301927Z",
     "shell.execute_reply": "2022-05-02T01:25:19.302701Z"
    },
    "id": "zaHGD4yJTsqH"
   },
   "outputs": [],
   "source": [
    "class PositionalEncoding(nn.Module):\n",
    "    'Implement the PE function.'\n",
    "\n",
    "    def __init__(self, d_model, dropout, max_len=5000):\n",
    "        super(PositionalEncoding, self).__init__()\n",
    "        self.dropout = nn.Dropout(p=dropout)\n",
    "\n",
    "        # Compute the positional encodings once in log space.\n",
    "        pe = torch.zeros(max_len, d_model)\n",
    "        position = torch.arange(0, max_len).unsqueeze(1)\n",
    "        div_term = torch.exp(\n",
    "            torch.arange(0, d_model, 2) * -(math.log(10000.0) / d_model)\n",
    "        )\n",
    "        pe[:, 0::2] = torch.sin(position * div_term)\n",
    "        pe[:, 1::2] = torch.cos(position * div_term)\n",
    "        pe = pe.unsqueeze(0)\n",
    "        self.register_buffer('pe', pe)\n",
    "\n",
    "    def forward(self, x):\n",
    "        x = x + self.pe[:, : x.size(1)].requires_grad_(False)\n",
    "        return self.dropout(x)"
   ]
  },
  {
   "cell_type": "markdown",
   "id": "04de678b",
   "metadata": {
    "id": "EfHacTJLTsqH"
   },
   "source": [
    "\n",
    "> Below the positional encoding will add in a sine wave based on\n",
    "> position. The frequency and offset of the wave is different for\n",
    "> each dimension."
   ]
  },
  {
   "cell_type": "code",
   "execution_count": 42,
   "id": "c37945f2",
   "metadata": {
    "execution": {
     "iopub.execute_input": "2022-05-02T01:25:19.312150Z",
     "iopub.status.busy": "2022-05-02T01:25:19.311259Z",
     "iopub.status.idle": "2022-05-02T01:25:19.626150Z",
     "shell.execute_reply": "2022-05-02T01:25:19.626854Z"
    },
    "id": "rnvHk_1QokC6",
    "type": "example"
   },
   "outputs": [],
   "source": [
    "# def example_positional():\n",
    "#     pe = PositionalEncoding(20, 0)\n",
    "#     y = pe.forward(torch.zeros(1, 100, 20))\n",
    "\n",
    "#     data = pd.concat(\n",
    "#         [\n",
    "#             pd.DataFrame(\n",
    "#                 {\n",
    "#                     'embedding': y[0, :, dim],\n",
    "#                     'dimension': dim,\n",
    "#                     'position': list(range(100)),\n",
    "#                 }\n",
    "#             )\n",
    "#             for dim in [4, 5, 6, 7]\n",
    "#         ]\n",
    "#     )\n",
    "\n",
    "#     return (\n",
    "#         alt.Chart(data)\n",
    "#         .mark_line()\n",
    "#         .properties(width=800)\n",
    "#         .encode(x='position', y='embedding', color='dimension:N')\n",
    "#         .interactive()\n",
    "#     )\n",
    "\n",
    "\n",
    "# show_example(example_positional)"
   ]
  },
  {
   "cell_type": "markdown",
   "id": "2bc7f6c2",
   "metadata": {
    "id": "g8rZNCrzTsqI"
   },
   "source": [
    "\n",
    "We also experimented with using learned positional embeddings\n",
    "[(cite)](https://arxiv.org/pdf/1705.03122.pdf) instead, and found\n",
    "that the two versions produced nearly identical results.  We chose\n",
    "the sinusoidal version because it may allow the model to extrapolate\n",
    "to sequence lengths longer than the ones encountered during\n",
    "training."
   ]
  },
  {
   "cell_type": "markdown",
   "id": "74aef3a8",
   "metadata": {
    "id": "iwNKCzlyTsqI"
   },
   "source": [
    "## Full Model\n",
    "\n",
    "> Here we define a function from hyperparameters to a full model."
   ]
  },
  {
   "cell_type": "code",
   "execution_count": 43,
   "id": "460e5768",
   "metadata": {
    "execution": {
     "iopub.execute_input": "2022-05-02T01:25:19.633281Z",
     "iopub.status.busy": "2022-05-02T01:25:19.632424Z",
     "iopub.status.idle": "2022-05-02T01:25:19.634909Z",
     "shell.execute_reply": "2022-05-02T01:25:19.634216Z"
    },
    "id": "mPe1ES0UTsqI"
   },
   "outputs": [],
   "source": [
    "def make_model(src_dim, tgt_dim, N=6, d_model=512, d_ff=2048, h=8, dropout=0.1, attention_method='softmax'):\n",
    "    'Helper: Construct a model from hyperparameters.'\n",
    "    c = copy.deepcopy\n",
    "    attn = MultiHeadedAttention(h=h, d_model=d_model, attention_method=attention_method)\n",
    "    ff = PositionwiseFeedForward(d_model, d_ff, dropout)\n",
    "    position = PositionalEncoding(d_model, dropout)\n",
    "    model = EncoderDecoder(\n",
    "        Encoder(EncoderLayer(d_model, c(attn), c(ff), dropout), N),\n",
    "        Decoder(DecoderLayer(d_model, c(attn), c(attn), c(ff), dropout), N),\n",
    "        nn.Sequential(Embeddings(d_model, src_dim), c(position)),\n",
    "        nn.Sequential(Embeddings(d_model, tgt_dim), c(position)),\n",
    "        Generator(d_model, tgt_dim),\n",
    "    )\n",
    "\n",
    "    # This was important from their code.\n",
    "    # Initialize parameters with Glorot / fan_avg.\n",
    "    for p in model.parameters():\n",
    "        if p.dim() > 1:\n",
    "            nn.init.xavier_uniform_(p)\n",
    "    return model"
   ]
  },
  {
   "cell_type": "markdown",
   "id": "0e5767b6",
   "metadata": {},
   "source": [
    "## Inference:\n",
    "\n",
    "> Here we make a forward step to generate a prediction of the\n",
    "model. We try to use our transformer to memorize the input. As you\n",
    "will see the output is randomly generated due to the fact that the\n",
    "model is not trained yet. In the next tutorial we will build the\n",
    "training function and try to train our model to memorize the numbers\n",
    "from 1 to 10."
   ]
  },
  {
   "cell_type": "code",
   "execution_count": 44,
   "id": "316fb1d2",
   "metadata": {
    "execution": {
     "iopub.execute_input": "2022-05-02T01:25:19.641806Z",
     "iopub.status.busy": "2022-05-02T01:25:19.640944Z",
     "iopub.status.idle": "2022-05-02T01:25:20.885368Z",
     "shell.execute_reply": "2022-05-02T01:25:20.885607Z"
    }
   },
   "outputs": [],
   "source": [
    "# def inference_test():\n",
    "#     test_model = make_model(11, 11, 2)\n",
    "#     test_model.eval()\n",
    "#     src = torch.LongTensor([[1, 2, 3, 4, 5, 6, 7, 8, 9, 10]])\n",
    "#     src_mask = torch.ones(1, 1, 10)\n",
    "\n",
    "#     memory = test_model.encode(src, src_mask)\n",
    "#     ys = torch.zeros(1, 1).type_as(src)\n",
    "\n",
    "#     for i in range(9):\n",
    "#         out = test_model.decode(\n",
    "#             memory, src_mask, ys, subsequent_mask(ys.size(1)).type_as(src.data)\n",
    "#         )\n",
    "#         prob = test_model.generator(out[:, -1])\n",
    "#         _, next_word = torch.max(prob, dim=1)\n",
    "#         next_word = next_word.data[0]\n",
    "#         ys = torch.cat(\n",
    "#             [ys, torch.empty(1, 1).type_as(src.data).fill_(next_word)], dim=1\n",
    "#         )\n",
    "\n",
    "#     print('Example Untrained Model Prediction:', ys)\n",
    "\n",
    "\n",
    "# def run_tests():\n",
    "#     for _ in range(10):\n",
    "#         inference_test()\n",
    "\n",
    "\n",
    "# show_example(run_tests)"
   ]
  },
  {
   "cell_type": "markdown",
   "id": "859848fd",
   "metadata": {},
   "source": [
    "# Part 2: Model Training"
   ]
  },
  {
   "cell_type": "markdown",
   "id": "16acd58b",
   "metadata": {
    "id": "05s6oT9fTsqI"
   },
   "source": [
    "# Training\n",
    "\n",
    "This section describes the training regime for our models."
   ]
  },
  {
   "cell_type": "markdown",
   "id": "7e4dad0d",
   "metadata": {
    "id": "fTxlofs4TsqI"
   },
   "source": [
    "\n",
    "> We stop for a quick interlude to introduce some of the tools\n",
    "> needed to train a standard encoder decoder model. First we define a\n",
    "> batch object that holds the src and target sentences for training,\n",
    "> as well as constructing the masks."
   ]
  },
  {
   "cell_type": "markdown",
   "id": "918f5ddd",
   "metadata": {
    "id": "G7SkCenXTsqI"
   },
   "source": [
    "## Batches and Masking"
   ]
  },
  {
   "cell_type": "code",
   "execution_count": 45,
   "id": "4ee20bc4",
   "metadata": {
    "execution": {
     "iopub.execute_input": "2022-05-02T01:25:20.889839Z",
     "iopub.status.busy": "2022-05-02T01:25:20.889563Z",
     "iopub.status.idle": "2022-05-02T01:25:20.890646Z",
     "shell.execute_reply": "2022-05-02T01:25:20.892925Z"
    }
   },
   "outputs": [],
   "source": [
    "class Batch:\n",
    "    '''Object for holding a batch of data with mask during training.'''\n",
    "\n",
    "    def __init__(self, src, tgt=None, pad=2):  # 2 = <blank>\n",
    "        self.src = src\n",
    "        self.src_mask = (src != pad).unsqueeze(-2)\n",
    "        if tgt is not None:\n",
    "            self.tgt = tgt[:, :-1]\n",
    "            self.tgt_y = tgt[:, 1:]\n",
    "            self.tgt_mask = self.make_std_mask(self.tgt, pad)\n",
    "            self.ntokens = (self.tgt_y != pad).data.sum()\n",
    "\n",
    "    @staticmethod\n",
    "    def make_std_mask(tgt, pad):\n",
    "        'Create a mask to hide padding and future words.'\n",
    "        tgt_mask = (tgt != pad).unsqueeze(-2)\n",
    "        tgt_mask = tgt_mask & subsequent_mask(tgt.size(-1)).type_as(tgt_mask.data)\n",
    "        return tgt_mask"
   ]
  },
  {
   "cell_type": "markdown",
   "id": "a013a116",
   "metadata": {
    "id": "cKkw5GjLTsqI"
   },
   "source": [
    "\n",
    "> Next we create a generic training and scoring function to keep\n",
    "> track of loss. We pass in a generic loss compute function that\n",
    "> also handles parameter updates."
   ]
  },
  {
   "cell_type": "markdown",
   "id": "934a7a4d",
   "metadata": {
    "id": "Q8zzeUc0TsqJ"
   },
   "source": [
    "## Training Loop"
   ]
  },
  {
   "cell_type": "code",
   "execution_count": 46,
   "id": "1013f248",
   "metadata": {
    "execution": {
     "iopub.execute_input": "2022-05-02T01:25:20.901877Z",
     "iopub.status.busy": "2022-05-02T01:25:20.897925Z",
     "iopub.status.idle": "2022-05-02T01:25:20.903288Z",
     "shell.execute_reply": "2022-05-02T01:25:20.902928Z"
    },
    "id": "2HAZD3hiTsqJ"
   },
   "outputs": [],
   "source": [
    "def run_epoch(\n",
    "    data_iter,\n",
    "    print_each,\n",
    "    model,\n",
    "    loss_compute,\n",
    "    optimizer,\n",
    "    scheduler,\n",
    "    mode='train',\n",
    "    accum_iter=1,\n",
    "):\n",
    "    '''Train a single epoch'''\n",
    "    start = time.time()\n",
    "    total_tokens = 0\n",
    "    total_loss = 0\n",
    "    tokens = 0\n",
    "    n_accum = 0\n",
    "    for i, batch in enumerate(data_iter):\n",
    "        out = model.forward(batch.src, batch.tgt, batch.src_mask, batch.tgt_mask)\n",
    "        loss, loss_node = loss_compute(out, batch.tgt_y, batch.ntokens)\n",
    "\n",
    "        if mode == 'train' or mode == 'train+log':\n",
    "            loss_node.backward()\n",
    "            \n",
    "            if i % accum_iter == 0:\n",
    "                optimizer.step()\n",
    "                optimizer.zero_grad(set_to_none=True)\n",
    "                n_accum += 1\n",
    "            scheduler.step()\n",
    "\n",
    "        total_loss += loss\n",
    "        total_tokens += batch.ntokens\n",
    "        tokens += batch.ntokens\n",
    "        \n",
    "        \n",
    "        if i % print_each == 0:\n",
    "            elapsed = time.time() - start\n",
    "            if mode == 'train' or mode == 'train+log':\n",
    "                lr = optimizer.param_groups[0]['lr']\n",
    "                print(\n",
    "                    (\n",
    "                        'Epoch Step: %6d | Accumulation Step: %3d | Loss: %6.2f '\n",
    "                        + '| Tokens / Sec: %7.1f | Learning Rate: %6.1e'\n",
    "                    )\n",
    "                    % (i, n_accum, loss / batch.ntokens, tokens / elapsed, lr)\n",
    "                )\n",
    "                start = time.time()\n",
    "                tokens = 0\n",
    "                \n",
    "            elif mode == 'eval':\n",
    "                    print(\n",
    "                    (\n",
    "                        'Epoch Step: %6d | Tokens / Sec: %7.1f'\n",
    "                    )\n",
    "                        \n",
    "                    % (i, tokens / elapsed)\n",
    "                    )\n",
    "        \n",
    "                        \n",
    "        del loss\n",
    "        del loss_node\n",
    "        \n",
    "    print('\\nAverage Epoch Loss: {:.2f}'.format(total_loss / total_tokens))\n",
    "\n",
    "    return total_loss.item() / total_tokens.item()"
   ]
  },
  {
   "cell_type": "markdown",
   "id": "b78103ca",
   "metadata": {
    "id": "aB1IF0foTsqJ"
   },
   "source": [
    "## Training Data and Batching\n",
    "\n",
    "We trained on the standard WMT 2014 English-German dataset\n",
    "consisting of about 4.5 million sentence pairs.  Sentences were\n",
    "encoded using byte-pair encoding, which has a shared source-target\n",
    "vocabulary of about 37000 tokens. For English-French, we used the\n",
    "significantly larger WMT 2014 English-French dataset consisting of\n",
    "36M sentences and split tokens into a 32000 word-piece vocabulary.\n",
    "\n",
    "\n",
    "Sentence pairs were batched together by approximate sequence length.\n",
    "Each training batch contained a set of sentence pairs containing\n",
    "approximately 25000 source tokens and 25000 target tokens."
   ]
  },
  {
   "cell_type": "markdown",
   "id": "d0b5c7b1",
   "metadata": {
    "incorrectly_encoded_metadata": "id=\"F1mTQatiTsqJ\" jp-MarkdownHeadingCollapsed=true",
    "tags": []
   },
   "source": [
    "## Hardware and Schedule\n",
    "\n",
    "We trained our models on one machine with 8 NVIDIA P100 GPUs.  For\n",
    "our base models using the hyperparameters described throughout the\n",
    "paper, each training step took about 0.4 seconds.  We trained the\n",
    "base models for a total of 100,000 steps or 12 hours. For our big\n",
    "models, step time was 1.0 seconds.  The big models were trained for\n",
    "300,000 steps (3.5 days)."
   ]
  },
  {
   "cell_type": "markdown",
   "id": "3af07c4b",
   "metadata": {
    "id": "-utZeuGcTsqJ"
   },
   "source": [
    "## Optimizer\n",
    "\n",
    "We used the Adam optimizer [(cite)](https://arxiv.org/abs/1412.6980)\n",
    "with $\\beta_1=0.9$, $\\beta_2=0.98$ and $\\epsilon=10^{-9}$.  We\n",
    "varied the learning rate over the course of training, according to\n",
    "the formula:\n",
    "\n",
    "$$\n",
    "lrate = d_{\\text{model}}^{-0.5} \\cdot\n",
    "  \\min({step\\_num}^{-0.5},\n",
    "    {step\\_num} \\cdot {warmup\\_steps}^{-1.5})\n",
    "$$\n",
    "\n",
    "This corresponds to increasing the learning rate linearly for the\n",
    "first $warmup\\_steps$ training steps, and decreasing it thereafter\n",
    "proportionally to the inverse square root of the step number.  We\n",
    "used $warmup\\_steps=4000$."
   ]
  },
  {
   "cell_type": "markdown",
   "id": "760a2716",
   "metadata": {
    "id": "39FbYnt-TsqJ"
   },
   "source": [
    "\n",
    "> Note: This part is very important. Need to train with this setup\n",
    "> of the model."
   ]
  },
  {
   "cell_type": "markdown",
   "id": "e809dff8",
   "metadata": {
    "id": "hlbojFkjTsqJ"
   },
   "source": [
    "\n",
    "> Example of the curves of this model for different model sizes and\n",
    "> for optimization hyperparameters."
   ]
  },
  {
   "cell_type": "code",
   "execution_count": 47,
   "id": "27ded57a",
   "metadata": {
    "execution": {
     "iopub.execute_input": "2022-05-02T01:25:20.906007Z",
     "iopub.status.busy": "2022-05-02T01:25:20.904743Z",
     "iopub.status.idle": "2022-05-02T01:25:20.907701Z",
     "shell.execute_reply": "2022-05-02T01:25:20.907236Z"
    },
    "id": "zUz3PdAnVg4o"
   },
   "outputs": [],
   "source": [
    "def rate(step, model_size, factor, warmup):\n",
    "    '''\n",
    "    we have to default the step to 1 for LambdaLR function\n",
    "    to avoid zero raising to negative power.\n",
    "    '''\n",
    "    if step == 0:\n",
    "        step = 1\n",
    "    return factor * (\n",
    "        model_size ** (-0.5) * min(step ** (-0.5), step * warmup ** (-1.5))\n",
    "    )"
   ]
  },
  {
   "cell_type": "markdown",
   "id": "aa2e3c6e",
   "metadata": {
    "id": "7T1uD15VTsqK"
   },
   "source": [
    "## Regularization\n",
    "\n",
    "### Label Smoothing\n",
    "\n",
    "During training, we employed label smoothing of value\n",
    "$\\epsilon_{ls}=0.1$ [(cite)](https://arxiv.org/abs/1512.00567).\n",
    "This hurts perplexity, as the model learns to be more unsure, but\n",
    "improves accuracy and BLEU score."
   ]
  },
  {
   "cell_type": "markdown",
   "id": "32b5b708",
   "metadata": {
    "id": "kNoAVD8bTsqK"
   },
   "source": [
    "\n",
    "> We implement label smoothing using the KL div loss. Instead of\n",
    "> using a one-hot target distribution, we create a distribution that\n",
    "> has `confidence` of the correct word and the rest of the\n",
    "> `smoothing` mass distributed throughout the vocabulary."
   ]
  },
  {
   "cell_type": "code",
   "execution_count": 48,
   "id": "77d96f50",
   "metadata": {
    "execution": {
     "iopub.execute_input": "2022-05-02T01:25:22.858827Z",
     "iopub.status.busy": "2022-05-02T01:25:22.858459Z",
     "iopub.status.idle": "2022-05-02T01:25:22.860907Z",
     "shell.execute_reply": "2022-05-02T01:25:22.861184Z"
    },
    "id": "shU2GyiETsqK",
    "lines_to_next_cell": 2
   },
   "outputs": [],
   "source": [
    "class LabelSmoothing(nn.Module):\n",
    "    'Implement label smoothing.'\n",
    "\n",
    "    def __init__(self, size, padding_idx, smoothing=0.0):\n",
    "        super(LabelSmoothing, self).__init__()\n",
    "        self.criterion = nn.KLDivLoss(reduction='sum')\n",
    "        self.padding_idx = padding_idx\n",
    "        self.confidence = 1.0 - smoothing\n",
    "        self.smoothing = smoothing\n",
    "        self.size = size\n",
    "        self.true_dist = None\n",
    "\n",
    "    def forward(self, x, target):\n",
    "        assert x.size(1) == self.size\n",
    "        true_dist = x.data.clone()\n",
    "        true_dist.fill_(self.smoothing / (self.size - 2))\n",
    "        true_dist.scatter_(1, target.data.unsqueeze(1), self.confidence)\n",
    "        true_dist[:, self.padding_idx] = 0\n",
    "        mask = torch.nonzero(target.data == self.padding_idx)\n",
    "        if mask.dim() > 0:\n",
    "            true_dist.index_fill_(0, mask.squeeze(), 0.0)\n",
    "        self.true_dist = true_dist\n",
    "        return self.criterion(x, true_dist.clone().detach())"
   ]
  },
  {
   "cell_type": "markdown",
   "id": "cd102b03",
   "metadata": {
    "id": "jCxUrlUyTsqK"
   },
   "source": [
    "\n",
    "> Here we can see an example of how the mass is distributed to the\n",
    "> words based on confidence."
   ]
  },
  {
   "cell_type": "code",
   "execution_count": 49,
   "id": "a165ed13",
   "metadata": {
    "execution": {
     "iopub.execute_input": "2022-05-02T01:25:22.872854Z",
     "iopub.status.busy": "2022-05-02T01:25:22.872373Z",
     "iopub.status.idle": "2022-05-02T01:25:23.190398Z",
     "shell.execute_reply": "2022-05-02T01:25:23.190149Z"
    },
    "id": "EZtKaaQNTsqK",
    "lines_to_next_cell": 2
   },
   "outputs": [],
   "source": [
    "# # Example of label smoothing.\n",
    "\n",
    "# def example_label_smoothing():\n",
    "#     crit = LabelSmoothing(5, 0, 0.4)\n",
    "#     predict = torch.FloatTensor(\n",
    "#         [\n",
    "#             [0, 0.2, 0.7, 0.1, 0],\n",
    "#             [0, 0.2, 0.7, 0.1, 0],\n",
    "#             [0, 0.2, 0.7, 0.1, 0],\n",
    "#             [0, 0.2, 0.7, 0.1, 0],\n",
    "#             [0, 0.2, 0.7, 0.1, 0],\n",
    "#         ]\n",
    "#     )\n",
    "#     crit(x=predict.log(), target=torch.LongTensor([2, 1, 0, 3, 3]))\n",
    "#     LS_data = pd.concat(\n",
    "#         [\n",
    "#             pd.DataFrame(\n",
    "#                 {\n",
    "#                     'target distribution': crit.true_dist[x, y].flatten(),\n",
    "#                     'columns': y,\n",
    "#                     'rows': x,\n",
    "#                 }\n",
    "#             )\n",
    "#             for y in range(5)\n",
    "#             for x in range(5)\n",
    "#         ]\n",
    "#     )\n",
    "\n",
    "#     return (\n",
    "#         alt.Chart(LS_data)\n",
    "#         .mark_rect(color='Blue', opacity=1)\n",
    "#         .properties(height=200, width=200)\n",
    "#         .encode(\n",
    "#             alt.X('columns:O', title=None),\n",
    "#             alt.Y('rows:O', title=None),\n",
    "#             alt.Color(\n",
    "#                 'target distribution:Q', scale=alt.Scale(scheme='viridis')\n",
    "#             ),\n",
    "#         )\n",
    "#         .interactive()\n",
    "#     )\n",
    "\n",
    "\n",
    "# show_example(example_label_smoothing)"
   ]
  },
  {
   "cell_type": "markdown",
   "id": "dd4ba439",
   "metadata": {
    "id": "CGM8J1veTsqK"
   },
   "source": [
    "\n",
    "> Label smoothing actually starts to penalize the model if it gets\n",
    "> very confident about a given choice."
   ]
  },
  {
   "cell_type": "code",
   "execution_count": 50,
   "id": "7f4936fa",
   "metadata": {
    "execution": {
     "iopub.execute_input": "2022-05-02T01:25:23.195609Z",
     "iopub.status.busy": "2022-05-02T01:25:23.195284Z",
     "iopub.status.idle": "2022-05-02T01:25:23.450431Z",
     "shell.execute_reply": "2022-05-02T01:25:23.451135Z"
    },
    "id": "78EHzLP7TsqK"
   },
   "outputs": [],
   "source": [
    "# def loss(x, crit):\n",
    "#     d = x + 3 * 1\n",
    "#     predict = torch.FloatTensor([[0, x / d, 1 / d, 1 / d, 1 / d]])\n",
    "#     return crit(predict.log(), torch.LongTensor([1])).data\n",
    "\n",
    "\n",
    "# def penalization_visualization():\n",
    "#     crit = LabelSmoothing(5, 0, 0.1)\n",
    "#     loss_data = pd.DataFrame(\n",
    "#         {\n",
    "#             'Loss': [loss(x, crit) for x in range(1, 100)],\n",
    "#             'Steps': list(range(99)),\n",
    "#         }\n",
    "#     ).astype('float')\n",
    "\n",
    "#     return (\n",
    "#         alt.Chart(loss_data)\n",
    "#         .mark_line()\n",
    "#         .properties(width=350)\n",
    "#         .encode(\n",
    "#             x='Steps',\n",
    "#             y='Loss',\n",
    "#         )\n",
    "#         .interactive()\n",
    "#     )\n",
    "\n",
    "\n",
    "# show_example(penalization_visualization)"
   ]
  },
  {
   "cell_type": "markdown",
   "id": "33fe4433",
   "metadata": {
    "id": "XTXwD9hUTsqK"
   },
   "source": [
    "## Loss Computation"
   ]
  },
  {
   "cell_type": "code",
   "execution_count": 51,
   "id": "4a88cbe5",
   "metadata": {
    "execution": {
     "iopub.execute_input": "2022-05-02T01:25:23.462842Z",
     "iopub.status.busy": "2022-05-02T01:25:23.461999Z",
     "iopub.status.idle": "2022-05-02T01:25:23.464005Z",
     "shell.execute_reply": "2022-05-02T01:25:23.464702Z"
    },
    "id": "3J8EJm87TsqK"
   },
   "outputs": [],
   "source": [
    "class SimpleLossCompute:\n",
    "    'A simple loss compute and train function.'\n",
    "\n",
    "    def __init__(self, generator, criterion):\n",
    "        self.generator = generator\n",
    "        self.criterion = criterion\n",
    "\n",
    "    def __call__(self, x, y, norm):\n",
    "        x = self.generator(x)\n",
    "        sloss = (\n",
    "            self.criterion(x.contiguous().view(-1, x.size(-1)), y.contiguous().view(-1))\n",
    "            / norm\n",
    "        )\n",
    "        return sloss.data * norm, sloss"
   ]
  },
  {
   "cell_type": "markdown",
   "id": "00b7bdc2",
   "metadata": {
    "id": "eDAI7ELUTsqL"
   },
   "source": [
    "## Greedy Decoding"
   ]
  },
  {
   "cell_type": "markdown",
   "id": "958119b5",
   "metadata": {
    "id": "LFkWakplTsqL",
    "lines_to_next_cell": 0,
    "tags": []
   },
   "source": [
    "> This code predicts a translation using greedy decoding for simplicity."
   ]
  },
  {
   "cell_type": "code",
   "execution_count": 52,
   "id": "8426fe69",
   "metadata": {
    "execution": {
     "iopub.execute_input": "2022-05-02T01:25:23.470843Z",
     "iopub.status.busy": "2022-05-02T01:25:23.469910Z",
     "iopub.status.idle": "2022-05-02T01:25:23.471795Z",
     "shell.execute_reply": "2022-05-02T01:25:23.472524Z"
    },
    "id": "N2UOpnT3bIyU",
    "lines_to_next_cell": 2
   },
   "outputs": [],
   "source": [
    "def greedy_decode(model, src, src_mask, max_len, start_symbol):\n",
    "    memory = model.encode(src, src_mask)\n",
    "    ys = torch.zeros(1, 1).fill_(start_symbol).type_as(src.data)\n",
    "    for i in range(max_len - 1):\n",
    "        out = model.decode(\n",
    "            memory, src_mask, ys, subsequent_mask(ys.size(1)).type_as(src.data)\n",
    "        )\n",
    "        prob = model.generator(out[:, -1])\n",
    "        _, next_word = torch.max(prob, dim=1)\n",
    "        next_word = next_word.data[0]\n",
    "        ys = torch.cat(\n",
    "            [ys, torch.zeros(1, 1).type_as(src.data).fill_(next_word)], dim=1\n",
    "        )\n",
    "    return ys"
   ]
  },
  {
   "cell_type": "markdown",
   "id": "9a439ef0",
   "metadata": {
    "id": "OpuQv2GsTsqL"
   },
   "source": [
    "# Part 3: A Real World Example\n",
    "\n",
    "> Now we consider a real-world example using the Multi30k\n",
    "> German-English Translation task. This task is much smaller than\n",
    "> the WMT task considered in the paper, but it illustrates the whole\n",
    "> system. We also show how to use multi-gpu processing to make it\n",
    "> really fast."
   ]
  },
  {
   "cell_type": "markdown",
   "id": "1ceb7001",
   "metadata": {
    "id": "8y9dpfolTsqL",
    "tags": []
   },
   "source": [
    "## Data Loading\n",
    "\n",
    "> We will load the dataset using torchtext and spacy for\n",
    "> tokenization."
   ]
  },
  {
   "cell_type": "code",
   "execution_count": 53,
   "id": "43dc2802",
   "metadata": {},
   "outputs": [],
   "source": [
    "def tokenize(text, tokenizer):\n",
    "    return [tok for tok in tokenizer.tokenizer(text)]\n",
    "def yield_tokens(data_iter, tokenizer, index):\n",
    "    for from_to_tuple in data_iter:\n",
    "        yield tokenizer(from_to_tuple[index])"
   ]
  },
  {
   "cell_type": "markdown",
   "id": "aa2d8bbc",
   "metadata": {},
   "source": [
    "# Custom Data"
   ]
  },
  {
   "cell_type": "code",
   "execution_count": 54,
   "id": "ae558ec1",
   "metadata": {},
   "outputs": [],
   "source": [
    "class tokenizer:\n",
    "    def __init__(self):\n",
    "        self.none = None\n",
    "\n",
    "    def tokenizer(self, sentence):\n",
    "        return sentence.split()"
   ]
  },
  {
   "cell_type": "code",
   "execution_count": 55,
   "id": "48124cdb",
   "metadata": {},
   "outputs": [],
   "source": [
    "class tokenizer_BPE:\n",
    "    def __init__(self, src=True):\n",
    "        self.none = None\n",
    "        if src:\n",
    "            self.bpe = BPE(open('./PhoMT/BPE/bp_vi.txt', encoding='utf-8'))\n",
    "        else:\n",
    "            self.bpe = BPE(open('./PhoMT/BPE/bp_en.txt', encoding='utf-8'))\n",
    "            \n",
    "    def tokenizer(self, sentence):\n",
    "        return self.bpe.segment_tokens(gensim.utils.simple_preprocess(sentence))"
   ]
  },
  {
   "cell_type": "code",
   "execution_count": 56,
   "id": "2139aa76",
   "metadata": {},
   "outputs": [],
   "source": [
    "def getVocab(counter):\n",
    "    # define special symbols and indices\n",
    "    BOS_IDX, EOS_IDX, PAD_IDX, UNK_IDX = 0, 1, 2, 3\n",
    "    # make sure indices align within vocabulary\n",
    "    special_symbols = ['<s>', '</s>', '<blank>', '<unk>']\n",
    "\n",
    "    sorted_by_freq_tuples = sorted(counter.items(), key=lambda x: x[1], reverse=True)\n",
    "    ordered_dict = OrderedDict(sorted_by_freq_tuples)\n",
    "    vocab_ = vocab(ordered_dict, min_freq=1, specials=special_symbols)\n",
    "    # tell it vocab what to return when token not found\n",
    "    vocab_.set_default_index(UNK_IDX)\n",
    "    \n",
    "    return vocab_"
   ]
  },
  {
   "cell_type": "code",
   "execution_count": 57,
   "id": "83bc03ec",
   "metadata": {},
   "outputs": [],
   "source": [
    "def get_Vocab_Tokenizer(max_train, max_val, max_test, USE_BPE=False):\n",
    "    vi_train_path = './PhoMT/tokenization/train/train.vi'\n",
    "    en_train_path = './PhoMT/tokenization/train/train.en'\n",
    "\n",
    "    vi_val_path = './PhoMT/tokenization/dev/dev.vi'\n",
    "    en_val_path = './PhoMT/tokenization/dev/dev.en'\n",
    "\n",
    "    vi_test_path = './PhoMT/tokenization/test/test.vi'\n",
    "    en_test_path = './PhoMT/tokenization/test/test.en'\n",
    "    \n",
    "    \n",
    "    train_vi, train_en = [], []\n",
    "    with open(vi_train_path, encoding='utf-8') as f:\n",
    "        for line in f.readlines():\n",
    "            train_vi.append(line.replace('\\n', ''))\n",
    "    with open(en_train_path, encoding='utf-8') as f:\n",
    "        for line in f.readlines():\n",
    "            train_en.append(line.replace('\\n', ''))\n",
    "        \n",
    "    val_vi, val_en = [], []\n",
    "    with open(vi_val_path, encoding='utf-8') as f:\n",
    "        for line in f.readlines():\n",
    "            val_vi.append(line.replace('\\n', ''))\n",
    "    with open(en_val_path, encoding='utf-8') as f:\n",
    "        for line in f.readlines():\n",
    "            val_en.append(line.replace('\\n', ''))     \n",
    "    \n",
    "    test_vi, test_en = [], []\n",
    "    with open(vi_test_path, encoding='utf-8') as f:\n",
    "        for line in f.readlines():\n",
    "            test_vi.append(line.replace('\\n', ''))\n",
    "    with open(en_test_path, encoding='utf-8') as f:\n",
    "        for line in f.readlines():\n",
    "            test_en.append(line.replace('\\n', ''))  \n",
    "            \n",
    "    train_vi, train_en = shuffle(train_vi, train_en)\n",
    "    val_vi, val_en = shuffle(val_vi, val_en)\n",
    "    test_vi, test_en = shuffle(test_vi, test_en)\n",
    "    \n",
    "    train_vi, train_en = train_vi[:max_train], train_en[:max_train]\n",
    "    val_vi, val_en = val_vi[:max_val], val_en[:max_val]\n",
    "    test_vi, test_en = test_vi[:max_test], test_en[:max_test]\n",
    "    \n",
    "\n",
    "    train_iter = list(zip(train_vi, train_en))\n",
    "    val_iter = list(zip(val_vi, val_en))\n",
    "    test_iter = list(zip(test_vi, test_en))\n",
    "    \n",
    "    if not USE_BPE:\n",
    "        temp_vi, temp_en = [], []\n",
    "        for vi, en in train_iter:\n",
    "            for token in vi.split():\n",
    "                temp_vi.append(token)\n",
    "            for token in en.split():\n",
    "                temp_en.append(token)\n",
    "\n",
    "        train_vi_counter = Counter(temp_vi)\n",
    "        train_en_counter = Counter(temp_en)\n",
    "    else:\n",
    "        tokenized_corpus_en = [gensim.utils.simple_preprocess(text) for text in train_en]\n",
    "        flattened_list_en = [item for sublist in tokenized_corpus_en for item in sublist]\n",
    "        vocab_en = set(flattened_list_en)\n",
    "\n",
    "        num_merges = 10000\n",
    "        with open('./PhoMT/BPE/bp_en.txt', 'w+', encoding='utf-8') as f:\n",
    "            learn_bpe(vocab_en, f, num_symbols=num_merges)\n",
    "\n",
    "        # train vietnamese BPE\n",
    "        tokenized_corpus_vi = [gensim.utils.simple_preprocess(text) for text in train_vi]\n",
    "        flattened_list_vi = [item for sublist in tokenized_corpus_vi for item in sublist]\n",
    "        vocab_vi = set(flattened_list_vi)\n",
    "        \n",
    "        num_merges = 10000\n",
    "        with open('./PhoMT/BPE/bp_vi.txt', 'w+', encoding='utf-8') as f:\n",
    "            learn_bpe(vocab_vi, f, num_symbols=num_merges)\n",
    "        \n",
    "        # create BPE vocabulary\n",
    "        bp_en = BPE(open('./PhoMT/BPE/bp_en.txt', encoding='utf-8'))\n",
    "        bp_vi = BPE(open('./PhoMT/BPE/bp_vi.txt', encoding='utf-8'))\n",
    "        \n",
    "        temp_vi, temp_en = [], []\n",
    "        for vi, en in train_iter:\n",
    "            temp_vi.append(bp_vi.segment_tokens(gensim.utils.simple_preprocess(vi)))\n",
    "            temp_en.append(bp_en.segment_tokens(gensim.utils.simple_preprocess(en)))\n",
    "            \n",
    "        temp_vi = set([item for sublist in temp_vi for item in sublist])\n",
    "        temp_en = set([item for sublist in temp_en for item in sublist])\n",
    "        \n",
    "\n",
    "    train_vi_counter = Counter(temp_vi)\n",
    "    train_en_counter = Counter(temp_en)\n",
    "        \n",
    "    vi_vocab = getVocab(train_vi_counter)\n",
    "    en_vocab = getVocab(train_en_counter)\n",
    "    # torch.save((vi_vocab, en_vocab), 'vocab.pt')\n",
    "    \n",
    "    if not USE_BPE:\n",
    "        tokenizer_src, tokenizer_tgt = tokenizer(), tokenizer()\n",
    "    else:\n",
    "        tokenizer_src, tokenizer_tgt = tokenizer_BPE(src=True), tokenizer_BPE(src=False)\n",
    "        \n",
    "    vocab_src, vocab_tgt = vi_vocab, en_vocab\n",
    "    # vocab_src, vocab_tgt = torch.load('vocab.pt')\n",
    "    \n",
    "    return train_iter, val_iter, test_iter, vi_vocab, en_vocab, tokenizer_src, tokenizer_tgt"
   ]
  },
  {
   "cell_type": "code",
   "execution_count": 58,
   "id": "2c13646a",
   "metadata": {},
   "outputs": [],
   "source": [
    "# train_iter, val_iter, test_iter, vocab_src, vocab_tgt, tokenizer_src, tokenizer_tgt = get_Vocab_Tokenizer(1000, 100, 100, USE_BPE=True)"
   ]
  },
  {
   "cell_type": "code",
   "execution_count": 59,
   "id": "885fc112",
   "metadata": {},
   "outputs": [],
   "source": [
    "# vocab_src.get_itos()"
   ]
  },
  {
   "cell_type": "code",
   "execution_count": 60,
   "id": "36338caf",
   "metadata": {},
   "outputs": [],
   "source": [
    "#     vi_train_path = './PhoMT/tokenization/train/train.vi'\n",
    "#     en_train_path = './PhoMT/tokenization/train/train.en'\n",
    "\n",
    "#     vi_val_path = './PhoMT/tokenization/dev/dev.vi'\n",
    "#     en_val_path = './PhoMT/tokenization/dev/dev.en'\n",
    "\n",
    "#     vi_test_path = './PhoMT/tokenization/test/test.vi'\n",
    "#     en_test_path = './PhoMT/tokenization/test/test.en'\n",
    "    \n",
    "    \n",
    "#     train_vi, train_en = [], []\n",
    "#     with open(vi_train_path, encoding='utf-8') as f:\n",
    "#         for line in f.readlines():\n",
    "#             train_vi.append(line.replace('\\n', ''))\n",
    "#     with open(en_train_path, encoding='utf-8') as f:\n",
    "#         for line in f.readlines():\n",
    "#             train_en.append(line.replace('\\n', ''))\n",
    "        \n",
    "#     val_vi, val_en = [], []\n",
    "#     with open(vi_val_path, encoding='utf-8') as f:\n",
    "#         for line in f.readlines():\n",
    "#             val_vi.append(line.replace('\\n', ''))\n",
    "#     with open(en_val_path, encoding='utf-8') as f:\n",
    "#         for line in f.readlines():\n",
    "#             val_en.append(line.replace('\\n', ''))     \n",
    "    \n",
    "#     test_vi, test_en = [], []\n",
    "#     with open(vi_test_path, encoding='utf-8') as f:\n",
    "#         for line in f.readlines():\n",
    "#             test_vi.append(line.replace('\\n', ''))\n",
    "#     with open(en_test_path, encoding='utf-8') as f:\n",
    "#         for line in f.readlines():\n",
    "#             test_en.append(line.replace('\\n', ''))  \n",
    "            \n",
    "#     train_vi, train_en = shuffle(train_vi, train_en)\n",
    "#     val_vi, val_en = shuffle(val_vi, val_en)\n",
    "#     test_vi, test_en = shuffle(test_vi, test_en)\n",
    "    \n",
    "#     max_train, max_val, max_test = 100,100,100\n",
    "#     USE_BPE = True\n",
    "    \n",
    "#     train_vi, train_en = train_vi[:max_train], train_en[:max_train]\n",
    "#     val_vi, val_en = val_vi[:max_val], val_en[:max_val]\n",
    "#     test_vi, test_en = test_vi[:max_test], test_en[:max_test]\n",
    "    \n",
    "\n",
    "#     train_iter = list(zip(train_vi, train_en))\n",
    "#     val_iter = list(zip(val_vi, val_en))\n",
    "#     test_iter = list(zip(test_vi, test_en))\n",
    "    \n",
    "#     if not USE_BPE:\n",
    "#         temp_vi, temp_en = [], []\n",
    "#         for vi, en in train_iter:\n",
    "#             for token in vi.split():\n",
    "#                 temp_vi.append(token)\n",
    "#             for token in en.split():\n",
    "#                 temp_en.append(token)\n",
    "\n",
    "#         train_vi_counter = Counter(temp_vi)\n",
    "#         train_en_counter = Counter(temp_en)\n",
    "#     else:\n",
    "#         tokenized_corpus_en = [gensim.utils.simple_preprocess(text) for text in train_en]\n",
    "#         flattened_list_en = [item for sublist in tokenized_corpus_en for item in sublist]\n",
    "#         vocab_en = set(flattened_list_en)\n",
    "\n",
    "#         num_merges = 10000\n",
    "#         with open('./PhoMT/BPE/bp_en.txt', 'w+', encoding='utf-8') as f:\n",
    "#             learn_bpe(vocab_en, f, num_symbols=num_merges)\n",
    "\n",
    "#         # train vietnamese BPE\n",
    "#         tokenized_corpus_vi = [gensim.utils.simple_preprocess(text) for text in train_vi]\n",
    "#         flattened_list_vi = [item for sublist in tokenized_corpus_vi for item in sublist]\n",
    "#         vocab_vi = set(flattened_list_vi)\n",
    "        \n",
    "#         num_merges = 10000\n",
    "#         with open('./PhoMT/BPE/bp_vi.txt', 'w+', encoding='utf-8') as f:\n",
    "#             learn_bpe(vocab_vi, f, num_symbols=num_merges)\n",
    "        \n",
    "#         # create BPE vocabulary\n",
    "#         bp_en = BPE(open('./PhoMT/BPE/bp_en.txt', encoding='utf-8'))\n",
    "#         bp_vi = BPE(open('./PhoMT/BPE/bp_vi.txt', encoding='utf-8'))\n",
    "        \n",
    "#         temp_vi, temp_en = [], []\n",
    "#         for vi, en in train_iter:\n",
    "#             temp_vi.append(bp_vi.segment_tokens(gensim.utils.simple_preprocess(vi)))\n",
    "#             temp_en.append(bp_en.segment_tokens(gensim.utils.simple_preprocess(en)))\n",
    "            \n",
    "#         temp_vi = set([item for sublist in temp_vi for item in sublist])\n",
    "#         temp_en = set([item for sublist in temp_en for item in sublist])\n",
    "        \n",
    "\n",
    "#     train_vi_counter = Counter(temp_vi)\n",
    "#     train_en_counter = Counter(temp_en)\n",
    "        \n",
    "#     vi_vocab = getVocab(train_vi_counter)\n",
    "#     en_vocab = getVocab(train_en_counter)\n",
    "    \n",
    "#     if not USE_BPE:\n",
    "#         tokenizer_src, tokenizer_tgt = tokenizer(), tokenizer()\n",
    "#     else:\n",
    "#         tokenizer_src, tokenizer_tgt = tokenizer_BPE(src=True), tokenizer_BPE(src=False)\n",
    "        \n",
    "#     vocab_src, vocab_tgt = vi_vocab, en_vocab\n",
    "    \n",
    "#     return train_iter, val_iter, test_iter, vi_vocab, en_vocab, tokenizer_src, tokenizer_tgt"
   ]
  },
  {
   "cell_type": "code",
   "execution_count": 61,
   "id": "b99e96e9",
   "metadata": {},
   "outputs": [],
   "source": [
    "# train_en_counter"
   ]
  },
  {
   "cell_type": "code",
   "execution_count": 62,
   "id": "2836c043",
   "metadata": {},
   "outputs": [],
   "source": [
    "# vocab_src.get_itos()[3]"
   ]
  },
  {
   "cell_type": "markdown",
   "id": "8aa07c06",
   "metadata": {
    "id": "-l-TFwzfTsqL"
   },
   "source": [
    "\n",
    "> Batching matters a ton for speed. We want to have very evenly\n",
    "> divided batches, with absolutely minimal padding. To do this we\n",
    "> have to hack a bit around the default torchtext batching. This\n",
    "> code patches their default batching to make sure we search over\n",
    "> enough sentences to find tight batches."
   ]
  },
  {
   "cell_type": "markdown",
   "id": "f57752f8",
   "metadata": {
    "incorrectly_encoded_metadata": "id=\"kDEj-hCgokC-\" tags=[] jp-MarkdownHeadingCollapsed=true"
   },
   "source": [
    "## Iterators"
   ]
  },
  {
   "cell_type": "code",
   "execution_count": 63,
   "id": "33350048",
   "metadata": {
    "execution": {
     "iopub.execute_input": "2022-05-02T01:25:25.144310Z",
     "iopub.status.busy": "2022-05-02T01:25:25.143931Z",
     "iopub.status.idle": "2022-05-02T01:25:25.146354Z",
     "shell.execute_reply": "2022-05-02T01:25:25.146629Z"
    },
    "id": "wGsIHFgOokC_",
    "tags": []
   },
   "outputs": [],
   "source": [
    "def collate_batch(\n",
    "    batch,\n",
    "    src_pipeline,\n",
    "    tgt_pipeline,\n",
    "    src_vocab,\n",
    "    tgt_vocab,\n",
    "    device,\n",
    "    max_padding=128,\n",
    "    pad_id=2,\n",
    "):\n",
    "    bs_id = torch.tensor([0], device=device)  # <s> token id\n",
    "    eos_id = torch.tensor([1], device=device)  # </s> token id\n",
    "    src_list, tgt_list = [], []\n",
    "    for (_src, _tgt) in batch:\n",
    "        processed_src = torch.cat(\n",
    "            [\n",
    "                bs_id,\n",
    "                torch.tensor(\n",
    "                    src_vocab(src_pipeline(_src)),\n",
    "                    dtype=torch.int64,\n",
    "                    device=device,\n",
    "                ),\n",
    "                eos_id,\n",
    "            ],\n",
    "            0,\n",
    "        )\n",
    "        processed_tgt = torch.cat(\n",
    "            [\n",
    "                bs_id,\n",
    "                torch.tensor(\n",
    "                    tgt_vocab(tgt_pipeline(_tgt)),\n",
    "                    dtype=torch.int64,\n",
    "                    device=device,\n",
    "                ),\n",
    "                eos_id,\n",
    "            ],\n",
    "            0,\n",
    "        )\n",
    "        src_list.append(\n",
    "            # warning - overwrites values for negative values of padding - len\n",
    "            pad(\n",
    "                processed_src,\n",
    "                (\n",
    "                    0,\n",
    "                    max_padding - len(processed_src),\n",
    "                ),\n",
    "                value=pad_id,\n",
    "            )\n",
    "        )\n",
    "        tgt_list.append(\n",
    "            pad(\n",
    "                processed_tgt,\n",
    "                (0, max_padding - len(processed_tgt)),\n",
    "                value=pad_id,\n",
    "            )\n",
    "        )\n",
    "\n",
    "    src = torch.stack(src_list)\n",
    "    tgt = torch.stack(tgt_list)\n",
    "    return (src, tgt)"
   ]
  },
  {
   "cell_type": "code",
   "execution_count": 64,
   "id": "3d94df2f",
   "metadata": {
    "execution": {
     "iopub.execute_input": "2022-05-02T01:25:25.158739Z",
     "iopub.status.busy": "2022-05-02T01:25:25.158133Z",
     "iopub.status.idle": "2022-05-02T01:25:25.160905Z",
     "shell.execute_reply": "2022-05-02T01:25:25.160371Z"
    },
    "id": "ka2Ce_WIokC_",
    "tags": []
   },
   "outputs": [],
   "source": [
    "def create_dataloaders(\n",
    "    device,\n",
    "    train_iter,\n",
    "    val_iter,\n",
    "    test_iter,\n",
    "    vocab_src,\n",
    "    vocab_tgt,\n",
    "    tokenizer_src,\n",
    "    tokenizer_tgt,\n",
    "    batch_size,\n",
    "    max_padding,\n",
    "):\n",
    "    def tokenize_de(text):\n",
    "        return tokenize(text, tokenizer_src)\n",
    "\n",
    "    def tokenize_en(text):\n",
    "        return tokenize(text, tokenizer_tgt)\n",
    "\n",
    "    def collate_fn(batch):\n",
    "        return collate_batch(\n",
    "            batch,\n",
    "            tokenize_de,\n",
    "            tokenize_en,\n",
    "            vocab_src,\n",
    "            vocab_tgt,\n",
    "            device,\n",
    "            max_padding=max_padding,\n",
    "            pad_id=vocab_src.get_stoi()['<blank>'],\n",
    "        )\n",
    "\n",
    "    train_dataloader = DataLoader(\n",
    "        train_iter,\n",
    "        batch_size=batch_size,\n",
    "        shuffle=True,\n",
    "        collate_fn=collate_fn,\n",
    "    )\n",
    "    valid_dataloader = DataLoader(\n",
    "        val_iter,\n",
    "        batch_size=batch_size,\n",
    "        shuffle=True,\n",
    "        collate_fn=collate_fn,\n",
    "    )\n",
    "    \n",
    "    test_dataloader = DataLoader(\n",
    "        test_iter,\n",
    "        batch_size=batch_size,\n",
    "        shuffle=True,\n",
    "        collate_fn=collate_fn,\n",
    "    )\n",
    "\n",
    "    return train_dataloader, valid_dataloader, test_dataloader"
   ]
  },
  {
   "cell_type": "code",
   "execution_count": 65,
   "id": "1c819d1a",
   "metadata": {},
   "outputs": [],
   "source": [
    "def visualizeLoss(train_loss, validation_loss, figure_path=None):\n",
    "    plt.plot(train_loss, label='Train Loss', color='blue')\n",
    "    plt.plot(validation_loss, label='Validation Loss', color='red')\n",
    "    plt.xticks(range(len(train_loss)))\n",
    "    plt.xlabel('Epochs')\n",
    "    plt.ylabel('Loss')\n",
    "    plt.title('Loss Over Time')\n",
    "    plt.legend()\n",
    "#     plt.savefig(figure_path)\n",
    "    plt.show()"
   ]
  },
  {
   "cell_type": "code",
   "execution_count": 66,
   "id": "7373c8d5",
   "metadata": {},
   "outputs": [],
   "source": [
    "# def saveData(train_loss, validation_loss, elapsed_time, config, params, json_path):\n",
    "#     data = {}\n",
    "#     data['train_loss'] = train_loss\n",
    "#     data['validation_loss'] = validation_loss\n",
    "#     data['elapsed_time'] = elapsed_time\n",
    "#     data['config'] = config\n",
    "#     data['params'] = params\n",
    "#     with open(json_path, 'w') as f:\n",
    "#         json.dump(data, f)"
   ]
  },
  {
   "cell_type": "code",
   "execution_count": 67,
   "id": "9af31a2c",
   "metadata": {},
   "outputs": [],
   "source": [
    "def saveData(gpu,train_iter,val_iter,test_iter,vocab_src,vocab_tgt,tokenizer_src,tokenizer_tgt,config,params,module,optimizer, lr_scheduler, train_epoch_loss,validation_epoch_loss,elapsed_time,model_path):\n",
    "    data = {\n",
    "        \"gpu\":gpu,\n",
    "        \"train_iter\":train_iter,\n",
    "        \"val_iter\":val_iter,\n",
    "        \"test_iter\":test_iter,\n",
    "        \"vocab_src\":vocab_src,\n",
    "        \"vocab_tgt\":vocab_tgt,\n",
    "        \"tokenizer_src\":tokenizer_src,\n",
    "        \"tokenizer_tgt\":tokenizer_tgt,\n",
    "        \"config\":config,\n",
    "        \"params\":params,\n",
    "        \"model\":module.state_dict(),\n",
    "        \"optimizer\": optimizer.state_dict(),\n",
    "        \"lr_scheduler\": lr_scheduler.state_dict(),\n",
    "        \"train_epoch_loss\":train_epoch_loss,\n",
    "        \"validation_epoch_loss\":validation_epoch_loss,\n",
    "        \"elapsed_time\":elapsed_time\n",
    "    }\n",
    "    \n",
    "    torch.save(data, model_path)"
   ]
  },
  {
   "cell_type": "markdown",
   "id": "852a5240",
   "metadata": {
    "id": "90qM8RzCTsqM"
   },
   "source": [
    "## Training the System"
   ]
  },
  {
   "cell_type": "code",
   "execution_count": 68,
   "id": "1b763750",
   "metadata": {
    "execution": {
     "iopub.execute_input": "2022-05-02T01:25:25.181295Z",
     "iopub.status.busy": "2022-05-02T01:25:25.180613Z",
     "iopub.status.idle": "2022-05-02T01:25:25.183519Z",
     "shell.execute_reply": "2022-05-02T01:25:25.183983Z"
    }
   },
   "outputs": [],
   "source": [
    "def train_model(\n",
    "    gpu, train_iter, val_iter, test_iter, vocab_src, vocab_tgt, tokenizer_src, tokenizer_tgt, config, params\n",
    "):\n",
    "    print(f'Train worker process using GPU: {gpu} for training', flush=True)\n",
    "    gc.collect()\n",
    "    torch.cuda.set_device(gpu)\n",
    "\n",
    "    pad_idx = vocab_tgt['<blank>']\n",
    "    \n",
    "    print_each = config['print_each']\n",
    "    save_model = config['save_model']\n",
    "    \n",
    "    model_path = './models/' + config['file_prefix'] + '_' + params['attention_method'] + '.pt'\n",
    "    \n",
    "    len_tgt = params['tgt_dim']\n",
    "    d_model = params['d_model']\n",
    "\n",
    "    model = make_model(**params)\n",
    "\n",
    "    model.cuda(gpu)\n",
    "    module = model\n",
    "    is_main_process = True\n",
    "\n",
    "    criterion = LabelSmoothing(size=len_tgt, padding_idx=pad_idx, smoothing=0.1)\n",
    "    criterion.cuda(gpu)\n",
    "\n",
    "    train_dataloader, valid_dataloader, test_dataloader = create_dataloaders(\n",
    "        gpu,\n",
    "        train_iter,\n",
    "        val_iter,\n",
    "        test_iter,\n",
    "        vocab_src,\n",
    "        vocab_tgt,\n",
    "        tokenizer_src,\n",
    "        tokenizer_tgt,\n",
    "        batch_size=config['batch_size'],\n",
    "        max_padding=config['max_padding'],\n",
    "    )\n",
    "\n",
    "    optimizer = torch.optim.Adam(\n",
    "        model.parameters(), lr=config['base_lr'], betas=(0.9, 0.98), eps=1e-9\n",
    "    )\n",
    "\n",
    "    lr_scheduler = LambdaLR(\n",
    "        optimizer=optimizer,\n",
    "        lr_lambda=lambda step: rate(step, d_model, factor=1, warmup=config['warmup']),\n",
    "    )\n",
    "\n",
    "    start_time = time.time()\n",
    "    \n",
    "    train_epoch_loss = []\n",
    "    validation_epoch_loss = []\n",
    "    \n",
    "    for epoch in range(config['num_epochs']):\n",
    "        module.train()\n",
    "        print(f'[GPU{gpu}] Epoch {epoch} Training ====', flush=True)\n",
    "        loss = run_epoch(\n",
    "            (Batch(b[0], b[1], pad_idx) for b in train_dataloader),\n",
    "            print_each,\n",
    "            model,\n",
    "            SimpleLossCompute(module.generator, criterion),\n",
    "            optimizer,\n",
    "            lr_scheduler,\n",
    "            mode='train+log',\n",
    "            accum_iter=config['accum_iter']\n",
    "        )\n",
    "        \n",
    "        train_epoch_loss.append(loss)\n",
    "\n",
    "        print('\\n')\n",
    "\n",
    "        GPUtil.showUtilization()\n",
    "        gc.collect()\n",
    "        torch.cuda.empty_cache()\n",
    "\n",
    "        print('\\n')\n",
    "\n",
    "        print(f'[GPU{gpu}] Epoch {epoch} Validation ====', flush=True)\n",
    "        module.eval()\n",
    "        loss = run_epoch(\n",
    "            (Batch(b[0], b[1], pad_idx) for b in valid_dataloader),\n",
    "            print_each,\n",
    "            model,\n",
    "            SimpleLossCompute(module.generator, criterion),\n",
    "            DummyOptimizer(),\n",
    "            DummyScheduler(),\n",
    "            mode='eval',\n",
    "        )\n",
    "        \n",
    "        validation_epoch_loss.append(loss)\n",
    "        \n",
    "        gc.collect()\n",
    "        torch.cuda.empty_cache()\n",
    "        \n",
    "        elapsed_time = round((time.time() - start_time) / 60, 2)\n",
    "        print('Time Elapsed: {} \\n'.format(elapsed_time))\n",
    "\n",
    "        print(\n",
    "            '--------------------------------------------------------------------------------------------------'\n",
    "        )\n",
    "    \n",
    "        if save_model:\n",
    "            model_path = './models/' + config['file_prefix'] + '_' + params['attention_method'] + '_' + str(epoch) + '.pt'\n",
    "            \n",
    "            saveData(\n",
    "                gpu,train_iter,val_iter,\n",
    "                test_iter,vocab_src,vocab_tgt,\n",
    "                tokenizer_src,tokenizer_tgt,config,\n",
    "                params,module, optimizer, lr_scheduler,\n",
    "                train_epoch_loss,validation_epoch_loss, \n",
    "                elapsed_time, model_path)\n",
    "            \n",
    "        gc.collect()\n",
    "        torch.cuda.empty_cache()"
   ]
  },
  {
   "cell_type": "code",
   "execution_count": 69,
   "id": "dd8fcf1d",
   "metadata": {},
   "outputs": [],
   "source": [
    "# max_train, max_val, max_test = 2977999, 18719, 19151\n",
    "# # max_train, max_val, max_test = 50000, 15000, 15000\n",
    "# # max_train, max_val, max_test = 1000, 500, 500\n",
    "# train_iter, val_iter, test_iter, vocab_src, vocab_tgt, tokenizer_src, tokenizer_tgt = get_Vocab_Tokenizer(max_train, max_val, max_test, USE_BPE=True)\n",
    "\n",
    "# config = {\n",
    "#     'batch_size': 50,\n",
    "#     'print_each': (len(train_iter) // 50 // 10), \n",
    "#     'num_epochs': 4,\n",
    "#     'accum_iter': 10,\n",
    "#     'base_lr': 1.0,\n",
    "#     'max_padding': 15,\n",
    "#     'warmup': 3000,\n",
    "# }\n",
    "\n",
    "# params = {\n",
    "#     'src_dim': len(vocab_src),\n",
    "#     'tgt_dim': len(vocab_tgt),\n",
    "#     'N': 6,\n",
    "#     'd_model': 512,\n",
    "#     'd_ff': 2048,\n",
    "#     'h': 8,\n",
    "#     'dropout': 0.1\n",
    "# }"
   ]
  },
  {
   "cell_type": "code",
   "execution_count": 70,
   "id": "6126bf0e",
   "metadata": {},
   "outputs": [],
   "source": [
    "# config['file_prefix'] = 'vi_to_en_BPE_complete'\n",
    "# config['save_model'] = True\n",
    "\n",
    "# for option in ['softmax', 'rela', 'sparsemax', 'entmax']:\n",
    "# for option in ['softmax', 'rela', 'sparsemax']:\n",
    "# # for option in ['softmax']:\n",
    "#     gc.collect()\n",
    "#     torch.cuda.empty_cache()\n",
    "#     params['attention_method'] = option\n",
    "    \n",
    "#     train_model(\n",
    "#         0,\n",
    "#         train_iter,\n",
    "#         val_iter,\n",
    "#         test_iter,\n",
    "#         vocab_src,\n",
    "#         vocab_tgt,\n",
    "#         tokenizer_src,\n",
    "#         tokenizer_tgt,\n",
    "#         config,\n",
    "#         params\n",
    "#     )\n",
    "    \n",
    "# # gc.collect()\n",
    "# # torch.cuda.empty_cache()\n",
    "# # params['attention_method'] = 'softmax'\n",
    "\n",
    "# # train_model(\n",
    "# #     0,\n",
    "# #     train_iter,\n",
    "# #     val_iter,\n",
    "# #     test_iter,\n",
    "# #     vocab_src,\n",
    "# #     vocab_tgt,\n",
    "# #     tokenizer_src,\n",
    "# #     tokenizer_tgt,\n",
    "# #     config,\n",
    "# #     params\n",
    "# # )"
   ]
  },
  {
   "cell_type": "code",
   "execution_count": 71,
   "id": "1c386048",
   "metadata": {},
   "outputs": [],
   "source": [
    "# softmax = torch.load('./models/vi_to_en_complete_softmax_0.pt')\n",
    "# rela = torch.load('./models/vi_to_en_complete_rela_0.pt')\n",
    "# sparsemax = torch.load('./models/vi_to_en_complete_sparsemax_0.pt')\n",
    "# entmax = torch.load('./models/vi_to_en_complete_entmax_0.pt')"
   ]
  },
  {
   "cell_type": "code",
   "execution_count": 72,
   "id": "181145fb",
   "metadata": {},
   "outputs": [],
   "source": [
    "# plt.plot(softmax['train_epoch_loss'], label='Softmax Attention')\n",
    "# plt.plot(rela['train_epoch_loss'], label='Rectified Linear Attention')\n",
    "# plt.plot(sparsemax['train_epoch_loss'], label='Sparsemax Attention')\n",
    "# plt.plot(entmax['train_epoch_loss'], label='Entmax Attenion')\n",
    "\n",
    "# plt.xticks(range(len(softmax['train_epoch_loss'])))\n",
    "# plt.xlabel('Epochs')\n",
    "# plt.ylabel('Loss')\n",
    "# plt.title('Train Loss Over Time')\n",
    "# plt.legend()\n",
    "# plt.show()"
   ]
  },
  {
   "cell_type": "code",
   "execution_count": 73,
   "id": "ff83a251",
   "metadata": {},
   "outputs": [],
   "source": [
    "# plt.plot(softmax['validation_epoch_loss'], label='Softmax Attention')\n",
    "# plt.plot(rela['validation_epoch_loss'], label='ReLa Attention')\n",
    "# plt.plot(sparsemax['validation_epoch_loss'], label='Sparsemax Attention')\n",
    "# plt.plot(entmax['validation_epoch_loss'], label='Entmax Attention')\n",
    "\n",
    "# plt.xticks(range(len(softmax['validation_epoch_loss'])))\n",
    "# plt.xlabel('Epochs')\n",
    "# plt.ylabel('Loss')\n",
    "# plt.title('Validation Loss Over Time')\n",
    "# plt.legend()\n",
    "# plt.show()"
   ]
  },
  {
   "cell_type": "code",
   "execution_count": 74,
   "id": "c2eb1354",
   "metadata": {},
   "outputs": [],
   "source": [
    "# fig, ax = plt.subplots(figsize=(5, 5))\n",
    "# ax.bar(['softmax', 'rela', 'sparsemax', 'entmax'], [softmax['elapsed_time'],rela['elapsed_time'],sparsemax['elapsed_time'],entmax['elapsed_time']])\n",
    "# ax.bar_label(ax.containers[0], label_type='edge')\n",
    "# plt.ylabel('Minutes')\n",
    "# # plt.legend()\n",
    "# plt.show()"
   ]
  },
  {
   "cell_type": "markdown",
   "id": "89c1a1dd",
   "metadata": {
    "id": "RZK_VjDPTsqN"
   },
   "source": [
    "\n",
    "> Once trained we can decode the model to produce a set of\n",
    "> translations. Here we simply translate the first sentence in the\n",
    "> validation set. This dataset is pretty small so the translations\n",
    "> with greedy search are reasonably accurate."
   ]
  },
  {
   "cell_type": "code",
   "execution_count": 75,
   "id": "7733ce32",
   "metadata": {
    "execution": {
     "iopub.execute_input": "2022-05-02T01:25:28.716071Z",
     "iopub.status.busy": "2022-05-02T01:25:28.715714Z",
     "iopub.status.idle": "2022-05-02T01:25:28.718389Z",
     "shell.execute_reply": "2022-05-02T01:25:28.717999Z"
    },
    "id": "hAFEa78JokDB",
    "lines_to_next_cell": 2
   },
   "outputs": [],
   "source": [
    "# def average(model, models):\n",
    "#     'Average models into model'\n",
    "#     for ps in zip(*[m.params() for m in [model] + models]):\n",
    "#         ps[0].copy_(torch.sum(*ps[1:]) / len(ps[1:]))"
   ]
  },
  {
   "cell_type": "markdown",
   "id": "34f23a5f",
   "metadata": {
    "id": "Kz5BYJ9sTsqO"
   },
   "source": [
    "# Results\n",
    "\n",
    "On the WMT 2014 English-to-German translation task, the big\n",
    "transformer model (Transformer (big) in Table 2) outperforms the\n",
    "best previously reported models (including ensembles) by more than\n",
    "2.0 BLEU, establishing a new state-of-the-art BLEU score of\n",
    "28.4. The configuration of this model is listed in the bottom line\n",
    "of Table 3. Training took 3.5 days on 8 P100 GPUs. Even our base\n",
    "model surpasses all previously published models and ensembles, at a\n",
    "fraction of the training cost of any of the competitive models.\n",
    "\n",
    "On the WMT 2014 English-to-French translation task, our big model\n",
    "achieves a BLEU score of 41.0, outperforming all of the previously\n",
    "published single models, at less than 1/4 the training cost of the\n",
    "previous state-of-the-art model. The Transformer (big) model trained\n",
    "for English-to-French used dropout rate Pdrop = 0.1, instead of 0.3.\n"
   ]
  },
  {
   "cell_type": "markdown",
   "id": "944ff4c2",
   "metadata": {},
   "source": [
    "![](images/results.png)"
   ]
  },
  {
   "cell_type": "markdown",
   "id": "ca35090c",
   "metadata": {
    "id": "cPcnsHvQTsqO"
   },
   "source": [
    "\n",
    "\n",
    "> With the addtional extensions in the last section, the OpenNMT-py\n",
    "> replication gets to 26.9 on EN-DE WMT. Here I have loaded in those\n",
    "> parameters to our reimplemenation."
   ]
  },
  {
   "cell_type": "code",
   "execution_count": 76,
   "id": "f2dc0e96",
   "metadata": {},
   "outputs": [],
   "source": [
    "# x = torch.load('./metrics/vi_to_en_complete_softmax_3_metrics.pt')"
   ]
  },
  {
   "cell_type": "code",
   "execution_count": 77,
   "id": "099f910f",
   "metadata": {},
   "outputs": [],
   "source": [
    "# y = torch.load('./models/vi_to_en_complete_softmax_3.pt')"
   ]
  },
  {
   "cell_type": "code",
   "execution_count": 78,
   "id": "df5274ad",
   "metadata": {},
   "outputs": [],
   "source": [
    "# for idx, (vi, en) in enumerate(y['test_iter']):\n",
    "#     print(vi)\n",
    "#     print(en)\n",
    "#     print(x['tgt_truth'][idx])\n",
    "#     break"
   ]
  },
  {
   "cell_type": "code",
   "execution_count": 79,
   "id": "202c4c4f",
   "metadata": {},
   "outputs": [],
   "source": [
    "# x['tgt_truth'] in y['test_iter']:"
   ]
  },
  {
   "cell_type": "code",
   "execution_count": 80,
   "id": "e9858b6f",
   "metadata": {},
   "outputs": [],
   "source": [
    "# y['test_iter']"
   ]
  },
  {
   "cell_type": "code",
   "execution_count": 81,
   "id": "7377253b",
   "metadata": {
    "execution": {
     "iopub.execute_input": "2022-05-02T01:25:28.722526Z",
     "iopub.status.busy": "2022-05-02T01:25:28.722031Z",
     "iopub.status.idle": "2022-05-02T01:25:28.724231Z",
     "shell.execute_reply": "2022-05-02T01:25:28.723834Z"
    },
    "lines_to_next_cell": 2
   },
   "outputs": [],
   "source": [
    "# Load data and model for output checks"
   ]
  },
  {
   "cell_type": "code",
   "execution_count": 82,
   "id": "4fe33a29",
   "metadata": {},
   "outputs": [],
   "source": [
    "# model_path = './models/' + config['file_prefix'] + '_' + params['attention_method'] + '.pt'\n",
    "# model = make_model(**params)\n",
    "# model.load_state_dict(torch.load(model_path)['model'])"
   ]
  },
  {
   "cell_type": "code",
   "execution_count": 83,
   "id": "26e1e0c1",
   "metadata": {},
   "outputs": [],
   "source": [
    "def joinBPE(sentence):\n",
    "    final_sentence = []\n",
    "    temp = ''\n",
    "    for token in sentence:\n",
    "        if '@@' in token:\n",
    "            temp+=token.replace('@@','')\n",
    "        else:\n",
    "            temp+=token\n",
    "            final_sentence.append(temp)\n",
    "            temp = ''\n",
    "    if temp:\n",
    "        final_sentence.append(temp)\n",
    "    \n",
    "    return final_sentence"
   ]
  },
  {
   "cell_type": "code",
   "execution_count": 84,
   "id": "6deb2571",
   "metadata": {
    "execution": {
     "iopub.execute_input": "2022-05-02T01:25:28.732320Z",
     "iopub.status.busy": "2022-05-02T01:25:28.726845Z",
     "iopub.status.idle": "2022-05-02T01:25:28.742979Z",
     "shell.execute_reply": "2022-05-02T01:25:28.742276Z"
    },
    "lines_to_next_cell": 2,
    "scrolled": true
   },
   "outputs": [],
   "source": [
    "def check_outputs(\n",
    "    valid_dataloader,\n",
    "    model,\n",
    "    vocab_src,\n",
    "    vocab_tgt,\n",
    "    n_examples=1,\n",
    "    USE_BPE=False,\n",
    "    pad_idx=2,\n",
    "    eos_string='</s>',\n",
    "):\n",
    "    results = [()] * n_examples\n",
    "    tgt_truth, tgt_pred = [], []\n",
    "    print_each = (n_examples // 4) \n",
    "    \n",
    "    for idx, (src, tgt) in enumerate(iter(valid_dataloader)):\n",
    "        \n",
    "#         if n_examples>1 and idx % print_each == 0:\n",
    "#             print('Decoding {}% Complete ...'.format((idx/print_each)*25))\n",
    "        \n",
    "        if idx == n_examples: \n",
    "            break\n",
    "\n",
    "        rb = Batch(src, tgt, pad_idx)\n",
    "\n",
    "        greedy_decode(model, rb.src, rb.src_mask, 64, 0)[0]\n",
    "\n",
    "        src_tokens = [vocab_src.get_itos()[x] for x in rb.src[0] if x != pad_idx]\n",
    "        tgt_tokens = [vocab_tgt.get_itos()[x] for x in rb.tgt[0] if x != pad_idx]\n",
    "        \n",
    "        model_out = greedy_decode(model, rb.src, rb.src_mask, 72, 0)[0]\n",
    "        model_txt = (\n",
    "            ' '.join(\n",
    "                [vocab_tgt.get_itos()[x] for x in model_out if x != pad_idx]\n",
    "            ).split(eos_string, 1)[0]\n",
    "            + eos_string\n",
    "        )\n",
    "        \n",
    "        if not USE_BPE:\n",
    "            tgt_pred.append(model_txt.replace('\\n', '').split()[1:-2])\n",
    "            tgt_truth.append([' '.join(tgt_tokens).replace('\\n', '').split()[1:-2]])\n",
    "        else:\n",
    "            tgt_pred.append(joinBPE(model_txt.replace('\\n', '').split()[1:-2]))\n",
    "            tgt_truth.append([joinBPE(' '.join(tgt_tokens).replace('\\n', '').split()[1:-2])])\n",
    "        \n",
    "        results[idx] = (rb, src_tokens, tgt_tokens, model_out, model_txt)\n",
    "    \n",
    "    score = bleu_score(tgt_pred, tgt_truth, max_n=4, weights=[0.25, 0.25, 0.25, 0.25])\n",
    "\n",
    "    return model, tgt_truth, tgt_pred, score, results\n",
    "\n",
    "\n",
    "def run_model_example(\n",
    "    USE_BPE,\n",
    "    n_examples, \n",
    "    device,\n",
    "    train_iter,\n",
    "    val_iter,\n",
    "    test_iter,\n",
    "    vocab_src,\n",
    "    vocab_tgt,\n",
    "    tokenizer_src,\n",
    "    tokenizer_tgt,\n",
    "    config,\n",
    "    params,\n",
    "    model_path\n",
    "):\n",
    "\n",
    "    _, _, test_dataloader = create_dataloaders(\n",
    "        torch.device(0),\n",
    "        train_iter,\n",
    "        val_iter,\n",
    "        test_iter,\n",
    "        vocab_src,\n",
    "        vocab_tgt,\n",
    "        tokenizer_src,\n",
    "        tokenizer_tgt,\n",
    "        batch_size=1,\n",
    "        max_padding=25,\n",
    "    )\n",
    "\n",
    "    model = make_model(**params)\n",
    "\n",
    "    model.load_state_dict(\n",
    "        torch.load(model_path, map_location=torch.device(0))['model']\n",
    "    )\n",
    "    \n",
    "    model = model.to('cuda')\n",
    "    model.eval()\n",
    "    \n",
    "\n",
    "    model, tgt_truth, tgt_pred, score, results = check_outputs(\n",
    "        test_dataloader, model, vocab_src, vocab_tgt, n_examples=n_examples, USE_BPE=USE_BPE\n",
    "    )\n",
    "    \n",
    "    print('\\nComplete.')\n",
    "    \n",
    "    return model, tgt_truth, tgt_pred, score, results"
   ]
  },
  {
   "cell_type": "code",
   "execution_count": 99,
   "id": "d00d5c9a",
   "metadata": {},
   "outputs": [
    {
     "name": "stdout",
     "output_type": "stream",
     "text": [
      "\n",
      "Complete.\n",
      "Completion Time: 0.26\n",
      "Score: 0.0\n",
      "vi_to_en_complete_softmax_3.pt\n",
      "[[['Today', 'is', 'a', 'beautiful']]]\n",
      "[['It', \"'s\", 'a', 'beautiful', 'day']]\n"
     ]
    },
    {
     "ename": "KeyboardInterrupt",
     "evalue": "",
     "output_type": "error",
     "traceback": [
      "\u001b[1;31m---------------------------------------------------------------------------\u001b[0m",
      "\u001b[1;31mKeyboardInterrupt\u001b[0m                         Traceback (most recent call last)",
      "Cell \u001b[1;32mIn[99], line 14\u001b[0m\n\u001b[0;32m     10\u001b[0m torch\u001b[38;5;241m.\u001b[39mcuda\u001b[38;5;241m.\u001b[39mempty_cache()\n\u001b[0;32m     12\u001b[0m temp \u001b[38;5;241m=\u001b[39m [(\u001b[38;5;124m'\u001b[39m\u001b[38;5;124mHôm nay là một ngày đẹp trời\u001b[39m\u001b[38;5;124m'\u001b[39m, \u001b[38;5;124m'\u001b[39m\u001b[38;5;124mToday is a beautiful day\u001b[39m\u001b[38;5;124m'\u001b[39m)] \n\u001b[1;32m---> 14\u001b[0m model_data \u001b[38;5;241m=\u001b[39m \u001b[43mtorch\u001b[49m\u001b[38;5;241;43m.\u001b[39;49m\u001b[43mload\u001b[49m\u001b[43m(\u001b[49m\u001b[43mmodel_path\u001b[49m\u001b[43m)\u001b[49m\n\u001b[0;32m     15\u001b[0m model, tgt_truth, tgt_pred, score, results \u001b[38;5;241m=\u001b[39m run_model_example(\n\u001b[0;32m     16\u001b[0m     \u001b[38;5;28;01mFalse\u001b[39;00m,\n\u001b[0;32m     17\u001b[0m     \u001b[38;5;241m1\u001b[39m, \n\u001b[1;32m   (...)\u001b[0m\n\u001b[0;32m     29\u001b[0m     model_path\n\u001b[0;32m     30\u001b[0m )\n\u001b[0;32m     32\u001b[0m elapsed_time \u001b[38;5;241m=\u001b[39m \u001b[38;5;28mround\u001b[39m((time\u001b[38;5;241m.\u001b[39mtime()\u001b[38;5;241m-\u001b[39mstart_time)\u001b[38;5;241m/\u001b[39m\u001b[38;5;241m60\u001b[39m, \u001b[38;5;241m2\u001b[39m)\n",
      "File \u001b[1;32mC:\\Program Files\\anaconda3\\envs\\usc_csci_544\\lib\\site-packages\\torch\\serialization.py:809\u001b[0m, in \u001b[0;36mload\u001b[1;34m(f, map_location, pickle_module, weights_only, **pickle_load_args)\u001b[0m\n\u001b[0;32m    807\u001b[0m             \u001b[38;5;28;01mexcept\u001b[39;00m \u001b[38;5;167;01mRuntimeError\u001b[39;00m \u001b[38;5;28;01mas\u001b[39;00m e:\n\u001b[0;32m    808\u001b[0m                 \u001b[38;5;28;01mraise\u001b[39;00m pickle\u001b[38;5;241m.\u001b[39mUnpicklingError(UNSAFE_MESSAGE \u001b[38;5;241m+\u001b[39m \u001b[38;5;28mstr\u001b[39m(e)) \u001b[38;5;28;01mfrom\u001b[39;00m \u001b[38;5;28mNone\u001b[39m\n\u001b[1;32m--> 809\u001b[0m         \u001b[38;5;28;01mreturn\u001b[39;00m _load(opened_zipfile, map_location, pickle_module, \u001b[38;5;241m*\u001b[39m\u001b[38;5;241m*\u001b[39mpickle_load_args)\n\u001b[0;32m    810\u001b[0m \u001b[38;5;28;01mif\u001b[39;00m weights_only:\n\u001b[0;32m    811\u001b[0m     \u001b[38;5;28;01mtry\u001b[39;00m:\n",
      "File \u001b[1;32mC:\\Program Files\\anaconda3\\envs\\usc_csci_544\\lib\\site-packages\\torch\\serialization.py:1172\u001b[0m, in \u001b[0;36m_load\u001b[1;34m(zip_file, map_location, pickle_module, pickle_file, **pickle_load_args)\u001b[0m\n\u001b[0;32m   1170\u001b[0m unpickler \u001b[38;5;241m=\u001b[39m UnpicklerWrapper(data_file, \u001b[38;5;241m*\u001b[39m\u001b[38;5;241m*\u001b[39mpickle_load_args)\n\u001b[0;32m   1171\u001b[0m unpickler\u001b[38;5;241m.\u001b[39mpersistent_load \u001b[38;5;241m=\u001b[39m persistent_load\n\u001b[1;32m-> 1172\u001b[0m result \u001b[38;5;241m=\u001b[39m \u001b[43munpickler\u001b[49m\u001b[38;5;241;43m.\u001b[39;49m\u001b[43mload\u001b[49m\u001b[43m(\u001b[49m\u001b[43m)\u001b[49m\n\u001b[0;32m   1174\u001b[0m torch\u001b[38;5;241m.\u001b[39m_utils\u001b[38;5;241m.\u001b[39m_validate_loaded_sparse_tensors()\n\u001b[0;32m   1176\u001b[0m \u001b[38;5;28;01mreturn\u001b[39;00m result\n",
      "File \u001b[1;32mC:\\Program Files\\anaconda3\\envs\\usc_csci_544\\lib\\site-packages\\torch\\serialization.py:1159\u001b[0m, in \u001b[0;36m_load.<locals>.UnpicklerWrapper.find_class\u001b[1;34m(self, mod_name, name)\u001b[0m\n\u001b[0;32m   1158\u001b[0m \u001b[38;5;28;01mdef\u001b[39;00m \u001b[38;5;21mfind_class\u001b[39m(\u001b[38;5;28mself\u001b[39m, mod_name, name):\n\u001b[1;32m-> 1159\u001b[0m     \u001b[38;5;28;01mif\u001b[39;00m \u001b[38;5;28;43mtype\u001b[39;49m\u001b[43m(\u001b[49m\u001b[43mname\u001b[49m\u001b[43m)\u001b[49m \u001b[38;5;129;01mis\u001b[39;00m \u001b[38;5;28mstr\u001b[39m \u001b[38;5;129;01mand\u001b[39;00m \u001b[38;5;124m'\u001b[39m\u001b[38;5;124mStorage\u001b[39m\u001b[38;5;124m'\u001b[39m \u001b[38;5;129;01min\u001b[39;00m name:\n\u001b[0;32m   1160\u001b[0m         \u001b[38;5;28;01mtry\u001b[39;00m:\n\u001b[0;32m   1161\u001b[0m             \u001b[38;5;28;01mreturn\u001b[39;00m StorageType(name)\n",
      "\u001b[1;31mKeyboardInterrupt\u001b[0m: "
     ]
    }
   ],
   "source": [
    "start_time = time.time()\n",
    "gc.collect()\n",
    "torch.cuda.empty_cache()\n",
    "# model_path = './models/' + config['file_prefix'] + '_' + params['attention_method'] + '_' + str(config['num_epochs']-1) + '.pt'\n",
    "# for model_name in ['vi_to_en_BPE_complete_softmax_3.pt']:\n",
    "for model_name in ['vi_to_en_complete_softmax_3.pt', 'vi_to_en_complete_rela_3.pt', 'vi_to_en_complete_sparsemax_3.pt']:\n",
    "    model_path = './models/'+ model_name\n",
    "    start_time = time.time()\n",
    "    gc.collect()\n",
    "    torch.cuda.empty_cache()\n",
    "    \n",
    "    temp = [('Hôm nay là một ngày đẹp trời', 'Today is a beautiful day')] \n",
    "\n",
    "    model_data = torch.load(model_path)\n",
    "    model, tgt_truth, tgt_pred, score, results = run_model_example(\n",
    "        False,\n",
    "        1, \n",
    "        0,\n",
    "        model_data['train_iter'],\n",
    "        model_data['val_iter'],\n",
    "        temp,\n",
    "#         model_data['test_iter'],\n",
    "        model_data['vocab_src'],\n",
    "        model_data['vocab_tgt'],\n",
    "        model_data['tokenizer_src'],\n",
    "        model_data['tokenizer_tgt'],\n",
    "        model_data['config'],\n",
    "        model_data['params'],\n",
    "        model_path\n",
    "    )\n",
    "\n",
    "    elapsed_time = round((time.time()-start_time)/60, 2)\n",
    "    print('Completion Time:', elapsed_time)\n",
    "    print('Score:', score)\n",
    "    \n",
    "    \n",
    "    data = {\n",
    "        \"tgt_truth\": tgt_truth,\n",
    "        \"tgt_pred\": tgt_pred,\n",
    "        \"score\": score,\n",
    "        \"results\": results,\n",
    "        \"elapsed_time\": elapsed_time\n",
    "    }\n",
    "    \n",
    "    print(model_name)\n",
    "    print(data['tgt_truth'])\n",
    "    print(data['tgt_pred'])\n",
    "    \n",
    "#     metric_path = './metrics_test/' + model_name.replace('.pt','') + '_metrics' + '.pt'\n",
    "#     torch.save(data, metric_path)\n",
    "    \n",
    "    start_time = time.time()"
   ]
  },
  {
   "cell_type": "markdown",
   "id": "2bc9facf",
   "metadata": {
    "id": "0ZkkNTKLTsqO"
   },
   "source": [
    "## Attention Visualization\n",
    "\n",
    "> Even with a greedy decoder the translation looks pretty good. We\n",
    "> can further visualize it to see what is happening at each layer of\n",
    "> the attention"
   ]
  },
  {
   "cell_type": "code",
   "execution_count": 85,
   "id": "71cf9521",
   "metadata": {
    "execution": {
     "iopub.execute_input": "2022-05-02T01:25:28.753336Z",
     "iopub.status.busy": "2022-05-02T01:25:28.752415Z",
     "iopub.status.idle": "2022-05-02T01:25:28.755185Z",
     "shell.execute_reply": "2022-05-02T01:25:28.754449Z"
    }
   },
   "outputs": [],
   "source": [
    "def mtx2df(m, max_row, max_col, row_tokens, col_tokens):\n",
    "    'convert a dense matrix to a data frame with row and column indices'\n",
    "    return pd.DataFrame(\n",
    "        [\n",
    "            (\n",
    "                r,\n",
    "                c,\n",
    "                float(m[r, c]),\n",
    "                '%.3d %s' % (r, row_tokens[r] if len(row_tokens) > r else '<blank>'),\n",
    "                '%.3d %s' % (c, col_tokens[c] if len(col_tokens) > c else '<blank>'),\n",
    "            )\n",
    "            for r in range(m.shape[0])\n",
    "            for c in range(m.shape[1])\n",
    "            if r < max_row and c < max_col\n",
    "        ],\n",
    "        # if float(m[r,c]) != 0 and r < max_row and c < max_col],\n",
    "        columns=['row', 'column', 'value', 'row_token', 'col_token'],\n",
    "    )\n",
    "\n",
    "\n",
    "def attn_map(attn, layer, head, row_tokens, col_tokens, max_dim=30):\n",
    "    df = mtx2df(\n",
    "        attn[0, head].data,\n",
    "        max_dim,\n",
    "        max_dim,\n",
    "        row_tokens,\n",
    "        col_tokens,\n",
    "    )\n",
    "    return (\n",
    "        alt.Chart(data=df)\n",
    "        .mark_rect()\n",
    "        .encode(\n",
    "            x=alt.X('col_token', axis=alt.Axis(title='')),\n",
    "            y=alt.Y('row_token', axis=alt.Axis(title='')),\n",
    "            color=alt.Color('value', scale=alt.Scale(scheme='lightgreyteal')),\n",
    "            \n",
    "            \n",
    "            tooltip=['row', 'column', 'value', 'row_token', 'col_token'],\n",
    "        )\n",
    "        .properties(height=400, width=400)\n",
    "        .interactive()\n",
    "    )"
   ]
  },
  {
   "cell_type": "code",
   "execution_count": 86,
   "id": "491ee822",
   "metadata": {
    "execution": {
     "iopub.execute_input": "2022-05-02T01:25:28.763849Z",
     "iopub.status.busy": "2022-05-02T01:25:28.762928Z",
     "iopub.status.idle": "2022-05-02T01:25:28.766114Z",
     "shell.execute_reply": "2022-05-02T01:25:28.765381Z"
    },
    "tags": []
   },
   "outputs": [],
   "source": [
    "def get_encoder(model, layer):\n",
    "    return model.encoder.layers[layer].self_attn.attn\n",
    "\n",
    "\n",
    "def get_decoder_self(model, layer):\n",
    "    return model.decoder.layers[layer].self_attn.attn\n",
    "\n",
    "\n",
    "def get_decoder_src(model, layer):\n",
    "    return model.decoder.layers[layer].src_attn.attn\n",
    "\n",
    "\n",
    "def visualize_layer(model, layer, getter_fn, ntokens, row_tokens, col_tokens):\n",
    "    # ntokens = last_example[0].ntokens\n",
    "    attn = getter_fn(model, layer)\n",
    "    n_heads = attn.shape[1]\n",
    "    charts = [\n",
    "        attn_map(\n",
    "            attn,\n",
    "            0,\n",
    "            h,\n",
    "            row_tokens=row_tokens,\n",
    "            col_tokens=col_tokens,\n",
    "            max_dim=ntokens,\n",
    "        )\n",
    "        for h in range(n_heads)\n",
    "    ]\n",
    "    assert n_heads == 8\n",
    "    return alt.vconcat(\n",
    "        charts[0]\n",
    "        # | charts[1]\n",
    "        | charts[2]\n",
    "        # | charts[3]\n",
    "        | charts[4]\n",
    "        # | charts[5]\n",
    "        | charts[6]\n",
    "        # | charts[7]\n",
    "        # layer + 1 due to 0-indexing\n",
    "    ).properties(title='Layer %d' % (layer + 1))"
   ]
  },
  {
   "cell_type": "markdown",
   "id": "9a5de750",
   "metadata": {},
   "source": [
    "## Encoder Self Attention"
   ]
  },
  {
   "cell_type": "code",
   "execution_count": 98,
   "id": "44d49e7f",
   "metadata": {},
   "outputs": [],
   "source": [
    "# ['vi_to_en_complete_softmax_3.pt', 'vi_to_en_complete_rela_3.pt', 'vi_to_en_complete_sparsemax_3.pt']"
   ]
  },
  {
   "cell_type": "code",
   "execution_count": 107,
   "id": "ad6f1a5c",
   "metadata": {
    "execution": {
     "iopub.execute_input": "2022-05-02T01:25:28.779028Z",
     "iopub.status.busy": "2022-05-02T01:25:28.772162Z",
     "iopub.status.idle": "2022-05-02T01:25:41.856359Z",
     "shell.execute_reply": "2022-05-02T01:25:41.856614Z"
    },
    "tags": []
   },
   "outputs": [
    {
     "name": "stdout",
     "output_type": "stream",
     "text": [
      "\n",
      "Complete.\n"
     ]
    },
    {
     "data": {
      "text/html": [
       "\n",
       "<div id=\"altair-viz-52d6238b5462473b98da829df3144451\"></div>\n",
       "<script type=\"text/javascript\">\n",
       "  var VEGA_DEBUG = (typeof VEGA_DEBUG == \"undefined\") ? {} : VEGA_DEBUG;\n",
       "  (function(spec, embedOpt){\n",
       "    let outputDiv = document.currentScript.previousElementSibling;\n",
       "    if (outputDiv.id !== \"altair-viz-52d6238b5462473b98da829df3144451\") {\n",
       "      outputDiv = document.getElementById(\"altair-viz-52d6238b5462473b98da829df3144451\");\n",
       "    }\n",
       "    const paths = {\n",
       "      \"vega\": \"https://cdn.jsdelivr.net/npm//vega@5?noext\",\n",
       "      \"vega-lib\": \"https://cdn.jsdelivr.net/npm//vega-lib?noext\",\n",
       "      \"vega-lite\": \"https://cdn.jsdelivr.net/npm//vega-lite@4.17.0?noext\",\n",
       "      \"vega-embed\": \"https://cdn.jsdelivr.net/npm//vega-embed@6?noext\",\n",
       "    };\n",
       "\n",
       "    function maybeLoadScript(lib, version) {\n",
       "      var key = `${lib.replace(\"-\", \"\")}_version`;\n",
       "      return (VEGA_DEBUG[key] == version) ?\n",
       "        Promise.resolve(paths[lib]) :\n",
       "        new Promise(function(resolve, reject) {\n",
       "          var s = document.createElement('script');\n",
       "          document.getElementsByTagName(\"head\")[0].appendChild(s);\n",
       "          s.async = true;\n",
       "          s.onload = () => {\n",
       "            VEGA_DEBUG[key] = version;\n",
       "            return resolve(paths[lib]);\n",
       "          };\n",
       "          s.onerror = () => reject(`Error loading script: ${paths[lib]}`);\n",
       "          s.src = paths[lib];\n",
       "        });\n",
       "    }\n",
       "\n",
       "    function showError(err) {\n",
       "      outputDiv.innerHTML = `<div class=\"error\" style=\"color:red;\">${err}</div>`;\n",
       "      throw err;\n",
       "    }\n",
       "\n",
       "    function displayChart(vegaEmbed) {\n",
       "      vegaEmbed(outputDiv, spec, embedOpt)\n",
       "        .catch(err => showError(`Javascript Error: ${err.message}<br>This usually means there's a typo in your chart specification. See the javascript console for the full traceback.`));\n",
       "    }\n",
       "\n",
       "    if(typeof define === \"function\" && define.amd) {\n",
       "      requirejs.config({paths});\n",
       "      require([\"vega-embed\"], displayChart, err => showError(`Error loading script: ${err.message}`));\n",
       "    } else {\n",
       "      maybeLoadScript(\"vega\", \"5\")\n",
       "        .then(() => maybeLoadScript(\"vega-lite\", \"4.17.0\"))\n",
       "        .then(() => maybeLoadScript(\"vega-embed\", \"6\"))\n",
       "        .catch(showError)\n",
       "        .then(() => displayChart(vegaEmbed));\n",
       "    }\n",
       "  })({\"config\": {\"view\": {\"continuousWidth\": 400, \"continuousHeight\": 300}}, \"hconcat\": [{\"vconcat\": [{\"hconcat\": [{\"data\": {\"name\": \"data-51b08e24657f1e6c44c19e9614c9c9e3\"}, \"mark\": \"rect\", \"encoding\": {\"color\": {\"field\": \"value\", \"scale\": {\"scheme\": \"lightgreyteal\"}, \"type\": \"quantitative\"}, \"tooltip\": [{\"field\": \"row\", \"type\": \"quantitative\"}, {\"field\": \"column\", \"type\": \"quantitative\"}, {\"field\": \"value\", \"type\": \"quantitative\"}, {\"field\": \"row_token\", \"type\": \"nominal\"}, {\"field\": \"col_token\", \"type\": \"nominal\"}], \"x\": {\"axis\": {\"title\": \"\"}, \"field\": \"col_token\", \"type\": \"nominal\"}, \"y\": {\"axis\": {\"title\": \"\"}, \"field\": \"row_token\", \"type\": \"nominal\"}}, \"height\": 400, \"selection\": {\"selector769\": {\"type\": \"interval\", \"bind\": \"scales\", \"encodings\": [\"x\", \"y\"]}}, \"width\": 400}, {\"data\": {\"name\": \"data-688aa56aac467348ba0677706fc414f1\"}, \"mark\": \"rect\", \"encoding\": {\"color\": {\"field\": \"value\", \"scale\": {\"scheme\": \"lightgreyteal\"}, \"type\": \"quantitative\"}, \"tooltip\": [{\"field\": \"row\", \"type\": \"quantitative\"}, {\"field\": \"column\", \"type\": \"quantitative\"}, {\"field\": \"value\", \"type\": \"quantitative\"}, {\"field\": \"row_token\", \"type\": \"nominal\"}, {\"field\": \"col_token\", \"type\": \"nominal\"}], \"x\": {\"axis\": {\"title\": \"\"}, \"field\": \"col_token\", \"type\": \"nominal\"}, \"y\": {\"axis\": {\"title\": \"\"}, \"field\": \"row_token\", \"type\": \"nominal\"}}, \"height\": 400, \"selection\": {\"selector771\": {\"type\": \"interval\", \"bind\": \"scales\", \"encodings\": [\"x\", \"y\"]}}, \"width\": 400}, {\"data\": {\"name\": \"data-b374de89822d4edf4797361af194d942\"}, \"mark\": \"rect\", \"encoding\": {\"color\": {\"field\": \"value\", \"scale\": {\"scheme\": \"lightgreyteal\"}, \"type\": \"quantitative\"}, \"tooltip\": [{\"field\": \"row\", \"type\": \"quantitative\"}, {\"field\": \"column\", \"type\": \"quantitative\"}, {\"field\": \"value\", \"type\": \"quantitative\"}, {\"field\": \"row_token\", \"type\": \"nominal\"}, {\"field\": \"col_token\", \"type\": \"nominal\"}], \"x\": {\"axis\": {\"title\": \"\"}, \"field\": \"col_token\", \"type\": \"nominal\"}, \"y\": {\"axis\": {\"title\": \"\"}, \"field\": \"row_token\", \"type\": \"nominal\"}}, \"height\": 400, \"selection\": {\"selector773\": {\"type\": \"interval\", \"bind\": \"scales\", \"encodings\": [\"x\", \"y\"]}}, \"width\": 400}, {\"data\": {\"name\": \"data-32e8e4daef98ca3a746c0bdc9ace8f05\"}, \"mark\": \"rect\", \"encoding\": {\"color\": {\"field\": \"value\", \"scale\": {\"scheme\": \"lightgreyteal\"}, \"type\": \"quantitative\"}, \"tooltip\": [{\"field\": \"row\", \"type\": \"quantitative\"}, {\"field\": \"column\", \"type\": \"quantitative\"}, {\"field\": \"value\", \"type\": \"quantitative\"}, {\"field\": \"row_token\", \"type\": \"nominal\"}, {\"field\": \"col_token\", \"type\": \"nominal\"}], \"x\": {\"axis\": {\"title\": \"\"}, \"field\": \"col_token\", \"type\": \"nominal\"}, \"y\": {\"axis\": {\"title\": \"\"}, \"field\": \"row_token\", \"type\": \"nominal\"}}, \"height\": 400, \"selection\": {\"selector775\": {\"type\": \"interval\", \"bind\": \"scales\", \"encodings\": [\"x\", \"y\"]}}, \"width\": 400}]}, {\"vconcat\": [{\"hconcat\": [{\"data\": {\"name\": \"data-19edba75dfe69a067757ff32c740dee1\"}, \"mark\": \"rect\", \"encoding\": {\"color\": {\"field\": \"value\", \"scale\": {\"scheme\": \"lightgreyteal\"}, \"type\": \"quantitative\"}, \"tooltip\": [{\"field\": \"row\", \"type\": \"quantitative\"}, {\"field\": \"column\", \"type\": \"quantitative\"}, {\"field\": \"value\", \"type\": \"quantitative\"}, {\"field\": \"row_token\", \"type\": \"nominal\"}, {\"field\": \"col_token\", \"type\": \"nominal\"}], \"x\": {\"axis\": {\"title\": \"\"}, \"field\": \"col_token\", \"type\": \"nominal\"}, \"y\": {\"axis\": {\"title\": \"\"}, \"field\": \"row_token\", \"type\": \"nominal\"}}, \"height\": 400, \"selection\": {\"selector777\": {\"type\": \"interval\", \"bind\": \"scales\", \"encodings\": [\"x\", \"y\"]}}, \"width\": 400}, {\"data\": {\"name\": \"data-1ba532a6abc376afe31590b902f262b4\"}, \"mark\": \"rect\", \"encoding\": {\"color\": {\"field\": \"value\", \"scale\": {\"scheme\": \"lightgreyteal\"}, \"type\": \"quantitative\"}, \"tooltip\": [{\"field\": \"row\", \"type\": \"quantitative\"}, {\"field\": \"column\", \"type\": \"quantitative\"}, {\"field\": \"value\", \"type\": \"quantitative\"}, {\"field\": \"row_token\", \"type\": \"nominal\"}, {\"field\": \"col_token\", \"type\": \"nominal\"}], \"x\": {\"axis\": {\"title\": \"\"}, \"field\": \"col_token\", \"type\": \"nominal\"}, \"y\": {\"axis\": {\"title\": \"\"}, \"field\": \"row_token\", \"type\": \"nominal\"}}, \"height\": 400, \"selection\": {\"selector779\": {\"type\": \"interval\", \"bind\": \"scales\", \"encodings\": [\"x\", \"y\"]}}, \"width\": 400}, {\"data\": {\"name\": \"data-1ad0f20831ba6890fc174f4eb52570e1\"}, \"mark\": \"rect\", \"encoding\": {\"color\": {\"field\": \"value\", \"scale\": {\"scheme\": \"lightgreyteal\"}, \"type\": \"quantitative\"}, \"tooltip\": [{\"field\": \"row\", \"type\": \"quantitative\"}, {\"field\": \"column\", \"type\": \"quantitative\"}, {\"field\": \"value\", \"type\": \"quantitative\"}, {\"field\": \"row_token\", \"type\": \"nominal\"}, {\"field\": \"col_token\", \"type\": \"nominal\"}], \"x\": {\"axis\": {\"title\": \"\"}, \"field\": \"col_token\", \"type\": \"nominal\"}, \"y\": {\"axis\": {\"title\": \"\"}, \"field\": \"row_token\", \"type\": \"nominal\"}}, \"height\": 400, \"selection\": {\"selector781\": {\"type\": \"interval\", \"bind\": \"scales\", \"encodings\": [\"x\", \"y\"]}}, \"width\": 400}, {\"data\": {\"name\": \"data-d0abe1196b97b5a9cbd9a80f8475a964\"}, \"mark\": \"rect\", \"encoding\": {\"color\": {\"field\": \"value\", \"scale\": {\"scheme\": \"lightgreyteal\"}, \"type\": \"quantitative\"}, \"tooltip\": [{\"field\": \"row\", \"type\": \"quantitative\"}, {\"field\": \"column\", \"type\": \"quantitative\"}, {\"field\": \"value\", \"type\": \"quantitative\"}, {\"field\": \"row_token\", \"type\": \"nominal\"}, {\"field\": \"col_token\", \"type\": \"nominal\"}], \"x\": {\"axis\": {\"title\": \"\"}, \"field\": \"col_token\", \"type\": \"nominal\"}, \"y\": {\"axis\": {\"title\": \"\"}, \"field\": \"row_token\", \"type\": \"nominal\"}}, \"height\": 400, \"selection\": {\"selector783\": {\"type\": \"interval\", \"bind\": \"scales\", \"encodings\": [\"x\", \"y\"]}}, \"width\": 400}]}], \"title\": \"Layer 2\"}, {\"vconcat\": [{\"hconcat\": [{\"data\": {\"name\": \"data-fc9120d6b90480ce2e5b1cd01bf7d239\"}, \"mark\": \"rect\", \"encoding\": {\"color\": {\"field\": \"value\", \"scale\": {\"scheme\": \"lightgreyteal\"}, \"type\": \"quantitative\"}, \"tooltip\": [{\"field\": \"row\", \"type\": \"quantitative\"}, {\"field\": \"column\", \"type\": \"quantitative\"}, {\"field\": \"value\", \"type\": \"quantitative\"}, {\"field\": \"row_token\", \"type\": \"nominal\"}, {\"field\": \"col_token\", \"type\": \"nominal\"}], \"x\": {\"axis\": {\"title\": \"\"}, \"field\": \"col_token\", \"type\": \"nominal\"}, \"y\": {\"axis\": {\"title\": \"\"}, \"field\": \"row_token\", \"type\": \"nominal\"}}, \"height\": 400, \"selection\": {\"selector785\": {\"type\": \"interval\", \"bind\": \"scales\", \"encodings\": [\"x\", \"y\"]}}, \"width\": 400}, {\"data\": {\"name\": \"data-80d5a473e67ed306625547d65f4380ee\"}, \"mark\": \"rect\", \"encoding\": {\"color\": {\"field\": \"value\", \"scale\": {\"scheme\": \"lightgreyteal\"}, \"type\": \"quantitative\"}, \"tooltip\": [{\"field\": \"row\", \"type\": \"quantitative\"}, {\"field\": \"column\", \"type\": \"quantitative\"}, {\"field\": \"value\", \"type\": \"quantitative\"}, {\"field\": \"row_token\", \"type\": \"nominal\"}, {\"field\": \"col_token\", \"type\": \"nominal\"}], \"x\": {\"axis\": {\"title\": \"\"}, \"field\": \"col_token\", \"type\": \"nominal\"}, \"y\": {\"axis\": {\"title\": \"\"}, \"field\": \"row_token\", \"type\": \"nominal\"}}, \"height\": 400, \"selection\": {\"selector787\": {\"type\": \"interval\", \"bind\": \"scales\", \"encodings\": [\"x\", \"y\"]}}, \"width\": 400}, {\"data\": {\"name\": \"data-f65ee8e8df5a98c4b8e1ee8c77a668e2\"}, \"mark\": \"rect\", \"encoding\": {\"color\": {\"field\": \"value\", \"scale\": {\"scheme\": \"lightgreyteal\"}, \"type\": \"quantitative\"}, \"tooltip\": [{\"field\": \"row\", \"type\": \"quantitative\"}, {\"field\": \"column\", \"type\": \"quantitative\"}, {\"field\": \"value\", \"type\": \"quantitative\"}, {\"field\": \"row_token\", \"type\": \"nominal\"}, {\"field\": \"col_token\", \"type\": \"nominal\"}], \"x\": {\"axis\": {\"title\": \"\"}, \"field\": \"col_token\", \"type\": \"nominal\"}, \"y\": {\"axis\": {\"title\": \"\"}, \"field\": \"row_token\", \"type\": \"nominal\"}}, \"height\": 400, \"selection\": {\"selector789\": {\"type\": \"interval\", \"bind\": \"scales\", \"encodings\": [\"x\", \"y\"]}}, \"width\": 400}, {\"data\": {\"name\": \"data-638e3f8a4a61e82c12432172bd691660\"}, \"mark\": \"rect\", \"encoding\": {\"color\": {\"field\": \"value\", \"scale\": {\"scheme\": \"lightgreyteal\"}, \"type\": \"quantitative\"}, \"tooltip\": [{\"field\": \"row\", \"type\": \"quantitative\"}, {\"field\": \"column\", \"type\": \"quantitative\"}, {\"field\": \"value\", \"type\": \"quantitative\"}, {\"field\": \"row_token\", \"type\": \"nominal\"}, {\"field\": \"col_token\", \"type\": \"nominal\"}], \"x\": {\"axis\": {\"title\": \"\"}, \"field\": \"col_token\", \"type\": \"nominal\"}, \"y\": {\"axis\": {\"title\": \"\"}, \"field\": \"row_token\", \"type\": \"nominal\"}}, \"height\": 400, \"selection\": {\"selector791\": {\"type\": \"interval\", \"bind\": \"scales\", \"encodings\": [\"x\", \"y\"]}}, \"width\": 400}]}], \"title\": \"Layer 3\"}, {\"vconcat\": [{\"hconcat\": [{\"data\": {\"name\": \"data-5859b2107ba61c691bf7c9ff23892a23\"}, \"mark\": \"rect\", \"encoding\": {\"color\": {\"field\": \"value\", \"scale\": {\"scheme\": \"lightgreyteal\"}, \"type\": \"quantitative\"}, \"tooltip\": [{\"field\": \"row\", \"type\": \"quantitative\"}, {\"field\": \"column\", \"type\": \"quantitative\"}, {\"field\": \"value\", \"type\": \"quantitative\"}, {\"field\": \"row_token\", \"type\": \"nominal\"}, {\"field\": \"col_token\", \"type\": \"nominal\"}], \"x\": {\"axis\": {\"title\": \"\"}, \"field\": \"col_token\", \"type\": \"nominal\"}, \"y\": {\"axis\": {\"title\": \"\"}, \"field\": \"row_token\", \"type\": \"nominal\"}}, \"height\": 400, \"selection\": {\"selector793\": {\"type\": \"interval\", \"bind\": \"scales\", \"encodings\": [\"x\", \"y\"]}}, \"width\": 400}, {\"data\": {\"name\": \"data-d5307fb92c97c80b79cda0157b281baf\"}, \"mark\": \"rect\", \"encoding\": {\"color\": {\"field\": \"value\", \"scale\": {\"scheme\": \"lightgreyteal\"}, \"type\": \"quantitative\"}, \"tooltip\": [{\"field\": \"row\", \"type\": \"quantitative\"}, {\"field\": \"column\", \"type\": \"quantitative\"}, {\"field\": \"value\", \"type\": \"quantitative\"}, {\"field\": \"row_token\", \"type\": \"nominal\"}, {\"field\": \"col_token\", \"type\": \"nominal\"}], \"x\": {\"axis\": {\"title\": \"\"}, \"field\": \"col_token\", \"type\": \"nominal\"}, \"y\": {\"axis\": {\"title\": \"\"}, \"field\": \"row_token\", \"type\": \"nominal\"}}, \"height\": 400, \"selection\": {\"selector795\": {\"type\": \"interval\", \"bind\": \"scales\", \"encodings\": [\"x\", \"y\"]}}, \"width\": 400}, {\"data\": {\"name\": \"data-6f9a38da35258efe8efa399de8d2027b\"}, \"mark\": \"rect\", \"encoding\": {\"color\": {\"field\": \"value\", \"scale\": {\"scheme\": \"lightgreyteal\"}, \"type\": \"quantitative\"}, \"tooltip\": [{\"field\": \"row\", \"type\": \"quantitative\"}, {\"field\": \"column\", \"type\": \"quantitative\"}, {\"field\": \"value\", \"type\": \"quantitative\"}, {\"field\": \"row_token\", \"type\": \"nominal\"}, {\"field\": \"col_token\", \"type\": \"nominal\"}], \"x\": {\"axis\": {\"title\": \"\"}, \"field\": \"col_token\", \"type\": \"nominal\"}, \"y\": {\"axis\": {\"title\": \"\"}, \"field\": \"row_token\", \"type\": \"nominal\"}}, \"height\": 400, \"selection\": {\"selector797\": {\"type\": \"interval\", \"bind\": \"scales\", \"encodings\": [\"x\", \"y\"]}}, \"width\": 400}, {\"data\": {\"name\": \"data-f6070ee4b7b3908c46b7c0fc486fe8f3\"}, \"mark\": \"rect\", \"encoding\": {\"color\": {\"field\": \"value\", \"scale\": {\"scheme\": \"lightgreyteal\"}, \"type\": \"quantitative\"}, \"tooltip\": [{\"field\": \"row\", \"type\": \"quantitative\"}, {\"field\": \"column\", \"type\": \"quantitative\"}, {\"field\": \"value\", \"type\": \"quantitative\"}, {\"field\": \"row_token\", \"type\": \"nominal\"}, {\"field\": \"col_token\", \"type\": \"nominal\"}], \"x\": {\"axis\": {\"title\": \"\"}, \"field\": \"col_token\", \"type\": \"nominal\"}, \"y\": {\"axis\": {\"title\": \"\"}, \"field\": \"row_token\", \"type\": \"nominal\"}}, \"height\": 400, \"selection\": {\"selector799\": {\"type\": \"interval\", \"bind\": \"scales\", \"encodings\": [\"x\", \"y\"]}}, \"width\": 400}]}], \"title\": \"Layer 4\"}, {\"vconcat\": [{\"hconcat\": [{\"data\": {\"name\": \"data-bb80ea561cb619daa7cb5da805cee4d0\"}, \"mark\": \"rect\", \"encoding\": {\"color\": {\"field\": \"value\", \"scale\": {\"scheme\": \"lightgreyteal\"}, \"type\": \"quantitative\"}, \"tooltip\": [{\"field\": \"row\", \"type\": \"quantitative\"}, {\"field\": \"column\", \"type\": \"quantitative\"}, {\"field\": \"value\", \"type\": \"quantitative\"}, {\"field\": \"row_token\", \"type\": \"nominal\"}, {\"field\": \"col_token\", \"type\": \"nominal\"}], \"x\": {\"axis\": {\"title\": \"\"}, \"field\": \"col_token\", \"type\": \"nominal\"}, \"y\": {\"axis\": {\"title\": \"\"}, \"field\": \"row_token\", \"type\": \"nominal\"}}, \"height\": 400, \"selection\": {\"selector801\": {\"type\": \"interval\", \"bind\": \"scales\", \"encodings\": [\"x\", \"y\"]}}, \"width\": 400}, {\"data\": {\"name\": \"data-b2df8f9258b4e488dafaabc5cb6d17f6\"}, \"mark\": \"rect\", \"encoding\": {\"color\": {\"field\": \"value\", \"scale\": {\"scheme\": \"lightgreyteal\"}, \"type\": \"quantitative\"}, \"tooltip\": [{\"field\": \"row\", \"type\": \"quantitative\"}, {\"field\": \"column\", \"type\": \"quantitative\"}, {\"field\": \"value\", \"type\": \"quantitative\"}, {\"field\": \"row_token\", \"type\": \"nominal\"}, {\"field\": \"col_token\", \"type\": \"nominal\"}], \"x\": {\"axis\": {\"title\": \"\"}, \"field\": \"col_token\", \"type\": \"nominal\"}, \"y\": {\"axis\": {\"title\": \"\"}, \"field\": \"row_token\", \"type\": \"nominal\"}}, \"height\": 400, \"selection\": {\"selector803\": {\"type\": \"interval\", \"bind\": \"scales\", \"encodings\": [\"x\", \"y\"]}}, \"width\": 400}, {\"data\": {\"name\": \"data-2fe46a616fa396445ce602a5d450258c\"}, \"mark\": \"rect\", \"encoding\": {\"color\": {\"field\": \"value\", \"scale\": {\"scheme\": \"lightgreyteal\"}, \"type\": \"quantitative\"}, \"tooltip\": [{\"field\": \"row\", \"type\": \"quantitative\"}, {\"field\": \"column\", \"type\": \"quantitative\"}, {\"field\": \"value\", \"type\": \"quantitative\"}, {\"field\": \"row_token\", \"type\": \"nominal\"}, {\"field\": \"col_token\", \"type\": \"nominal\"}], \"x\": {\"axis\": {\"title\": \"\"}, \"field\": \"col_token\", \"type\": \"nominal\"}, \"y\": {\"axis\": {\"title\": \"\"}, \"field\": \"row_token\", \"type\": \"nominal\"}}, \"height\": 400, \"selection\": {\"selector805\": {\"type\": \"interval\", \"bind\": \"scales\", \"encodings\": [\"x\", \"y\"]}}, \"width\": 400}, {\"data\": {\"name\": \"data-acc8cbe36fd91a067b57d338d395ac5d\"}, \"mark\": \"rect\", \"encoding\": {\"color\": {\"field\": \"value\", \"scale\": {\"scheme\": \"lightgreyteal\"}, \"type\": \"quantitative\"}, \"tooltip\": [{\"field\": \"row\", \"type\": \"quantitative\"}, {\"field\": \"column\", \"type\": \"quantitative\"}, {\"field\": \"value\", \"type\": \"quantitative\"}, {\"field\": \"row_token\", \"type\": \"nominal\"}, {\"field\": \"col_token\", \"type\": \"nominal\"}], \"x\": {\"axis\": {\"title\": \"\"}, \"field\": \"col_token\", \"type\": \"nominal\"}, \"y\": {\"axis\": {\"title\": \"\"}, \"field\": \"row_token\", \"type\": \"nominal\"}}, \"height\": 400, \"selection\": {\"selector807\": {\"type\": \"interval\", \"bind\": \"scales\", \"encodings\": [\"x\", \"y\"]}}, \"width\": 400}]}], \"title\": \"Layer 5\"}, {\"vconcat\": [{\"hconcat\": [{\"data\": {\"name\": \"data-4590f2d24e6a2e5faa47280c123cb1d7\"}, \"mark\": \"rect\", \"encoding\": {\"color\": {\"field\": \"value\", \"scale\": {\"scheme\": \"lightgreyteal\"}, \"type\": \"quantitative\"}, \"tooltip\": [{\"field\": \"row\", \"type\": \"quantitative\"}, {\"field\": \"column\", \"type\": \"quantitative\"}, {\"field\": \"value\", \"type\": \"quantitative\"}, {\"field\": \"row_token\", \"type\": \"nominal\"}, {\"field\": \"col_token\", \"type\": \"nominal\"}], \"x\": {\"axis\": {\"title\": \"\"}, \"field\": \"col_token\", \"type\": \"nominal\"}, \"y\": {\"axis\": {\"title\": \"\"}, \"field\": \"row_token\", \"type\": \"nominal\"}}, \"height\": 400, \"selection\": {\"selector809\": {\"type\": \"interval\", \"bind\": \"scales\", \"encodings\": [\"x\", \"y\"]}}, \"width\": 400}, {\"data\": {\"name\": \"data-b9a6f7b44706cf60a26be74133412c62\"}, \"mark\": \"rect\", \"encoding\": {\"color\": {\"field\": \"value\", \"scale\": {\"scheme\": \"lightgreyteal\"}, \"type\": \"quantitative\"}, \"tooltip\": [{\"field\": \"row\", \"type\": \"quantitative\"}, {\"field\": \"column\", \"type\": \"quantitative\"}, {\"field\": \"value\", \"type\": \"quantitative\"}, {\"field\": \"row_token\", \"type\": \"nominal\"}, {\"field\": \"col_token\", \"type\": \"nominal\"}], \"x\": {\"axis\": {\"title\": \"\"}, \"field\": \"col_token\", \"type\": \"nominal\"}, \"y\": {\"axis\": {\"title\": \"\"}, \"field\": \"row_token\", \"type\": \"nominal\"}}, \"height\": 400, \"selection\": {\"selector811\": {\"type\": \"interval\", \"bind\": \"scales\", \"encodings\": [\"x\", \"y\"]}}, \"width\": 400}, {\"data\": {\"name\": \"data-b3d9ff462ab3be82809522bbaf44bb58\"}, \"mark\": \"rect\", \"encoding\": {\"color\": {\"field\": \"value\", \"scale\": {\"scheme\": \"lightgreyteal\"}, \"type\": \"quantitative\"}, \"tooltip\": [{\"field\": \"row\", \"type\": \"quantitative\"}, {\"field\": \"column\", \"type\": \"quantitative\"}, {\"field\": \"value\", \"type\": \"quantitative\"}, {\"field\": \"row_token\", \"type\": \"nominal\"}, {\"field\": \"col_token\", \"type\": \"nominal\"}], \"x\": {\"axis\": {\"title\": \"\"}, \"field\": \"col_token\", \"type\": \"nominal\"}, \"y\": {\"axis\": {\"title\": \"\"}, \"field\": \"row_token\", \"type\": \"nominal\"}}, \"height\": 400, \"selection\": {\"selector813\": {\"type\": \"interval\", \"bind\": \"scales\", \"encodings\": [\"x\", \"y\"]}}, \"width\": 400}, {\"data\": {\"name\": \"data-8ac43b60b5b9bc27ca1f1a905abe30bf\"}, \"mark\": \"rect\", \"encoding\": {\"color\": {\"field\": \"value\", \"scale\": {\"scheme\": \"lightgreyteal\"}, \"type\": \"quantitative\"}, \"tooltip\": [{\"field\": \"row\", \"type\": \"quantitative\"}, {\"field\": \"column\", \"type\": \"quantitative\"}, {\"field\": \"value\", \"type\": \"quantitative\"}, {\"field\": \"row_token\", \"type\": \"nominal\"}, {\"field\": \"col_token\", \"type\": \"nominal\"}], \"x\": {\"axis\": {\"title\": \"\"}, \"field\": \"col_token\", \"type\": \"nominal\"}, \"y\": {\"axis\": {\"title\": \"\"}, \"field\": \"row_token\", \"type\": \"nominal\"}}, \"height\": 400, \"selection\": {\"selector815\": {\"type\": \"interval\", \"bind\": \"scales\", \"encodings\": [\"x\", \"y\"]}}, \"width\": 400}]}], \"title\": \"Layer 6\"}], \"title\": \"Layer 1\"}], \"$schema\": \"https://vega.github.io/schema/vega-lite/v4.17.0.json\", \"datasets\": {\"data-51b08e24657f1e6c44c19e9614c9c9e3\": [{\"row\": 0, \"column\": 0, \"value\": 0.0, \"row_token\": \"000 <s>\", \"col_token\": \"000 <s>\"}, {\"row\": 0, \"column\": 1, \"value\": 0.0, \"row_token\": \"000 <s>\", \"col_token\": \"001 H\\u00f4m\"}, {\"row\": 0, \"column\": 2, \"value\": 0.00826482567936182, \"row_token\": \"000 <s>\", \"col_token\": \"002 nay\"}, {\"row\": 0, \"column\": 3, \"value\": 6.200788974761963, \"row_token\": \"000 <s>\", \"col_token\": \"003 l\\u00e0\"}, {\"row\": 0, \"column\": 4, \"value\": 26.732969284057617, \"row_token\": \"000 <s>\", \"col_token\": \"004 m\\u1ed9t\"}, {\"row\": 0, \"column\": 5, \"value\": 0.0, \"row_token\": \"000 <s>\", \"col_token\": \"005 ng\\u00e0y\"}, {\"row\": 0, \"column\": 6, \"value\": 31.813560485839844, \"row_token\": \"000 <s>\", \"col_token\": \"006 \\u0111\\u1eb9p\"}, {\"row\": 0, \"column\": 7, \"value\": 26.60575294494629, \"row_token\": \"000 <s>\", \"col_token\": \"007 tr\\u1eddi\"}, {\"row\": 0, \"column\": 8, \"value\": 11.133182525634766, \"row_token\": \"000 <s>\", \"col_token\": \"008 </s>\"}, {\"row\": 1, \"column\": 0, \"value\": 0.0, \"row_token\": \"001 H\\u00f4m\", \"col_token\": \"000 <s>\"}, {\"row\": 1, \"column\": 1, \"value\": 0.0, \"row_token\": \"001 H\\u00f4m\", \"col_token\": \"001 H\\u00f4m\"}, {\"row\": 1, \"column\": 2, \"value\": 5.999933242797852, \"row_token\": \"001 H\\u00f4m\", \"col_token\": \"002 nay\"}, {\"row\": 1, \"column\": 3, \"value\": 5.186672687530518, \"row_token\": \"001 H\\u00f4m\", \"col_token\": \"003 l\\u00e0\"}, {\"row\": 1, \"column\": 4, \"value\": 15.711047172546387, \"row_token\": \"001 H\\u00f4m\", \"col_token\": \"004 m\\u1ed9t\"}, {\"row\": 1, \"column\": 5, \"value\": 1.5834205150604248, \"row_token\": \"001 H\\u00f4m\", \"col_token\": \"005 ng\\u00e0y\"}, {\"row\": 1, \"column\": 6, \"value\": 13.510303497314453, \"row_token\": \"001 H\\u00f4m\", \"col_token\": \"006 \\u0111\\u1eb9p\"}, {\"row\": 1, \"column\": 7, \"value\": 12.725111961364746, \"row_token\": \"001 H\\u00f4m\", \"col_token\": \"007 tr\\u1eddi\"}, {\"row\": 1, \"column\": 8, \"value\": 3.0218937397003174, \"row_token\": \"001 H\\u00f4m\", \"col_token\": \"008 </s>\"}, {\"row\": 2, \"column\": 0, \"value\": 0.7689907550811768, \"row_token\": \"002 nay\", \"col_token\": \"000 <s>\"}, {\"row\": 2, \"column\": 1, \"value\": 0.09607359021902084, \"row_token\": \"002 nay\", \"col_token\": \"001 H\\u00f4m\"}, {\"row\": 2, \"column\": 2, \"value\": 4.751766681671143, \"row_token\": \"002 nay\", \"col_token\": \"002 nay\"}, {\"row\": 2, \"column\": 3, \"value\": 4.67924690246582, \"row_token\": \"002 nay\", \"col_token\": \"003 l\\u00e0\"}, {\"row\": 2, \"column\": 4, \"value\": 11.400957107543945, \"row_token\": \"002 nay\", \"col_token\": \"004 m\\u1ed9t\"}, {\"row\": 2, \"column\": 5, \"value\": 0.0, \"row_token\": \"002 nay\", \"col_token\": \"005 ng\\u00e0y\"}, {\"row\": 2, \"column\": 6, \"value\": 10.98411750793457, \"row_token\": \"002 nay\", \"col_token\": \"006 \\u0111\\u1eb9p\"}, {\"row\": 2, \"column\": 7, \"value\": 8.081280708312988, \"row_token\": \"002 nay\", \"col_token\": \"007 tr\\u1eddi\"}, {\"row\": 2, \"column\": 8, \"value\": 1.5539807081222534, \"row_token\": \"002 nay\", \"col_token\": \"008 </s>\"}, {\"row\": 3, \"column\": 0, \"value\": 0.0, \"row_token\": \"003 l\\u00e0\", \"col_token\": \"000 <s>\"}, {\"row\": 3, \"column\": 1, \"value\": 0.0, \"row_token\": \"003 l\\u00e0\", \"col_token\": \"001 H\\u00f4m\"}, {\"row\": 3, \"column\": 2, \"value\": 0.18262355029582977, \"row_token\": \"003 l\\u00e0\", \"col_token\": \"002 nay\"}, {\"row\": 3, \"column\": 3, \"value\": 0.0, \"row_token\": \"003 l\\u00e0\", \"col_token\": \"003 l\\u00e0\"}, {\"row\": 3, \"column\": 4, \"value\": 1.1685107946395874, \"row_token\": \"003 l\\u00e0\", \"col_token\": \"004 m\\u1ed9t\"}, {\"row\": 3, \"column\": 5, \"value\": 0.0, \"row_token\": \"003 l\\u00e0\", \"col_token\": \"005 ng\\u00e0y\"}, {\"row\": 3, \"column\": 6, \"value\": 7.13936710357666, \"row_token\": \"003 l\\u00e0\", \"col_token\": \"006 \\u0111\\u1eb9p\"}, {\"row\": 3, \"column\": 7, \"value\": 3.9644598960876465, \"row_token\": \"003 l\\u00e0\", \"col_token\": \"007 tr\\u1eddi\"}, {\"row\": 3, \"column\": 8, \"value\": 5.1212158203125, \"row_token\": \"003 l\\u00e0\", \"col_token\": \"008 </s>\"}, {\"row\": 4, \"column\": 0, \"value\": 0.0, \"row_token\": \"004 m\\u1ed9t\", \"col_token\": \"000 <s>\"}, {\"row\": 4, \"column\": 1, \"value\": 1.6502327919006348, \"row_token\": \"004 m\\u1ed9t\", \"col_token\": \"001 H\\u00f4m\"}, {\"row\": 4, \"column\": 2, \"value\": 2.1905643939971924, \"row_token\": \"004 m\\u1ed9t\", \"col_token\": \"002 nay\"}, {\"row\": 4, \"column\": 3, \"value\": 0.0, \"row_token\": \"004 m\\u1ed9t\", \"col_token\": \"003 l\\u00e0\"}, {\"row\": 4, \"column\": 4, \"value\": 0.0, \"row_token\": \"004 m\\u1ed9t\", \"col_token\": \"004 m\\u1ed9t\"}, {\"row\": 4, \"column\": 5, \"value\": 0.0, \"row_token\": \"004 m\\u1ed9t\", \"col_token\": \"005 ng\\u00e0y\"}, {\"row\": 4, \"column\": 6, \"value\": 0.0, \"row_token\": \"004 m\\u1ed9t\", \"col_token\": \"006 \\u0111\\u1eb9p\"}, {\"row\": 4, \"column\": 7, \"value\": 0.0, \"row_token\": \"004 m\\u1ed9t\", \"col_token\": \"007 tr\\u1eddi\"}, {\"row\": 4, \"column\": 8, \"value\": 3.346423387527466, \"row_token\": \"004 m\\u1ed9t\", \"col_token\": \"008 </s>\"}, {\"row\": 5, \"column\": 0, \"value\": 0.0, \"row_token\": \"005 ng\\u00e0y\", \"col_token\": \"000 <s>\"}, {\"row\": 5, \"column\": 1, \"value\": 0.0, \"row_token\": \"005 ng\\u00e0y\", \"col_token\": \"001 H\\u00f4m\"}, {\"row\": 5, \"column\": 2, \"value\": 6.181293964385986, \"row_token\": \"005 ng\\u00e0y\", \"col_token\": \"002 nay\"}, {\"row\": 5, \"column\": 3, \"value\": 2.7357077598571777, \"row_token\": \"005 ng\\u00e0y\", \"col_token\": \"003 l\\u00e0\"}, {\"row\": 5, \"column\": 4, \"value\": 9.479175567626953, \"row_token\": \"005 ng\\u00e0y\", \"col_token\": \"004 m\\u1ed9t\"}, {\"row\": 5, \"column\": 5, \"value\": 0.0, \"row_token\": \"005 ng\\u00e0y\", \"col_token\": \"005 ng\\u00e0y\"}, {\"row\": 5, \"column\": 6, \"value\": 10.022252082824707, \"row_token\": \"005 ng\\u00e0y\", \"col_token\": \"006 \\u0111\\u1eb9p\"}, {\"row\": 5, \"column\": 7, \"value\": 10.471229553222656, \"row_token\": \"005 ng\\u00e0y\", \"col_token\": \"007 tr\\u1eddi\"}, {\"row\": 5, \"column\": 8, \"value\": 6.053928375244141, \"row_token\": \"005 ng\\u00e0y\", \"col_token\": \"008 </s>\"}, {\"row\": 6, \"column\": 0, \"value\": 0.0, \"row_token\": \"006 \\u0111\\u1eb9p\", \"col_token\": \"000 <s>\"}, {\"row\": 6, \"column\": 1, \"value\": 4.037693500518799, \"row_token\": \"006 \\u0111\\u1eb9p\", \"col_token\": \"001 H\\u00f4m\"}, {\"row\": 6, \"column\": 2, \"value\": 1.4593126773834229, \"row_token\": \"006 \\u0111\\u1eb9p\", \"col_token\": \"002 nay\"}, {\"row\": 6, \"column\": 3, \"value\": 0.0, \"row_token\": \"006 \\u0111\\u1eb9p\", \"col_token\": \"003 l\\u00e0\"}, {\"row\": 6, \"column\": 4, \"value\": 0.0, \"row_token\": \"006 \\u0111\\u1eb9p\", \"col_token\": \"004 m\\u1ed9t\"}, {\"row\": 6, \"column\": 5, \"value\": 0.0, \"row_token\": \"006 \\u0111\\u1eb9p\", \"col_token\": \"005 ng\\u00e0y\"}, {\"row\": 6, \"column\": 6, \"value\": 0.0, \"row_token\": \"006 \\u0111\\u1eb9p\", \"col_token\": \"006 \\u0111\\u1eb9p\"}, {\"row\": 6, \"column\": 7, \"value\": 0.0, \"row_token\": \"006 \\u0111\\u1eb9p\", \"col_token\": \"007 tr\\u1eddi\"}, {\"row\": 6, \"column\": 8, \"value\": 4.237826824188232, \"row_token\": \"006 \\u0111\\u1eb9p\", \"col_token\": \"008 </s>\"}, {\"row\": 7, \"column\": 0, \"value\": 0.0, \"row_token\": \"007 tr\\u1eddi\", \"col_token\": \"000 <s>\"}, {\"row\": 7, \"column\": 1, \"value\": 0.0, \"row_token\": \"007 tr\\u1eddi\", \"col_token\": \"001 H\\u00f4m\"}, {\"row\": 7, \"column\": 2, \"value\": 2.3417985439300537, \"row_token\": \"007 tr\\u1eddi\", \"col_token\": \"002 nay\"}, {\"row\": 7, \"column\": 3, \"value\": 0.0, \"row_token\": \"007 tr\\u1eddi\", \"col_token\": \"003 l\\u00e0\"}, {\"row\": 7, \"column\": 4, \"value\": 0.0, \"row_token\": \"007 tr\\u1eddi\", \"col_token\": \"004 m\\u1ed9t\"}, {\"row\": 7, \"column\": 5, \"value\": 0.0, \"row_token\": \"007 tr\\u1eddi\", \"col_token\": \"005 ng\\u00e0y\"}, {\"row\": 7, \"column\": 6, \"value\": 0.0, \"row_token\": \"007 tr\\u1eddi\", \"col_token\": \"006 \\u0111\\u1eb9p\"}, {\"row\": 7, \"column\": 7, \"value\": 0.0, \"row_token\": \"007 tr\\u1eddi\", \"col_token\": \"007 tr\\u1eddi\"}, {\"row\": 7, \"column\": 8, \"value\": 8.969611167907715, \"row_token\": \"007 tr\\u1eddi\", \"col_token\": \"008 </s>\"}, {\"row\": 8, \"column\": 0, \"value\": 0.0, \"row_token\": \"008 </s>\", \"col_token\": \"000 <s>\"}, {\"row\": 8, \"column\": 1, \"value\": 0.0, \"row_token\": \"008 </s>\", \"col_token\": \"001 H\\u00f4m\"}, {\"row\": 8, \"column\": 2, \"value\": 0.0, \"row_token\": \"008 </s>\", \"col_token\": \"002 nay\"}, {\"row\": 8, \"column\": 3, \"value\": 0.0, \"row_token\": \"008 </s>\", \"col_token\": \"003 l\\u00e0\"}, {\"row\": 8, \"column\": 4, \"value\": 9.225358963012695, \"row_token\": \"008 </s>\", \"col_token\": \"004 m\\u1ed9t\"}, {\"row\": 8, \"column\": 5, \"value\": 0.0, \"row_token\": \"008 </s>\", \"col_token\": \"005 ng\\u00e0y\"}, {\"row\": 8, \"column\": 6, \"value\": 15.928674697875977, \"row_token\": \"008 </s>\", \"col_token\": \"006 \\u0111\\u1eb9p\"}, {\"row\": 8, \"column\": 7, \"value\": 12.672186851501465, \"row_token\": \"008 </s>\", \"col_token\": \"007 tr\\u1eddi\"}, {\"row\": 8, \"column\": 8, \"value\": 11.240473747253418, \"row_token\": \"008 </s>\", \"col_token\": \"008 </s>\"}], \"data-688aa56aac467348ba0677706fc414f1\": [{\"row\": 0, \"column\": 0, \"value\": 0.0, \"row_token\": \"000 <s>\", \"col_token\": \"000 <s>\"}, {\"row\": 0, \"column\": 1, \"value\": 0.0, \"row_token\": \"000 <s>\", \"col_token\": \"001 H\\u00f4m\"}, {\"row\": 0, \"column\": 2, \"value\": 9.399102210998535, \"row_token\": \"000 <s>\", \"col_token\": \"002 nay\"}, {\"row\": 0, \"column\": 3, \"value\": 0.0, \"row_token\": \"000 <s>\", \"col_token\": \"003 l\\u00e0\"}, {\"row\": 0, \"column\": 4, \"value\": 0.0, \"row_token\": \"000 <s>\", \"col_token\": \"004 m\\u1ed9t\"}, {\"row\": 0, \"column\": 5, \"value\": 0.0, \"row_token\": \"000 <s>\", \"col_token\": \"005 ng\\u00e0y\"}, {\"row\": 0, \"column\": 6, \"value\": 0.0, \"row_token\": \"000 <s>\", \"col_token\": \"006 \\u0111\\u1eb9p\"}, {\"row\": 0, \"column\": 7, \"value\": 0.0, \"row_token\": \"000 <s>\", \"col_token\": \"007 tr\\u1eddi\"}, {\"row\": 0, \"column\": 8, \"value\": 0.0, \"row_token\": \"000 <s>\", \"col_token\": \"008 </s>\"}, {\"row\": 1, \"column\": 0, \"value\": 18.84984588623047, \"row_token\": \"001 H\\u00f4m\", \"col_token\": \"000 <s>\"}, {\"row\": 1, \"column\": 1, \"value\": 1.07152259349823, \"row_token\": \"001 H\\u00f4m\", \"col_token\": \"001 H\\u00f4m\"}, {\"row\": 1, \"column\": 2, \"value\": 13.714057922363281, \"row_token\": \"001 H\\u00f4m\", \"col_token\": \"002 nay\"}, {\"row\": 1, \"column\": 3, \"value\": 5.127610683441162, \"row_token\": \"001 H\\u00f4m\", \"col_token\": \"003 l\\u00e0\"}, {\"row\": 1, \"column\": 4, \"value\": 2.455972671508789, \"row_token\": \"001 H\\u00f4m\", \"col_token\": \"004 m\\u1ed9t\"}, {\"row\": 1, \"column\": 5, \"value\": 2.1866791248321533, \"row_token\": \"001 H\\u00f4m\", \"col_token\": \"005 ng\\u00e0y\"}, {\"row\": 1, \"column\": 6, \"value\": 0.0, \"row_token\": \"001 H\\u00f4m\", \"col_token\": \"006 \\u0111\\u1eb9p\"}, {\"row\": 1, \"column\": 7, \"value\": 0.0, \"row_token\": \"001 H\\u00f4m\", \"col_token\": \"007 tr\\u1eddi\"}, {\"row\": 1, \"column\": 8, \"value\": 0.0, \"row_token\": \"001 H\\u00f4m\", \"col_token\": \"008 </s>\"}, {\"row\": 2, \"column\": 0, \"value\": 3.068049907684326, \"row_token\": \"002 nay\", \"col_token\": \"000 <s>\"}, {\"row\": 2, \"column\": 1, \"value\": 0.0, \"row_token\": \"002 nay\", \"col_token\": \"001 H\\u00f4m\"}, {\"row\": 2, \"column\": 2, \"value\": 7.8097147941589355, \"row_token\": \"002 nay\", \"col_token\": \"002 nay\"}, {\"row\": 2, \"column\": 3, \"value\": 0.0, \"row_token\": \"002 nay\", \"col_token\": \"003 l\\u00e0\"}, {\"row\": 2, \"column\": 4, \"value\": 0.0, \"row_token\": \"002 nay\", \"col_token\": \"004 m\\u1ed9t\"}, {\"row\": 2, \"column\": 5, \"value\": 0.0, \"row_token\": \"002 nay\", \"col_token\": \"005 ng\\u00e0y\"}, {\"row\": 2, \"column\": 6, \"value\": 0.0, \"row_token\": \"002 nay\", \"col_token\": \"006 \\u0111\\u1eb9p\"}, {\"row\": 2, \"column\": 7, \"value\": 0.0, \"row_token\": \"002 nay\", \"col_token\": \"007 tr\\u1eddi\"}, {\"row\": 2, \"column\": 8, \"value\": 0.0, \"row_token\": \"002 nay\", \"col_token\": \"008 </s>\"}, {\"row\": 3, \"column\": 0, \"value\": 11.464353561401367, \"row_token\": \"003 l\\u00e0\", \"col_token\": \"000 <s>\"}, {\"row\": 3, \"column\": 1, \"value\": 0.0, \"row_token\": \"003 l\\u00e0\", \"col_token\": \"001 H\\u00f4m\"}, {\"row\": 3, \"column\": 2, \"value\": 13.731210708618164, \"row_token\": \"003 l\\u00e0\", \"col_token\": \"002 nay\"}, {\"row\": 3, \"column\": 3, \"value\": 0.0, \"row_token\": \"003 l\\u00e0\", \"col_token\": \"003 l\\u00e0\"}, {\"row\": 3, \"column\": 4, \"value\": 0.0, \"row_token\": \"003 l\\u00e0\", \"col_token\": \"004 m\\u1ed9t\"}, {\"row\": 3, \"column\": 5, \"value\": 0.0, \"row_token\": \"003 l\\u00e0\", \"col_token\": \"005 ng\\u00e0y\"}, {\"row\": 3, \"column\": 6, \"value\": 0.0, \"row_token\": \"003 l\\u00e0\", \"col_token\": \"006 \\u0111\\u1eb9p\"}, {\"row\": 3, \"column\": 7, \"value\": 0.0, \"row_token\": \"003 l\\u00e0\", \"col_token\": \"007 tr\\u1eddi\"}, {\"row\": 3, \"column\": 8, \"value\": 0.0, \"row_token\": \"003 l\\u00e0\", \"col_token\": \"008 </s>\"}, {\"row\": 4, \"column\": 0, \"value\": 12.08705997467041, \"row_token\": \"004 m\\u1ed9t\", \"col_token\": \"000 <s>\"}, {\"row\": 4, \"column\": 1, \"value\": 0.0, \"row_token\": \"004 m\\u1ed9t\", \"col_token\": \"001 H\\u00f4m\"}, {\"row\": 4, \"column\": 2, \"value\": 8.611586570739746, \"row_token\": \"004 m\\u1ed9t\", \"col_token\": \"002 nay\"}, {\"row\": 4, \"column\": 3, \"value\": 2.339120388031006, \"row_token\": \"004 m\\u1ed9t\", \"col_token\": \"003 l\\u00e0\"}, {\"row\": 4, \"column\": 4, \"value\": 0.0, \"row_token\": \"004 m\\u1ed9t\", \"col_token\": \"004 m\\u1ed9t\"}, {\"row\": 4, \"column\": 5, \"value\": 0.6625996232032776, \"row_token\": \"004 m\\u1ed9t\", \"col_token\": \"005 ng\\u00e0y\"}, {\"row\": 4, \"column\": 6, \"value\": 0.0, \"row_token\": \"004 m\\u1ed9t\", \"col_token\": \"006 \\u0111\\u1eb9p\"}, {\"row\": 4, \"column\": 7, \"value\": 0.0, \"row_token\": \"004 m\\u1ed9t\", \"col_token\": \"007 tr\\u1eddi\"}, {\"row\": 4, \"column\": 8, \"value\": 0.09906015545129776, \"row_token\": \"004 m\\u1ed9t\", \"col_token\": \"008 </s>\"}, {\"row\": 5, \"column\": 0, \"value\": 14.501490592956543, \"row_token\": \"005 ng\\u00e0y\", \"col_token\": \"000 <s>\"}, {\"row\": 5, \"column\": 1, \"value\": 0.7413972616195679, \"row_token\": \"005 ng\\u00e0y\", \"col_token\": \"001 H\\u00f4m\"}, {\"row\": 5, \"column\": 2, \"value\": 11.372174263000488, \"row_token\": \"005 ng\\u00e0y\", \"col_token\": \"002 nay\"}, {\"row\": 5, \"column\": 3, \"value\": 8.044453620910645, \"row_token\": \"005 ng\\u00e0y\", \"col_token\": \"003 l\\u00e0\"}, {\"row\": 5, \"column\": 4, \"value\": 4.919147968292236, \"row_token\": \"005 ng\\u00e0y\", \"col_token\": \"004 m\\u1ed9t\"}, {\"row\": 5, \"column\": 5, \"value\": 0.0, \"row_token\": \"005 ng\\u00e0y\", \"col_token\": \"005 ng\\u00e0y\"}, {\"row\": 5, \"column\": 6, \"value\": 0.0, \"row_token\": \"005 ng\\u00e0y\", \"col_token\": \"006 \\u0111\\u1eb9p\"}, {\"row\": 5, \"column\": 7, \"value\": 0.0, \"row_token\": \"005 ng\\u00e0y\", \"col_token\": \"007 tr\\u1eddi\"}, {\"row\": 5, \"column\": 8, \"value\": 0.0, \"row_token\": \"005 ng\\u00e0y\", \"col_token\": \"008 </s>\"}, {\"row\": 6, \"column\": 0, \"value\": 10.645323753356934, \"row_token\": \"006 \\u0111\\u1eb9p\", \"col_token\": \"000 <s>\"}, {\"row\": 6, \"column\": 1, \"value\": 0.0, \"row_token\": \"006 \\u0111\\u1eb9p\", \"col_token\": \"001 H\\u00f4m\"}, {\"row\": 6, \"column\": 2, \"value\": 8.912805557250977, \"row_token\": \"006 \\u0111\\u1eb9p\", \"col_token\": \"002 nay\"}, {\"row\": 6, \"column\": 3, \"value\": 0.0, \"row_token\": \"006 \\u0111\\u1eb9p\", \"col_token\": \"003 l\\u00e0\"}, {\"row\": 6, \"column\": 4, \"value\": 0.0, \"row_token\": \"006 \\u0111\\u1eb9p\", \"col_token\": \"004 m\\u1ed9t\"}, {\"row\": 6, \"column\": 5, \"value\": 0.866445779800415, \"row_token\": \"006 \\u0111\\u1eb9p\", \"col_token\": \"005 ng\\u00e0y\"}, {\"row\": 6, \"column\": 6, \"value\": 0.0, \"row_token\": \"006 \\u0111\\u1eb9p\", \"col_token\": \"006 \\u0111\\u1eb9p\"}, {\"row\": 6, \"column\": 7, \"value\": 0.0, \"row_token\": \"006 \\u0111\\u1eb9p\", \"col_token\": \"007 tr\\u1eddi\"}, {\"row\": 6, \"column\": 8, \"value\": 2.9586575031280518, \"row_token\": \"006 \\u0111\\u1eb9p\", \"col_token\": \"008 </s>\"}, {\"row\": 7, \"column\": 0, \"value\": 12.536749839782715, \"row_token\": \"007 tr\\u1eddi\", \"col_token\": \"000 <s>\"}, {\"row\": 7, \"column\": 1, \"value\": 3.561547040939331, \"row_token\": \"007 tr\\u1eddi\", \"col_token\": \"001 H\\u00f4m\"}, {\"row\": 7, \"column\": 2, \"value\": 5.080254554748535, \"row_token\": \"007 tr\\u1eddi\", \"col_token\": \"002 nay\"}, {\"row\": 7, \"column\": 3, \"value\": 5.5462493896484375, \"row_token\": \"007 tr\\u1eddi\", \"col_token\": \"003 l\\u00e0\"}, {\"row\": 7, \"column\": 4, \"value\": 2.464775800704956, \"row_token\": \"007 tr\\u1eddi\", \"col_token\": \"004 m\\u1ed9t\"}, {\"row\": 7, \"column\": 5, \"value\": 5.871816158294678, \"row_token\": \"007 tr\\u1eddi\", \"col_token\": \"005 ng\\u00e0y\"}, {\"row\": 7, \"column\": 6, \"value\": 5.087491512298584, \"row_token\": \"007 tr\\u1eddi\", \"col_token\": \"006 \\u0111\\u1eb9p\"}, {\"row\": 7, \"column\": 7, \"value\": 11.403095245361328, \"row_token\": \"007 tr\\u1eddi\", \"col_token\": \"007 tr\\u1eddi\"}, {\"row\": 7, \"column\": 8, \"value\": 6.4078803062438965, \"row_token\": \"007 tr\\u1eddi\", \"col_token\": \"008 </s>\"}, {\"row\": 8, \"column\": 0, \"value\": 1.0857328176498413, \"row_token\": \"008 </s>\", \"col_token\": \"000 <s>\"}, {\"row\": 8, \"column\": 1, \"value\": 0.0, \"row_token\": \"008 </s>\", \"col_token\": \"001 H\\u00f4m\"}, {\"row\": 8, \"column\": 2, \"value\": 9.20114517211914, \"row_token\": \"008 </s>\", \"col_token\": \"002 nay\"}, {\"row\": 8, \"column\": 3, \"value\": 0.0, \"row_token\": \"008 </s>\", \"col_token\": \"003 l\\u00e0\"}, {\"row\": 8, \"column\": 4, \"value\": 0.0, \"row_token\": \"008 </s>\", \"col_token\": \"004 m\\u1ed9t\"}, {\"row\": 8, \"column\": 5, \"value\": 0.0, \"row_token\": \"008 </s>\", \"col_token\": \"005 ng\\u00e0y\"}, {\"row\": 8, \"column\": 6, \"value\": 0.0, \"row_token\": \"008 </s>\", \"col_token\": \"006 \\u0111\\u1eb9p\"}, {\"row\": 8, \"column\": 7, \"value\": 0.0, \"row_token\": \"008 </s>\", \"col_token\": \"007 tr\\u1eddi\"}, {\"row\": 8, \"column\": 8, \"value\": 0.0, \"row_token\": \"008 </s>\", \"col_token\": \"008 </s>\"}], \"data-b374de89822d4edf4797361af194d942\": [{\"row\": 0, \"column\": 0, \"value\": 27.356046676635742, \"row_token\": \"000 <s>\", \"col_token\": \"000 <s>\"}, {\"row\": 0, \"column\": 1, \"value\": 1.3717544078826904, \"row_token\": \"000 <s>\", \"col_token\": \"001 H\\u00f4m\"}, {\"row\": 0, \"column\": 2, \"value\": 29.564815521240234, \"row_token\": \"000 <s>\", \"col_token\": \"002 nay\"}, {\"row\": 0, \"column\": 3, \"value\": 25.044097900390625, \"row_token\": \"000 <s>\", \"col_token\": \"003 l\\u00e0\"}, {\"row\": 0, \"column\": 4, \"value\": 26.561025619506836, \"row_token\": \"000 <s>\", \"col_token\": \"004 m\\u1ed9t\"}, {\"row\": 0, \"column\": 5, \"value\": 4.381858825683594, \"row_token\": \"000 <s>\", \"col_token\": \"005 ng\\u00e0y\"}, {\"row\": 0, \"column\": 6, \"value\": 24.095211029052734, \"row_token\": \"000 <s>\", \"col_token\": \"006 \\u0111\\u1eb9p\"}, {\"row\": 0, \"column\": 7, \"value\": 14.467373847961426, \"row_token\": \"000 <s>\", \"col_token\": \"007 tr\\u1eddi\"}, {\"row\": 0, \"column\": 8, \"value\": 6.523310661315918, \"row_token\": \"000 <s>\", \"col_token\": \"008 </s>\"}, {\"row\": 1, \"column\": 0, \"value\": 0.0, \"row_token\": \"001 H\\u00f4m\", \"col_token\": \"000 <s>\"}, {\"row\": 1, \"column\": 1, \"value\": 1.318974256515503, \"row_token\": \"001 H\\u00f4m\", \"col_token\": \"001 H\\u00f4m\"}, {\"row\": 1, \"column\": 2, \"value\": 0.0, \"row_token\": \"001 H\\u00f4m\", \"col_token\": \"002 nay\"}, {\"row\": 1, \"column\": 3, \"value\": 3.323030948638916, \"row_token\": \"001 H\\u00f4m\", \"col_token\": \"003 l\\u00e0\"}, {\"row\": 1, \"column\": 4, \"value\": 4.750533580780029, \"row_token\": \"001 H\\u00f4m\", \"col_token\": \"004 m\\u1ed9t\"}, {\"row\": 1, \"column\": 5, \"value\": 4.6350202560424805, \"row_token\": \"001 H\\u00f4m\", \"col_token\": \"005 ng\\u00e0y\"}, {\"row\": 1, \"column\": 6, \"value\": 7.106296539306641, \"row_token\": \"001 H\\u00f4m\", \"col_token\": \"006 \\u0111\\u1eb9p\"}, {\"row\": 1, \"column\": 7, \"value\": 4.112527847290039, \"row_token\": \"001 H\\u00f4m\", \"col_token\": \"007 tr\\u1eddi\"}, {\"row\": 1, \"column\": 8, \"value\": 1.8448233604431152, \"row_token\": \"001 H\\u00f4m\", \"col_token\": \"008 </s>\"}, {\"row\": 2, \"column\": 0, \"value\": 22.955156326293945, \"row_token\": \"002 nay\", \"col_token\": \"000 <s>\"}, {\"row\": 2, \"column\": 1, \"value\": 0.0, \"row_token\": \"002 nay\", \"col_token\": \"001 H\\u00f4m\"}, {\"row\": 2, \"column\": 2, \"value\": 25.325782775878906, \"row_token\": \"002 nay\", \"col_token\": \"002 nay\"}, {\"row\": 2, \"column\": 3, \"value\": 18.499496459960938, \"row_token\": \"002 nay\", \"col_token\": \"003 l\\u00e0\"}, {\"row\": 2, \"column\": 4, \"value\": 19.101940155029297, \"row_token\": \"002 nay\", \"col_token\": \"004 m\\u1ed9t\"}, {\"row\": 2, \"column\": 5, \"value\": 1.8282095193862915, \"row_token\": \"002 nay\", \"col_token\": \"005 ng\\u00e0y\"}, {\"row\": 2, \"column\": 6, \"value\": 19.898252487182617, \"row_token\": \"002 nay\", \"col_token\": \"006 \\u0111\\u1eb9p\"}, {\"row\": 2, \"column\": 7, \"value\": 12.746700286865234, \"row_token\": \"002 nay\", \"col_token\": \"007 tr\\u1eddi\"}, {\"row\": 2, \"column\": 8, \"value\": 15.790705680847168, \"row_token\": \"002 nay\", \"col_token\": \"008 </s>\"}, {\"row\": 3, \"column\": 0, \"value\": 22.939678192138672, \"row_token\": \"003 l\\u00e0\", \"col_token\": \"000 <s>\"}, {\"row\": 3, \"column\": 1, \"value\": 0.0, \"row_token\": \"003 l\\u00e0\", \"col_token\": \"001 H\\u00f4m\"}, {\"row\": 3, \"column\": 2, \"value\": 25.162078857421875, \"row_token\": \"003 l\\u00e0\", \"col_token\": \"002 nay\"}, {\"row\": 3, \"column\": 3, \"value\": 22.33017921447754, \"row_token\": \"003 l\\u00e0\", \"col_token\": \"003 l\\u00e0\"}, {\"row\": 3, \"column\": 4, \"value\": 20.817378997802734, \"row_token\": \"003 l\\u00e0\", \"col_token\": \"004 m\\u1ed9t\"}, {\"row\": 3, \"column\": 5, \"value\": 2.144047498703003, \"row_token\": \"003 l\\u00e0\", \"col_token\": \"005 ng\\u00e0y\"}, {\"row\": 3, \"column\": 6, \"value\": 22.377197265625, \"row_token\": \"003 l\\u00e0\", \"col_token\": \"006 \\u0111\\u1eb9p\"}, {\"row\": 3, \"column\": 7, \"value\": 13.2853364944458, \"row_token\": \"003 l\\u00e0\", \"col_token\": \"007 tr\\u1eddi\"}, {\"row\": 3, \"column\": 8, \"value\": 11.481867790222168, \"row_token\": \"003 l\\u00e0\", \"col_token\": \"008 </s>\"}, {\"row\": 4, \"column\": 0, \"value\": 16.940519332885742, \"row_token\": \"004 m\\u1ed9t\", \"col_token\": \"000 <s>\"}, {\"row\": 4, \"column\": 1, \"value\": 0.0, \"row_token\": \"004 m\\u1ed9t\", \"col_token\": \"001 H\\u00f4m\"}, {\"row\": 4, \"column\": 2, \"value\": 20.287437438964844, \"row_token\": \"004 m\\u1ed9t\", \"col_token\": \"002 nay\"}, {\"row\": 4, \"column\": 3, \"value\": 14.78718376159668, \"row_token\": \"004 m\\u1ed9t\", \"col_token\": \"003 l\\u00e0\"}, {\"row\": 4, \"column\": 4, \"value\": 16.757808685302734, \"row_token\": \"004 m\\u1ed9t\", \"col_token\": \"004 m\\u1ed9t\"}, {\"row\": 4, \"column\": 5, \"value\": 1.1412980556488037, \"row_token\": \"004 m\\u1ed9t\", \"col_token\": \"005 ng\\u00e0y\"}, {\"row\": 4, \"column\": 6, \"value\": 18.951419830322266, \"row_token\": \"004 m\\u1ed9t\", \"col_token\": \"006 \\u0111\\u1eb9p\"}, {\"row\": 4, \"column\": 7, \"value\": 14.605321884155273, \"row_token\": \"004 m\\u1ed9t\", \"col_token\": \"007 tr\\u1eddi\"}, {\"row\": 4, \"column\": 8, \"value\": 13.76632308959961, \"row_token\": \"004 m\\u1ed9t\", \"col_token\": \"008 </s>\"}, {\"row\": 5, \"column\": 0, \"value\": 0.0, \"row_token\": \"005 ng\\u00e0y\", \"col_token\": \"000 <s>\"}, {\"row\": 5, \"column\": 1, \"value\": 0.0, \"row_token\": \"005 ng\\u00e0y\", \"col_token\": \"001 H\\u00f4m\"}, {\"row\": 5, \"column\": 2, \"value\": 0.0, \"row_token\": \"005 ng\\u00e0y\", \"col_token\": \"002 nay\"}, {\"row\": 5, \"column\": 3, \"value\": 0.0, \"row_token\": \"005 ng\\u00e0y\", \"col_token\": \"003 l\\u00e0\"}, {\"row\": 5, \"column\": 4, \"value\": 0.0, \"row_token\": \"005 ng\\u00e0y\", \"col_token\": \"004 m\\u1ed9t\"}, {\"row\": 5, \"column\": 5, \"value\": 4.411310195922852, \"row_token\": \"005 ng\\u00e0y\", \"col_token\": \"005 ng\\u00e0y\"}, {\"row\": 5, \"column\": 6, \"value\": 3.107954502105713, \"row_token\": \"005 ng\\u00e0y\", \"col_token\": \"006 \\u0111\\u1eb9p\"}, {\"row\": 5, \"column\": 7, \"value\": 1.2835304737091064, \"row_token\": \"005 ng\\u00e0y\", \"col_token\": \"007 tr\\u1eddi\"}, {\"row\": 5, \"column\": 8, \"value\": 0.0, \"row_token\": \"005 ng\\u00e0y\", \"col_token\": \"008 </s>\"}, {\"row\": 6, \"column\": 0, \"value\": 6.695980548858643, \"row_token\": \"006 \\u0111\\u1eb9p\", \"col_token\": \"000 <s>\"}, {\"row\": 6, \"column\": 1, \"value\": 0.0, \"row_token\": \"006 \\u0111\\u1eb9p\", \"col_token\": \"001 H\\u00f4m\"}, {\"row\": 6, \"column\": 2, \"value\": 11.735086441040039, \"row_token\": \"006 \\u0111\\u1eb9p\", \"col_token\": \"002 nay\"}, {\"row\": 6, \"column\": 3, \"value\": 6.303640365600586, \"row_token\": \"006 \\u0111\\u1eb9p\", \"col_token\": \"003 l\\u00e0\"}, {\"row\": 6, \"column\": 4, \"value\": 11.275652885437012, \"row_token\": \"006 \\u0111\\u1eb9p\", \"col_token\": \"004 m\\u1ed9t\"}, {\"row\": 6, \"column\": 5, \"value\": 2.0024375915527344, \"row_token\": \"006 \\u0111\\u1eb9p\", \"col_token\": \"005 ng\\u00e0y\"}, {\"row\": 6, \"column\": 6, \"value\": 18.07693862915039, \"row_token\": \"006 \\u0111\\u1eb9p\", \"col_token\": \"006 \\u0111\\u1eb9p\"}, {\"row\": 6, \"column\": 7, \"value\": 14.07805061340332, \"row_token\": \"006 \\u0111\\u1eb9p\", \"col_token\": \"007 tr\\u1eddi\"}, {\"row\": 6, \"column\": 8, \"value\": 12.398776054382324, \"row_token\": \"006 \\u0111\\u1eb9p\", \"col_token\": \"008 </s>\"}, {\"row\": 7, \"column\": 0, \"value\": 11.573883056640625, \"row_token\": \"007 tr\\u1eddi\", \"col_token\": \"000 <s>\"}, {\"row\": 7, \"column\": 1, \"value\": 0.0, \"row_token\": \"007 tr\\u1eddi\", \"col_token\": \"001 H\\u00f4m\"}, {\"row\": 7, \"column\": 2, \"value\": 13.626638412475586, \"row_token\": \"007 tr\\u1eddi\", \"col_token\": \"002 nay\"}, {\"row\": 7, \"column\": 3, \"value\": 11.417927742004395, \"row_token\": \"007 tr\\u1eddi\", \"col_token\": \"003 l\\u00e0\"}, {\"row\": 7, \"column\": 4, \"value\": 15.513675689697266, \"row_token\": \"007 tr\\u1eddi\", \"col_token\": \"004 m\\u1ed9t\"}, {\"row\": 7, \"column\": 5, \"value\": 4.843995094299316, \"row_token\": \"007 tr\\u1eddi\", \"col_token\": \"005 ng\\u00e0y\"}, {\"row\": 7, \"column\": 6, \"value\": 23.75881004333496, \"row_token\": \"007 tr\\u1eddi\", \"col_token\": \"006 \\u0111\\u1eb9p\"}, {\"row\": 7, \"column\": 7, \"value\": 23.091684341430664, \"row_token\": \"007 tr\\u1eddi\", \"col_token\": \"007 tr\\u1eddi\"}, {\"row\": 7, \"column\": 8, \"value\": 20.113101959228516, \"row_token\": \"007 tr\\u1eddi\", \"col_token\": \"008 </s>\"}, {\"row\": 8, \"column\": 0, \"value\": 17.583208084106445, \"row_token\": \"008 </s>\", \"col_token\": \"000 <s>\"}, {\"row\": 8, \"column\": 1, \"value\": 0.0, \"row_token\": \"008 </s>\", \"col_token\": \"001 H\\u00f4m\"}, {\"row\": 8, \"column\": 2, \"value\": 17.69935417175293, \"row_token\": \"008 </s>\", \"col_token\": \"002 nay\"}, {\"row\": 8, \"column\": 3, \"value\": 14.85522174835205, \"row_token\": \"008 </s>\", \"col_token\": \"003 l\\u00e0\"}, {\"row\": 8, \"column\": 4, \"value\": 18.131988525390625, \"row_token\": \"008 </s>\", \"col_token\": \"004 m\\u1ed9t\"}, {\"row\": 8, \"column\": 5, \"value\": 0.0, \"row_token\": \"008 </s>\", \"col_token\": \"005 ng\\u00e0y\"}, {\"row\": 8, \"column\": 6, \"value\": 21.156814575195312, \"row_token\": \"008 </s>\", \"col_token\": \"006 \\u0111\\u1eb9p\"}, {\"row\": 8, \"column\": 7, \"value\": 13.38158893585205, \"row_token\": \"008 </s>\", \"col_token\": \"007 tr\\u1eddi\"}, {\"row\": 8, \"column\": 8, \"value\": 13.09696102142334, \"row_token\": \"008 </s>\", \"col_token\": \"008 </s>\"}], \"data-32e8e4daef98ca3a746c0bdc9ace8f05\": [{\"row\": 0, \"column\": 0, \"value\": 0.0, \"row_token\": \"000 <s>\", \"col_token\": \"000 <s>\"}, {\"row\": 0, \"column\": 1, \"value\": 0.0, \"row_token\": \"000 <s>\", \"col_token\": \"001 H\\u00f4m\"}, {\"row\": 0, \"column\": 2, \"value\": 4.583363056182861, \"row_token\": \"000 <s>\", \"col_token\": \"002 nay\"}, {\"row\": 0, \"column\": 3, \"value\": 0.0, \"row_token\": \"000 <s>\", \"col_token\": \"003 l\\u00e0\"}, {\"row\": 0, \"column\": 4, \"value\": 0.0, \"row_token\": \"000 <s>\", \"col_token\": \"004 m\\u1ed9t\"}, {\"row\": 0, \"column\": 5, \"value\": 0.0, \"row_token\": \"000 <s>\", \"col_token\": \"005 ng\\u00e0y\"}, {\"row\": 0, \"column\": 6, \"value\": 0.0, \"row_token\": \"000 <s>\", \"col_token\": \"006 \\u0111\\u1eb9p\"}, {\"row\": 0, \"column\": 7, \"value\": 0.0, \"row_token\": \"000 <s>\", \"col_token\": \"007 tr\\u1eddi\"}, {\"row\": 0, \"column\": 8, \"value\": 0.0, \"row_token\": \"000 <s>\", \"col_token\": \"008 </s>\"}, {\"row\": 1, \"column\": 0, \"value\": 0.0, \"row_token\": \"001 H\\u00f4m\", \"col_token\": \"000 <s>\"}, {\"row\": 1, \"column\": 1, \"value\": 19.326894760131836, \"row_token\": \"001 H\\u00f4m\", \"col_token\": \"001 H\\u00f4m\"}, {\"row\": 1, \"column\": 2, \"value\": 0.0, \"row_token\": \"001 H\\u00f4m\", \"col_token\": \"002 nay\"}, {\"row\": 1, \"column\": 3, \"value\": 0.0, \"row_token\": \"001 H\\u00f4m\", \"col_token\": \"003 l\\u00e0\"}, {\"row\": 1, \"column\": 4, \"value\": 0.0, \"row_token\": \"001 H\\u00f4m\", \"col_token\": \"004 m\\u1ed9t\"}, {\"row\": 1, \"column\": 5, \"value\": 6.856326103210449, \"row_token\": \"001 H\\u00f4m\", \"col_token\": \"005 ng\\u00e0y\"}, {\"row\": 1, \"column\": 6, \"value\": 0.0, \"row_token\": \"001 H\\u00f4m\", \"col_token\": \"006 \\u0111\\u1eb9p\"}, {\"row\": 1, \"column\": 7, \"value\": 0.0, \"row_token\": \"001 H\\u00f4m\", \"col_token\": \"007 tr\\u1eddi\"}, {\"row\": 1, \"column\": 8, \"value\": 8.903400421142578, \"row_token\": \"001 H\\u00f4m\", \"col_token\": \"008 </s>\"}, {\"row\": 2, \"column\": 0, \"value\": 13.20499038696289, \"row_token\": \"002 nay\", \"col_token\": \"000 <s>\"}, {\"row\": 2, \"column\": 1, \"value\": 0.0, \"row_token\": \"002 nay\", \"col_token\": \"001 H\\u00f4m\"}, {\"row\": 2, \"column\": 2, \"value\": 14.497811317443848, \"row_token\": \"002 nay\", \"col_token\": \"002 nay\"}, {\"row\": 2, \"column\": 3, \"value\": 5.1845197677612305, \"row_token\": \"002 nay\", \"col_token\": \"003 l\\u00e0\"}, {\"row\": 2, \"column\": 4, \"value\": 7.040112495422363, \"row_token\": \"002 nay\", \"col_token\": \"004 m\\u1ed9t\"}, {\"row\": 2, \"column\": 5, \"value\": 0.0, \"row_token\": \"002 nay\", \"col_token\": \"005 ng\\u00e0y\"}, {\"row\": 2, \"column\": 6, \"value\": 2.983942747116089, \"row_token\": \"002 nay\", \"col_token\": \"006 \\u0111\\u1eb9p\"}, {\"row\": 2, \"column\": 7, \"value\": 0.0, \"row_token\": \"002 nay\", \"col_token\": \"007 tr\\u1eddi\"}, {\"row\": 2, \"column\": 8, \"value\": 4.788670539855957, \"row_token\": \"002 nay\", \"col_token\": \"008 </s>\"}, {\"row\": 3, \"column\": 0, \"value\": 0.0, \"row_token\": \"003 l\\u00e0\", \"col_token\": \"000 <s>\"}, {\"row\": 3, \"column\": 1, \"value\": 0.0, \"row_token\": \"003 l\\u00e0\", \"col_token\": \"001 H\\u00f4m\"}, {\"row\": 3, \"column\": 2, \"value\": 3.991474151611328, \"row_token\": \"003 l\\u00e0\", \"col_token\": \"002 nay\"}, {\"row\": 3, \"column\": 3, \"value\": 4.215341091156006, \"row_token\": \"003 l\\u00e0\", \"col_token\": \"003 l\\u00e0\"}, {\"row\": 3, \"column\": 4, \"value\": 5.286403179168701, \"row_token\": \"003 l\\u00e0\", \"col_token\": \"004 m\\u1ed9t\"}, {\"row\": 3, \"column\": 5, \"value\": 0.0, \"row_token\": \"003 l\\u00e0\", \"col_token\": \"005 ng\\u00e0y\"}, {\"row\": 3, \"column\": 6, \"value\": 7.935570240020752, \"row_token\": \"003 l\\u00e0\", \"col_token\": \"006 \\u0111\\u1eb9p\"}, {\"row\": 3, \"column\": 7, \"value\": 0.0, \"row_token\": \"003 l\\u00e0\", \"col_token\": \"007 tr\\u1eddi\"}, {\"row\": 3, \"column\": 8, \"value\": 2.0636188983917236, \"row_token\": \"003 l\\u00e0\", \"col_token\": \"008 </s>\"}, {\"row\": 4, \"column\": 0, \"value\": 0.0, \"row_token\": \"004 m\\u1ed9t\", \"col_token\": \"000 <s>\"}, {\"row\": 4, \"column\": 1, \"value\": 0.0, \"row_token\": \"004 m\\u1ed9t\", \"col_token\": \"001 H\\u00f4m\"}, {\"row\": 4, \"column\": 2, \"value\": 3.2553534507751465, \"row_token\": \"004 m\\u1ed9t\", \"col_token\": \"002 nay\"}, {\"row\": 4, \"column\": 3, \"value\": 8.645099639892578, \"row_token\": \"004 m\\u1ed9t\", \"col_token\": \"003 l\\u00e0\"}, {\"row\": 4, \"column\": 4, \"value\": 13.224478721618652, \"row_token\": \"004 m\\u1ed9t\", \"col_token\": \"004 m\\u1ed9t\"}, {\"row\": 4, \"column\": 5, \"value\": 0.0, \"row_token\": \"004 m\\u1ed9t\", \"col_token\": \"005 ng\\u00e0y\"}, {\"row\": 4, \"column\": 6, \"value\": 13.498146057128906, \"row_token\": \"004 m\\u1ed9t\", \"col_token\": \"006 \\u0111\\u1eb9p\"}, {\"row\": 4, \"column\": 7, \"value\": 4.65148401260376, \"row_token\": \"004 m\\u1ed9t\", \"col_token\": \"007 tr\\u1eddi\"}, {\"row\": 4, \"column\": 8, \"value\": 1.04338538646698, \"row_token\": \"004 m\\u1ed9t\", \"col_token\": \"008 </s>\"}, {\"row\": 5, \"column\": 0, \"value\": 0.0, \"row_token\": \"005 ng\\u00e0y\", \"col_token\": \"000 <s>\"}, {\"row\": 5, \"column\": 1, \"value\": 26.89397430419922, \"row_token\": \"005 ng\\u00e0y\", \"col_token\": \"001 H\\u00f4m\"}, {\"row\": 5, \"column\": 2, \"value\": 0.0, \"row_token\": \"005 ng\\u00e0y\", \"col_token\": \"002 nay\"}, {\"row\": 5, \"column\": 3, \"value\": 2.7113285064697266, \"row_token\": \"005 ng\\u00e0y\", \"col_token\": \"003 l\\u00e0\"}, {\"row\": 5, \"column\": 4, \"value\": 0.0, \"row_token\": \"005 ng\\u00e0y\", \"col_token\": \"004 m\\u1ed9t\"}, {\"row\": 5, \"column\": 5, \"value\": 12.835759162902832, \"row_token\": \"005 ng\\u00e0y\", \"col_token\": \"005 ng\\u00e0y\"}, {\"row\": 5, \"column\": 6, \"value\": 0.0, \"row_token\": \"005 ng\\u00e0y\", \"col_token\": \"006 \\u0111\\u1eb9p\"}, {\"row\": 5, \"column\": 7, \"value\": 3.1475412845611572, \"row_token\": \"005 ng\\u00e0y\", \"col_token\": \"007 tr\\u1eddi\"}, {\"row\": 5, \"column\": 8, \"value\": 12.46428108215332, \"row_token\": \"005 ng\\u00e0y\", \"col_token\": \"008 </s>\"}, {\"row\": 6, \"column\": 0, \"value\": 0.0, \"row_token\": \"006 \\u0111\\u1eb9p\", \"col_token\": \"000 <s>\"}, {\"row\": 6, \"column\": 1, \"value\": 0.0, \"row_token\": \"006 \\u0111\\u1eb9p\", \"col_token\": \"001 H\\u00f4m\"}, {\"row\": 6, \"column\": 2, \"value\": 0.0, \"row_token\": \"006 \\u0111\\u1eb9p\", \"col_token\": \"002 nay\"}, {\"row\": 6, \"column\": 3, \"value\": 0.0, \"row_token\": \"006 \\u0111\\u1eb9p\", \"col_token\": \"003 l\\u00e0\"}, {\"row\": 6, \"column\": 4, \"value\": 9.088455200195312, \"row_token\": \"006 \\u0111\\u1eb9p\", \"col_token\": \"004 m\\u1ed9t\"}, {\"row\": 6, \"column\": 5, \"value\": 0.0, \"row_token\": \"006 \\u0111\\u1eb9p\", \"col_token\": \"005 ng\\u00e0y\"}, {\"row\": 6, \"column\": 6, \"value\": 15.802958488464355, \"row_token\": \"006 \\u0111\\u1eb9p\", \"col_token\": \"006 \\u0111\\u1eb9p\"}, {\"row\": 6, \"column\": 7, \"value\": 7.266334533691406, \"row_token\": \"006 \\u0111\\u1eb9p\", \"col_token\": \"007 tr\\u1eddi\"}, {\"row\": 6, \"column\": 8, \"value\": 0.0, \"row_token\": \"006 \\u0111\\u1eb9p\", \"col_token\": \"008 </s>\"}, {\"row\": 7, \"column\": 0, \"value\": 0.0, \"row_token\": \"007 tr\\u1eddi\", \"col_token\": \"000 <s>\"}, {\"row\": 7, \"column\": 1, \"value\": 0.0, \"row_token\": \"007 tr\\u1eddi\", \"col_token\": \"001 H\\u00f4m\"}, {\"row\": 7, \"column\": 2, \"value\": 0.0, \"row_token\": \"007 tr\\u1eddi\", \"col_token\": \"002 nay\"}, {\"row\": 7, \"column\": 3, \"value\": 0.0, \"row_token\": \"007 tr\\u1eddi\", \"col_token\": \"003 l\\u00e0\"}, {\"row\": 7, \"column\": 4, \"value\": 0.0, \"row_token\": \"007 tr\\u1eddi\", \"col_token\": \"004 m\\u1ed9t\"}, {\"row\": 7, \"column\": 5, \"value\": 0.0, \"row_token\": \"007 tr\\u1eddi\", \"col_token\": \"005 ng\\u00e0y\"}, {\"row\": 7, \"column\": 6, \"value\": 1.2370747327804565, \"row_token\": \"007 tr\\u1eddi\", \"col_token\": \"006 \\u0111\\u1eb9p\"}, {\"row\": 7, \"column\": 7, \"value\": 0.5846753716468811, \"row_token\": \"007 tr\\u1eddi\", \"col_token\": \"007 tr\\u1eddi\"}, {\"row\": 7, \"column\": 8, \"value\": 0.0, \"row_token\": \"007 tr\\u1eddi\", \"col_token\": \"008 </s>\"}, {\"row\": 8, \"column\": 0, \"value\": 0.0, \"row_token\": \"008 </s>\", \"col_token\": \"000 <s>\"}, {\"row\": 8, \"column\": 1, \"value\": 0.0, \"row_token\": \"008 </s>\", \"col_token\": \"001 H\\u00f4m\"}, {\"row\": 8, \"column\": 2, \"value\": 2.43255615234375, \"row_token\": \"008 </s>\", \"col_token\": \"002 nay\"}, {\"row\": 8, \"column\": 3, \"value\": 0.0, \"row_token\": \"008 </s>\", \"col_token\": \"003 l\\u00e0\"}, {\"row\": 8, \"column\": 4, \"value\": 0.0, \"row_token\": \"008 </s>\", \"col_token\": \"004 m\\u1ed9t\"}, {\"row\": 8, \"column\": 5, \"value\": 0.0, \"row_token\": \"008 </s>\", \"col_token\": \"005 ng\\u00e0y\"}, {\"row\": 8, \"column\": 6, \"value\": 3.0750205516815186, \"row_token\": \"008 </s>\", \"col_token\": \"006 \\u0111\\u1eb9p\"}, {\"row\": 8, \"column\": 7, \"value\": 0.0, \"row_token\": \"008 </s>\", \"col_token\": \"007 tr\\u1eddi\"}, {\"row\": 8, \"column\": 8, \"value\": 0.0, \"row_token\": \"008 </s>\", \"col_token\": \"008 </s>\"}], \"data-19edba75dfe69a067757ff32c740dee1\": [{\"row\": 0, \"column\": 0, \"value\": 28.537031173706055, \"row_token\": \"000 <s>\", \"col_token\": \"000 <s>\"}, {\"row\": 0, \"column\": 1, \"value\": 9.254904747009277, \"row_token\": \"000 <s>\", \"col_token\": \"001 H\\u00f4m\"}, {\"row\": 0, \"column\": 2, \"value\": 38.0152473449707, \"row_token\": \"000 <s>\", \"col_token\": \"002 nay\"}, {\"row\": 0, \"column\": 3, \"value\": 70.10395812988281, \"row_token\": \"000 <s>\", \"col_token\": \"003 l\\u00e0\"}, {\"row\": 0, \"column\": 4, \"value\": 90.44610595703125, \"row_token\": \"000 <s>\", \"col_token\": \"004 m\\u1ed9t\"}, {\"row\": 0, \"column\": 5, \"value\": 17.413251876831055, \"row_token\": \"000 <s>\", \"col_token\": \"005 ng\\u00e0y\"}, {\"row\": 0, \"column\": 6, \"value\": 96.55469512939453, \"row_token\": \"000 <s>\", \"col_token\": \"006 \\u0111\\u1eb9p\"}, {\"row\": 0, \"column\": 7, \"value\": 108.23091125488281, \"row_token\": \"000 <s>\", \"col_token\": \"007 tr\\u1eddi\"}, {\"row\": 0, \"column\": 8, \"value\": 81.97728729248047, \"row_token\": \"000 <s>\", \"col_token\": \"008 </s>\"}, {\"row\": 1, \"column\": 0, \"value\": 90.03761291503906, \"row_token\": \"001 H\\u00f4m\", \"col_token\": \"000 <s>\"}, {\"row\": 1, \"column\": 1, \"value\": 76.55199432373047, \"row_token\": \"001 H\\u00f4m\", \"col_token\": \"001 H\\u00f4m\"}, {\"row\": 1, \"column\": 2, \"value\": 104.59508514404297, \"row_token\": \"001 H\\u00f4m\", \"col_token\": \"002 nay\"}, {\"row\": 1, \"column\": 3, \"value\": 154.35040283203125, \"row_token\": \"001 H\\u00f4m\", \"col_token\": \"003 l\\u00e0\"}, {\"row\": 1, \"column\": 4, \"value\": 176.7877197265625, \"row_token\": \"001 H\\u00f4m\", \"col_token\": \"004 m\\u1ed9t\"}, {\"row\": 1, \"column\": 5, \"value\": 87.82333374023438, \"row_token\": \"001 H\\u00f4m\", \"col_token\": \"005 ng\\u00e0y\"}, {\"row\": 1, \"column\": 6, \"value\": 177.49522399902344, \"row_token\": \"001 H\\u00f4m\", \"col_token\": \"006 \\u0111\\u1eb9p\"}, {\"row\": 1, \"column\": 7, \"value\": 183.13351440429688, \"row_token\": \"001 H\\u00f4m\", \"col_token\": \"007 tr\\u1eddi\"}, {\"row\": 1, \"column\": 8, \"value\": 168.84608459472656, \"row_token\": \"001 H\\u00f4m\", \"col_token\": \"008 </s>\"}, {\"row\": 2, \"column\": 0, \"value\": 24.3760929107666, \"row_token\": \"002 nay\", \"col_token\": \"000 <s>\"}, {\"row\": 2, \"column\": 1, \"value\": 5.334463119506836, \"row_token\": \"002 nay\", \"col_token\": \"001 H\\u00f4m\"}, {\"row\": 2, \"column\": 2, \"value\": 33.567726135253906, \"row_token\": \"002 nay\", \"col_token\": \"002 nay\"}, {\"row\": 2, \"column\": 3, \"value\": 64.81041717529297, \"row_token\": \"002 nay\", \"col_token\": \"003 l\\u00e0\"}, {\"row\": 2, \"column\": 4, \"value\": 85.33716583251953, \"row_token\": \"002 nay\", \"col_token\": \"004 m\\u1ed9t\"}, {\"row\": 2, \"column\": 5, \"value\": 13.39844036102295, \"row_token\": \"002 nay\", \"col_token\": \"005 ng\\u00e0y\"}, {\"row\": 2, \"column\": 6, \"value\": 91.92567443847656, \"row_token\": \"002 nay\", \"col_token\": \"006 \\u0111\\u1eb9p\"}, {\"row\": 2, \"column\": 7, \"value\": 104.27102661132812, \"row_token\": \"002 nay\", \"col_token\": \"007 tr\\u1eddi\"}, {\"row\": 2, \"column\": 8, \"value\": 76.69114685058594, \"row_token\": \"002 nay\", \"col_token\": \"008 </s>\"}, {\"row\": 3, \"column\": 0, \"value\": 28.25267219543457, \"row_token\": \"003 l\\u00e0\", \"col_token\": \"000 <s>\"}, {\"row\": 3, \"column\": 1, \"value\": 13.192062377929688, \"row_token\": \"003 l\\u00e0\", \"col_token\": \"001 H\\u00f4m\"}, {\"row\": 3, \"column\": 2, \"value\": 38.154476165771484, \"row_token\": \"003 l\\u00e0\", \"col_token\": \"002 nay\"}, {\"row\": 3, \"column\": 3, \"value\": 73.49189758300781, \"row_token\": \"003 l\\u00e0\", \"col_token\": \"003 l\\u00e0\"}, {\"row\": 3, \"column\": 4, \"value\": 96.60623168945312, \"row_token\": \"003 l\\u00e0\", \"col_token\": \"004 m\\u1ed9t\"}, {\"row\": 3, \"column\": 5, \"value\": 22.272708892822266, \"row_token\": \"003 l\\u00e0\", \"col_token\": \"005 ng\\u00e0y\"}, {\"row\": 3, \"column\": 6, \"value\": 103.91844940185547, \"row_token\": \"003 l\\u00e0\", \"col_token\": \"006 \\u0111\\u1eb9p\"}, {\"row\": 3, \"column\": 7, \"value\": 118.10430145263672, \"row_token\": \"003 l\\u00e0\", \"col_token\": \"007 tr\\u1eddi\"}, {\"row\": 3, \"column\": 8, \"value\": 86.77871704101562, \"row_token\": \"003 l\\u00e0\", \"col_token\": \"008 </s>\"}, {\"row\": 4, \"column\": 0, \"value\": 26.453350067138672, \"row_token\": \"004 m\\u1ed9t\", \"col_token\": \"000 <s>\"}, {\"row\": 4, \"column\": 1, \"value\": 16.502601623535156, \"row_token\": \"004 m\\u1ed9t\", \"col_token\": \"001 H\\u00f4m\"}, {\"row\": 4, \"column\": 2, \"value\": 35.13798522949219, \"row_token\": \"004 m\\u1ed9t\", \"col_token\": \"002 nay\"}, {\"row\": 4, \"column\": 3, \"value\": 67.6814956665039, \"row_token\": \"004 m\\u1ed9t\", \"col_token\": \"003 l\\u00e0\"}, {\"row\": 4, \"column\": 4, \"value\": 89.03832244873047, \"row_token\": \"004 m\\u1ed9t\", \"col_token\": \"004 m\\u1ed9t\"}, {\"row\": 4, \"column\": 5, \"value\": 24.78031349182129, \"row_token\": \"004 m\\u1ed9t\", \"col_token\": \"005 ng\\u00e0y\"}, {\"row\": 4, \"column\": 6, \"value\": 95.83430480957031, \"row_token\": \"004 m\\u1ed9t\", \"col_token\": \"006 \\u0111\\u1eb9p\"}, {\"row\": 4, \"column\": 7, \"value\": 109.64710235595703, \"row_token\": \"004 m\\u1ed9t\", \"col_token\": \"007 tr\\u1eddi\"}, {\"row\": 4, \"column\": 8, \"value\": 79.67022705078125, \"row_token\": \"004 m\\u1ed9t\", \"col_token\": \"008 </s>\"}, {\"row\": 5, \"column\": 0, \"value\": 88.56298828125, \"row_token\": \"005 ng\\u00e0y\", \"col_token\": \"000 <s>\"}, {\"row\": 5, \"column\": 1, \"value\": 76.83727264404297, \"row_token\": \"005 ng\\u00e0y\", \"col_token\": \"001 H\\u00f4m\"}, {\"row\": 5, \"column\": 2, \"value\": 102.72320556640625, \"row_token\": \"005 ng\\u00e0y\", \"col_token\": \"002 nay\"}, {\"row\": 5, \"column\": 3, \"value\": 151.51100158691406, \"row_token\": \"005 ng\\u00e0y\", \"col_token\": \"003 l\\u00e0\"}, {\"row\": 5, \"column\": 4, \"value\": 173.4822998046875, \"row_token\": \"005 ng\\u00e0y\", \"col_token\": \"004 m\\u1ed9t\"}, {\"row\": 5, \"column\": 5, \"value\": 87.8786849975586, \"row_token\": \"005 ng\\u00e0y\", \"col_token\": \"005 ng\\u00e0y\"}, {\"row\": 5, \"column\": 6, \"value\": 174.12950134277344, \"row_token\": \"005 ng\\u00e0y\", \"col_token\": \"006 \\u0111\\u1eb9p\"}, {\"row\": 5, \"column\": 7, \"value\": 179.7151641845703, \"row_token\": \"005 ng\\u00e0y\", \"col_token\": \"007 tr\\u1eddi\"}, {\"row\": 5, \"column\": 8, \"value\": 165.68310546875, \"row_token\": \"005 ng\\u00e0y\", \"col_token\": \"008 </s>\"}, {\"row\": 6, \"column\": 0, \"value\": 23.151573181152344, \"row_token\": \"006 \\u0111\\u1eb9p\", \"col_token\": \"000 <s>\"}, {\"row\": 6, \"column\": 1, \"value\": 17.253618240356445, \"row_token\": \"006 \\u0111\\u1eb9p\", \"col_token\": \"001 H\\u00f4m\"}, {\"row\": 6, \"column\": 2, \"value\": 30.61103057861328, \"row_token\": \"006 \\u0111\\u1eb9p\", \"col_token\": \"002 nay\"}, {\"row\": 6, \"column\": 3, \"value\": 59.872772216796875, \"row_token\": \"006 \\u0111\\u1eb9p\", \"col_token\": \"003 l\\u00e0\"}, {\"row\": 6, \"column\": 4, \"value\": 79.25615692138672, \"row_token\": \"006 \\u0111\\u1eb9p\", \"col_token\": \"004 m\\u1ed9t\"}, {\"row\": 6, \"column\": 5, \"value\": 24.656587600708008, \"row_token\": \"006 \\u0111\\u1eb9p\", \"col_token\": \"005 ng\\u00e0y\"}, {\"row\": 6, \"column\": 6, \"value\": 85.5650405883789, \"row_token\": \"006 \\u0111\\u1eb9p\", \"col_token\": \"006 \\u0111\\u1eb9p\"}, {\"row\": 6, \"column\": 7, \"value\": 98.68214416503906, \"row_token\": \"006 \\u0111\\u1eb9p\", \"col_token\": \"007 tr\\u1eddi\"}, {\"row\": 6, \"column\": 8, \"value\": 70.54426574707031, \"row_token\": \"006 \\u0111\\u1eb9p\", \"col_token\": \"008 </s>\"}, {\"row\": 7, \"column\": 0, \"value\": 25.4920654296875, \"row_token\": \"007 tr\\u1eddi\", \"col_token\": \"000 <s>\"}, {\"row\": 7, \"column\": 1, \"value\": 23.787031173706055, \"row_token\": \"007 tr\\u1eddi\", \"col_token\": \"001 H\\u00f4m\"}, {\"row\": 7, \"column\": 2, \"value\": 31.75438690185547, \"row_token\": \"007 tr\\u1eddi\", \"col_token\": \"002 nay\"}, {\"row\": 7, \"column\": 3, \"value\": 58.16952896118164, \"row_token\": \"007 tr\\u1eddi\", \"col_token\": \"003 l\\u00e0\"}, {\"row\": 7, \"column\": 4, \"value\": 75.08634185791016, \"row_token\": \"007 tr\\u1eddi\", \"col_token\": \"004 m\\u1ed9t\"}, {\"row\": 7, \"column\": 5, \"value\": 30.20733070373535, \"row_token\": \"007 tr\\u1eddi\", \"col_token\": \"005 ng\\u00e0y\"}, {\"row\": 7, \"column\": 6, \"value\": 80.27592468261719, \"row_token\": \"007 tr\\u1eddi\", \"col_token\": \"006 \\u0111\\u1eb9p\"}, {\"row\": 7, \"column\": 7, \"value\": 92.42039489746094, \"row_token\": \"007 tr\\u1eddi\", \"col_token\": \"007 tr\\u1eddi\"}, {\"row\": 7, \"column\": 8, \"value\": 67.04439544677734, \"row_token\": \"007 tr\\u1eddi\", \"col_token\": \"008 </s>\"}, {\"row\": 8, \"column\": 0, \"value\": 23.61879539489746, \"row_token\": \"008 </s>\", \"col_token\": \"000 <s>\"}, {\"row\": 8, \"column\": 1, \"value\": 11.551831245422363, \"row_token\": \"008 </s>\", \"col_token\": \"001 H\\u00f4m\"}, {\"row\": 8, \"column\": 2, \"value\": 32.535160064697266, \"row_token\": \"008 </s>\", \"col_token\": \"002 nay\"}, {\"row\": 8, \"column\": 3, \"value\": 65.17078399658203, \"row_token\": \"008 </s>\", \"col_token\": \"003 l\\u00e0\"}, {\"row\": 8, \"column\": 4, \"value\": 87.04225158691406, \"row_token\": \"008 </s>\", \"col_token\": \"004 m\\u1ed9t\"}, {\"row\": 8, \"column\": 5, \"value\": 19.988916397094727, \"row_token\": \"008 </s>\", \"col_token\": \"005 ng\\u00e0y\"}, {\"row\": 8, \"column\": 6, \"value\": 94.27378845214844, \"row_token\": \"008 </s>\", \"col_token\": \"006 \\u0111\\u1eb9p\"}, {\"row\": 8, \"column\": 7, \"value\": 108.31146240234375, \"row_token\": \"008 </s>\", \"col_token\": \"007 tr\\u1eddi\"}, {\"row\": 8, \"column\": 8, \"value\": 77.59159851074219, \"row_token\": \"008 </s>\", \"col_token\": \"008 </s>\"}], \"data-1ba532a6abc376afe31590b902f262b4\": [{\"row\": 0, \"column\": 0, \"value\": 150.69493103027344, \"row_token\": \"000 <s>\", \"col_token\": \"000 <s>\"}, {\"row\": 0, \"column\": 1, \"value\": 16.516258239746094, \"row_token\": \"000 <s>\", \"col_token\": \"001 H\\u00f4m\"}, {\"row\": 0, \"column\": 2, \"value\": 150.56881713867188, \"row_token\": \"000 <s>\", \"col_token\": \"002 nay\"}, {\"row\": 0, \"column\": 3, \"value\": 122.15869140625, \"row_token\": \"000 <s>\", \"col_token\": \"003 l\\u00e0\"}, {\"row\": 0, \"column\": 4, \"value\": 83.43473052978516, \"row_token\": \"000 <s>\", \"col_token\": \"004 m\\u1ed9t\"}, {\"row\": 0, \"column\": 5, \"value\": 2.027444839477539, \"row_token\": \"000 <s>\", \"col_token\": \"005 ng\\u00e0y\"}, {\"row\": 0, \"column\": 6, \"value\": 59.158329010009766, \"row_token\": \"000 <s>\", \"col_token\": \"006 \\u0111\\u1eb9p\"}, {\"row\": 0, \"column\": 7, \"value\": 36.798255920410156, \"row_token\": \"000 <s>\", \"col_token\": \"007 tr\\u1eddi\"}, {\"row\": 0, \"column\": 8, \"value\": 95.75787353515625, \"row_token\": \"000 <s>\", \"col_token\": \"008 </s>\"}, {\"row\": 1, \"column\": 0, \"value\": 30.588796615600586, \"row_token\": \"001 H\\u00f4m\", \"col_token\": \"000 <s>\"}, {\"row\": 1, \"column\": 1, \"value\": 13.42873764038086, \"row_token\": \"001 H\\u00f4m\", \"col_token\": \"001 H\\u00f4m\"}, {\"row\": 1, \"column\": 2, \"value\": 29.460519790649414, \"row_token\": \"001 H\\u00f4m\", \"col_token\": \"002 nay\"}, {\"row\": 1, \"column\": 3, \"value\": 23.842899322509766, \"row_token\": \"001 H\\u00f4m\", \"col_token\": \"003 l\\u00e0\"}, {\"row\": 1, \"column\": 4, \"value\": 15.307795524597168, \"row_token\": \"001 H\\u00f4m\", \"col_token\": \"004 m\\u1ed9t\"}, {\"row\": 1, \"column\": 5, \"value\": 9.887974739074707, \"row_token\": \"001 H\\u00f4m\", \"col_token\": \"005 ng\\u00e0y\"}, {\"row\": 1, \"column\": 6, \"value\": 10.459762573242188, \"row_token\": \"001 H\\u00f4m\", \"col_token\": \"006 \\u0111\\u1eb9p\"}, {\"row\": 1, \"column\": 7, \"value\": 5.45583438873291, \"row_token\": \"001 H\\u00f4m\", \"col_token\": \"007 tr\\u1eddi\"}, {\"row\": 1, \"column\": 8, \"value\": 17.941593170166016, \"row_token\": \"001 H\\u00f4m\", \"col_token\": \"008 </s>\"}, {\"row\": 2, \"column\": 0, \"value\": 139.45733642578125, \"row_token\": \"002 nay\", \"col_token\": \"000 <s>\"}, {\"row\": 2, \"column\": 1, \"value\": 15.76065731048584, \"row_token\": \"002 nay\", \"col_token\": \"001 H\\u00f4m\"}, {\"row\": 2, \"column\": 2, \"value\": 139.47190856933594, \"row_token\": \"002 nay\", \"col_token\": \"002 nay\"}, {\"row\": 2, \"column\": 3, \"value\": 113.65763092041016, \"row_token\": \"002 nay\", \"col_token\": \"003 l\\u00e0\"}, {\"row\": 2, \"column\": 4, \"value\": 78.27204895019531, \"row_token\": \"002 nay\", \"col_token\": \"004 m\\u1ed9t\"}, {\"row\": 2, \"column\": 5, \"value\": 2.520906925201416, \"row_token\": \"002 nay\", \"col_token\": \"005 ng\\u00e0y\"}, {\"row\": 2, \"column\": 6, \"value\": 55.930259704589844, \"row_token\": \"002 nay\", \"col_token\": \"006 \\u0111\\u1eb9p\"}, {\"row\": 2, \"column\": 7, \"value\": 35.67255401611328, \"row_token\": \"002 nay\", \"col_token\": \"007 tr\\u1eddi\"}, {\"row\": 2, \"column\": 8, \"value\": 89.44019317626953, \"row_token\": \"002 nay\", \"col_token\": \"008 </s>\"}, {\"row\": 3, \"column\": 0, \"value\": 64.97191619873047, \"row_token\": \"003 l\\u00e0\", \"col_token\": \"000 <s>\"}, {\"row\": 3, \"column\": 1, \"value\": 15.04612922668457, \"row_token\": \"003 l\\u00e0\", \"col_token\": \"001 H\\u00f4m\"}, {\"row\": 3, \"column\": 2, \"value\": 64.76885986328125, \"row_token\": \"003 l\\u00e0\", \"col_token\": \"002 nay\"}, {\"row\": 3, \"column\": 3, \"value\": 54.3770637512207, \"row_token\": \"003 l\\u00e0\", \"col_token\": \"003 l\\u00e0\"}, {\"row\": 3, \"column\": 4, \"value\": 38.87729263305664, \"row_token\": \"003 l\\u00e0\", \"col_token\": \"004 m\\u1ed9t\"}, {\"row\": 3, \"column\": 5, \"value\": 9.18825912475586, \"row_token\": \"003 l\\u00e0\", \"col_token\": \"005 ng\\u00e0y\"}, {\"row\": 3, \"column\": 6, \"value\": 28.731969833374023, \"row_token\": \"003 l\\u00e0\", \"col_token\": \"006 \\u0111\\u1eb9p\"}, {\"row\": 3, \"column\": 7, \"value\": 20.902523040771484, \"row_token\": \"003 l\\u00e0\", \"col_token\": \"007 tr\\u1eddi\"}, {\"row\": 3, \"column\": 8, \"value\": 43.114871978759766, \"row_token\": \"003 l\\u00e0\", \"col_token\": \"008 </s>\"}, {\"row\": 4, \"column\": 0, \"value\": 0.0, \"row_token\": \"004 m\\u1ed9t\", \"col_token\": \"000 <s>\"}, {\"row\": 4, \"column\": 1, \"value\": 10.265607833862305, \"row_token\": \"004 m\\u1ed9t\", \"col_token\": \"001 H\\u00f4m\"}, {\"row\": 4, \"column\": 2, \"value\": 0.0, \"row_token\": \"004 m\\u1ed9t\", \"col_token\": \"002 nay\"}, {\"row\": 4, \"column\": 3, \"value\": 0.5957044959068298, \"row_token\": \"004 m\\u1ed9t\", \"col_token\": \"003 l\\u00e0\"}, {\"row\": 4, \"column\": 4, \"value\": 2.9625134468078613, \"row_token\": \"004 m\\u1ed9t\", \"col_token\": \"004 m\\u1ed9t\"}, {\"row\": 4, \"column\": 5, \"value\": 10.982272148132324, \"row_token\": \"004 m\\u1ed9t\", \"col_token\": \"005 ng\\u00e0y\"}, {\"row\": 4, \"column\": 6, \"value\": 3.810245990753174, \"row_token\": \"004 m\\u1ed9t\", \"col_token\": \"006 \\u0111\\u1eb9p\"}, {\"row\": 4, \"column\": 7, \"value\": 7.006423473358154, \"row_token\": \"004 m\\u1ed9t\", \"col_token\": \"007 tr\\u1eddi\"}, {\"row\": 4, \"column\": 8, \"value\": 1.2005259990692139, \"row_token\": \"004 m\\u1ed9t\", \"col_token\": \"008 </s>\"}, {\"row\": 5, \"column\": 0, \"value\": 3.6140503883361816, \"row_token\": \"005 ng\\u00e0y\", \"col_token\": \"000 <s>\"}, {\"row\": 5, \"column\": 1, \"value\": 12.046747207641602, \"row_token\": \"005 ng\\u00e0y\", \"col_token\": \"001 H\\u00f4m\"}, {\"row\": 5, \"column\": 2, \"value\": 2.4995856285095215, \"row_token\": \"005 ng\\u00e0y\", \"col_token\": \"002 nay\"}, {\"row\": 5, \"column\": 3, \"value\": 2.3737680912017822, \"row_token\": \"005 ng\\u00e0y\", \"col_token\": \"003 l\\u00e0\"}, {\"row\": 5, \"column\": 4, \"value\": 1.083166480064392, \"row_token\": \"005 ng\\u00e0y\", \"col_token\": \"004 m\\u1ed9t\"}, {\"row\": 5, \"column\": 5, \"value\": 11.190774917602539, \"row_token\": \"005 ng\\u00e0y\", \"col_token\": \"005 ng\\u00e0y\"}, {\"row\": 5, \"column\": 6, \"value\": 0.6747415661811829, \"row_token\": \"005 ng\\u00e0y\", \"col_token\": \"006 \\u0111\\u1eb9p\"}, {\"row\": 5, \"column\": 7, \"value\": 0.11233584582805634, \"row_token\": \"005 ng\\u00e0y\", \"col_token\": \"007 tr\\u1eddi\"}, {\"row\": 5, \"column\": 8, \"value\": 1.2681890726089478, \"row_token\": \"005 ng\\u00e0y\", \"col_token\": \"008 </s>\"}, {\"row\": 6, \"column\": 0, \"value\": 0.0, \"row_token\": \"006 \\u0111\\u1eb9p\", \"col_token\": \"000 <s>\"}, {\"row\": 6, \"column\": 1, \"value\": 7.971658229827881, \"row_token\": \"006 \\u0111\\u1eb9p\", \"col_token\": \"001 H\\u00f4m\"}, {\"row\": 6, \"column\": 2, \"value\": 0.0, \"row_token\": \"006 \\u0111\\u1eb9p\", \"col_token\": \"002 nay\"}, {\"row\": 6, \"column\": 3, \"value\": 0.0, \"row_token\": \"006 \\u0111\\u1eb9p\", \"col_token\": \"003 l\\u00e0\"}, {\"row\": 6, \"column\": 4, \"value\": 0.0, \"row_token\": \"006 \\u0111\\u1eb9p\", \"col_token\": \"004 m\\u1ed9t\"}, {\"row\": 6, \"column\": 5, \"value\": 12.138360977172852, \"row_token\": \"006 \\u0111\\u1eb9p\", \"col_token\": \"005 ng\\u00e0y\"}, {\"row\": 6, \"column\": 6, \"value\": 0.0, \"row_token\": \"006 \\u0111\\u1eb9p\", \"col_token\": \"006 \\u0111\\u1eb9p\"}, {\"row\": 6, \"column\": 7, \"value\": 0.0, \"row_token\": \"006 \\u0111\\u1eb9p\", \"col_token\": \"007 tr\\u1eddi\"}, {\"row\": 6, \"column\": 8, \"value\": 0.0, \"row_token\": \"006 \\u0111\\u1eb9p\", \"col_token\": \"008 </s>\"}, {\"row\": 7, \"column\": 0, \"value\": 0.0, \"row_token\": \"007 tr\\u1eddi\", \"col_token\": \"000 <s>\"}, {\"row\": 7, \"column\": 1, \"value\": 4.600222587585449, \"row_token\": \"007 tr\\u1eddi\", \"col_token\": \"001 H\\u00f4m\"}, {\"row\": 7, \"column\": 2, \"value\": 0.0, \"row_token\": \"007 tr\\u1eddi\", \"col_token\": \"002 nay\"}, {\"row\": 7, \"column\": 3, \"value\": 0.0, \"row_token\": \"007 tr\\u1eddi\", \"col_token\": \"003 l\\u00e0\"}, {\"row\": 7, \"column\": 4, \"value\": 0.0, \"row_token\": \"007 tr\\u1eddi\", \"col_token\": \"004 m\\u1ed9t\"}, {\"row\": 7, \"column\": 5, \"value\": 13.023688316345215, \"row_token\": \"007 tr\\u1eddi\", \"col_token\": \"005 ng\\u00e0y\"}, {\"row\": 7, \"column\": 6, \"value\": 0.0, \"row_token\": \"007 tr\\u1eddi\", \"col_token\": \"006 \\u0111\\u1eb9p\"}, {\"row\": 7, \"column\": 7, \"value\": 0.0, \"row_token\": \"007 tr\\u1eddi\", \"col_token\": \"007 tr\\u1eddi\"}, {\"row\": 7, \"column\": 8, \"value\": 0.0, \"row_token\": \"007 tr\\u1eddi\", \"col_token\": \"008 </s>\"}, {\"row\": 8, \"column\": 0, \"value\": 26.77958869934082, \"row_token\": \"008 </s>\", \"col_token\": \"000 <s>\"}, {\"row\": 8, \"column\": 1, \"value\": 11.678031921386719, \"row_token\": \"008 </s>\", \"col_token\": \"001 H\\u00f4m\"}, {\"row\": 8, \"column\": 2, \"value\": 26.795530319213867, \"row_token\": \"008 </s>\", \"col_token\": \"002 nay\"}, {\"row\": 8, \"column\": 3, \"value\": 24.207359313964844, \"row_token\": \"008 </s>\", \"col_token\": \"003 l\\u00e0\"}, {\"row\": 8, \"column\": 4, \"value\": 19.246171951293945, \"row_token\": \"008 </s>\", \"col_token\": \"004 m\\u1ed9t\"}, {\"row\": 8, \"column\": 5, \"value\": 9.72629165649414, \"row_token\": \"008 </s>\", \"col_token\": \"005 ng\\u00e0y\"}, {\"row\": 8, \"column\": 6, \"value\": 15.451456069946289, \"row_token\": \"008 </s>\", \"col_token\": \"006 \\u0111\\u1eb9p\"}, {\"row\": 8, \"column\": 7, \"value\": 13.928937911987305, \"row_token\": \"008 </s>\", \"col_token\": \"007 tr\\u1eddi\"}, {\"row\": 8, \"column\": 8, \"value\": 20.032878875732422, \"row_token\": \"008 </s>\", \"col_token\": \"008 </s>\"}], \"data-1ad0f20831ba6890fc174f4eb52570e1\": [{\"row\": 0, \"column\": 0, \"value\": 0.0, \"row_token\": \"000 <s>\", \"col_token\": \"000 <s>\"}, {\"row\": 0, \"column\": 1, \"value\": 0.0, \"row_token\": \"000 <s>\", \"col_token\": \"001 H\\u00f4m\"}, {\"row\": 0, \"column\": 2, \"value\": 0.0, \"row_token\": \"000 <s>\", \"col_token\": \"002 nay\"}, {\"row\": 0, \"column\": 3, \"value\": 0.0, \"row_token\": \"000 <s>\", \"col_token\": \"003 l\\u00e0\"}, {\"row\": 0, \"column\": 4, \"value\": 0.0, \"row_token\": \"000 <s>\", \"col_token\": \"004 m\\u1ed9t\"}, {\"row\": 0, \"column\": 5, \"value\": 0.0, \"row_token\": \"000 <s>\", \"col_token\": \"005 ng\\u00e0y\"}, {\"row\": 0, \"column\": 6, \"value\": 0.0, \"row_token\": \"000 <s>\", \"col_token\": \"006 \\u0111\\u1eb9p\"}, {\"row\": 0, \"column\": 7, \"value\": 20.54716682434082, \"row_token\": \"000 <s>\", \"col_token\": \"007 tr\\u1eddi\"}, {\"row\": 0, \"column\": 8, \"value\": 0.0, \"row_token\": \"000 <s>\", \"col_token\": \"008 </s>\"}, {\"row\": 1, \"column\": 0, \"value\": 18.97856330871582, \"row_token\": \"001 H\\u00f4m\", \"col_token\": \"000 <s>\"}, {\"row\": 1, \"column\": 1, \"value\": 0.0, \"row_token\": \"001 H\\u00f4m\", \"col_token\": \"001 H\\u00f4m\"}, {\"row\": 1, \"column\": 2, \"value\": 23.252605438232422, \"row_token\": \"001 H\\u00f4m\", \"col_token\": \"002 nay\"}, {\"row\": 1, \"column\": 3, \"value\": 29.35257911682129, \"row_token\": \"001 H\\u00f4m\", \"col_token\": \"003 l\\u00e0\"}, {\"row\": 1, \"column\": 4, \"value\": 30.787647247314453, \"row_token\": \"001 H\\u00f4m\", \"col_token\": \"004 m\\u1ed9t\"}, {\"row\": 1, \"column\": 5, \"value\": 0.0, \"row_token\": \"001 H\\u00f4m\", \"col_token\": \"005 ng\\u00e0y\"}, {\"row\": 1, \"column\": 6, \"value\": 30.16343116760254, \"row_token\": \"001 H\\u00f4m\", \"col_token\": \"006 \\u0111\\u1eb9p\"}, {\"row\": 1, \"column\": 7, \"value\": 28.037748336791992, \"row_token\": \"001 H\\u00f4m\", \"col_token\": \"007 tr\\u1eddi\"}, {\"row\": 1, \"column\": 8, \"value\": 31.122865676879883, \"row_token\": \"001 H\\u00f4m\", \"col_token\": \"008 </s>\"}, {\"row\": 2, \"column\": 0, \"value\": 0.0, \"row_token\": \"002 nay\", \"col_token\": \"000 <s>\"}, {\"row\": 2, \"column\": 1, \"value\": 0.0, \"row_token\": \"002 nay\", \"col_token\": \"001 H\\u00f4m\"}, {\"row\": 2, \"column\": 2, \"value\": 0.0, \"row_token\": \"002 nay\", \"col_token\": \"002 nay\"}, {\"row\": 2, \"column\": 3, \"value\": 0.0, \"row_token\": \"002 nay\", \"col_token\": \"003 l\\u00e0\"}, {\"row\": 2, \"column\": 4, \"value\": 0.0, \"row_token\": \"002 nay\", \"col_token\": \"004 m\\u1ed9t\"}, {\"row\": 2, \"column\": 5, \"value\": 0.0, \"row_token\": \"002 nay\", \"col_token\": \"005 ng\\u00e0y\"}, {\"row\": 2, \"column\": 6, \"value\": 0.0, \"row_token\": \"002 nay\", \"col_token\": \"006 \\u0111\\u1eb9p\"}, {\"row\": 2, \"column\": 7, \"value\": 14.838608741760254, \"row_token\": \"002 nay\", \"col_token\": \"007 tr\\u1eddi\"}, {\"row\": 2, \"column\": 8, \"value\": 0.0, \"row_token\": \"002 nay\", \"col_token\": \"008 </s>\"}, {\"row\": 3, \"column\": 0, \"value\": 0.0, \"row_token\": \"003 l\\u00e0\", \"col_token\": \"000 <s>\"}, {\"row\": 3, \"column\": 1, \"value\": 0.0, \"row_token\": \"003 l\\u00e0\", \"col_token\": \"001 H\\u00f4m\"}, {\"row\": 3, \"column\": 2, \"value\": 0.0, \"row_token\": \"003 l\\u00e0\", \"col_token\": \"002 nay\"}, {\"row\": 3, \"column\": 3, \"value\": 0.0, \"row_token\": \"003 l\\u00e0\", \"col_token\": \"003 l\\u00e0\"}, {\"row\": 3, \"column\": 4, \"value\": 0.0, \"row_token\": \"003 l\\u00e0\", \"col_token\": \"004 m\\u1ed9t\"}, {\"row\": 3, \"column\": 5, \"value\": 0.0, \"row_token\": \"003 l\\u00e0\", \"col_token\": \"005 ng\\u00e0y\"}, {\"row\": 3, \"column\": 6, \"value\": 0.0, \"row_token\": \"003 l\\u00e0\", \"col_token\": \"006 \\u0111\\u1eb9p\"}, {\"row\": 3, \"column\": 7, \"value\": 0.0, \"row_token\": \"003 l\\u00e0\", \"col_token\": \"007 tr\\u1eddi\"}, {\"row\": 3, \"column\": 8, \"value\": 0.0, \"row_token\": \"003 l\\u00e0\", \"col_token\": \"008 </s>\"}, {\"row\": 4, \"column\": 0, \"value\": 0.0, \"row_token\": \"004 m\\u1ed9t\", \"col_token\": \"000 <s>\"}, {\"row\": 4, \"column\": 1, \"value\": 0.0, \"row_token\": \"004 m\\u1ed9t\", \"col_token\": \"001 H\\u00f4m\"}, {\"row\": 4, \"column\": 2, \"value\": 0.0, \"row_token\": \"004 m\\u1ed9t\", \"col_token\": \"002 nay\"}, {\"row\": 4, \"column\": 3, \"value\": 0.0, \"row_token\": \"004 m\\u1ed9t\", \"col_token\": \"003 l\\u00e0\"}, {\"row\": 4, \"column\": 4, \"value\": 0.0, \"row_token\": \"004 m\\u1ed9t\", \"col_token\": \"004 m\\u1ed9t\"}, {\"row\": 4, \"column\": 5, \"value\": 0.0, \"row_token\": \"004 m\\u1ed9t\", \"col_token\": \"005 ng\\u00e0y\"}, {\"row\": 4, \"column\": 6, \"value\": 0.0, \"row_token\": \"004 m\\u1ed9t\", \"col_token\": \"006 \\u0111\\u1eb9p\"}, {\"row\": 4, \"column\": 7, \"value\": 0.0, \"row_token\": \"004 m\\u1ed9t\", \"col_token\": \"007 tr\\u1eddi\"}, {\"row\": 4, \"column\": 8, \"value\": 0.0, \"row_token\": \"004 m\\u1ed9t\", \"col_token\": \"008 </s>\"}, {\"row\": 5, \"column\": 0, \"value\": 12.232484817504883, \"row_token\": \"005 ng\\u00e0y\", \"col_token\": \"000 <s>\"}, {\"row\": 5, \"column\": 1, \"value\": 0.0, \"row_token\": \"005 ng\\u00e0y\", \"col_token\": \"001 H\\u00f4m\"}, {\"row\": 5, \"column\": 2, \"value\": 15.62197494506836, \"row_token\": \"005 ng\\u00e0y\", \"col_token\": \"002 nay\"}, {\"row\": 5, \"column\": 3, \"value\": 21.192453384399414, \"row_token\": \"005 ng\\u00e0y\", \"col_token\": \"003 l\\u00e0\"}, {\"row\": 5, \"column\": 4, \"value\": 22.723196029663086, \"row_token\": \"005 ng\\u00e0y\", \"col_token\": \"004 m\\u1ed9t\"}, {\"row\": 5, \"column\": 5, \"value\": 0.0, \"row_token\": \"005 ng\\u00e0y\", \"col_token\": \"005 ng\\u00e0y\"}, {\"row\": 5, \"column\": 6, \"value\": 22.530292510986328, \"row_token\": \"005 ng\\u00e0y\", \"col_token\": \"006 \\u0111\\u1eb9p\"}, {\"row\": 5, \"column\": 7, \"value\": 20.960819244384766, \"row_token\": \"005 ng\\u00e0y\", \"col_token\": \"007 tr\\u1eddi\"}, {\"row\": 5, \"column\": 8, \"value\": 22.84595489501953, \"row_token\": \"005 ng\\u00e0y\", \"col_token\": \"008 </s>\"}, {\"row\": 6, \"column\": 0, \"value\": 0.0, \"row_token\": \"006 \\u0111\\u1eb9p\", \"col_token\": \"000 <s>\"}, {\"row\": 6, \"column\": 1, \"value\": 0.0, \"row_token\": \"006 \\u0111\\u1eb9p\", \"col_token\": \"001 H\\u00f4m\"}, {\"row\": 6, \"column\": 2, \"value\": 0.0, \"row_token\": \"006 \\u0111\\u1eb9p\", \"col_token\": \"002 nay\"}, {\"row\": 6, \"column\": 3, \"value\": 0.0, \"row_token\": \"006 \\u0111\\u1eb9p\", \"col_token\": \"003 l\\u00e0\"}, {\"row\": 6, \"column\": 4, \"value\": 0.0, \"row_token\": \"006 \\u0111\\u1eb9p\", \"col_token\": \"004 m\\u1ed9t\"}, {\"row\": 6, \"column\": 5, \"value\": 0.0, \"row_token\": \"006 \\u0111\\u1eb9p\", \"col_token\": \"005 ng\\u00e0y\"}, {\"row\": 6, \"column\": 6, \"value\": 0.0, \"row_token\": \"006 \\u0111\\u1eb9p\", \"col_token\": \"006 \\u0111\\u1eb9p\"}, {\"row\": 6, \"column\": 7, \"value\": 0.0, \"row_token\": \"006 \\u0111\\u1eb9p\", \"col_token\": \"007 tr\\u1eddi\"}, {\"row\": 6, \"column\": 8, \"value\": 0.0, \"row_token\": \"006 \\u0111\\u1eb9p\", \"col_token\": \"008 </s>\"}, {\"row\": 7, \"column\": 0, \"value\": 0.0, \"row_token\": \"007 tr\\u1eddi\", \"col_token\": \"000 <s>\"}, {\"row\": 7, \"column\": 1, \"value\": 0.0, \"row_token\": \"007 tr\\u1eddi\", \"col_token\": \"001 H\\u00f4m\"}, {\"row\": 7, \"column\": 2, \"value\": 0.0, \"row_token\": \"007 tr\\u1eddi\", \"col_token\": \"002 nay\"}, {\"row\": 7, \"column\": 3, \"value\": 0.0, \"row_token\": \"007 tr\\u1eddi\", \"col_token\": \"003 l\\u00e0\"}, {\"row\": 7, \"column\": 4, \"value\": 0.0, \"row_token\": \"007 tr\\u1eddi\", \"col_token\": \"004 m\\u1ed9t\"}, {\"row\": 7, \"column\": 5, \"value\": 0.0, \"row_token\": \"007 tr\\u1eddi\", \"col_token\": \"005 ng\\u00e0y\"}, {\"row\": 7, \"column\": 6, \"value\": 0.0, \"row_token\": \"007 tr\\u1eddi\", \"col_token\": \"006 \\u0111\\u1eb9p\"}, {\"row\": 7, \"column\": 7, \"value\": 0.0, \"row_token\": \"007 tr\\u1eddi\", \"col_token\": \"007 tr\\u1eddi\"}, {\"row\": 7, \"column\": 8, \"value\": 0.0, \"row_token\": \"007 tr\\u1eddi\", \"col_token\": \"008 </s>\"}, {\"row\": 8, \"column\": 0, \"value\": 0.0, \"row_token\": \"008 </s>\", \"col_token\": \"000 <s>\"}, {\"row\": 8, \"column\": 1, \"value\": 0.0, \"row_token\": \"008 </s>\", \"col_token\": \"001 H\\u00f4m\"}, {\"row\": 8, \"column\": 2, \"value\": 0.0, \"row_token\": \"008 </s>\", \"col_token\": \"002 nay\"}, {\"row\": 8, \"column\": 3, \"value\": 0.0, \"row_token\": \"008 </s>\", \"col_token\": \"003 l\\u00e0\"}, {\"row\": 8, \"column\": 4, \"value\": 0.0, \"row_token\": \"008 </s>\", \"col_token\": \"004 m\\u1ed9t\"}, {\"row\": 8, \"column\": 5, \"value\": 0.0, \"row_token\": \"008 </s>\", \"col_token\": \"005 ng\\u00e0y\"}, {\"row\": 8, \"column\": 6, \"value\": 0.0, \"row_token\": \"008 </s>\", \"col_token\": \"006 \\u0111\\u1eb9p\"}, {\"row\": 8, \"column\": 7, \"value\": 0.0, \"row_token\": \"008 </s>\", \"col_token\": \"007 tr\\u1eddi\"}, {\"row\": 8, \"column\": 8, \"value\": 0.0, \"row_token\": \"008 </s>\", \"col_token\": \"008 </s>\"}], \"data-d0abe1196b97b5a9cbd9a80f8475a964\": [{\"row\": 0, \"column\": 0, \"value\": 0.0, \"row_token\": \"000 <s>\", \"col_token\": \"000 <s>\"}, {\"row\": 0, \"column\": 1, \"value\": 0.0, \"row_token\": \"000 <s>\", \"col_token\": \"001 H\\u00f4m\"}, {\"row\": 0, \"column\": 2, \"value\": 0.0, \"row_token\": \"000 <s>\", \"col_token\": \"002 nay\"}, {\"row\": 0, \"column\": 3, \"value\": 0.0, \"row_token\": \"000 <s>\", \"col_token\": \"003 l\\u00e0\"}, {\"row\": 0, \"column\": 4, \"value\": 0.0, \"row_token\": \"000 <s>\", \"col_token\": \"004 m\\u1ed9t\"}, {\"row\": 0, \"column\": 5, \"value\": 0.0, \"row_token\": \"000 <s>\", \"col_token\": \"005 ng\\u00e0y\"}, {\"row\": 0, \"column\": 6, \"value\": 0.0, \"row_token\": \"000 <s>\", \"col_token\": \"006 \\u0111\\u1eb9p\"}, {\"row\": 0, \"column\": 7, \"value\": 0.0, \"row_token\": \"000 <s>\", \"col_token\": \"007 tr\\u1eddi\"}, {\"row\": 0, \"column\": 8, \"value\": 0.0, \"row_token\": \"000 <s>\", \"col_token\": \"008 </s>\"}, {\"row\": 1, \"column\": 0, \"value\": 75.56859588623047, \"row_token\": \"001 H\\u00f4m\", \"col_token\": \"000 <s>\"}, {\"row\": 1, \"column\": 1, \"value\": 55.92028045654297, \"row_token\": \"001 H\\u00f4m\", \"col_token\": \"001 H\\u00f4m\"}, {\"row\": 1, \"column\": 2, \"value\": 77.46179962158203, \"row_token\": \"001 H\\u00f4m\", \"col_token\": \"002 nay\"}, {\"row\": 1, \"column\": 3, \"value\": 72.37106323242188, \"row_token\": \"001 H\\u00f4m\", \"col_token\": \"003 l\\u00e0\"}, {\"row\": 1, \"column\": 4, \"value\": 58.56992721557617, \"row_token\": \"001 H\\u00f4m\", \"col_token\": \"004 m\\u1ed9t\"}, {\"row\": 1, \"column\": 5, \"value\": 52.40627670288086, \"row_token\": \"001 H\\u00f4m\", \"col_token\": \"005 ng\\u00e0y\"}, {\"row\": 1, \"column\": 6, \"value\": 47.67182922363281, \"row_token\": \"001 H\\u00f4m\", \"col_token\": \"006 \\u0111\\u1eb9p\"}, {\"row\": 1, \"column\": 7, \"value\": 19.499435424804688, \"row_token\": \"001 H\\u00f4m\", \"col_token\": \"007 tr\\u1eddi\"}, {\"row\": 1, \"column\": 8, \"value\": 71.63475799560547, \"row_token\": \"001 H\\u00f4m\", \"col_token\": \"008 </s>\"}, {\"row\": 2, \"column\": 0, \"value\": 0.0, \"row_token\": \"002 nay\", \"col_token\": \"000 <s>\"}, {\"row\": 2, \"column\": 1, \"value\": 0.0, \"row_token\": \"002 nay\", \"col_token\": \"001 H\\u00f4m\"}, {\"row\": 2, \"column\": 2, \"value\": 0.0, \"row_token\": \"002 nay\", \"col_token\": \"002 nay\"}, {\"row\": 2, \"column\": 3, \"value\": 0.0, \"row_token\": \"002 nay\", \"col_token\": \"003 l\\u00e0\"}, {\"row\": 2, \"column\": 4, \"value\": 0.0, \"row_token\": \"002 nay\", \"col_token\": \"004 m\\u1ed9t\"}, {\"row\": 2, \"column\": 5, \"value\": 0.0, \"row_token\": \"002 nay\", \"col_token\": \"005 ng\\u00e0y\"}, {\"row\": 2, \"column\": 6, \"value\": 0.0, \"row_token\": \"002 nay\", \"col_token\": \"006 \\u0111\\u1eb9p\"}, {\"row\": 2, \"column\": 7, \"value\": 0.0, \"row_token\": \"002 nay\", \"col_token\": \"007 tr\\u1eddi\"}, {\"row\": 2, \"column\": 8, \"value\": 0.0, \"row_token\": \"002 nay\", \"col_token\": \"008 </s>\"}, {\"row\": 3, \"column\": 0, \"value\": 0.0, \"row_token\": \"003 l\\u00e0\", \"col_token\": \"000 <s>\"}, {\"row\": 3, \"column\": 1, \"value\": 0.0, \"row_token\": \"003 l\\u00e0\", \"col_token\": \"001 H\\u00f4m\"}, {\"row\": 3, \"column\": 2, \"value\": 0.0, \"row_token\": \"003 l\\u00e0\", \"col_token\": \"002 nay\"}, {\"row\": 3, \"column\": 3, \"value\": 0.0, \"row_token\": \"003 l\\u00e0\", \"col_token\": \"003 l\\u00e0\"}, {\"row\": 3, \"column\": 4, \"value\": 0.0, \"row_token\": \"003 l\\u00e0\", \"col_token\": \"004 m\\u1ed9t\"}, {\"row\": 3, \"column\": 5, \"value\": 0.0, \"row_token\": \"003 l\\u00e0\", \"col_token\": \"005 ng\\u00e0y\"}, {\"row\": 3, \"column\": 6, \"value\": 0.0, \"row_token\": \"003 l\\u00e0\", \"col_token\": \"006 \\u0111\\u1eb9p\"}, {\"row\": 3, \"column\": 7, \"value\": 0.0, \"row_token\": \"003 l\\u00e0\", \"col_token\": \"007 tr\\u1eddi\"}, {\"row\": 3, \"column\": 8, \"value\": 0.0, \"row_token\": \"003 l\\u00e0\", \"col_token\": \"008 </s>\"}, {\"row\": 4, \"column\": 0, \"value\": 0.0, \"row_token\": \"004 m\\u1ed9t\", \"col_token\": \"000 <s>\"}, {\"row\": 4, \"column\": 1, \"value\": 0.0, \"row_token\": \"004 m\\u1ed9t\", \"col_token\": \"001 H\\u00f4m\"}, {\"row\": 4, \"column\": 2, \"value\": 0.0, \"row_token\": \"004 m\\u1ed9t\", \"col_token\": \"002 nay\"}, {\"row\": 4, \"column\": 3, \"value\": 0.0, \"row_token\": \"004 m\\u1ed9t\", \"col_token\": \"003 l\\u00e0\"}, {\"row\": 4, \"column\": 4, \"value\": 0.0, \"row_token\": \"004 m\\u1ed9t\", \"col_token\": \"004 m\\u1ed9t\"}, {\"row\": 4, \"column\": 5, \"value\": 0.0, \"row_token\": \"004 m\\u1ed9t\", \"col_token\": \"005 ng\\u00e0y\"}, {\"row\": 4, \"column\": 6, \"value\": 0.0, \"row_token\": \"004 m\\u1ed9t\", \"col_token\": \"006 \\u0111\\u1eb9p\"}, {\"row\": 4, \"column\": 7, \"value\": 0.0, \"row_token\": \"004 m\\u1ed9t\", \"col_token\": \"007 tr\\u1eddi\"}, {\"row\": 4, \"column\": 8, \"value\": 0.0, \"row_token\": \"004 m\\u1ed9t\", \"col_token\": \"008 </s>\"}, {\"row\": 5, \"column\": 0, \"value\": 78.8724365234375, \"row_token\": \"005 ng\\u00e0y\", \"col_token\": \"000 <s>\"}, {\"row\": 5, \"column\": 1, \"value\": 67.96354675292969, \"row_token\": \"005 ng\\u00e0y\", \"col_token\": \"001 H\\u00f4m\"}, {\"row\": 5, \"column\": 2, \"value\": 80.45378112792969, \"row_token\": \"005 ng\\u00e0y\", \"col_token\": \"002 nay\"}, {\"row\": 5, \"column\": 3, \"value\": 76.56387329101562, \"row_token\": \"005 ng\\u00e0y\", \"col_token\": \"003 l\\u00e0\"}, {\"row\": 5, \"column\": 4, \"value\": 62.000404357910156, \"row_token\": \"005 ng\\u00e0y\", \"col_token\": \"004 m\\u1ed9t\"}, {\"row\": 5, \"column\": 5, \"value\": 64.51483154296875, \"row_token\": \"005 ng\\u00e0y\", \"col_token\": \"005 ng\\u00e0y\"}, {\"row\": 5, \"column\": 6, \"value\": 50.45940017700195, \"row_token\": \"005 ng\\u00e0y\", \"col_token\": \"006 \\u0111\\u1eb9p\"}, {\"row\": 5, \"column\": 7, \"value\": 20.407472610473633, \"row_token\": \"005 ng\\u00e0y\", \"col_token\": \"007 tr\\u1eddi\"}, {\"row\": 5, \"column\": 8, \"value\": 75.59066009521484, \"row_token\": \"005 ng\\u00e0y\", \"col_token\": \"008 </s>\"}, {\"row\": 6, \"column\": 0, \"value\": 0.0, \"row_token\": \"006 \\u0111\\u1eb9p\", \"col_token\": \"000 <s>\"}, {\"row\": 6, \"column\": 1, \"value\": 0.0, \"row_token\": \"006 \\u0111\\u1eb9p\", \"col_token\": \"001 H\\u00f4m\"}, {\"row\": 6, \"column\": 2, \"value\": 0.0, \"row_token\": \"006 \\u0111\\u1eb9p\", \"col_token\": \"002 nay\"}, {\"row\": 6, \"column\": 3, \"value\": 0.0, \"row_token\": \"006 \\u0111\\u1eb9p\", \"col_token\": \"003 l\\u00e0\"}, {\"row\": 6, \"column\": 4, \"value\": 0.0, \"row_token\": \"006 \\u0111\\u1eb9p\", \"col_token\": \"004 m\\u1ed9t\"}, {\"row\": 6, \"column\": 5, \"value\": 0.0, \"row_token\": \"006 \\u0111\\u1eb9p\", \"col_token\": \"005 ng\\u00e0y\"}, {\"row\": 6, \"column\": 6, \"value\": 0.0, \"row_token\": \"006 \\u0111\\u1eb9p\", \"col_token\": \"006 \\u0111\\u1eb9p\"}, {\"row\": 6, \"column\": 7, \"value\": 0.0, \"row_token\": \"006 \\u0111\\u1eb9p\", \"col_token\": \"007 tr\\u1eddi\"}, {\"row\": 6, \"column\": 8, \"value\": 0.0, \"row_token\": \"006 \\u0111\\u1eb9p\", \"col_token\": \"008 </s>\"}, {\"row\": 7, \"column\": 0, \"value\": 0.6263280510902405, \"row_token\": \"007 tr\\u1eddi\", \"col_token\": \"000 <s>\"}, {\"row\": 7, \"column\": 1, \"value\": 10.14182186126709, \"row_token\": \"007 tr\\u1eddi\", \"col_token\": \"001 H\\u00f4m\"}, {\"row\": 7, \"column\": 2, \"value\": 0.0, \"row_token\": \"007 tr\\u1eddi\", \"col_token\": \"002 nay\"}, {\"row\": 7, \"column\": 3, \"value\": 0.0, \"row_token\": \"007 tr\\u1eddi\", \"col_token\": \"003 l\\u00e0\"}, {\"row\": 7, \"column\": 4, \"value\": 0.0, \"row_token\": \"007 tr\\u1eddi\", \"col_token\": \"004 m\\u1ed9t\"}, {\"row\": 7, \"column\": 5, \"value\": 9.13487434387207, \"row_token\": \"007 tr\\u1eddi\", \"col_token\": \"005 ng\\u00e0y\"}, {\"row\": 7, \"column\": 6, \"value\": 0.0, \"row_token\": \"007 tr\\u1eddi\", \"col_token\": \"006 \\u0111\\u1eb9p\"}, {\"row\": 7, \"column\": 7, \"value\": 0.0, \"row_token\": \"007 tr\\u1eddi\", \"col_token\": \"007 tr\\u1eddi\"}, {\"row\": 7, \"column\": 8, \"value\": 0.0, \"row_token\": \"007 tr\\u1eddi\", \"col_token\": \"008 </s>\"}, {\"row\": 8, \"column\": 0, \"value\": 0.0, \"row_token\": \"008 </s>\", \"col_token\": \"000 <s>\"}, {\"row\": 8, \"column\": 1, \"value\": 0.0, \"row_token\": \"008 </s>\", \"col_token\": \"001 H\\u00f4m\"}, {\"row\": 8, \"column\": 2, \"value\": 0.0, \"row_token\": \"008 </s>\", \"col_token\": \"002 nay\"}, {\"row\": 8, \"column\": 3, \"value\": 0.0, \"row_token\": \"008 </s>\", \"col_token\": \"003 l\\u00e0\"}, {\"row\": 8, \"column\": 4, \"value\": 0.0, \"row_token\": \"008 </s>\", \"col_token\": \"004 m\\u1ed9t\"}, {\"row\": 8, \"column\": 5, \"value\": 0.0, \"row_token\": \"008 </s>\", \"col_token\": \"005 ng\\u00e0y\"}, {\"row\": 8, \"column\": 6, \"value\": 0.0, \"row_token\": \"008 </s>\", \"col_token\": \"006 \\u0111\\u1eb9p\"}, {\"row\": 8, \"column\": 7, \"value\": 0.0, \"row_token\": \"008 </s>\", \"col_token\": \"007 tr\\u1eddi\"}, {\"row\": 8, \"column\": 8, \"value\": 0.0, \"row_token\": \"008 </s>\", \"col_token\": \"008 </s>\"}], \"data-fc9120d6b90480ce2e5b1cd01bf7d239\": [{\"row\": 0, \"column\": 0, \"value\": 55.60554885864258, \"row_token\": \"000 <s>\", \"col_token\": \"000 <s>\"}, {\"row\": 0, \"column\": 1, \"value\": 0.0, \"row_token\": \"000 <s>\", \"col_token\": \"001 H\\u00f4m\"}, {\"row\": 0, \"column\": 2, \"value\": 45.46456527709961, \"row_token\": \"000 <s>\", \"col_token\": \"002 nay\"}, {\"row\": 0, \"column\": 3, \"value\": 0.0, \"row_token\": \"000 <s>\", \"col_token\": \"003 l\\u00e0\"}, {\"row\": 0, \"column\": 4, \"value\": 0.0, \"row_token\": \"000 <s>\", \"col_token\": \"004 m\\u1ed9t\"}, {\"row\": 0, \"column\": 5, \"value\": 0.0, \"row_token\": \"000 <s>\", \"col_token\": \"005 ng\\u00e0y\"}, {\"row\": 0, \"column\": 6, \"value\": 0.0, \"row_token\": \"000 <s>\", \"col_token\": \"006 \\u0111\\u1eb9p\"}, {\"row\": 0, \"column\": 7, \"value\": 0.0, \"row_token\": \"000 <s>\", \"col_token\": \"007 tr\\u1eddi\"}, {\"row\": 0, \"column\": 8, \"value\": 0.0, \"row_token\": \"000 <s>\", \"col_token\": \"008 </s>\"}, {\"row\": 1, \"column\": 0, \"value\": 64.96651458740234, \"row_token\": \"001 H\\u00f4m\", \"col_token\": \"000 <s>\"}, {\"row\": 1, \"column\": 1, \"value\": 77.42399597167969, \"row_token\": \"001 H\\u00f4m\", \"col_token\": \"001 H\\u00f4m\"}, {\"row\": 1, \"column\": 2, \"value\": 68.44911193847656, \"row_token\": \"001 H\\u00f4m\", \"col_token\": \"002 nay\"}, {\"row\": 1, \"column\": 3, \"value\": 90.47984313964844, \"row_token\": \"001 H\\u00f4m\", \"col_token\": \"003 l\\u00e0\"}, {\"row\": 1, \"column\": 4, \"value\": 94.6792221069336, \"row_token\": \"001 H\\u00f4m\", \"col_token\": \"004 m\\u1ed9t\"}, {\"row\": 1, \"column\": 5, \"value\": 80.86923217773438, \"row_token\": \"001 H\\u00f4m\", \"col_token\": \"005 ng\\u00e0y\"}, {\"row\": 1, \"column\": 6, \"value\": 93.12786865234375, \"row_token\": \"001 H\\u00f4m\", \"col_token\": \"006 \\u0111\\u1eb9p\"}, {\"row\": 1, \"column\": 7, \"value\": 91.16278076171875, \"row_token\": \"001 H\\u00f4m\", \"col_token\": \"007 tr\\u1eddi\"}, {\"row\": 1, \"column\": 8, \"value\": 91.06288146972656, \"row_token\": \"001 H\\u00f4m\", \"col_token\": \"008 </s>\"}, {\"row\": 2, \"column\": 0, \"value\": 53.36238098144531, \"row_token\": \"002 nay\", \"col_token\": \"000 <s>\"}, {\"row\": 2, \"column\": 1, \"value\": 0.0, \"row_token\": \"002 nay\", \"col_token\": \"001 H\\u00f4m\"}, {\"row\": 2, \"column\": 2, \"value\": 43.082401275634766, \"row_token\": \"002 nay\", \"col_token\": \"002 nay\"}, {\"row\": 2, \"column\": 3, \"value\": 0.0, \"row_token\": \"002 nay\", \"col_token\": \"003 l\\u00e0\"}, {\"row\": 2, \"column\": 4, \"value\": 0.0, \"row_token\": \"002 nay\", \"col_token\": \"004 m\\u1ed9t\"}, {\"row\": 2, \"column\": 5, \"value\": 0.0, \"row_token\": \"002 nay\", \"col_token\": \"005 ng\\u00e0y\"}, {\"row\": 2, \"column\": 6, \"value\": 0.0, \"row_token\": \"002 nay\", \"col_token\": \"006 \\u0111\\u1eb9p\"}, {\"row\": 2, \"column\": 7, \"value\": 0.0, \"row_token\": \"002 nay\", \"col_token\": \"007 tr\\u1eddi\"}, {\"row\": 2, \"column\": 8, \"value\": 0.0, \"row_token\": \"002 nay\", \"col_token\": \"008 </s>\"}, {\"row\": 3, \"column\": 0, \"value\": 50.615543365478516, \"row_token\": \"003 l\\u00e0\", \"col_token\": \"000 <s>\"}, {\"row\": 3, \"column\": 1, \"value\": 0.0, \"row_token\": \"003 l\\u00e0\", \"col_token\": \"001 H\\u00f4m\"}, {\"row\": 3, \"column\": 2, \"value\": 43.15864181518555, \"row_token\": \"003 l\\u00e0\", \"col_token\": \"002 nay\"}, {\"row\": 3, \"column\": 3, \"value\": 0.0, \"row_token\": \"003 l\\u00e0\", \"col_token\": \"003 l\\u00e0\"}, {\"row\": 3, \"column\": 4, \"value\": 0.0, \"row_token\": \"003 l\\u00e0\", \"col_token\": \"004 m\\u1ed9t\"}, {\"row\": 3, \"column\": 5, \"value\": 0.0, \"row_token\": \"003 l\\u00e0\", \"col_token\": \"005 ng\\u00e0y\"}, {\"row\": 3, \"column\": 6, \"value\": 0.0, \"row_token\": \"003 l\\u00e0\", \"col_token\": \"006 \\u0111\\u1eb9p\"}, {\"row\": 3, \"column\": 7, \"value\": 0.0, \"row_token\": \"003 l\\u00e0\", \"col_token\": \"007 tr\\u1eddi\"}, {\"row\": 3, \"column\": 8, \"value\": 0.0, \"row_token\": \"003 l\\u00e0\", \"col_token\": \"008 </s>\"}, {\"row\": 4, \"column\": 0, \"value\": 39.69804000854492, \"row_token\": \"004 m\\u1ed9t\", \"col_token\": \"000 <s>\"}, {\"row\": 4, \"column\": 1, \"value\": 0.0, \"row_token\": \"004 m\\u1ed9t\", \"col_token\": \"001 H\\u00f4m\"}, {\"row\": 4, \"column\": 2, \"value\": 34.5216064453125, \"row_token\": \"004 m\\u1ed9t\", \"col_token\": \"002 nay\"}, {\"row\": 4, \"column\": 3, \"value\": 1.711551308631897, \"row_token\": \"004 m\\u1ed9t\", \"col_token\": \"003 l\\u00e0\"}, {\"row\": 4, \"column\": 4, \"value\": 0.0, \"row_token\": \"004 m\\u1ed9t\", \"col_token\": \"004 m\\u1ed9t\"}, {\"row\": 4, \"column\": 5, \"value\": 0.0, \"row_token\": \"004 m\\u1ed9t\", \"col_token\": \"005 ng\\u00e0y\"}, {\"row\": 4, \"column\": 6, \"value\": 0.0, \"row_token\": \"004 m\\u1ed9t\", \"col_token\": \"006 \\u0111\\u1eb9p\"}, {\"row\": 4, \"column\": 7, \"value\": 0.0, \"row_token\": \"004 m\\u1ed9t\", \"col_token\": \"007 tr\\u1eddi\"}, {\"row\": 4, \"column\": 8, \"value\": 0.0, \"row_token\": \"004 m\\u1ed9t\", \"col_token\": \"008 </s>\"}, {\"row\": 5, \"column\": 0, \"value\": 60.4215202331543, \"row_token\": \"005 ng\\u00e0y\", \"col_token\": \"000 <s>\"}, {\"row\": 5, \"column\": 1, \"value\": 80.90286254882812, \"row_token\": \"005 ng\\u00e0y\", \"col_token\": \"001 H\\u00f4m\"}, {\"row\": 5, \"column\": 2, \"value\": 64.96678924560547, \"row_token\": \"005 ng\\u00e0y\", \"col_token\": \"002 nay\"}, {\"row\": 5, \"column\": 3, \"value\": 93.50606536865234, \"row_token\": \"005 ng\\u00e0y\", \"col_token\": \"003 l\\u00e0\"}, {\"row\": 5, \"column\": 4, \"value\": 101.68659210205078, \"row_token\": \"005 ng\\u00e0y\", \"col_token\": \"004 m\\u1ed9t\"}, {\"row\": 5, \"column\": 5, \"value\": 86.4898910522461, \"row_token\": \"005 ng\\u00e0y\", \"col_token\": \"005 ng\\u00e0y\"}, {\"row\": 5, \"column\": 6, \"value\": 102.14859771728516, \"row_token\": \"005 ng\\u00e0y\", \"col_token\": \"006 \\u0111\\u1eb9p\"}, {\"row\": 5, \"column\": 7, \"value\": 101.96134948730469, \"row_token\": \"005 ng\\u00e0y\", \"col_token\": \"007 tr\\u1eddi\"}, {\"row\": 5, \"column\": 8, \"value\": 96.75724792480469, \"row_token\": \"005 ng\\u00e0y\", \"col_token\": \"008 </s>\"}, {\"row\": 6, \"column\": 0, \"value\": 31.482027053833008, \"row_token\": \"006 \\u0111\\u1eb9p\", \"col_token\": \"000 <s>\"}, {\"row\": 6, \"column\": 1, \"value\": 0.0, \"row_token\": \"006 \\u0111\\u1eb9p\", \"col_token\": \"001 H\\u00f4m\"}, {\"row\": 6, \"column\": 2, \"value\": 27.814510345458984, \"row_token\": \"006 \\u0111\\u1eb9p\", \"col_token\": \"002 nay\"}, {\"row\": 6, \"column\": 3, \"value\": 4.568708419799805, \"row_token\": \"006 \\u0111\\u1eb9p\", \"col_token\": \"003 l\\u00e0\"}, {\"row\": 6, \"column\": 4, \"value\": 0.0, \"row_token\": \"006 \\u0111\\u1eb9p\", \"col_token\": \"004 m\\u1ed9t\"}, {\"row\": 6, \"column\": 5, \"value\": 0.0, \"row_token\": \"006 \\u0111\\u1eb9p\", \"col_token\": \"005 ng\\u00e0y\"}, {\"row\": 6, \"column\": 6, \"value\": 0.0, \"row_token\": \"006 \\u0111\\u1eb9p\", \"col_token\": \"006 \\u0111\\u1eb9p\"}, {\"row\": 6, \"column\": 7, \"value\": 0.0, \"row_token\": \"006 \\u0111\\u1eb9p\", \"col_token\": \"007 tr\\u1eddi\"}, {\"row\": 6, \"column\": 8, \"value\": 0.0, \"row_token\": \"006 \\u0111\\u1eb9p\", \"col_token\": \"008 </s>\"}, {\"row\": 7, \"column\": 0, \"value\": 22.586807250976562, \"row_token\": \"007 tr\\u1eddi\", \"col_token\": \"000 <s>\"}, {\"row\": 7, \"column\": 1, \"value\": 0.0, \"row_token\": \"007 tr\\u1eddi\", \"col_token\": \"001 H\\u00f4m\"}, {\"row\": 7, \"column\": 2, \"value\": 20.361608505249023, \"row_token\": \"007 tr\\u1eddi\", \"col_token\": \"002 nay\"}, {\"row\": 7, \"column\": 3, \"value\": 6.424070358276367, \"row_token\": \"007 tr\\u1eddi\", \"col_token\": \"003 l\\u00e0\"}, {\"row\": 7, \"column\": 4, \"value\": 0.0, \"row_token\": \"007 tr\\u1eddi\", \"col_token\": \"004 m\\u1ed9t\"}, {\"row\": 7, \"column\": 5, \"value\": 0.0, \"row_token\": \"007 tr\\u1eddi\", \"col_token\": \"005 ng\\u00e0y\"}, {\"row\": 7, \"column\": 6, \"value\": 0.0, \"row_token\": \"007 tr\\u1eddi\", \"col_token\": \"006 \\u0111\\u1eb9p\"}, {\"row\": 7, \"column\": 7, \"value\": 0.0, \"row_token\": \"007 tr\\u1eddi\", \"col_token\": \"007 tr\\u1eddi\"}, {\"row\": 7, \"column\": 8, \"value\": 0.0, \"row_token\": \"007 tr\\u1eddi\", \"col_token\": \"008 </s>\"}, {\"row\": 8, \"column\": 0, \"value\": 40.72568130493164, \"row_token\": \"008 </s>\", \"col_token\": \"000 <s>\"}, {\"row\": 8, \"column\": 1, \"value\": 0.0, \"row_token\": \"008 </s>\", \"col_token\": \"001 H\\u00f4m\"}, {\"row\": 8, \"column\": 2, \"value\": 34.82126998901367, \"row_token\": \"008 </s>\", \"col_token\": \"002 nay\"}, {\"row\": 8, \"column\": 3, \"value\": 0.0, \"row_token\": \"008 </s>\", \"col_token\": \"003 l\\u00e0\"}, {\"row\": 8, \"column\": 4, \"value\": 0.0, \"row_token\": \"008 </s>\", \"col_token\": \"004 m\\u1ed9t\"}, {\"row\": 8, \"column\": 5, \"value\": 0.0, \"row_token\": \"008 </s>\", \"col_token\": \"005 ng\\u00e0y\"}, {\"row\": 8, \"column\": 6, \"value\": 0.0, \"row_token\": \"008 </s>\", \"col_token\": \"006 \\u0111\\u1eb9p\"}, {\"row\": 8, \"column\": 7, \"value\": 0.0, \"row_token\": \"008 </s>\", \"col_token\": \"007 tr\\u1eddi\"}, {\"row\": 8, \"column\": 8, \"value\": 0.0, \"row_token\": \"008 </s>\", \"col_token\": \"008 </s>\"}], \"data-80d5a473e67ed306625547d65f4380ee\": [{\"row\": 0, \"column\": 0, \"value\": 86.21314239501953, \"row_token\": \"000 <s>\", \"col_token\": \"000 <s>\"}, {\"row\": 0, \"column\": 1, \"value\": 30.63921356201172, \"row_token\": \"000 <s>\", \"col_token\": \"001 H\\u00f4m\"}, {\"row\": 0, \"column\": 2, \"value\": 88.021484375, \"row_token\": \"000 <s>\", \"col_token\": \"002 nay\"}, {\"row\": 0, \"column\": 3, \"value\": 81.66789245605469, \"row_token\": \"000 <s>\", \"col_token\": \"003 l\\u00e0\"}, {\"row\": 0, \"column\": 4, \"value\": 67.8414535522461, \"row_token\": \"000 <s>\", \"col_token\": \"004 m\\u1ed9t\"}, {\"row\": 0, \"column\": 5, \"value\": 25.167787551879883, \"row_token\": \"000 <s>\", \"col_token\": \"005 ng\\u00e0y\"}, {\"row\": 0, \"column\": 6, \"value\": 57.921207427978516, \"row_token\": \"000 <s>\", \"col_token\": \"006 \\u0111\\u1eb9p\"}, {\"row\": 0, \"column\": 7, \"value\": 39.76506805419922, \"row_token\": \"000 <s>\", \"col_token\": \"007 tr\\u1eddi\"}, {\"row\": 0, \"column\": 8, \"value\": 74.810302734375, \"row_token\": \"000 <s>\", \"col_token\": \"008 </s>\"}, {\"row\": 1, \"column\": 0, \"value\": 128.39723205566406, \"row_token\": \"001 H\\u00f4m\", \"col_token\": \"000 <s>\"}, {\"row\": 1, \"column\": 1, \"value\": 39.739070892333984, \"row_token\": \"001 H\\u00f4m\", \"col_token\": \"001 H\\u00f4m\"}, {\"row\": 1, \"column\": 2, \"value\": 134.6851043701172, \"row_token\": \"001 H\\u00f4m\", \"col_token\": \"002 nay\"}, {\"row\": 1, \"column\": 3, \"value\": 138.11087036132812, \"row_token\": \"001 H\\u00f4m\", \"col_token\": \"003 l\\u00e0\"}, {\"row\": 1, \"column\": 4, \"value\": 131.54739379882812, \"row_token\": \"001 H\\u00f4m\", \"col_token\": \"004 m\\u1ed9t\"}, {\"row\": 1, \"column\": 5, \"value\": 37.78632354736328, \"row_token\": \"001 H\\u00f4m\", \"col_token\": \"005 ng\\u00e0y\"}, {\"row\": 1, \"column\": 6, \"value\": 122.83900451660156, \"row_token\": \"001 H\\u00f4m\", \"col_token\": \"006 \\u0111\\u1eb9p\"}, {\"row\": 1, \"column\": 7, \"value\": 107.95964813232422, \"row_token\": \"001 H\\u00f4m\", \"col_token\": \"007 tr\\u1eddi\"}, {\"row\": 1, \"column\": 8, \"value\": 136.67709350585938, \"row_token\": \"001 H\\u00f4m\", \"col_token\": \"008 </s>\"}, {\"row\": 2, \"column\": 0, \"value\": 88.83456420898438, \"row_token\": \"002 nay\", \"col_token\": \"000 <s>\"}, {\"row\": 2, \"column\": 1, \"value\": 32.260746002197266, \"row_token\": \"002 nay\", \"col_token\": \"001 H\\u00f4m\"}, {\"row\": 2, \"column\": 2, \"value\": 91.19506072998047, \"row_token\": \"002 nay\", \"col_token\": \"002 nay\"}, {\"row\": 2, \"column\": 3, \"value\": 86.67845916748047, \"row_token\": \"002 nay\", \"col_token\": \"003 l\\u00e0\"}, {\"row\": 2, \"column\": 4, \"value\": 74.34210968017578, \"row_token\": \"002 nay\", \"col_token\": \"004 m\\u1ed9t\"}, {\"row\": 2, \"column\": 5, \"value\": 27.505353927612305, \"row_token\": \"002 nay\", \"col_token\": \"005 ng\\u00e0y\"}, {\"row\": 2, \"column\": 6, \"value\": 64.89839172363281, \"row_token\": \"002 nay\", \"col_token\": \"006 \\u0111\\u1eb9p\"}, {\"row\": 2, \"column\": 7, \"value\": 47.62332534790039, \"row_token\": \"002 nay\", \"col_token\": \"007 tr\\u1eddi\"}, {\"row\": 2, \"column\": 8, \"value\": 80.81678771972656, \"row_token\": \"002 nay\", \"col_token\": \"008 </s>\"}, {\"row\": 3, \"column\": 0, \"value\": 110.10014343261719, \"row_token\": \"003 l\\u00e0\", \"col_token\": \"000 <s>\"}, {\"row\": 3, \"column\": 1, \"value\": 39.6392822265625, \"row_token\": \"003 l\\u00e0\", \"col_token\": \"001 H\\u00f4m\"}, {\"row\": 3, \"column\": 2, \"value\": 115.5217056274414, \"row_token\": \"003 l\\u00e0\", \"col_token\": \"002 nay\"}, {\"row\": 3, \"column\": 3, \"value\": 119.37477111816406, \"row_token\": \"003 l\\u00e0\", \"col_token\": \"003 l\\u00e0\"}, {\"row\": 3, \"column\": 4, \"value\": 113.55443572998047, \"row_token\": \"003 l\\u00e0\", \"col_token\": \"004 m\\u1ed9t\"}, {\"row\": 3, \"column\": 5, \"value\": 38.059513092041016, \"row_token\": \"003 l\\u00e0\", \"col_token\": \"005 ng\\u00e0y\"}, {\"row\": 3, \"column\": 6, \"value\": 105.78152465820312, \"row_token\": \"003 l\\u00e0\", \"col_token\": \"006 \\u0111\\u1eb9p\"}, {\"row\": 3, \"column\": 7, \"value\": 91.95315551757812, \"row_token\": \"003 l\\u00e0\", \"col_token\": \"007 tr\\u1eddi\"}, {\"row\": 3, \"column\": 8, \"value\": 118.07869720458984, \"row_token\": \"003 l\\u00e0\", \"col_token\": \"008 </s>\"}, {\"row\": 4, \"column\": 0, \"value\": 111.44136047363281, \"row_token\": \"004 m\\u1ed9t\", \"col_token\": \"000 <s>\"}, {\"row\": 4, \"column\": 1, \"value\": 40.97133255004883, \"row_token\": \"004 m\\u1ed9t\", \"col_token\": \"001 H\\u00f4m\"}, {\"row\": 4, \"column\": 2, \"value\": 118.54393005371094, \"row_token\": \"004 m\\u1ed9t\", \"col_token\": \"002 nay\"}, {\"row\": 4, \"column\": 3, \"value\": 128.8625030517578, \"row_token\": \"004 m\\u1ed9t\", \"col_token\": \"003 l\\u00e0\"}, {\"row\": 4, \"column\": 4, \"value\": 129.18905639648438, \"row_token\": \"004 m\\u1ed9t\", \"col_token\": \"004 m\\u1ed9t\"}, {\"row\": 4, \"column\": 5, \"value\": 42.223236083984375, \"row_token\": \"004 m\\u1ed9t\", \"col_token\": \"005 ng\\u00e0y\"}, {\"row\": 4, \"column\": 6, \"value\": 123.89187622070312, \"row_token\": \"004 m\\u1ed9t\", \"col_token\": \"006 \\u0111\\u1eb9p\"}, {\"row\": 4, \"column\": 7, \"value\": 114.82404327392578, \"row_token\": \"004 m\\u1ed9t\", \"col_token\": \"007 tr\\u1eddi\"}, {\"row\": 4, \"column\": 8, \"value\": 131.4282684326172, \"row_token\": \"004 m\\u1ed9t\", \"col_token\": \"008 </s>\"}, {\"row\": 5, \"column\": 0, \"value\": 130.55088806152344, \"row_token\": \"005 ng\\u00e0y\", \"col_token\": \"000 <s>\"}, {\"row\": 5, \"column\": 1, \"value\": 40.74287033081055, \"row_token\": \"005 ng\\u00e0y\", \"col_token\": \"001 H\\u00f4m\"}, {\"row\": 5, \"column\": 2, \"value\": 137.76487731933594, \"row_token\": \"005 ng\\u00e0y\", \"col_token\": \"002 nay\"}, {\"row\": 5, \"column\": 3, \"value\": 144.4361114501953, \"row_token\": \"005 ng\\u00e0y\", \"col_token\": \"003 l\\u00e0\"}, {\"row\": 5, \"column\": 4, \"value\": 140.86129760742188, \"row_token\": \"005 ng\\u00e0y\", \"col_token\": \"004 m\\u1ed9t\"}, {\"row\": 5, \"column\": 5, \"value\": 40.1815185546875, \"row_token\": \"005 ng\\u00e0y\", \"col_token\": \"005 ng\\u00e0y\"}, {\"row\": 5, \"column\": 6, \"value\": 133.2836456298828, \"row_token\": \"005 ng\\u00e0y\", \"col_token\": \"006 \\u0111\\u1eb9p\"}, {\"row\": 5, \"column\": 7, \"value\": 120.56278228759766, \"row_token\": \"005 ng\\u00e0y\", \"col_token\": \"007 tr\\u1eddi\"}, {\"row\": 5, \"column\": 8, \"value\": 144.93148803710938, \"row_token\": \"005 ng\\u00e0y\", \"col_token\": \"008 </s>\"}, {\"row\": 6, \"column\": 0, \"value\": 105.111328125, \"row_token\": \"006 \\u0111\\u1eb9p\", \"col_token\": \"000 <s>\"}, {\"row\": 6, \"column\": 1, \"value\": 39.628273010253906, \"row_token\": \"006 \\u0111\\u1eb9p\", \"col_token\": \"001 H\\u00f4m\"}, {\"row\": 6, \"column\": 2, \"value\": 112.65497589111328, \"row_token\": \"006 \\u0111\\u1eb9p\", \"col_token\": \"002 nay\"}, {\"row\": 6, \"column\": 3, \"value\": 125.85736083984375, \"row_token\": \"006 \\u0111\\u1eb9p\", \"col_token\": \"003 l\\u00e0\"}, {\"row\": 6, \"column\": 4, \"value\": 129.54725646972656, \"row_token\": \"006 \\u0111\\u1eb9p\", \"col_token\": \"004 m\\u1ed9t\"}, {\"row\": 6, \"column\": 5, \"value\": 42.33839416503906, \"row_token\": \"006 \\u0111\\u1eb9p\", \"col_token\": \"005 ng\\u00e0y\"}, {\"row\": 6, \"column\": 6, \"value\": 125.95368194580078, \"row_token\": \"006 \\u0111\\u1eb9p\", \"col_token\": \"006 \\u0111\\u1eb9p\"}, {\"row\": 6, \"column\": 7, \"value\": 120.0810546875, \"row_token\": \"006 \\u0111\\u1eb9p\", \"col_token\": \"007 tr\\u1eddi\"}, {\"row\": 6, \"column\": 8, \"value\": 130.39382934570312, \"row_token\": \"006 \\u0111\\u1eb9p\", \"col_token\": \"008 </s>\"}, {\"row\": 7, \"column\": 0, \"value\": 101.34147644042969, \"row_token\": \"007 tr\\u1eddi\", \"col_token\": \"000 <s>\"}, {\"row\": 7, \"column\": 1, \"value\": 35.758846282958984, \"row_token\": \"007 tr\\u1eddi\", \"col_token\": \"001 H\\u00f4m\"}, {\"row\": 7, \"column\": 2, \"value\": 109.4851303100586, \"row_token\": \"007 tr\\u1eddi\", \"col_token\": \"002 nay\"}, {\"row\": 7, \"column\": 3, \"value\": 124.99235534667969, \"row_token\": \"007 tr\\u1eddi\", \"col_token\": \"003 l\\u00e0\"}, {\"row\": 7, \"column\": 4, \"value\": 131.31146240234375, \"row_token\": \"007 tr\\u1eddi\", \"col_token\": \"004 m\\u1ed9t\"}, {\"row\": 7, \"column\": 5, \"value\": 39.702571868896484, \"row_token\": \"007 tr\\u1eddi\", \"col_token\": \"005 ng\\u00e0y\"}, {\"row\": 7, \"column\": 6, \"value\": 128.98475646972656, \"row_token\": \"007 tr\\u1eddi\", \"col_token\": \"006 \\u0111\\u1eb9p\"}, {\"row\": 7, \"column\": 7, \"value\": 125.64580535888672, \"row_token\": \"007 tr\\u1eddi\", \"col_token\": \"007 tr\\u1eddi\"}, {\"row\": 7, \"column\": 8, \"value\": 131.04656982421875, \"row_token\": \"007 tr\\u1eddi\", \"col_token\": \"008 </s>\"}, {\"row\": 8, \"column\": 0, \"value\": 105.5772476196289, \"row_token\": \"008 </s>\", \"col_token\": \"000 <s>\"}, {\"row\": 8, \"column\": 1, \"value\": 40.649757385253906, \"row_token\": \"008 </s>\", \"col_token\": \"001 H\\u00f4m\"}, {\"row\": 8, \"column\": 2, \"value\": 111.98860931396484, \"row_token\": \"008 </s>\", \"col_token\": \"002 nay\"}, {\"row\": 8, \"column\": 3, \"value\": 120.94713592529297, \"row_token\": \"008 </s>\", \"col_token\": \"003 l\\u00e0\"}, {\"row\": 8, \"column\": 4, \"value\": 120.35088348388672, \"row_token\": \"008 </s>\", \"col_token\": \"004 m\\u1ed9t\"}, {\"row\": 8, \"column\": 5, \"value\": 41.39731216430664, \"row_token\": \"008 </s>\", \"col_token\": \"005 ng\\u00e0y\"}, {\"row\": 8, \"column\": 6, \"value\": 114.94841003417969, \"row_token\": \"008 </s>\", \"col_token\": \"006 \\u0111\\u1eb9p\"}, {\"row\": 8, \"column\": 7, \"value\": 105.53720092773438, \"row_token\": \"008 </s>\", \"col_token\": \"007 tr\\u1eddi\"}, {\"row\": 8, \"column\": 8, \"value\": 122.82979583740234, \"row_token\": \"008 </s>\", \"col_token\": \"008 </s>\"}], \"data-f65ee8e8df5a98c4b8e1ee8c77a668e2\": [{\"row\": 0, \"column\": 0, \"value\": 91.85699462890625, \"row_token\": \"000 <s>\", \"col_token\": \"000 <s>\"}, {\"row\": 0, \"column\": 1, \"value\": 7.964939117431641, \"row_token\": \"000 <s>\", \"col_token\": \"001 H\\u00f4m\"}, {\"row\": 0, \"column\": 2, \"value\": 93.56349182128906, \"row_token\": \"000 <s>\", \"col_token\": \"002 nay\"}, {\"row\": 0, \"column\": 3, \"value\": 82.1065902709961, \"row_token\": \"000 <s>\", \"col_token\": \"003 l\\u00e0\"}, {\"row\": 0, \"column\": 4, \"value\": 64.37977600097656, \"row_token\": \"000 <s>\", \"col_token\": \"004 m\\u1ed9t\"}, {\"row\": 0, \"column\": 5, \"value\": 1.267776608467102, \"row_token\": \"000 <s>\", \"col_token\": \"005 ng\\u00e0y\"}, {\"row\": 0, \"column\": 6, \"value\": 52.25281524658203, \"row_token\": \"000 <s>\", \"col_token\": \"006 \\u0111\\u1eb9p\"}, {\"row\": 0, \"column\": 7, \"value\": 34.728023529052734, \"row_token\": \"000 <s>\", \"col_token\": \"007 tr\\u1eddi\"}, {\"row\": 0, \"column\": 8, \"value\": 70.60768127441406, \"row_token\": \"000 <s>\", \"col_token\": \"008 </s>\"}, {\"row\": 1, \"column\": 0, \"value\": 31.71280860900879, \"row_token\": \"001 H\\u00f4m\", \"col_token\": \"000 <s>\"}, {\"row\": 1, \"column\": 1, \"value\": 46.33925247192383, \"row_token\": \"001 H\\u00f4m\", \"col_token\": \"001 H\\u00f4m\"}, {\"row\": 1, \"column\": 2, \"value\": 28.337390899658203, \"row_token\": \"001 H\\u00f4m\", \"col_token\": \"002 nay\"}, {\"row\": 1, \"column\": 3, \"value\": 19.517316818237305, \"row_token\": \"001 H\\u00f4m\", \"col_token\": \"003 l\\u00e0\"}, {\"row\": 1, \"column\": 4, \"value\": 7.483582496643066, \"row_token\": \"001 H\\u00f4m\", \"col_token\": \"004 m\\u1ed9t\"}, {\"row\": 1, \"column\": 5, \"value\": 40.60021209716797, \"row_token\": \"001 H\\u00f4m\", \"col_token\": \"005 ng\\u00e0y\"}, {\"row\": 1, \"column\": 6, \"value\": 0.6160532236099243, \"row_token\": \"001 H\\u00f4m\", \"col_token\": \"006 \\u0111\\u1eb9p\"}, {\"row\": 1, \"column\": 7, \"value\": 0.0, \"row_token\": \"001 H\\u00f4m\", \"col_token\": \"007 tr\\u1eddi\"}, {\"row\": 1, \"column\": 8, \"value\": 9.577080726623535, \"row_token\": \"001 H\\u00f4m\", \"col_token\": \"008 </s>\"}, {\"row\": 2, \"column\": 0, \"value\": 90.15008544921875, \"row_token\": \"002 nay\", \"col_token\": \"000 <s>\"}, {\"row\": 2, \"column\": 1, \"value\": 6.804388999938965, \"row_token\": \"002 nay\", \"col_token\": \"001 H\\u00f4m\"}, {\"row\": 2, \"column\": 2, \"value\": 92.43170928955078, \"row_token\": \"002 nay\", \"col_token\": \"002 nay\"}, {\"row\": 2, \"column\": 3, \"value\": 83.29318237304688, \"row_token\": \"002 nay\", \"col_token\": \"003 l\\u00e0\"}, {\"row\": 2, \"column\": 4, \"value\": 67.3193130493164, \"row_token\": \"002 nay\", \"col_token\": \"004 m\\u1ed9t\"}, {\"row\": 2, \"column\": 5, \"value\": 1.0025990009307861, \"row_token\": \"002 nay\", \"col_token\": \"005 ng\\u00e0y\"}, {\"row\": 2, \"column\": 6, \"value\": 56.0781364440918, \"row_token\": \"002 nay\", \"col_token\": \"006 \\u0111\\u1eb9p\"}, {\"row\": 2, \"column\": 7, \"value\": 39.28693771362305, \"row_token\": \"002 nay\", \"col_token\": \"007 tr\\u1eddi\"}, {\"row\": 2, \"column\": 8, \"value\": 73.23821258544922, \"row_token\": \"002 nay\", \"col_token\": \"008 </s>\"}, {\"row\": 3, \"column\": 0, \"value\": 70.82352447509766, \"row_token\": \"003 l\\u00e0\", \"col_token\": \"000 <s>\"}, {\"row\": 3, \"column\": 1, \"value\": 11.480770111083984, \"row_token\": \"003 l\\u00e0\", \"col_token\": \"001 H\\u00f4m\"}, {\"row\": 3, \"column\": 2, \"value\": 74.42503356933594, \"row_token\": \"003 l\\u00e0\", \"col_token\": \"002 nay\"}, {\"row\": 3, \"column\": 3, \"value\": 75.88751983642578, \"row_token\": \"003 l\\u00e0\", \"col_token\": \"003 l\\u00e0\"}, {\"row\": 3, \"column\": 4, \"value\": 68.59953308105469, \"row_token\": \"003 l\\u00e0\", \"col_token\": \"004 m\\u1ed9t\"}, {\"row\": 3, \"column\": 5, \"value\": 9.697361946105957, \"row_token\": \"003 l\\u00e0\", \"col_token\": \"005 ng\\u00e0y\"}, {\"row\": 3, \"column\": 6, \"value\": 62.25140380859375, \"row_token\": \"003 l\\u00e0\", \"col_token\": \"006 \\u0111\\u1eb9p\"}, {\"row\": 3, \"column\": 7, \"value\": 50.30526351928711, \"row_token\": \"003 l\\u00e0\", \"col_token\": \"007 tr\\u1eddi\"}, {\"row\": 3, \"column\": 8, \"value\": 72.26673889160156, \"row_token\": \"003 l\\u00e0\", \"col_token\": \"008 </s>\"}, {\"row\": 4, \"column\": 0, \"value\": 45.56666564941406, \"row_token\": \"004 m\\u1ed9t\", \"col_token\": \"000 <s>\"}, {\"row\": 4, \"column\": 1, \"value\": 9.52330493927002, \"row_token\": \"004 m\\u1ed9t\", \"col_token\": \"001 H\\u00f4m\"}, {\"row\": 4, \"column\": 2, \"value\": 50.20748519897461, \"row_token\": \"004 m\\u1ed9t\", \"col_token\": \"002 nay\"}, {\"row\": 4, \"column\": 3, \"value\": 60.7551383972168, \"row_token\": \"004 m\\u1ed9t\", \"col_token\": \"003 l\\u00e0\"}, {\"row\": 4, \"column\": 4, \"value\": 62.16918182373047, \"row_token\": \"004 m\\u1ed9t\", \"col_token\": \"004 m\\u1ed9t\"}, {\"row\": 4, \"column\": 5, \"value\": 11.634187698364258, \"row_token\": \"004 m\\u1ed9t\", \"col_token\": \"005 ng\\u00e0y\"}, {\"row\": 4, \"column\": 6, \"value\": 60.952491760253906, \"row_token\": \"004 m\\u1ed9t\", \"col_token\": \"006 \\u0111\\u1eb9p\"}, {\"row\": 4, \"column\": 7, \"value\": 54.66703414916992, \"row_token\": \"004 m\\u1ed9t\", \"col_token\": \"007 tr\\u1eddi\"}, {\"row\": 4, \"column\": 8, \"value\": 63.59538269042969, \"row_token\": \"004 m\\u1ed9t\", \"col_token\": \"008 </s>\"}, {\"row\": 5, \"column\": 0, \"value\": 21.238876342773438, \"row_token\": \"005 ng\\u00e0y\", \"col_token\": \"000 <s>\"}, {\"row\": 5, \"column\": 1, \"value\": 45.862892150878906, \"row_token\": \"005 ng\\u00e0y\", \"col_token\": \"001 H\\u00f4m\"}, {\"row\": 5, \"column\": 2, \"value\": 18.4171199798584, \"row_token\": \"005 ng\\u00e0y\", \"col_token\": \"002 nay\"}, {\"row\": 5, \"column\": 3, \"value\": 13.94959831237793, \"row_token\": \"005 ng\\u00e0y\", \"col_token\": \"003 l\\u00e0\"}, {\"row\": 5, \"column\": 4, \"value\": 5.891571998596191, \"row_token\": \"005 ng\\u00e0y\", \"col_token\": \"004 m\\u1ed9t\"}, {\"row\": 5, \"column\": 5, \"value\": 41.92881393432617, \"row_token\": \"005 ng\\u00e0y\", \"col_token\": \"005 ng\\u00e0y\"}, {\"row\": 5, \"column\": 6, \"value\": 1.3267552852630615, \"row_token\": \"005 ng\\u00e0y\", \"col_token\": \"006 \\u0111\\u1eb9p\"}, {\"row\": 5, \"column\": 7, \"value\": 0.0, \"row_token\": \"005 ng\\u00e0y\", \"col_token\": \"007 tr\\u1eddi\"}, {\"row\": 5, \"column\": 8, \"value\": 6.974775791168213, \"row_token\": \"005 ng\\u00e0y\", \"col_token\": \"008 </s>\"}, {\"row\": 6, \"column\": 0, \"value\": 30.710649490356445, \"row_token\": \"006 \\u0111\\u1eb9p\", \"col_token\": \"000 <s>\"}, {\"row\": 6, \"column\": 1, \"value\": 8.630584716796875, \"row_token\": \"006 \\u0111\\u1eb9p\", \"col_token\": \"001 H\\u00f4m\"}, {\"row\": 6, \"column\": 2, \"value\": 35.741268157958984, \"row_token\": \"006 \\u0111\\u1eb9p\", \"col_token\": \"002 nay\"}, {\"row\": 6, \"column\": 3, \"value\": 50.8415641784668, \"row_token\": \"006 \\u0111\\u1eb9p\", \"col_token\": \"003 l\\u00e0\"}, {\"row\": 6, \"column\": 4, \"value\": 56.84138107299805, \"row_token\": \"006 \\u0111\\u1eb9p\", \"col_token\": \"004 m\\u1ed9t\"}, {\"row\": 6, \"column\": 5, \"value\": 12.746247291564941, \"row_token\": \"006 \\u0111\\u1eb9p\", \"col_token\": \"005 ng\\u00e0y\"}, {\"row\": 6, \"column\": 6, \"value\": 58.394554138183594, \"row_token\": \"006 \\u0111\\u1eb9p\", \"col_token\": \"006 \\u0111\\u1eb9p\"}, {\"row\": 6, \"column\": 7, \"value\": 55.28986740112305, \"row_token\": \"006 \\u0111\\u1eb9p\", \"col_token\": \"007 tr\\u1eddi\"}, {\"row\": 6, \"column\": 8, \"value\": 57.0308952331543, \"row_token\": \"006 \\u0111\\u1eb9p\", \"col_token\": \"008 </s>\"}, {\"row\": 7, \"column\": 0, \"value\": 7.619687080383301, \"row_token\": \"007 tr\\u1eddi\", \"col_token\": \"000 <s>\"}, {\"row\": 7, \"column\": 1, \"value\": 2.0481362342834473, \"row_token\": \"007 tr\\u1eddi\", \"col_token\": \"001 H\\u00f4m\"}, {\"row\": 7, \"column\": 2, \"value\": 13.597081184387207, \"row_token\": \"007 tr\\u1eddi\", \"col_token\": \"002 nay\"}, {\"row\": 7, \"column\": 3, \"value\": 35.98189163208008, \"row_token\": \"007 tr\\u1eddi\", \"col_token\": \"003 l\\u00e0\"}, {\"row\": 7, \"column\": 4, \"value\": 49.54655075073242, \"row_token\": \"007 tr\\u1eddi\", \"col_token\": \"004 m\\u1ed9t\"}, {\"row\": 7, \"column\": 5, \"value\": 9.545042037963867, \"row_token\": \"007 tr\\u1eddi\", \"col_token\": \"005 ng\\u00e0y\"}, {\"row\": 7, \"column\": 6, \"value\": 55.63606262207031, \"row_token\": \"007 tr\\u1eddi\", \"col_token\": \"006 \\u0111\\u1eb9p\"}, {\"row\": 7, \"column\": 7, \"value\": 57.833492279052734, \"row_token\": \"007 tr\\u1eddi\", \"col_token\": \"007 tr\\u1eddi\"}, {\"row\": 7, \"column\": 8, \"value\": 47.82542037963867, \"row_token\": \"007 tr\\u1eddi\", \"col_token\": \"008 </s>\"}, {\"row\": 8, \"column\": 0, \"value\": 53.23163986206055, \"row_token\": \"008 </s>\", \"col_token\": \"000 <s>\"}, {\"row\": 8, \"column\": 1, \"value\": 10.050036430358887, \"row_token\": \"008 </s>\", \"col_token\": \"001 H\\u00f4m\"}, {\"row\": 8, \"column\": 2, \"value\": 57.498477935791016, \"row_token\": \"008 </s>\", \"col_token\": \"002 nay\"}, {\"row\": 8, \"column\": 3, \"value\": 64.96492004394531, \"row_token\": \"008 </s>\", \"col_token\": \"003 l\\u00e0\"}, {\"row\": 8, \"column\": 4, \"value\": 63.54698944091797, \"row_token\": \"008 </s>\", \"col_token\": \"004 m\\u1ed9t\"}, {\"row\": 8, \"column\": 5, \"value\": 10.87798023223877, \"row_token\": \"008 </s>\", \"col_token\": \"005 ng\\u00e0y\"}, {\"row\": 8, \"column\": 6, \"value\": 60.66240692138672, \"row_token\": \"008 </s>\", \"col_token\": \"006 \\u0111\\u1eb9p\"}, {\"row\": 8, \"column\": 7, \"value\": 52.578433990478516, \"row_token\": \"008 </s>\", \"col_token\": \"007 tr\\u1eddi\"}, {\"row\": 8, \"column\": 8, \"value\": 65.71195220947266, \"row_token\": \"008 </s>\", \"col_token\": \"008 </s>\"}], \"data-638e3f8a4a61e82c12432172bd691660\": [{\"row\": 0, \"column\": 0, \"value\": 0.0, \"row_token\": \"000 <s>\", \"col_token\": \"000 <s>\"}, {\"row\": 0, \"column\": 1, \"value\": 0.0, \"row_token\": \"000 <s>\", \"col_token\": \"001 H\\u00f4m\"}, {\"row\": 0, \"column\": 2, \"value\": 0.0, \"row_token\": \"000 <s>\", \"col_token\": \"002 nay\"}, {\"row\": 0, \"column\": 3, \"value\": 0.0, \"row_token\": \"000 <s>\", \"col_token\": \"003 l\\u00e0\"}, {\"row\": 0, \"column\": 4, \"value\": 0.0, \"row_token\": \"000 <s>\", \"col_token\": \"004 m\\u1ed9t\"}, {\"row\": 0, \"column\": 5, \"value\": 0.0, \"row_token\": \"000 <s>\", \"col_token\": \"005 ng\\u00e0y\"}, {\"row\": 0, \"column\": 6, \"value\": 0.0, \"row_token\": \"000 <s>\", \"col_token\": \"006 \\u0111\\u1eb9p\"}, {\"row\": 0, \"column\": 7, \"value\": 0.0, \"row_token\": \"000 <s>\", \"col_token\": \"007 tr\\u1eddi\"}, {\"row\": 0, \"column\": 8, \"value\": 0.0, \"row_token\": \"000 <s>\", \"col_token\": \"008 </s>\"}, {\"row\": 1, \"column\": 0, \"value\": 0.0, \"row_token\": \"001 H\\u00f4m\", \"col_token\": \"000 <s>\"}, {\"row\": 1, \"column\": 1, \"value\": 13.074638366699219, \"row_token\": \"001 H\\u00f4m\", \"col_token\": \"001 H\\u00f4m\"}, {\"row\": 1, \"column\": 2, \"value\": 0.0, \"row_token\": \"001 H\\u00f4m\", \"col_token\": \"002 nay\"}, {\"row\": 1, \"column\": 3, \"value\": 0.0, \"row_token\": \"001 H\\u00f4m\", \"col_token\": \"003 l\\u00e0\"}, {\"row\": 1, \"column\": 4, \"value\": 0.0, \"row_token\": \"001 H\\u00f4m\", \"col_token\": \"004 m\\u1ed9t\"}, {\"row\": 1, \"column\": 5, \"value\": 10.142407417297363, \"row_token\": \"001 H\\u00f4m\", \"col_token\": \"005 ng\\u00e0y\"}, {\"row\": 1, \"column\": 6, \"value\": 0.0, \"row_token\": \"001 H\\u00f4m\", \"col_token\": \"006 \\u0111\\u1eb9p\"}, {\"row\": 1, \"column\": 7, \"value\": 0.0, \"row_token\": \"001 H\\u00f4m\", \"col_token\": \"007 tr\\u1eddi\"}, {\"row\": 1, \"column\": 8, \"value\": 0.0, \"row_token\": \"001 H\\u00f4m\", \"col_token\": \"008 </s>\"}, {\"row\": 2, \"column\": 0, \"value\": 0.0, \"row_token\": \"002 nay\", \"col_token\": \"000 <s>\"}, {\"row\": 2, \"column\": 1, \"value\": 0.0, \"row_token\": \"002 nay\", \"col_token\": \"001 H\\u00f4m\"}, {\"row\": 2, \"column\": 2, \"value\": 0.0, \"row_token\": \"002 nay\", \"col_token\": \"002 nay\"}, {\"row\": 2, \"column\": 3, \"value\": 0.0, \"row_token\": \"002 nay\", \"col_token\": \"003 l\\u00e0\"}, {\"row\": 2, \"column\": 4, \"value\": 0.0, \"row_token\": \"002 nay\", \"col_token\": \"004 m\\u1ed9t\"}, {\"row\": 2, \"column\": 5, \"value\": 0.0, \"row_token\": \"002 nay\", \"col_token\": \"005 ng\\u00e0y\"}, {\"row\": 2, \"column\": 6, \"value\": 0.0, \"row_token\": \"002 nay\", \"col_token\": \"006 \\u0111\\u1eb9p\"}, {\"row\": 2, \"column\": 7, \"value\": 0.0, \"row_token\": \"002 nay\", \"col_token\": \"007 tr\\u1eddi\"}, {\"row\": 2, \"column\": 8, \"value\": 0.0, \"row_token\": \"002 nay\", \"col_token\": \"008 </s>\"}, {\"row\": 3, \"column\": 0, \"value\": 0.0, \"row_token\": \"003 l\\u00e0\", \"col_token\": \"000 <s>\"}, {\"row\": 3, \"column\": 1, \"value\": 0.0, \"row_token\": \"003 l\\u00e0\", \"col_token\": \"001 H\\u00f4m\"}, {\"row\": 3, \"column\": 2, \"value\": 0.0, \"row_token\": \"003 l\\u00e0\", \"col_token\": \"002 nay\"}, {\"row\": 3, \"column\": 3, \"value\": 0.0, \"row_token\": \"003 l\\u00e0\", \"col_token\": \"003 l\\u00e0\"}, {\"row\": 3, \"column\": 4, \"value\": 0.0, \"row_token\": \"003 l\\u00e0\", \"col_token\": \"004 m\\u1ed9t\"}, {\"row\": 3, \"column\": 5, \"value\": 0.0, \"row_token\": \"003 l\\u00e0\", \"col_token\": \"005 ng\\u00e0y\"}, {\"row\": 3, \"column\": 6, \"value\": 0.0, \"row_token\": \"003 l\\u00e0\", \"col_token\": \"006 \\u0111\\u1eb9p\"}, {\"row\": 3, \"column\": 7, \"value\": 0.0, \"row_token\": \"003 l\\u00e0\", \"col_token\": \"007 tr\\u1eddi\"}, {\"row\": 3, \"column\": 8, \"value\": 0.0, \"row_token\": \"003 l\\u00e0\", \"col_token\": \"008 </s>\"}, {\"row\": 4, \"column\": 0, \"value\": 0.0, \"row_token\": \"004 m\\u1ed9t\", \"col_token\": \"000 <s>\"}, {\"row\": 4, \"column\": 1, \"value\": 0.0, \"row_token\": \"004 m\\u1ed9t\", \"col_token\": \"001 H\\u00f4m\"}, {\"row\": 4, \"column\": 2, \"value\": 0.0, \"row_token\": \"004 m\\u1ed9t\", \"col_token\": \"002 nay\"}, {\"row\": 4, \"column\": 3, \"value\": 0.0, \"row_token\": \"004 m\\u1ed9t\", \"col_token\": \"003 l\\u00e0\"}, {\"row\": 4, \"column\": 4, \"value\": 0.0, \"row_token\": \"004 m\\u1ed9t\", \"col_token\": \"004 m\\u1ed9t\"}, {\"row\": 4, \"column\": 5, \"value\": 0.0, \"row_token\": \"004 m\\u1ed9t\", \"col_token\": \"005 ng\\u00e0y\"}, {\"row\": 4, \"column\": 6, \"value\": 0.0, \"row_token\": \"004 m\\u1ed9t\", \"col_token\": \"006 \\u0111\\u1eb9p\"}, {\"row\": 4, \"column\": 7, \"value\": 0.0, \"row_token\": \"004 m\\u1ed9t\", \"col_token\": \"007 tr\\u1eddi\"}, {\"row\": 4, \"column\": 8, \"value\": 0.0, \"row_token\": \"004 m\\u1ed9t\", \"col_token\": \"008 </s>\"}, {\"row\": 5, \"column\": 0, \"value\": 0.0, \"row_token\": \"005 ng\\u00e0y\", \"col_token\": \"000 <s>\"}, {\"row\": 5, \"column\": 1, \"value\": 9.650355339050293, \"row_token\": \"005 ng\\u00e0y\", \"col_token\": \"001 H\\u00f4m\"}, {\"row\": 5, \"column\": 2, \"value\": 0.0, \"row_token\": \"005 ng\\u00e0y\", \"col_token\": \"002 nay\"}, {\"row\": 5, \"column\": 3, \"value\": 0.0, \"row_token\": \"005 ng\\u00e0y\", \"col_token\": \"003 l\\u00e0\"}, {\"row\": 5, \"column\": 4, \"value\": 0.0, \"row_token\": \"005 ng\\u00e0y\", \"col_token\": \"004 m\\u1ed9t\"}, {\"row\": 5, \"column\": 5, \"value\": 6.571559906005859, \"row_token\": \"005 ng\\u00e0y\", \"col_token\": \"005 ng\\u00e0y\"}, {\"row\": 5, \"column\": 6, \"value\": 0.0, \"row_token\": \"005 ng\\u00e0y\", \"col_token\": \"006 \\u0111\\u1eb9p\"}, {\"row\": 5, \"column\": 7, \"value\": 0.0, \"row_token\": \"005 ng\\u00e0y\", \"col_token\": \"007 tr\\u1eddi\"}, {\"row\": 5, \"column\": 8, \"value\": 0.0, \"row_token\": \"005 ng\\u00e0y\", \"col_token\": \"008 </s>\"}, {\"row\": 6, \"column\": 0, \"value\": 0.0, \"row_token\": \"006 \\u0111\\u1eb9p\", \"col_token\": \"000 <s>\"}, {\"row\": 6, \"column\": 1, \"value\": 0.0, \"row_token\": \"006 \\u0111\\u1eb9p\", \"col_token\": \"001 H\\u00f4m\"}, {\"row\": 6, \"column\": 2, \"value\": 0.0, \"row_token\": \"006 \\u0111\\u1eb9p\", \"col_token\": \"002 nay\"}, {\"row\": 6, \"column\": 3, \"value\": 0.0, \"row_token\": \"006 \\u0111\\u1eb9p\", \"col_token\": \"003 l\\u00e0\"}, {\"row\": 6, \"column\": 4, \"value\": 0.0, \"row_token\": \"006 \\u0111\\u1eb9p\", \"col_token\": \"004 m\\u1ed9t\"}, {\"row\": 6, \"column\": 5, \"value\": 0.0, \"row_token\": \"006 \\u0111\\u1eb9p\", \"col_token\": \"005 ng\\u00e0y\"}, {\"row\": 6, \"column\": 6, \"value\": 0.0, \"row_token\": \"006 \\u0111\\u1eb9p\", \"col_token\": \"006 \\u0111\\u1eb9p\"}, {\"row\": 6, \"column\": 7, \"value\": 0.0, \"row_token\": \"006 \\u0111\\u1eb9p\", \"col_token\": \"007 tr\\u1eddi\"}, {\"row\": 6, \"column\": 8, \"value\": 0.0, \"row_token\": \"006 \\u0111\\u1eb9p\", \"col_token\": \"008 </s>\"}, {\"row\": 7, \"column\": 0, \"value\": 0.0, \"row_token\": \"007 tr\\u1eddi\", \"col_token\": \"000 <s>\"}, {\"row\": 7, \"column\": 1, \"value\": 0.0, \"row_token\": \"007 tr\\u1eddi\", \"col_token\": \"001 H\\u00f4m\"}, {\"row\": 7, \"column\": 2, \"value\": 0.0, \"row_token\": \"007 tr\\u1eddi\", \"col_token\": \"002 nay\"}, {\"row\": 7, \"column\": 3, \"value\": 0.0, \"row_token\": \"007 tr\\u1eddi\", \"col_token\": \"003 l\\u00e0\"}, {\"row\": 7, \"column\": 4, \"value\": 0.0, \"row_token\": \"007 tr\\u1eddi\", \"col_token\": \"004 m\\u1ed9t\"}, {\"row\": 7, \"column\": 5, \"value\": 0.0, \"row_token\": \"007 tr\\u1eddi\", \"col_token\": \"005 ng\\u00e0y\"}, {\"row\": 7, \"column\": 6, \"value\": 0.0, \"row_token\": \"007 tr\\u1eddi\", \"col_token\": \"006 \\u0111\\u1eb9p\"}, {\"row\": 7, \"column\": 7, \"value\": 0.0, \"row_token\": \"007 tr\\u1eddi\", \"col_token\": \"007 tr\\u1eddi\"}, {\"row\": 7, \"column\": 8, \"value\": 0.0, \"row_token\": \"007 tr\\u1eddi\", \"col_token\": \"008 </s>\"}, {\"row\": 8, \"column\": 0, \"value\": 0.0, \"row_token\": \"008 </s>\", \"col_token\": \"000 <s>\"}, {\"row\": 8, \"column\": 1, \"value\": 0.0, \"row_token\": \"008 </s>\", \"col_token\": \"001 H\\u00f4m\"}, {\"row\": 8, \"column\": 2, \"value\": 0.0, \"row_token\": \"008 </s>\", \"col_token\": \"002 nay\"}, {\"row\": 8, \"column\": 3, \"value\": 0.0, \"row_token\": \"008 </s>\", \"col_token\": \"003 l\\u00e0\"}, {\"row\": 8, \"column\": 4, \"value\": 0.0, \"row_token\": \"008 </s>\", \"col_token\": \"004 m\\u1ed9t\"}, {\"row\": 8, \"column\": 5, \"value\": 0.0, \"row_token\": \"008 </s>\", \"col_token\": \"005 ng\\u00e0y\"}, {\"row\": 8, \"column\": 6, \"value\": 0.0, \"row_token\": \"008 </s>\", \"col_token\": \"006 \\u0111\\u1eb9p\"}, {\"row\": 8, \"column\": 7, \"value\": 0.0, \"row_token\": \"008 </s>\", \"col_token\": \"007 tr\\u1eddi\"}, {\"row\": 8, \"column\": 8, \"value\": 0.0, \"row_token\": \"008 </s>\", \"col_token\": \"008 </s>\"}], \"data-5859b2107ba61c691bf7c9ff23892a23\": [{\"row\": 0, \"column\": 0, \"value\": 32.16902160644531, \"row_token\": \"000 <s>\", \"col_token\": \"000 <s>\"}, {\"row\": 0, \"column\": 1, \"value\": 0.0, \"row_token\": \"000 <s>\", \"col_token\": \"001 H\\u00f4m\"}, {\"row\": 0, \"column\": 2, \"value\": 40.90304946899414, \"row_token\": \"000 <s>\", \"col_token\": \"002 nay\"}, {\"row\": 0, \"column\": 3, \"value\": 67.18385314941406, \"row_token\": \"000 <s>\", \"col_token\": \"003 l\\u00e0\"}, {\"row\": 0, \"column\": 4, \"value\": 86.43050384521484, \"row_token\": \"000 <s>\", \"col_token\": \"004 m\\u1ed9t\"}, {\"row\": 0, \"column\": 5, \"value\": 6.490793704986572, \"row_token\": \"000 <s>\", \"col_token\": \"005 ng\\u00e0y\"}, {\"row\": 0, \"column\": 6, \"value\": 93.47394561767578, \"row_token\": \"000 <s>\", \"col_token\": \"006 \\u0111\\u1eb9p\"}, {\"row\": 0, \"column\": 7, \"value\": 100.32460021972656, \"row_token\": \"000 <s>\", \"col_token\": \"007 tr\\u1eddi\"}, {\"row\": 0, \"column\": 8, \"value\": 82.22354125976562, \"row_token\": \"000 <s>\", \"col_token\": \"008 </s>\"}, {\"row\": 1, \"column\": 0, \"value\": 59.739986419677734, \"row_token\": \"001 H\\u00f4m\", \"col_token\": \"000 <s>\"}, {\"row\": 1, \"column\": 1, \"value\": 46.598960876464844, \"row_token\": \"001 H\\u00f4m\", \"col_token\": \"001 H\\u00f4m\"}, {\"row\": 1, \"column\": 2, \"value\": 72.06632995605469, \"row_token\": \"001 H\\u00f4m\", \"col_token\": \"002 nay\"}, {\"row\": 1, \"column\": 3, \"value\": 119.90653991699219, \"row_token\": \"001 H\\u00f4m\", \"col_token\": \"003 l\\u00e0\"}, {\"row\": 1, \"column\": 4, \"value\": 151.57223510742188, \"row_token\": \"001 H\\u00f4m\", \"col_token\": \"004 m\\u1ed9t\"}, {\"row\": 1, \"column\": 5, \"value\": 63.059871673583984, \"row_token\": \"001 H\\u00f4m\", \"col_token\": \"005 ng\\u00e0y\"}, {\"row\": 1, \"column\": 6, \"value\": 162.41815185546875, \"row_token\": \"001 H\\u00f4m\", \"col_token\": \"006 \\u0111\\u1eb9p\"}, {\"row\": 1, \"column\": 7, \"value\": 174.700439453125, \"row_token\": \"001 H\\u00f4m\", \"col_token\": \"007 tr\\u1eddi\"}, {\"row\": 1, \"column\": 8, \"value\": 141.87457275390625, \"row_token\": \"001 H\\u00f4m\", \"col_token\": \"008 </s>\"}, {\"row\": 2, \"column\": 0, \"value\": 32.22708511352539, \"row_token\": \"002 nay\", \"col_token\": \"000 <s>\"}, {\"row\": 2, \"column\": 1, \"value\": 0.0, \"row_token\": \"002 nay\", \"col_token\": \"001 H\\u00f4m\"}, {\"row\": 2, \"column\": 2, \"value\": 41.23033905029297, \"row_token\": \"002 nay\", \"col_token\": \"002 nay\"}, {\"row\": 2, \"column\": 3, \"value\": 67.73133087158203, \"row_token\": \"002 nay\", \"col_token\": \"003 l\\u00e0\"}, {\"row\": 2, \"column\": 4, \"value\": 87.3448715209961, \"row_token\": \"002 nay\", \"col_token\": \"004 m\\u1ed9t\"}, {\"row\": 2, \"column\": 5, \"value\": 3.969639539718628, \"row_token\": \"002 nay\", \"col_token\": \"005 ng\\u00e0y\"}, {\"row\": 2, \"column\": 6, \"value\": 94.56919860839844, \"row_token\": \"002 nay\", \"col_token\": \"006 \\u0111\\u1eb9p\"}, {\"row\": 2, \"column\": 7, \"value\": 101.50211334228516, \"row_token\": \"002 nay\", \"col_token\": \"007 tr\\u1eddi\"}, {\"row\": 2, \"column\": 8, \"value\": 83.19354248046875, \"row_token\": \"002 nay\", \"col_token\": \"008 </s>\"}, {\"row\": 3, \"column\": 0, \"value\": 43.03060531616211, \"row_token\": \"003 l\\u00e0\", \"col_token\": \"000 <s>\"}, {\"row\": 3, \"column\": 1, \"value\": 0.0, \"row_token\": \"003 l\\u00e0\", \"col_token\": \"001 H\\u00f4m\"}, {\"row\": 3, \"column\": 2, \"value\": 54.96174240112305, \"row_token\": \"003 l\\u00e0\", \"col_token\": \"002 nay\"}, {\"row\": 3, \"column\": 3, \"value\": 90.57150268554688, \"row_token\": \"003 l\\u00e0\", \"col_token\": \"003 l\\u00e0\"}, {\"row\": 3, \"column\": 4, \"value\": 116.92362213134766, \"row_token\": \"003 l\\u00e0\", \"col_token\": \"004 m\\u1ed9t\"}, {\"row\": 3, \"column\": 5, \"value\": 8.779294967651367, \"row_token\": \"003 l\\u00e0\", \"col_token\": \"005 ng\\u00e0y\"}, {\"row\": 3, \"column\": 6, \"value\": 126.62841033935547, \"row_token\": \"003 l\\u00e0\", \"col_token\": \"006 \\u0111\\u1eb9p\"}, {\"row\": 3, \"column\": 7, \"value\": 136.0647735595703, \"row_token\": \"003 l\\u00e0\", \"col_token\": \"007 tr\\u1eddi\"}, {\"row\": 3, \"column\": 8, \"value\": 111.20227813720703, \"row_token\": \"003 l\\u00e0\", \"col_token\": \"008 </s>\"}, {\"row\": 4, \"column\": 0, \"value\": 46.87152862548828, \"row_token\": \"004 m\\u1ed9t\", \"col_token\": \"000 <s>\"}, {\"row\": 4, \"column\": 1, \"value\": 0.0, \"row_token\": \"004 m\\u1ed9t\", \"col_token\": \"001 H\\u00f4m\"}, {\"row\": 4, \"column\": 2, \"value\": 59.9605712890625, \"row_token\": \"004 m\\u1ed9t\", \"col_token\": \"002 nay\"}, {\"row\": 4, \"column\": 3, \"value\": 99.1943130493164, \"row_token\": \"004 m\\u1ed9t\", \"col_token\": \"003 l\\u00e0\"}, {\"row\": 4, \"column\": 4, \"value\": 128.3419189453125, \"row_token\": \"004 m\\u1ed9t\", \"col_token\": \"004 m\\u1ed9t\"}, {\"row\": 4, \"column\": 5, \"value\": 10.646355628967285, \"row_token\": \"004 m\\u1ed9t\", \"col_token\": \"005 ng\\u00e0y\"}, {\"row\": 4, \"column\": 6, \"value\": 139.12440490722656, \"row_token\": \"004 m\\u1ed9t\", \"col_token\": \"006 \\u0111\\u1eb9p\"}, {\"row\": 4, \"column\": 7, \"value\": 149.72647094726562, \"row_token\": \"004 m\\u1ed9t\", \"col_token\": \"007 tr\\u1eddi\"}, {\"row\": 4, \"column\": 8, \"value\": 121.9450912475586, \"row_token\": \"004 m\\u1ed9t\", \"col_token\": \"008 </s>\"}, {\"row\": 5, \"column\": 0, \"value\": 61.37199783325195, \"row_token\": \"005 ng\\u00e0y\", \"col_token\": \"000 <s>\"}, {\"row\": 5, \"column\": 1, \"value\": 45.71504211425781, \"row_token\": \"005 ng\\u00e0y\", \"col_token\": \"001 H\\u00f4m\"}, {\"row\": 5, \"column\": 2, \"value\": 74.24418640136719, \"row_token\": \"005 ng\\u00e0y\", \"col_token\": \"002 nay\"}, {\"row\": 5, \"column\": 3, \"value\": 123.5126724243164, \"row_token\": \"005 ng\\u00e0y\", \"col_token\": \"003 l\\u00e0\"}, {\"row\": 5, \"column\": 4, \"value\": 156.32118225097656, \"row_token\": \"005 ng\\u00e0y\", \"col_token\": \"004 m\\u1ed9t\"}, {\"row\": 5, \"column\": 5, \"value\": 62.79256057739258, \"row_token\": \"005 ng\\u00e0y\", \"col_token\": \"005 ng\\u00e0y\"}, {\"row\": 5, \"column\": 6, \"value\": 167.6060791015625, \"row_token\": \"005 ng\\u00e0y\", \"col_token\": \"006 \\u0111\\u1eb9p\"}, {\"row\": 5, \"column\": 7, \"value\": 180.31246948242188, \"row_token\": \"005 ng\\u00e0y\", \"col_token\": \"007 tr\\u1eddi\"}, {\"row\": 5, \"column\": 8, \"value\": 146.40550231933594, \"row_token\": \"005 ng\\u00e0y\", \"col_token\": \"008 </s>\"}, {\"row\": 6, \"column\": 0, \"value\": 47.4156608581543, \"row_token\": \"006 \\u0111\\u1eb9p\", \"col_token\": \"000 <s>\"}, {\"row\": 6, \"column\": 1, \"value\": 0.0, \"row_token\": \"006 \\u0111\\u1eb9p\", \"col_token\": \"001 H\\u00f4m\"}, {\"row\": 6, \"column\": 2, \"value\": 60.62701416015625, \"row_token\": \"006 \\u0111\\u1eb9p\", \"col_token\": \"002 nay\"}, {\"row\": 6, \"column\": 3, \"value\": 100.34032440185547, \"row_token\": \"006 \\u0111\\u1eb9p\", \"col_token\": \"003 l\\u00e0\"}, {\"row\": 6, \"column\": 4, \"value\": 129.90277099609375, \"row_token\": \"006 \\u0111\\u1eb9p\", \"col_token\": \"004 m\\u1ed9t\"}, {\"row\": 6, \"column\": 5, \"value\": 11.618755340576172, \"row_token\": \"006 \\u0111\\u1eb9p\", \"col_token\": \"005 ng\\u00e0y\"}, {\"row\": 6, \"column\": 6, \"value\": 140.84889221191406, \"row_token\": \"006 \\u0111\\u1eb9p\", \"col_token\": \"006 \\u0111\\u1eb9p\"}, {\"row\": 6, \"column\": 7, \"value\": 151.67970275878906, \"row_token\": \"006 \\u0111\\u1eb9p\", \"col_token\": \"007 tr\\u1eddi\"}, {\"row\": 6, \"column\": 8, \"value\": 123.38528442382812, \"row_token\": \"006 \\u0111\\u1eb9p\", \"col_token\": \"008 </s>\"}, {\"row\": 7, \"column\": 0, \"value\": 49.4682731628418, \"row_token\": \"007 tr\\u1eddi\", \"col_token\": \"000 <s>\"}, {\"row\": 7, \"column\": 1, \"value\": 0.0, \"row_token\": \"007 tr\\u1eddi\", \"col_token\": \"001 H\\u00f4m\"}, {\"row\": 7, \"column\": 2, \"value\": 63.39801025390625, \"row_token\": \"007 tr\\u1eddi\", \"col_token\": \"002 nay\"}, {\"row\": 7, \"column\": 3, \"value\": 105.21464538574219, \"row_token\": \"007 tr\\u1eddi\", \"col_token\": \"003 l\\u00e0\"}, {\"row\": 7, \"column\": 4, \"value\": 136.52879333496094, \"row_token\": \"007 tr\\u1eddi\", \"col_token\": \"004 m\\u1ed9t\"}, {\"row\": 7, \"column\": 5, \"value\": 11.561342239379883, \"row_token\": \"007 tr\\u1eddi\", \"col_token\": \"005 ng\\u00e0y\"}, {\"row\": 7, \"column\": 6, \"value\": 148.1823272705078, \"row_token\": \"007 tr\\u1eddi\", \"col_token\": \"006 \\u0111\\u1eb9p\"}, {\"row\": 7, \"column\": 7, \"value\": 159.8098602294922, \"row_token\": \"007 tr\\u1eddi\", \"col_token\": \"007 tr\\u1eddi\"}, {\"row\": 7, \"column\": 8, \"value\": 129.6707763671875, \"row_token\": \"007 tr\\u1eddi\", \"col_token\": \"008 </s>\"}, {\"row\": 8, \"column\": 0, \"value\": 43.87066650390625, \"row_token\": \"008 </s>\", \"col_token\": \"000 <s>\"}, {\"row\": 8, \"column\": 1, \"value\": 0.0, \"row_token\": \"008 </s>\", \"col_token\": \"001 H\\u00f4m\"}, {\"row\": 8, \"column\": 2, \"value\": 56.14693832397461, \"row_token\": \"008 </s>\", \"col_token\": \"002 nay\"}, {\"row\": 8, \"column\": 3, \"value\": 92.94932556152344, \"row_token\": \"008 </s>\", \"col_token\": \"003 l\\u00e0\"}, {\"row\": 8, \"column\": 4, \"value\": 120.26107025146484, \"row_token\": \"008 </s>\", \"col_token\": \"004 m\\u1ed9t\"}, {\"row\": 8, \"column\": 5, \"value\": 9.939775466918945, \"row_token\": \"008 </s>\", \"col_token\": \"005 ng\\u00e0y\"}, {\"row\": 8, \"column\": 6, \"value\": 130.36105346679688, \"row_token\": \"008 </s>\", \"col_token\": \"006 \\u0111\\u1eb9p\"}, {\"row\": 8, \"column\": 7, \"value\": 140.25108337402344, \"row_token\": \"008 </s>\", \"col_token\": \"007 tr\\u1eddi\"}, {\"row\": 8, \"column\": 8, \"value\": 114.25894165039062, \"row_token\": \"008 </s>\", \"col_token\": \"008 </s>\"}], \"data-d5307fb92c97c80b79cda0157b281baf\": [{\"row\": 0, \"column\": 0, \"value\": 0.0, \"row_token\": \"000 <s>\", \"col_token\": \"000 <s>\"}, {\"row\": 0, \"column\": 1, \"value\": 40.797447204589844, \"row_token\": \"000 <s>\", \"col_token\": \"001 H\\u00f4m\"}, {\"row\": 0, \"column\": 2, \"value\": 0.0, \"row_token\": \"000 <s>\", \"col_token\": \"002 nay\"}, {\"row\": 0, \"column\": 3, \"value\": 0.0, \"row_token\": \"000 <s>\", \"col_token\": \"003 l\\u00e0\"}, {\"row\": 0, \"column\": 4, \"value\": 0.0, \"row_token\": \"000 <s>\", \"col_token\": \"004 m\\u1ed9t\"}, {\"row\": 0, \"column\": 5, \"value\": 41.378944396972656, \"row_token\": \"000 <s>\", \"col_token\": \"005 ng\\u00e0y\"}, {\"row\": 0, \"column\": 6, \"value\": 0.0, \"row_token\": \"000 <s>\", \"col_token\": \"006 \\u0111\\u1eb9p\"}, {\"row\": 0, \"column\": 7, \"value\": 0.0, \"row_token\": \"000 <s>\", \"col_token\": \"007 tr\\u1eddi\"}, {\"row\": 0, \"column\": 8, \"value\": 0.0, \"row_token\": \"000 <s>\", \"col_token\": \"008 </s>\"}, {\"row\": 1, \"column\": 0, \"value\": 0.0, \"row_token\": \"001 H\\u00f4m\", \"col_token\": \"000 <s>\"}, {\"row\": 1, \"column\": 1, \"value\": 98.39219665527344, \"row_token\": \"001 H\\u00f4m\", \"col_token\": \"001 H\\u00f4m\"}, {\"row\": 1, \"column\": 2, \"value\": 0.0, \"row_token\": \"001 H\\u00f4m\", \"col_token\": \"002 nay\"}, {\"row\": 1, \"column\": 3, \"value\": 0.0, \"row_token\": \"001 H\\u00f4m\", \"col_token\": \"003 l\\u00e0\"}, {\"row\": 1, \"column\": 4, \"value\": 0.0, \"row_token\": \"001 H\\u00f4m\", \"col_token\": \"004 m\\u1ed9t\"}, {\"row\": 1, \"column\": 5, \"value\": 98.38766479492188, \"row_token\": \"001 H\\u00f4m\", \"col_token\": \"005 ng\\u00e0y\"}, {\"row\": 1, \"column\": 6, \"value\": 0.0, \"row_token\": \"001 H\\u00f4m\", \"col_token\": \"006 \\u0111\\u1eb9p\"}, {\"row\": 1, \"column\": 7, \"value\": 0.0, \"row_token\": \"001 H\\u00f4m\", \"col_token\": \"007 tr\\u1eddi\"}, {\"row\": 1, \"column\": 8, \"value\": 0.0, \"row_token\": \"001 H\\u00f4m\", \"col_token\": \"008 </s>\"}, {\"row\": 2, \"column\": 0, \"value\": 0.0, \"row_token\": \"002 nay\", \"col_token\": \"000 <s>\"}, {\"row\": 2, \"column\": 1, \"value\": 42.48173522949219, \"row_token\": \"002 nay\", \"col_token\": \"001 H\\u00f4m\"}, {\"row\": 2, \"column\": 2, \"value\": 0.0, \"row_token\": \"002 nay\", \"col_token\": \"002 nay\"}, {\"row\": 2, \"column\": 3, \"value\": 0.0, \"row_token\": \"002 nay\", \"col_token\": \"003 l\\u00e0\"}, {\"row\": 2, \"column\": 4, \"value\": 0.0, \"row_token\": \"002 nay\", \"col_token\": \"004 m\\u1ed9t\"}, {\"row\": 2, \"column\": 5, \"value\": 43.06092834472656, \"row_token\": \"002 nay\", \"col_token\": \"005 ng\\u00e0y\"}, {\"row\": 2, \"column\": 6, \"value\": 0.0, \"row_token\": \"002 nay\", \"col_token\": \"006 \\u0111\\u1eb9p\"}, {\"row\": 2, \"column\": 7, \"value\": 0.0, \"row_token\": \"002 nay\", \"col_token\": \"007 tr\\u1eddi\"}, {\"row\": 2, \"column\": 8, \"value\": 0.0, \"row_token\": \"002 nay\", \"col_token\": \"008 </s>\"}, {\"row\": 3, \"column\": 0, \"value\": 0.0, \"row_token\": \"003 l\\u00e0\", \"col_token\": \"000 <s>\"}, {\"row\": 3, \"column\": 1, \"value\": 68.20680236816406, \"row_token\": \"003 l\\u00e0\", \"col_token\": \"001 H\\u00f4m\"}, {\"row\": 3, \"column\": 2, \"value\": 0.0, \"row_token\": \"003 l\\u00e0\", \"col_token\": \"002 nay\"}, {\"row\": 3, \"column\": 3, \"value\": 0.0, \"row_token\": \"003 l\\u00e0\", \"col_token\": \"003 l\\u00e0\"}, {\"row\": 3, \"column\": 4, \"value\": 0.0, \"row_token\": \"003 l\\u00e0\", \"col_token\": \"004 m\\u1ed9t\"}, {\"row\": 3, \"column\": 5, \"value\": 68.56401824951172, \"row_token\": \"003 l\\u00e0\", \"col_token\": \"005 ng\\u00e0y\"}, {\"row\": 3, \"column\": 6, \"value\": 0.0, \"row_token\": \"003 l\\u00e0\", \"col_token\": \"006 \\u0111\\u1eb9p\"}, {\"row\": 3, \"column\": 7, \"value\": 0.0, \"row_token\": \"003 l\\u00e0\", \"col_token\": \"007 tr\\u1eddi\"}, {\"row\": 3, \"column\": 8, \"value\": 0.0, \"row_token\": \"003 l\\u00e0\", \"col_token\": \"008 </s>\"}, {\"row\": 4, \"column\": 0, \"value\": 0.0, \"row_token\": \"004 m\\u1ed9t\", \"col_token\": \"000 <s>\"}, {\"row\": 4, \"column\": 1, \"value\": 84.13077545166016, \"row_token\": \"004 m\\u1ed9t\", \"col_token\": \"001 H\\u00f4m\"}, {\"row\": 4, \"column\": 2, \"value\": 0.0, \"row_token\": \"004 m\\u1ed9t\", \"col_token\": \"002 nay\"}, {\"row\": 4, \"column\": 3, \"value\": 0.0, \"row_token\": \"004 m\\u1ed9t\", \"col_token\": \"003 l\\u00e0\"}, {\"row\": 4, \"column\": 4, \"value\": 0.0, \"row_token\": \"004 m\\u1ed9t\", \"col_token\": \"004 m\\u1ed9t\"}, {\"row\": 4, \"column\": 5, \"value\": 84.29560852050781, \"row_token\": \"004 m\\u1ed9t\", \"col_token\": \"005 ng\\u00e0y\"}, {\"row\": 4, \"column\": 6, \"value\": 0.0, \"row_token\": \"004 m\\u1ed9t\", \"col_token\": \"006 \\u0111\\u1eb9p\"}, {\"row\": 4, \"column\": 7, \"value\": 0.0, \"row_token\": \"004 m\\u1ed9t\", \"col_token\": \"007 tr\\u1eddi\"}, {\"row\": 4, \"column\": 8, \"value\": 0.0, \"row_token\": \"004 m\\u1ed9t\", \"col_token\": \"008 </s>\"}, {\"row\": 5, \"column\": 0, \"value\": 0.0, \"row_token\": \"005 ng\\u00e0y\", \"col_token\": \"000 <s>\"}, {\"row\": 5, \"column\": 1, \"value\": 104.28243255615234, \"row_token\": \"005 ng\\u00e0y\", \"col_token\": \"001 H\\u00f4m\"}, {\"row\": 5, \"column\": 2, \"value\": 0.0, \"row_token\": \"005 ng\\u00e0y\", \"col_token\": \"002 nay\"}, {\"row\": 5, \"column\": 3, \"value\": 0.0, \"row_token\": \"005 ng\\u00e0y\", \"col_token\": \"003 l\\u00e0\"}, {\"row\": 5, \"column\": 4, \"value\": 0.0, \"row_token\": \"005 ng\\u00e0y\", \"col_token\": \"004 m\\u1ed9t\"}, {\"row\": 5, \"column\": 5, \"value\": 104.19608306884766, \"row_token\": \"005 ng\\u00e0y\", \"col_token\": \"005 ng\\u00e0y\"}, {\"row\": 5, \"column\": 6, \"value\": 0.0, \"row_token\": \"005 ng\\u00e0y\", \"col_token\": \"006 \\u0111\\u1eb9p\"}, {\"row\": 5, \"column\": 7, \"value\": 0.0, \"row_token\": \"005 ng\\u00e0y\", \"col_token\": \"007 tr\\u1eddi\"}, {\"row\": 5, \"column\": 8, \"value\": 0.0, \"row_token\": \"005 ng\\u00e0y\", \"col_token\": \"008 </s>\"}, {\"row\": 6, \"column\": 0, \"value\": 0.0, \"row_token\": \"006 \\u0111\\u1eb9p\", \"col_token\": \"000 <s>\"}, {\"row\": 6, \"column\": 1, \"value\": 88.85678100585938, \"row_token\": \"006 \\u0111\\u1eb9p\", \"col_token\": \"001 H\\u00f4m\"}, {\"row\": 6, \"column\": 2, \"value\": 0.0, \"row_token\": \"006 \\u0111\\u1eb9p\", \"col_token\": \"002 nay\"}, {\"row\": 6, \"column\": 3, \"value\": 0.0, \"row_token\": \"006 \\u0111\\u1eb9p\", \"col_token\": \"003 l\\u00e0\"}, {\"row\": 6, \"column\": 4, \"value\": 0.0, \"row_token\": \"006 \\u0111\\u1eb9p\", \"col_token\": \"004 m\\u1ed9t\"}, {\"row\": 6, \"column\": 5, \"value\": 88.85986328125, \"row_token\": \"006 \\u0111\\u1eb9p\", \"col_token\": \"005 ng\\u00e0y\"}, {\"row\": 6, \"column\": 6, \"value\": 0.0, \"row_token\": \"006 \\u0111\\u1eb9p\", \"col_token\": \"006 \\u0111\\u1eb9p\"}, {\"row\": 6, \"column\": 7, \"value\": 0.0, \"row_token\": \"006 \\u0111\\u1eb9p\", \"col_token\": \"007 tr\\u1eddi\"}, {\"row\": 6, \"column\": 8, \"value\": 0.0, \"row_token\": \"006 \\u0111\\u1eb9p\", \"col_token\": \"008 </s>\"}, {\"row\": 7, \"column\": 0, \"value\": 0.0, \"row_token\": \"007 tr\\u1eddi\", \"col_token\": \"000 <s>\"}, {\"row\": 7, \"column\": 1, \"value\": 98.86840057373047, \"row_token\": \"007 tr\\u1eddi\", \"col_token\": \"001 H\\u00f4m\"}, {\"row\": 7, \"column\": 2, \"value\": 0.0, \"row_token\": \"007 tr\\u1eddi\", \"col_token\": \"002 nay\"}, {\"row\": 7, \"column\": 3, \"value\": 0.0, \"row_token\": \"007 tr\\u1eddi\", \"col_token\": \"003 l\\u00e0\"}, {\"row\": 7, \"column\": 4, \"value\": 0.0, \"row_token\": \"007 tr\\u1eddi\", \"col_token\": \"004 m\\u1ed9t\"}, {\"row\": 7, \"column\": 5, \"value\": 98.85973358154297, \"row_token\": \"007 tr\\u1eddi\", \"col_token\": \"005 ng\\u00e0y\"}, {\"row\": 7, \"column\": 6, \"value\": 0.0, \"row_token\": \"007 tr\\u1eddi\", \"col_token\": \"006 \\u0111\\u1eb9p\"}, {\"row\": 7, \"column\": 7, \"value\": 0.0, \"row_token\": \"007 tr\\u1eddi\", \"col_token\": \"007 tr\\u1eddi\"}, {\"row\": 7, \"column\": 8, \"value\": 0.0, \"row_token\": \"007 tr\\u1eddi\", \"col_token\": \"008 </s>\"}, {\"row\": 8, \"column\": 0, \"value\": 0.0, \"row_token\": \"008 </s>\", \"col_token\": \"000 <s>\"}, {\"row\": 8, \"column\": 1, \"value\": 77.82864379882812, \"row_token\": \"008 </s>\", \"col_token\": \"001 H\\u00f4m\"}, {\"row\": 8, \"column\": 2, \"value\": 0.0, \"row_token\": \"008 </s>\", \"col_token\": \"002 nay\"}, {\"row\": 8, \"column\": 3, \"value\": 0.0, \"row_token\": \"008 </s>\", \"col_token\": \"003 l\\u00e0\"}, {\"row\": 8, \"column\": 4, \"value\": 0.0, \"row_token\": \"008 </s>\", \"col_token\": \"004 m\\u1ed9t\"}, {\"row\": 8, \"column\": 5, \"value\": 77.9288558959961, \"row_token\": \"008 </s>\", \"col_token\": \"005 ng\\u00e0y\"}, {\"row\": 8, \"column\": 6, \"value\": 0.0, \"row_token\": \"008 </s>\", \"col_token\": \"006 \\u0111\\u1eb9p\"}, {\"row\": 8, \"column\": 7, \"value\": 0.0, \"row_token\": \"008 </s>\", \"col_token\": \"007 tr\\u1eddi\"}, {\"row\": 8, \"column\": 8, \"value\": 0.0, \"row_token\": \"008 </s>\", \"col_token\": \"008 </s>\"}], \"data-6f9a38da35258efe8efa399de8d2027b\": [{\"row\": 0, \"column\": 0, \"value\": 0.0, \"row_token\": \"000 <s>\", \"col_token\": \"000 <s>\"}, {\"row\": 0, \"column\": 1, \"value\": 32.38532257080078, \"row_token\": \"000 <s>\", \"col_token\": \"001 H\\u00f4m\"}, {\"row\": 0, \"column\": 2, \"value\": 0.0, \"row_token\": \"000 <s>\", \"col_token\": \"002 nay\"}, {\"row\": 0, \"column\": 3, \"value\": 0.0, \"row_token\": \"000 <s>\", \"col_token\": \"003 l\\u00e0\"}, {\"row\": 0, \"column\": 4, \"value\": 0.0, \"row_token\": \"000 <s>\", \"col_token\": \"004 m\\u1ed9t\"}, {\"row\": 0, \"column\": 5, \"value\": 30.459333419799805, \"row_token\": \"000 <s>\", \"col_token\": \"005 ng\\u00e0y\"}, {\"row\": 0, \"column\": 6, \"value\": 0.0, \"row_token\": \"000 <s>\", \"col_token\": \"006 \\u0111\\u1eb9p\"}, {\"row\": 0, \"column\": 7, \"value\": 0.0, \"row_token\": \"000 <s>\", \"col_token\": \"007 tr\\u1eddi\"}, {\"row\": 0, \"column\": 8, \"value\": 0.0, \"row_token\": \"000 <s>\", \"col_token\": \"008 </s>\"}, {\"row\": 1, \"column\": 0, \"value\": 0.0, \"row_token\": \"001 H\\u00f4m\", \"col_token\": \"000 <s>\"}, {\"row\": 1, \"column\": 1, \"value\": 11.012659072875977, \"row_token\": \"001 H\\u00f4m\", \"col_token\": \"001 H\\u00f4m\"}, {\"row\": 1, \"column\": 2, \"value\": 0.0, \"row_token\": \"001 H\\u00f4m\", \"col_token\": \"002 nay\"}, {\"row\": 1, \"column\": 3, \"value\": 0.0, \"row_token\": \"001 H\\u00f4m\", \"col_token\": \"003 l\\u00e0\"}, {\"row\": 1, \"column\": 4, \"value\": 0.0, \"row_token\": \"001 H\\u00f4m\", \"col_token\": \"004 m\\u1ed9t\"}, {\"row\": 1, \"column\": 5, \"value\": 18.704620361328125, \"row_token\": \"001 H\\u00f4m\", \"col_token\": \"005 ng\\u00e0y\"}, {\"row\": 1, \"column\": 6, \"value\": 0.0, \"row_token\": \"001 H\\u00f4m\", \"col_token\": \"006 \\u0111\\u1eb9p\"}, {\"row\": 1, \"column\": 7, \"value\": 0.0, \"row_token\": \"001 H\\u00f4m\", \"col_token\": \"007 tr\\u1eddi\"}, {\"row\": 1, \"column\": 8, \"value\": 0.0, \"row_token\": \"001 H\\u00f4m\", \"col_token\": \"008 </s>\"}, {\"row\": 2, \"column\": 0, \"value\": 0.0, \"row_token\": \"002 nay\", \"col_token\": \"000 <s>\"}, {\"row\": 2, \"column\": 1, \"value\": 34.838199615478516, \"row_token\": \"002 nay\", \"col_token\": \"001 H\\u00f4m\"}, {\"row\": 2, \"column\": 2, \"value\": 0.0, \"row_token\": \"002 nay\", \"col_token\": \"002 nay\"}, {\"row\": 2, \"column\": 3, \"value\": 0.0, \"row_token\": \"002 nay\", \"col_token\": \"003 l\\u00e0\"}, {\"row\": 2, \"column\": 4, \"value\": 0.0, \"row_token\": \"002 nay\", \"col_token\": \"004 m\\u1ed9t\"}, {\"row\": 2, \"column\": 5, \"value\": 33.45866775512695, \"row_token\": \"002 nay\", \"col_token\": \"005 ng\\u00e0y\"}, {\"row\": 2, \"column\": 6, \"value\": 0.0, \"row_token\": \"002 nay\", \"col_token\": \"006 \\u0111\\u1eb9p\"}, {\"row\": 2, \"column\": 7, \"value\": 0.0, \"row_token\": \"002 nay\", \"col_token\": \"007 tr\\u1eddi\"}, {\"row\": 2, \"column\": 8, \"value\": 0.0, \"row_token\": \"002 nay\", \"col_token\": \"008 </s>\"}, {\"row\": 3, \"column\": 0, \"value\": 0.0, \"row_token\": \"003 l\\u00e0\", \"col_token\": \"000 <s>\"}, {\"row\": 3, \"column\": 1, \"value\": 37.42640686035156, \"row_token\": \"003 l\\u00e0\", \"col_token\": \"001 H\\u00f4m\"}, {\"row\": 3, \"column\": 2, \"value\": 0.0, \"row_token\": \"003 l\\u00e0\", \"col_token\": \"002 nay\"}, {\"row\": 3, \"column\": 3, \"value\": 0.0, \"row_token\": \"003 l\\u00e0\", \"col_token\": \"003 l\\u00e0\"}, {\"row\": 3, \"column\": 4, \"value\": 0.0, \"row_token\": \"003 l\\u00e0\", \"col_token\": \"004 m\\u1ed9t\"}, {\"row\": 3, \"column\": 5, \"value\": 40.52861785888672, \"row_token\": \"003 l\\u00e0\", \"col_token\": \"005 ng\\u00e0y\"}, {\"row\": 3, \"column\": 6, \"value\": 0.0, \"row_token\": \"003 l\\u00e0\", \"col_token\": \"006 \\u0111\\u1eb9p\"}, {\"row\": 3, \"column\": 7, \"value\": 0.0, \"row_token\": \"003 l\\u00e0\", \"col_token\": \"007 tr\\u1eddi\"}, {\"row\": 3, \"column\": 8, \"value\": 0.0, \"row_token\": \"003 l\\u00e0\", \"col_token\": \"008 </s>\"}, {\"row\": 4, \"column\": 0, \"value\": 0.0, \"row_token\": \"004 m\\u1ed9t\", \"col_token\": \"000 <s>\"}, {\"row\": 4, \"column\": 1, \"value\": 38.017513275146484, \"row_token\": \"004 m\\u1ed9t\", \"col_token\": \"001 H\\u00f4m\"}, {\"row\": 4, \"column\": 2, \"value\": 0.0, \"row_token\": \"004 m\\u1ed9t\", \"col_token\": \"002 nay\"}, {\"row\": 4, \"column\": 3, \"value\": 0.0, \"row_token\": \"004 m\\u1ed9t\", \"col_token\": \"003 l\\u00e0\"}, {\"row\": 4, \"column\": 4, \"value\": 0.0, \"row_token\": \"004 m\\u1ed9t\", \"col_token\": \"004 m\\u1ed9t\"}, {\"row\": 4, \"column\": 5, \"value\": 44.26085662841797, \"row_token\": \"004 m\\u1ed9t\", \"col_token\": \"005 ng\\u00e0y\"}, {\"row\": 4, \"column\": 6, \"value\": 0.0, \"row_token\": \"004 m\\u1ed9t\", \"col_token\": \"006 \\u0111\\u1eb9p\"}, {\"row\": 4, \"column\": 7, \"value\": 0.0, \"row_token\": \"004 m\\u1ed9t\", \"col_token\": \"007 tr\\u1eddi\"}, {\"row\": 4, \"column\": 8, \"value\": 0.0, \"row_token\": \"004 m\\u1ed9t\", \"col_token\": \"008 </s>\"}, {\"row\": 5, \"column\": 0, \"value\": 0.0, \"row_token\": \"005 ng\\u00e0y\", \"col_token\": \"000 <s>\"}, {\"row\": 5, \"column\": 1, \"value\": 11.399397850036621, \"row_token\": \"005 ng\\u00e0y\", \"col_token\": \"001 H\\u00f4m\"}, {\"row\": 5, \"column\": 2, \"value\": 0.0, \"row_token\": \"005 ng\\u00e0y\", \"col_token\": \"002 nay\"}, {\"row\": 5, \"column\": 3, \"value\": 0.0, \"row_token\": \"005 ng\\u00e0y\", \"col_token\": \"003 l\\u00e0\"}, {\"row\": 5, \"column\": 4, \"value\": 0.0, \"row_token\": \"005 ng\\u00e0y\", \"col_token\": \"004 m\\u1ed9t\"}, {\"row\": 5, \"column\": 5, \"value\": 20.521066665649414, \"row_token\": \"005 ng\\u00e0y\", \"col_token\": \"005 ng\\u00e0y\"}, {\"row\": 5, \"column\": 6, \"value\": 0.0, \"row_token\": \"005 ng\\u00e0y\", \"col_token\": \"006 \\u0111\\u1eb9p\"}, {\"row\": 5, \"column\": 7, \"value\": 0.0, \"row_token\": \"005 ng\\u00e0y\", \"col_token\": \"007 tr\\u1eddi\"}, {\"row\": 5, \"column\": 8, \"value\": 0.0, \"row_token\": \"005 ng\\u00e0y\", \"col_token\": \"008 </s>\"}, {\"row\": 6, \"column\": 0, \"value\": 0.0, \"row_token\": \"006 \\u0111\\u1eb9p\", \"col_token\": \"000 <s>\"}, {\"row\": 6, \"column\": 1, \"value\": 37.40935134887695, \"row_token\": \"006 \\u0111\\u1eb9p\", \"col_token\": \"001 H\\u00f4m\"}, {\"row\": 6, \"column\": 2, \"value\": 0.0, \"row_token\": \"006 \\u0111\\u1eb9p\", \"col_token\": \"002 nay\"}, {\"row\": 6, \"column\": 3, \"value\": 0.0, \"row_token\": \"006 \\u0111\\u1eb9p\", \"col_token\": \"003 l\\u00e0\"}, {\"row\": 6, \"column\": 4, \"value\": 0.0, \"row_token\": \"006 \\u0111\\u1eb9p\", \"col_token\": \"004 m\\u1ed9t\"}, {\"row\": 6, \"column\": 5, \"value\": 45.143184661865234, \"row_token\": \"006 \\u0111\\u1eb9p\", \"col_token\": \"005 ng\\u00e0y\"}, {\"row\": 6, \"column\": 6, \"value\": 0.0, \"row_token\": \"006 \\u0111\\u1eb9p\", \"col_token\": \"006 \\u0111\\u1eb9p\"}, {\"row\": 6, \"column\": 7, \"value\": 0.0, \"row_token\": \"006 \\u0111\\u1eb9p\", \"col_token\": \"007 tr\\u1eddi\"}, {\"row\": 6, \"column\": 8, \"value\": 0.0, \"row_token\": \"006 \\u0111\\u1eb9p\", \"col_token\": \"008 </s>\"}, {\"row\": 7, \"column\": 0, \"value\": 0.0, \"row_token\": \"007 tr\\u1eddi\", \"col_token\": \"000 <s>\"}, {\"row\": 7, \"column\": 1, \"value\": 32.32052230834961, \"row_token\": \"007 tr\\u1eddi\", \"col_token\": \"001 H\\u00f4m\"}, {\"row\": 7, \"column\": 2, \"value\": 0.0, \"row_token\": \"007 tr\\u1eddi\", \"col_token\": \"002 nay\"}, {\"row\": 7, \"column\": 3, \"value\": 0.0, \"row_token\": \"007 tr\\u1eddi\", \"col_token\": \"003 l\\u00e0\"}, {\"row\": 7, \"column\": 4, \"value\": 0.0, \"row_token\": \"007 tr\\u1eddi\", \"col_token\": \"004 m\\u1ed9t\"}, {\"row\": 7, \"column\": 5, \"value\": 41.425071716308594, \"row_token\": \"007 tr\\u1eddi\", \"col_token\": \"005 ng\\u00e0y\"}, {\"row\": 7, \"column\": 6, \"value\": 0.0, \"row_token\": \"007 tr\\u1eddi\", \"col_token\": \"006 \\u0111\\u1eb9p\"}, {\"row\": 7, \"column\": 7, \"value\": 0.0, \"row_token\": \"007 tr\\u1eddi\", \"col_token\": \"007 tr\\u1eddi\"}, {\"row\": 7, \"column\": 8, \"value\": 0.0, \"row_token\": \"007 tr\\u1eddi\", \"col_token\": \"008 </s>\"}, {\"row\": 8, \"column\": 0, \"value\": 0.0, \"row_token\": \"008 </s>\", \"col_token\": \"000 <s>\"}, {\"row\": 8, \"column\": 1, \"value\": 39.9929313659668, \"row_token\": \"008 </s>\", \"col_token\": \"001 H\\u00f4m\"}, {\"row\": 8, \"column\": 2, \"value\": 0.0, \"row_token\": \"008 </s>\", \"col_token\": \"002 nay\"}, {\"row\": 8, \"column\": 3, \"value\": 0.0, \"row_token\": \"008 </s>\", \"col_token\": \"003 l\\u00e0\"}, {\"row\": 8, \"column\": 4, \"value\": 0.0, \"row_token\": \"008 </s>\", \"col_token\": \"004 m\\u1ed9t\"}, {\"row\": 8, \"column\": 5, \"value\": 45.443687438964844, \"row_token\": \"008 </s>\", \"col_token\": \"005 ng\\u00e0y\"}, {\"row\": 8, \"column\": 6, \"value\": 0.0, \"row_token\": \"008 </s>\", \"col_token\": \"006 \\u0111\\u1eb9p\"}, {\"row\": 8, \"column\": 7, \"value\": 0.0, \"row_token\": \"008 </s>\", \"col_token\": \"007 tr\\u1eddi\"}, {\"row\": 8, \"column\": 8, \"value\": 0.0, \"row_token\": \"008 </s>\", \"col_token\": \"008 </s>\"}], \"data-f6070ee4b7b3908c46b7c0fc486fe8f3\": [{\"row\": 0, \"column\": 0, \"value\": 65.15364837646484, \"row_token\": \"000 <s>\", \"col_token\": \"000 <s>\"}, {\"row\": 0, \"column\": 1, \"value\": 0.0, \"row_token\": \"000 <s>\", \"col_token\": \"001 H\\u00f4m\"}, {\"row\": 0, \"column\": 2, \"value\": 61.01588821411133, \"row_token\": \"000 <s>\", \"col_token\": \"002 nay\"}, {\"row\": 0, \"column\": 3, \"value\": 27.362226486206055, \"row_token\": \"000 <s>\", \"col_token\": \"003 l\\u00e0\"}, {\"row\": 0, \"column\": 4, \"value\": 0.0, \"row_token\": \"000 <s>\", \"col_token\": \"004 m\\u1ed9t\"}, {\"row\": 0, \"column\": 5, \"value\": 0.0, \"row_token\": \"000 <s>\", \"col_token\": \"005 ng\\u00e0y\"}, {\"row\": 0, \"column\": 6, \"value\": 0.0, \"row_token\": \"000 <s>\", \"col_token\": \"006 \\u0111\\u1eb9p\"}, {\"row\": 0, \"column\": 7, \"value\": 0.0, \"row_token\": \"000 <s>\", \"col_token\": \"007 tr\\u1eddi\"}, {\"row\": 0, \"column\": 8, \"value\": 7.705626010894775, \"row_token\": \"000 <s>\", \"col_token\": \"008 </s>\"}, {\"row\": 1, \"column\": 0, \"value\": 0.0, \"row_token\": \"001 H\\u00f4m\", \"col_token\": \"000 <s>\"}, {\"row\": 1, \"column\": 1, \"value\": 15.144216537475586, \"row_token\": \"001 H\\u00f4m\", \"col_token\": \"001 H\\u00f4m\"}, {\"row\": 1, \"column\": 2, \"value\": 0.0, \"row_token\": \"001 H\\u00f4m\", \"col_token\": \"002 nay\"}, {\"row\": 1, \"column\": 3, \"value\": 0.0, \"row_token\": \"001 H\\u00f4m\", \"col_token\": \"003 l\\u00e0\"}, {\"row\": 1, \"column\": 4, \"value\": 0.0, \"row_token\": \"001 H\\u00f4m\", \"col_token\": \"004 m\\u1ed9t\"}, {\"row\": 1, \"column\": 5, \"value\": 19.535581588745117, \"row_token\": \"001 H\\u00f4m\", \"col_token\": \"005 ng\\u00e0y\"}, {\"row\": 1, \"column\": 6, \"value\": 0.0, \"row_token\": \"001 H\\u00f4m\", \"col_token\": \"006 \\u0111\\u1eb9p\"}, {\"row\": 1, \"column\": 7, \"value\": 0.0, \"row_token\": \"001 H\\u00f4m\", \"col_token\": \"007 tr\\u1eddi\"}, {\"row\": 1, \"column\": 8, \"value\": 0.0, \"row_token\": \"001 H\\u00f4m\", \"col_token\": \"008 </s>\"}, {\"row\": 2, \"column\": 0, \"value\": 67.35196685791016, \"row_token\": \"002 nay\", \"col_token\": \"000 <s>\"}, {\"row\": 2, \"column\": 1, \"value\": 0.0, \"row_token\": \"002 nay\", \"col_token\": \"001 H\\u00f4m\"}, {\"row\": 2, \"column\": 2, \"value\": 62.791561126708984, \"row_token\": \"002 nay\", \"col_token\": \"002 nay\"}, {\"row\": 2, \"column\": 3, \"value\": 27.00527572631836, \"row_token\": \"002 nay\", \"col_token\": \"003 l\\u00e0\"}, {\"row\": 2, \"column\": 4, \"value\": 0.0, \"row_token\": \"002 nay\", \"col_token\": \"004 m\\u1ed9t\"}, {\"row\": 2, \"column\": 5, \"value\": 0.0, \"row_token\": \"002 nay\", \"col_token\": \"005 ng\\u00e0y\"}, {\"row\": 2, \"column\": 6, \"value\": 0.0, \"row_token\": \"002 nay\", \"col_token\": \"006 \\u0111\\u1eb9p\"}, {\"row\": 2, \"column\": 7, \"value\": 0.0, \"row_token\": \"002 nay\", \"col_token\": \"007 tr\\u1eddi\"}, {\"row\": 2, \"column\": 8, \"value\": 6.24346923828125, \"row_token\": \"002 nay\", \"col_token\": \"008 </s>\"}, {\"row\": 3, \"column\": 0, \"value\": 51.87795639038086, \"row_token\": \"003 l\\u00e0\", \"col_token\": \"000 <s>\"}, {\"row\": 3, \"column\": 1, \"value\": 9.619012832641602, \"row_token\": \"003 l\\u00e0\", \"col_token\": \"001 H\\u00f4m\"}, {\"row\": 3, \"column\": 2, \"value\": 45.873355865478516, \"row_token\": \"003 l\\u00e0\", \"col_token\": \"002 nay\"}, {\"row\": 3, \"column\": 3, \"value\": 10.588028907775879, \"row_token\": \"003 l\\u00e0\", \"col_token\": \"003 l\\u00e0\"}, {\"row\": 3, \"column\": 4, \"value\": 0.0, \"row_token\": \"003 l\\u00e0\", \"col_token\": \"004 m\\u1ed9t\"}, {\"row\": 3, \"column\": 5, \"value\": 0.0, \"row_token\": \"003 l\\u00e0\", \"col_token\": \"005 ng\\u00e0y\"}, {\"row\": 3, \"column\": 6, \"value\": 0.0, \"row_token\": \"003 l\\u00e0\", \"col_token\": \"006 \\u0111\\u1eb9p\"}, {\"row\": 3, \"column\": 7, \"value\": 0.0, \"row_token\": \"003 l\\u00e0\", \"col_token\": \"007 tr\\u1eddi\"}, {\"row\": 3, \"column\": 8, \"value\": 0.0, \"row_token\": \"003 l\\u00e0\", \"col_token\": \"008 </s>\"}, {\"row\": 4, \"column\": 0, \"value\": 38.68977737426758, \"row_token\": \"004 m\\u1ed9t\", \"col_token\": \"000 <s>\"}, {\"row\": 4, \"column\": 1, \"value\": 13.068038940429688, \"row_token\": \"004 m\\u1ed9t\", \"col_token\": \"001 H\\u00f4m\"}, {\"row\": 4, \"column\": 2, \"value\": 32.39213180541992, \"row_token\": \"004 m\\u1ed9t\", \"col_token\": \"002 nay\"}, {\"row\": 4, \"column\": 3, \"value\": 0.07296139001846313, \"row_token\": \"004 m\\u1ed9t\", \"col_token\": \"003 l\\u00e0\"}, {\"row\": 4, \"column\": 4, \"value\": 0.0, \"row_token\": \"004 m\\u1ed9t\", \"col_token\": \"004 m\\u1ed9t\"}, {\"row\": 4, \"column\": 5, \"value\": 0.0, \"row_token\": \"004 m\\u1ed9t\", \"col_token\": \"005 ng\\u00e0y\"}, {\"row\": 4, \"column\": 6, \"value\": 0.0, \"row_token\": \"004 m\\u1ed9t\", \"col_token\": \"006 \\u0111\\u1eb9p\"}, {\"row\": 4, \"column\": 7, \"value\": 0.0, \"row_token\": \"004 m\\u1ed9t\", \"col_token\": \"007 tr\\u1eddi\"}, {\"row\": 4, \"column\": 8, \"value\": 0.0, \"row_token\": \"004 m\\u1ed9t\", \"col_token\": \"008 </s>\"}, {\"row\": 5, \"column\": 0, \"value\": 0.0, \"row_token\": \"005 ng\\u00e0y\", \"col_token\": \"000 <s>\"}, {\"row\": 5, \"column\": 1, \"value\": 17.512020111083984, \"row_token\": \"005 ng\\u00e0y\", \"col_token\": \"001 H\\u00f4m\"}, {\"row\": 5, \"column\": 2, \"value\": 0.0, \"row_token\": \"005 ng\\u00e0y\", \"col_token\": \"002 nay\"}, {\"row\": 5, \"column\": 3, \"value\": 0.0, \"row_token\": \"005 ng\\u00e0y\", \"col_token\": \"003 l\\u00e0\"}, {\"row\": 5, \"column\": 4, \"value\": 0.0, \"row_token\": \"005 ng\\u00e0y\", \"col_token\": \"004 m\\u1ed9t\"}, {\"row\": 5, \"column\": 5, \"value\": 22.12993812561035, \"row_token\": \"005 ng\\u00e0y\", \"col_token\": \"005 ng\\u00e0y\"}, {\"row\": 5, \"column\": 6, \"value\": 0.0, \"row_token\": \"005 ng\\u00e0y\", \"col_token\": \"006 \\u0111\\u1eb9p\"}, {\"row\": 5, \"column\": 7, \"value\": 0.0, \"row_token\": \"005 ng\\u00e0y\", \"col_token\": \"007 tr\\u1eddi\"}, {\"row\": 5, \"column\": 8, \"value\": 0.0, \"row_token\": \"005 ng\\u00e0y\", \"col_token\": \"008 </s>\"}, {\"row\": 6, \"column\": 0, \"value\": 32.770362854003906, \"row_token\": \"006 \\u0111\\u1eb9p\", \"col_token\": \"000 <s>\"}, {\"row\": 6, \"column\": 1, \"value\": 14.825434684753418, \"row_token\": \"006 \\u0111\\u1eb9p\", \"col_token\": \"001 H\\u00f4m\"}, {\"row\": 6, \"column\": 2, \"value\": 26.322925567626953, \"row_token\": \"006 \\u0111\\u1eb9p\", \"col_token\": \"002 nay\"}, {\"row\": 6, \"column\": 3, \"value\": 0.0, \"row_token\": \"006 \\u0111\\u1eb9p\", \"col_token\": \"003 l\\u00e0\"}, {\"row\": 6, \"column\": 4, \"value\": 0.0, \"row_token\": \"006 \\u0111\\u1eb9p\", \"col_token\": \"004 m\\u1ed9t\"}, {\"row\": 6, \"column\": 5, \"value\": 1.8342739343643188, \"row_token\": \"006 \\u0111\\u1eb9p\", \"col_token\": \"005 ng\\u00e0y\"}, {\"row\": 6, \"column\": 6, \"value\": 0.0, \"row_token\": \"006 \\u0111\\u1eb9p\", \"col_token\": \"006 \\u0111\\u1eb9p\"}, {\"row\": 6, \"column\": 7, \"value\": 0.0, \"row_token\": \"006 \\u0111\\u1eb9p\", \"col_token\": \"007 tr\\u1eddi\"}, {\"row\": 6, \"column\": 8, \"value\": 0.0, \"row_token\": \"006 \\u0111\\u1eb9p\", \"col_token\": \"008 </s>\"}, {\"row\": 7, \"column\": 0, \"value\": 18.416597366333008, \"row_token\": \"007 tr\\u1eddi\", \"col_token\": \"000 <s>\"}, {\"row\": 7, \"column\": 1, \"value\": 15.818939208984375, \"row_token\": \"007 tr\\u1eddi\", \"col_token\": \"001 H\\u00f4m\"}, {\"row\": 7, \"column\": 2, \"value\": 12.645502090454102, \"row_token\": \"007 tr\\u1eddi\", \"col_token\": \"002 nay\"}, {\"row\": 7, \"column\": 3, \"value\": 0.0, \"row_token\": \"007 tr\\u1eddi\", \"col_token\": \"003 l\\u00e0\"}, {\"row\": 7, \"column\": 4, \"value\": 0.0, \"row_token\": \"007 tr\\u1eddi\", \"col_token\": \"004 m\\u1ed9t\"}, {\"row\": 7, \"column\": 5, \"value\": 5.5999579429626465, \"row_token\": \"007 tr\\u1eddi\", \"col_token\": \"005 ng\\u00e0y\"}, {\"row\": 7, \"column\": 6, \"value\": 0.0, \"row_token\": \"007 tr\\u1eddi\", \"col_token\": \"006 \\u0111\\u1eb9p\"}, {\"row\": 7, \"column\": 7, \"value\": 0.0, \"row_token\": \"007 tr\\u1eddi\", \"col_token\": \"007 tr\\u1eddi\"}, {\"row\": 7, \"column\": 8, \"value\": 0.0, \"row_token\": \"007 tr\\u1eddi\", \"col_token\": \"008 </s>\"}, {\"row\": 8, \"column\": 0, \"value\": 47.28770446777344, \"row_token\": \"008 </s>\", \"col_token\": \"000 <s>\"}, {\"row\": 8, \"column\": 1, \"value\": 10.969792366027832, \"row_token\": \"008 </s>\", \"col_token\": \"001 H\\u00f4m\"}, {\"row\": 8, \"column\": 2, \"value\": 40.90030288696289, \"row_token\": \"008 </s>\", \"col_token\": \"002 nay\"}, {\"row\": 8, \"column\": 3, \"value\": 5.500218391418457, \"row_token\": \"008 </s>\", \"col_token\": \"003 l\\u00e0\"}, {\"row\": 8, \"column\": 4, \"value\": 0.0, \"row_token\": \"008 </s>\", \"col_token\": \"004 m\\u1ed9t\"}, {\"row\": 8, \"column\": 5, \"value\": 0.0, \"row_token\": \"008 </s>\", \"col_token\": \"005 ng\\u00e0y\"}, {\"row\": 8, \"column\": 6, \"value\": 0.0, \"row_token\": \"008 </s>\", \"col_token\": \"006 \\u0111\\u1eb9p\"}, {\"row\": 8, \"column\": 7, \"value\": 0.0, \"row_token\": \"008 </s>\", \"col_token\": \"007 tr\\u1eddi\"}, {\"row\": 8, \"column\": 8, \"value\": 0.0, \"row_token\": \"008 </s>\", \"col_token\": \"008 </s>\"}], \"data-bb80ea561cb619daa7cb5da805cee4d0\": [{\"row\": 0, \"column\": 0, \"value\": 80.3101806640625, \"row_token\": \"000 <s>\", \"col_token\": \"000 <s>\"}, {\"row\": 0, \"column\": 1, \"value\": 47.88970184326172, \"row_token\": \"000 <s>\", \"col_token\": \"001 H\\u00f4m\"}, {\"row\": 0, \"column\": 2, \"value\": 82.6517105102539, \"row_token\": \"000 <s>\", \"col_token\": \"002 nay\"}, {\"row\": 0, \"column\": 3, \"value\": 82.41973876953125, \"row_token\": \"000 <s>\", \"col_token\": \"003 l\\u00e0\"}, {\"row\": 0, \"column\": 4, \"value\": 77.04080200195312, \"row_token\": \"000 <s>\", \"col_token\": \"004 m\\u1ed9t\"}, {\"row\": 0, \"column\": 5, \"value\": 45.50423049926758, \"row_token\": \"000 <s>\", \"col_token\": \"005 ng\\u00e0y\"}, {\"row\": 0, \"column\": 6, \"value\": 72.18631744384766, \"row_token\": \"000 <s>\", \"col_token\": \"006 \\u0111\\u1eb9p\"}, {\"row\": 0, \"column\": 7, \"value\": 58.201900482177734, \"row_token\": \"000 <s>\", \"col_token\": \"007 tr\\u1eddi\"}, {\"row\": 0, \"column\": 8, \"value\": 82.30281829833984, \"row_token\": \"000 <s>\", \"col_token\": \"008 </s>\"}, {\"row\": 1, \"column\": 0, \"value\": 4.659675598144531, \"row_token\": \"001 H\\u00f4m\", \"col_token\": \"000 <s>\"}, {\"row\": 1, \"column\": 1, \"value\": 16.811952590942383, \"row_token\": \"001 H\\u00f4m\", \"col_token\": \"001 H\\u00f4m\"}, {\"row\": 1, \"column\": 2, \"value\": 5.388874530792236, \"row_token\": \"001 H\\u00f4m\", \"col_token\": \"002 nay\"}, {\"row\": 1, \"column\": 3, \"value\": 9.936470985412598, \"row_token\": \"001 H\\u00f4m\", \"col_token\": \"003 l\\u00e0\"}, {\"row\": 1, \"column\": 4, \"value\": 12.736797332763672, \"row_token\": \"001 H\\u00f4m\", \"col_token\": \"004 m\\u1ed9t\"}, {\"row\": 1, \"column\": 5, \"value\": 17.753948211669922, \"row_token\": \"001 H\\u00f4m\", \"col_token\": \"005 ng\\u00e0y\"}, {\"row\": 1, \"column\": 6, \"value\": 13.994690895080566, \"row_token\": \"001 H\\u00f4m\", \"col_token\": \"006 \\u0111\\u1eb9p\"}, {\"row\": 1, \"column\": 7, \"value\": 12.666866302490234, \"row_token\": \"001 H\\u00f4m\", \"col_token\": \"007 tr\\u1eddi\"}, {\"row\": 1, \"column\": 8, \"value\": 13.192502975463867, \"row_token\": \"001 H\\u00f4m\", \"col_token\": \"008 </s>\"}, {\"row\": 2, \"column\": 0, \"value\": 82.94756317138672, \"row_token\": \"002 nay\", \"col_token\": \"000 <s>\"}, {\"row\": 2, \"column\": 1, \"value\": 51.89813995361328, \"row_token\": \"002 nay\", \"col_token\": \"001 H\\u00f4m\"}, {\"row\": 2, \"column\": 2, \"value\": 85.51810455322266, \"row_token\": \"002 nay\", \"col_token\": \"002 nay\"}, {\"row\": 2, \"column\": 3, \"value\": 86.45894622802734, \"row_token\": \"002 nay\", \"col_token\": \"003 l\\u00e0\"}, {\"row\": 2, \"column\": 4, \"value\": 81.77981567382812, \"row_token\": \"002 nay\", \"col_token\": \"004 m\\u1ed9t\"}, {\"row\": 2, \"column\": 5, \"value\": 49.814483642578125, \"row_token\": \"002 nay\", \"col_token\": \"005 ng\\u00e0y\"}, {\"row\": 2, \"column\": 6, \"value\": 77.11679077148438, \"row_token\": \"002 nay\", \"col_token\": \"006 \\u0111\\u1eb9p\"}, {\"row\": 2, \"column\": 7, \"value\": 63.07149887084961, \"row_token\": \"002 nay\", \"col_token\": \"007 tr\\u1eddi\"}, {\"row\": 2, \"column\": 8, \"value\": 86.98394012451172, \"row_token\": \"002 nay\", \"col_token\": \"008 </s>\"}, {\"row\": 3, \"column\": 0, \"value\": 71.9462890625, \"row_token\": \"003 l\\u00e0\", \"col_token\": \"000 <s>\"}, {\"row\": 3, \"column\": 1, \"value\": 62.227352142333984, \"row_token\": \"003 l\\u00e0\", \"col_token\": \"001 H\\u00f4m\"}, {\"row\": 3, \"column\": 2, \"value\": 75.14973449707031, \"row_token\": \"003 l\\u00e0\", \"col_token\": \"002 nay\"}, {\"row\": 3, \"column\": 3, \"value\": 83.61088562011719, \"row_token\": \"003 l\\u00e0\", \"col_token\": \"003 l\\u00e0\"}, {\"row\": 3, \"column\": 4, \"value\": 85.13155364990234, \"row_token\": \"003 l\\u00e0\", \"col_token\": \"004 m\\u1ed9t\"}, {\"row\": 3, \"column\": 5, \"value\": 62.77382278442383, \"row_token\": \"003 l\\u00e0\", \"col_token\": \"005 ng\\u00e0y\"}, {\"row\": 3, \"column\": 6, \"value\": 83.43843078613281, \"row_token\": \"003 l\\u00e0\", \"col_token\": \"006 \\u0111\\u1eb9p\"}, {\"row\": 3, \"column\": 7, \"value\": 73.00672912597656, \"row_token\": \"003 l\\u00e0\", \"col_token\": \"007 tr\\u1eddi\"}, {\"row\": 3, \"column\": 8, \"value\": 88.57801818847656, \"row_token\": \"003 l\\u00e0\", \"col_token\": \"008 </s>\"}, {\"row\": 4, \"column\": 0, \"value\": 57.65431594848633, \"row_token\": \"004 m\\u1ed9t\", \"col_token\": \"000 <s>\"}, {\"row\": 4, \"column\": 1, \"value\": 66.59512329101562, \"row_token\": \"004 m\\u1ed9t\", \"col_token\": \"001 H\\u00f4m\"}, {\"row\": 4, \"column\": 2, \"value\": 61.252315521240234, \"row_token\": \"004 m\\u1ed9t\", \"col_token\": \"002 nay\"}, {\"row\": 4, \"column\": 3, \"value\": 75.42555236816406, \"row_token\": \"004 m\\u1ed9t\", \"col_token\": \"003 l\\u00e0\"}, {\"row\": 4, \"column\": 4, \"value\": 82.06414031982422, \"row_token\": \"004 m\\u1ed9t\", \"col_token\": \"004 m\\u1ed9t\"}, {\"row\": 4, \"column\": 5, \"value\": 69.33541870117188, \"row_token\": \"004 m\\u1ed9t\", \"col_token\": \"005 ng\\u00e0y\"}, {\"row\": 4, \"column\": 6, \"value\": 82.96176147460938, \"row_token\": \"004 m\\u1ed9t\", \"col_token\": \"006 \\u0111\\u1eb9p\"}, {\"row\": 4, \"column\": 7, \"value\": 75.97840118408203, \"row_token\": \"004 m\\u1ed9t\", \"col_token\": \"007 tr\\u1eddi\"}, {\"row\": 4, \"column\": 8, \"value\": 83.92684936523438, \"row_token\": \"004 m\\u1ed9t\", \"col_token\": \"008 </s>\"}, {\"row\": 5, \"column\": 0, \"value\": 0.0, \"row_token\": \"005 ng\\u00e0y\", \"col_token\": \"000 <s>\"}, {\"row\": 5, \"column\": 1, \"value\": 19.75978660583496, \"row_token\": \"005 ng\\u00e0y\", \"col_token\": \"001 H\\u00f4m\"}, {\"row\": 5, \"column\": 2, \"value\": 0.801517903804779, \"row_token\": \"005 ng\\u00e0y\", \"col_token\": \"002 nay\"}, {\"row\": 5, \"column\": 3, \"value\": 8.061631202697754, \"row_token\": \"005 ng\\u00e0y\", \"col_token\": \"003 l\\u00e0\"}, {\"row\": 5, \"column\": 4, \"value\": 13.18292236328125, \"row_token\": \"005 ng\\u00e0y\", \"col_token\": \"004 m\\u1ed9t\"}, {\"row\": 5, \"column\": 5, \"value\": 21.706857681274414, \"row_token\": \"005 ng\\u00e0y\", \"col_token\": \"005 ng\\u00e0y\"}, {\"row\": 5, \"column\": 6, \"value\": 15.56352424621582, \"row_token\": \"005 ng\\u00e0y\", \"col_token\": \"006 \\u0111\\u1eb9p\"}, {\"row\": 5, \"column\": 7, \"value\": 15.708683967590332, \"row_token\": \"005 ng\\u00e0y\", \"col_token\": \"007 tr\\u1eddi\"}, {\"row\": 5, \"column\": 8, \"value\": 12.941688537597656, \"row_token\": \"005 ng\\u00e0y\", \"col_token\": \"008 </s>\"}, {\"row\": 6, \"column\": 0, \"value\": 46.6247444152832, \"row_token\": \"006 \\u0111\\u1eb9p\", \"col_token\": \"000 <s>\"}, {\"row\": 6, \"column\": 1, \"value\": 66.86991882324219, \"row_token\": \"006 \\u0111\\u1eb9p\", \"col_token\": \"001 H\\u00f4m\"}, {\"row\": 6, \"column\": 2, \"value\": 50.32146453857422, \"row_token\": \"006 \\u0111\\u1eb9p\", \"col_token\": \"002 nay\"}, {\"row\": 6, \"column\": 3, \"value\": 67.43595123291016, \"row_token\": \"006 \\u0111\\u1eb9p\", \"col_token\": \"003 l\\u00e0\"}, {\"row\": 6, \"column\": 4, \"value\": 76.94204711914062, \"row_token\": \"006 \\u0111\\u1eb9p\", \"col_token\": \"004 m\\u1ed9t\"}, {\"row\": 6, \"column\": 5, \"value\": 70.83702850341797, \"row_token\": \"006 \\u0111\\u1eb9p\", \"col_token\": \"005 ng\\u00e0y\"}, {\"row\": 6, \"column\": 6, \"value\": 79.3851089477539, \"row_token\": \"006 \\u0111\\u1eb9p\", \"col_token\": \"006 \\u0111\\u1eb9p\"}, {\"row\": 6, \"column\": 7, \"value\": 74.71835327148438, \"row_token\": \"006 \\u0111\\u1eb9p\", \"col_token\": \"007 tr\\u1eddi\"}, {\"row\": 6, \"column\": 8, \"value\": 77.7886962890625, \"row_token\": \"006 \\u0111\\u1eb9p\", \"col_token\": \"008 </s>\"}, {\"row\": 7, \"column\": 0, \"value\": 29.743350982666016, \"row_token\": \"007 tr\\u1eddi\", \"col_token\": \"000 <s>\"}, {\"row\": 7, \"column\": 1, \"value\": 65.8153305053711, \"row_token\": \"007 tr\\u1eddi\", \"col_token\": \"001 H\\u00f4m\"}, {\"row\": 7, \"column\": 2, \"value\": 33.51113510131836, \"row_token\": \"007 tr\\u1eddi\", \"col_token\": \"002 nay\"}, {\"row\": 7, \"column\": 3, \"value\": 54.633872985839844, \"row_token\": \"007 tr\\u1eddi\", \"col_token\": \"003 l\\u00e0\"}, {\"row\": 7, \"column\": 4, \"value\": 68.11754608154297, \"row_token\": \"007 tr\\u1eddi\", \"col_token\": \"004 m\\u1ed9t\"}, {\"row\": 7, \"column\": 5, \"value\": 71.50586700439453, \"row_token\": \"007 tr\\u1eddi\", \"col_token\": \"005 ng\\u00e0y\"}, {\"row\": 7, \"column\": 6, \"value\": 72.7762451171875, \"row_token\": \"007 tr\\u1eddi\", \"col_token\": \"006 \\u0111\\u1eb9p\"}, {\"row\": 7, \"column\": 7, \"value\": 71.55606079101562, \"row_token\": \"007 tr\\u1eddi\", \"col_token\": \"007 tr\\u1eddi\"}, {\"row\": 7, \"column\": 8, \"value\": 67.44810485839844, \"row_token\": \"007 tr\\u1eddi\", \"col_token\": \"008 </s>\"}, {\"row\": 8, \"column\": 0, \"value\": 63.6655158996582, \"row_token\": \"008 </s>\", \"col_token\": \"000 <s>\"}, {\"row\": 8, \"column\": 1, \"value\": 65.90042114257812, \"row_token\": \"008 </s>\", \"col_token\": \"001 H\\u00f4m\"}, {\"row\": 8, \"column\": 2, \"value\": 67.21381378173828, \"row_token\": \"008 </s>\", \"col_token\": \"002 nay\"}, {\"row\": 8, \"column\": 3, \"value\": 79.47685241699219, \"row_token\": \"008 </s>\", \"col_token\": \"003 l\\u00e0\"}, {\"row\": 8, \"column\": 4, \"value\": 84.376220703125, \"row_token\": \"008 </s>\", \"col_token\": \"004 m\\u1ed9t\"}, {\"row\": 8, \"column\": 5, \"value\": 67.89513397216797, \"row_token\": \"008 </s>\", \"col_token\": \"005 ng\\u00e0y\"}, {\"row\": 8, \"column\": 6, \"value\": 84.3319091796875, \"row_token\": \"008 </s>\", \"col_token\": \"006 \\u0111\\u1eb9p\"}, {\"row\": 8, \"column\": 7, \"value\": 75.887451171875, \"row_token\": \"008 </s>\", \"col_token\": \"007 tr\\u1eddi\"}, {\"row\": 8, \"column\": 8, \"value\": 86.90082550048828, \"row_token\": \"008 </s>\", \"col_token\": \"008 </s>\"}], \"data-b2df8f9258b4e488dafaabc5cb6d17f6\": [{\"row\": 0, \"column\": 0, \"value\": 0.0, \"row_token\": \"000 <s>\", \"col_token\": \"000 <s>\"}, {\"row\": 0, \"column\": 1, \"value\": 0.0, \"row_token\": \"000 <s>\", \"col_token\": \"001 H\\u00f4m\"}, {\"row\": 0, \"column\": 2, \"value\": 0.0, \"row_token\": \"000 <s>\", \"col_token\": \"002 nay\"}, {\"row\": 0, \"column\": 3, \"value\": 0.0, \"row_token\": \"000 <s>\", \"col_token\": \"003 l\\u00e0\"}, {\"row\": 0, \"column\": 4, \"value\": 0.0, \"row_token\": \"000 <s>\", \"col_token\": \"004 m\\u1ed9t\"}, {\"row\": 0, \"column\": 5, \"value\": 0.0, \"row_token\": \"000 <s>\", \"col_token\": \"005 ng\\u00e0y\"}, {\"row\": 0, \"column\": 6, \"value\": 0.0, \"row_token\": \"000 <s>\", \"col_token\": \"006 \\u0111\\u1eb9p\"}, {\"row\": 0, \"column\": 7, \"value\": 0.0, \"row_token\": \"000 <s>\", \"col_token\": \"007 tr\\u1eddi\"}, {\"row\": 0, \"column\": 8, \"value\": 0.0, \"row_token\": \"000 <s>\", \"col_token\": \"008 </s>\"}, {\"row\": 1, \"column\": 0, \"value\": 35.58918762207031, \"row_token\": \"001 H\\u00f4m\", \"col_token\": \"000 <s>\"}, {\"row\": 1, \"column\": 1, \"value\": 23.65897560119629, \"row_token\": \"001 H\\u00f4m\", \"col_token\": \"001 H\\u00f4m\"}, {\"row\": 1, \"column\": 2, \"value\": 37.08562088012695, \"row_token\": \"001 H\\u00f4m\", \"col_token\": \"002 nay\"}, {\"row\": 1, \"column\": 3, \"value\": 37.36922073364258, \"row_token\": \"001 H\\u00f4m\", \"col_token\": \"003 l\\u00e0\"}, {\"row\": 1, \"column\": 4, \"value\": 33.541873931884766, \"row_token\": \"001 H\\u00f4m\", \"col_token\": \"004 m\\u1ed9t\"}, {\"row\": 1, \"column\": 5, \"value\": 22.272905349731445, \"row_token\": \"001 H\\u00f4m\", \"col_token\": \"005 ng\\u00e0y\"}, {\"row\": 1, \"column\": 6, \"value\": 30.371732711791992, \"row_token\": \"001 H\\u00f4m\", \"col_token\": \"006 \\u0111\\u1eb9p\"}, {\"row\": 1, \"column\": 7, \"value\": 20.841190338134766, \"row_token\": \"001 H\\u00f4m\", \"col_token\": \"007 tr\\u1eddi\"}, {\"row\": 1, \"column\": 8, \"value\": 36.79560089111328, \"row_token\": \"001 H\\u00f4m\", \"col_token\": \"008 </s>\"}, {\"row\": 2, \"column\": 0, \"value\": 0.0, \"row_token\": \"002 nay\", \"col_token\": \"000 <s>\"}, {\"row\": 2, \"column\": 1, \"value\": 0.0, \"row_token\": \"002 nay\", \"col_token\": \"001 H\\u00f4m\"}, {\"row\": 2, \"column\": 2, \"value\": 0.0, \"row_token\": \"002 nay\", \"col_token\": \"002 nay\"}, {\"row\": 2, \"column\": 3, \"value\": 0.0, \"row_token\": \"002 nay\", \"col_token\": \"003 l\\u00e0\"}, {\"row\": 2, \"column\": 4, \"value\": 0.0, \"row_token\": \"002 nay\", \"col_token\": \"004 m\\u1ed9t\"}, {\"row\": 2, \"column\": 5, \"value\": 0.0, \"row_token\": \"002 nay\", \"col_token\": \"005 ng\\u00e0y\"}, {\"row\": 2, \"column\": 6, \"value\": 0.0, \"row_token\": \"002 nay\", \"col_token\": \"006 \\u0111\\u1eb9p\"}, {\"row\": 2, \"column\": 7, \"value\": 0.0, \"row_token\": \"002 nay\", \"col_token\": \"007 tr\\u1eddi\"}, {\"row\": 2, \"column\": 8, \"value\": 0.0, \"row_token\": \"002 nay\", \"col_token\": \"008 </s>\"}, {\"row\": 3, \"column\": 0, \"value\": 8.749956130981445, \"row_token\": \"003 l\\u00e0\", \"col_token\": \"000 <s>\"}, {\"row\": 3, \"column\": 1, \"value\": 0.0, \"row_token\": \"003 l\\u00e0\", \"col_token\": \"001 H\\u00f4m\"}, {\"row\": 3, \"column\": 2, \"value\": 5.568359375, \"row_token\": \"003 l\\u00e0\", \"col_token\": \"002 nay\"}, {\"row\": 3, \"column\": 3, \"value\": 0.0, \"row_token\": \"003 l\\u00e0\", \"col_token\": \"003 l\\u00e0\"}, {\"row\": 3, \"column\": 4, \"value\": 0.0, \"row_token\": \"003 l\\u00e0\", \"col_token\": \"004 m\\u1ed9t\"}, {\"row\": 3, \"column\": 5, \"value\": 0.0, \"row_token\": \"003 l\\u00e0\", \"col_token\": \"005 ng\\u00e0y\"}, {\"row\": 3, \"column\": 6, \"value\": 0.0, \"row_token\": \"003 l\\u00e0\", \"col_token\": \"006 \\u0111\\u1eb9p\"}, {\"row\": 3, \"column\": 7, \"value\": 0.0, \"row_token\": \"003 l\\u00e0\", \"col_token\": \"007 tr\\u1eddi\"}, {\"row\": 3, \"column\": 8, \"value\": 0.0, \"row_token\": \"003 l\\u00e0\", \"col_token\": \"008 </s>\"}, {\"row\": 4, \"column\": 0, \"value\": 19.94208526611328, \"row_token\": \"004 m\\u1ed9t\", \"col_token\": \"000 <s>\"}, {\"row\": 4, \"column\": 1, \"value\": 0.0, \"row_token\": \"004 m\\u1ed9t\", \"col_token\": \"001 H\\u00f4m\"}, {\"row\": 4, \"column\": 2, \"value\": 18.06043815612793, \"row_token\": \"004 m\\u1ed9t\", \"col_token\": \"002 nay\"}, {\"row\": 4, \"column\": 3, \"value\": 0.0, \"row_token\": \"004 m\\u1ed9t\", \"col_token\": \"003 l\\u00e0\"}, {\"row\": 4, \"column\": 4, \"value\": 0.0, \"row_token\": \"004 m\\u1ed9t\", \"col_token\": \"004 m\\u1ed9t\"}, {\"row\": 4, \"column\": 5, \"value\": 0.0, \"row_token\": \"004 m\\u1ed9t\", \"col_token\": \"005 ng\\u00e0y\"}, {\"row\": 4, \"column\": 6, \"value\": 0.0, \"row_token\": \"004 m\\u1ed9t\", \"col_token\": \"006 \\u0111\\u1eb9p\"}, {\"row\": 4, \"column\": 7, \"value\": 0.0, \"row_token\": \"004 m\\u1ed9t\", \"col_token\": \"007 tr\\u1eddi\"}, {\"row\": 4, \"column\": 8, \"value\": 0.0, \"row_token\": \"004 m\\u1ed9t\", \"col_token\": \"008 </s>\"}, {\"row\": 5, \"column\": 0, \"value\": 40.25128936767578, \"row_token\": \"005 ng\\u00e0y\", \"col_token\": \"000 <s>\"}, {\"row\": 5, \"column\": 1, \"value\": 30.03731346130371, \"row_token\": \"005 ng\\u00e0y\", \"col_token\": \"001 H\\u00f4m\"}, {\"row\": 5, \"column\": 2, \"value\": 42.19062042236328, \"row_token\": \"005 ng\\u00e0y\", \"col_token\": \"002 nay\"}, {\"row\": 5, \"column\": 3, \"value\": 44.293312072753906, \"row_token\": \"005 ng\\u00e0y\", \"col_token\": \"003 l\\u00e0\"}, {\"row\": 5, \"column\": 4, \"value\": 40.994529724121094, \"row_token\": \"005 ng\\u00e0y\", \"col_token\": \"004 m\\u1ed9t\"}, {\"row\": 5, \"column\": 5, \"value\": 28.984079360961914, \"row_token\": \"005 ng\\u00e0y\", \"col_token\": \"005 ng\\u00e0y\"}, {\"row\": 5, \"column\": 6, \"value\": 37.79633331298828, \"row_token\": \"005 ng\\u00e0y\", \"col_token\": \"006 \\u0111\\u1eb9p\"}, {\"row\": 5, \"column\": 7, \"value\": 27.42986488342285, \"row_token\": \"005 ng\\u00e0y\", \"col_token\": \"007 tr\\u1eddi\"}, {\"row\": 5, \"column\": 8, \"value\": 44.27942657470703, \"row_token\": \"005 ng\\u00e0y\", \"col_token\": \"008 </s>\"}, {\"row\": 6, \"column\": 0, \"value\": 25.221887588500977, \"row_token\": \"006 \\u0111\\u1eb9p\", \"col_token\": \"000 <s>\"}, {\"row\": 6, \"column\": 1, \"value\": 0.0, \"row_token\": \"006 \\u0111\\u1eb9p\", \"col_token\": \"001 H\\u00f4m\"}, {\"row\": 6, \"column\": 2, \"value\": 24.07442283630371, \"row_token\": \"006 \\u0111\\u1eb9p\", \"col_token\": \"002 nay\"}, {\"row\": 6, \"column\": 3, \"value\": 0.0, \"row_token\": \"006 \\u0111\\u1eb9p\", \"col_token\": \"003 l\\u00e0\"}, {\"row\": 6, \"column\": 4, \"value\": 0.0, \"row_token\": \"006 \\u0111\\u1eb9p\", \"col_token\": \"004 m\\u1ed9t\"}, {\"row\": 6, \"column\": 5, \"value\": 0.0, \"row_token\": \"006 \\u0111\\u1eb9p\", \"col_token\": \"005 ng\\u00e0y\"}, {\"row\": 6, \"column\": 6, \"value\": 0.0, \"row_token\": \"006 \\u0111\\u1eb9p\", \"col_token\": \"006 \\u0111\\u1eb9p\"}, {\"row\": 6, \"column\": 7, \"value\": 0.0, \"row_token\": \"006 \\u0111\\u1eb9p\", \"col_token\": \"007 tr\\u1eddi\"}, {\"row\": 6, \"column\": 8, \"value\": 0.0, \"row_token\": \"006 \\u0111\\u1eb9p\", \"col_token\": \"008 </s>\"}, {\"row\": 7, \"column\": 0, \"value\": 34.97603988647461, \"row_token\": \"007 tr\\u1eddi\", \"col_token\": \"000 <s>\"}, {\"row\": 7, \"column\": 1, \"value\": 0.0, \"row_token\": \"007 tr\\u1eddi\", \"col_token\": \"001 H\\u00f4m\"}, {\"row\": 7, \"column\": 2, \"value\": 35.27460479736328, \"row_token\": \"007 tr\\u1eddi\", \"col_token\": \"002 nay\"}, {\"row\": 7, \"column\": 3, \"value\": 19.360017776489258, \"row_token\": \"007 tr\\u1eddi\", \"col_token\": \"003 l\\u00e0\"}, {\"row\": 7, \"column\": 4, \"value\": 5.796792030334473, \"row_token\": \"007 tr\\u1eddi\", \"col_token\": \"004 m\\u1ed9t\"}, {\"row\": 7, \"column\": 5, \"value\": 0.0, \"row_token\": \"007 tr\\u1eddi\", \"col_token\": \"005 ng\\u00e0y\"}, {\"row\": 7, \"column\": 6, \"value\": 0.0, \"row_token\": \"007 tr\\u1eddi\", \"col_token\": \"006 \\u0111\\u1eb9p\"}, {\"row\": 7, \"column\": 7, \"value\": 0.0, \"row_token\": \"007 tr\\u1eddi\", \"col_token\": \"007 tr\\u1eddi\"}, {\"row\": 7, \"column\": 8, \"value\": 12.79002857208252, \"row_token\": \"007 tr\\u1eddi\", \"col_token\": \"008 </s>\"}, {\"row\": 8, \"column\": 0, \"value\": 14.623558044433594, \"row_token\": \"008 </s>\", \"col_token\": \"000 <s>\"}, {\"row\": 8, \"column\": 1, \"value\": 0.0, \"row_token\": \"008 </s>\", \"col_token\": \"001 H\\u00f4m\"}, {\"row\": 8, \"column\": 2, \"value\": 12.202873229980469, \"row_token\": \"008 </s>\", \"col_token\": \"002 nay\"}, {\"row\": 8, \"column\": 3, \"value\": 0.0, \"row_token\": \"008 </s>\", \"col_token\": \"003 l\\u00e0\"}, {\"row\": 8, \"column\": 4, \"value\": 0.0, \"row_token\": \"008 </s>\", \"col_token\": \"004 m\\u1ed9t\"}, {\"row\": 8, \"column\": 5, \"value\": 0.0, \"row_token\": \"008 </s>\", \"col_token\": \"005 ng\\u00e0y\"}, {\"row\": 8, \"column\": 6, \"value\": 0.0, \"row_token\": \"008 </s>\", \"col_token\": \"006 \\u0111\\u1eb9p\"}, {\"row\": 8, \"column\": 7, \"value\": 0.0, \"row_token\": \"008 </s>\", \"col_token\": \"007 tr\\u1eddi\"}, {\"row\": 8, \"column\": 8, \"value\": 0.0, \"row_token\": \"008 </s>\", \"col_token\": \"008 </s>\"}], \"data-2fe46a616fa396445ce602a5d450258c\": [{\"row\": 0, \"column\": 0, \"value\": 0.0, \"row_token\": \"000 <s>\", \"col_token\": \"000 <s>\"}, {\"row\": 0, \"column\": 1, \"value\": 3.810748815536499, \"row_token\": \"000 <s>\", \"col_token\": \"001 H\\u00f4m\"}, {\"row\": 0, \"column\": 2, \"value\": 0.0, \"row_token\": \"000 <s>\", \"col_token\": \"002 nay\"}, {\"row\": 0, \"column\": 3, \"value\": 0.0, \"row_token\": \"000 <s>\", \"col_token\": \"003 l\\u00e0\"}, {\"row\": 0, \"column\": 4, \"value\": 0.0, \"row_token\": \"000 <s>\", \"col_token\": \"004 m\\u1ed9t\"}, {\"row\": 0, \"column\": 5, \"value\": 13.425025939941406, \"row_token\": \"000 <s>\", \"col_token\": \"005 ng\\u00e0y\"}, {\"row\": 0, \"column\": 6, \"value\": 2.347010374069214, \"row_token\": \"000 <s>\", \"col_token\": \"006 \\u0111\\u1eb9p\"}, {\"row\": 0, \"column\": 7, \"value\": 17.18422508239746, \"row_token\": \"000 <s>\", \"col_token\": \"007 tr\\u1eddi\"}, {\"row\": 0, \"column\": 8, \"value\": 0.0, \"row_token\": \"000 <s>\", \"col_token\": \"008 </s>\"}, {\"row\": 1, \"column\": 0, \"value\": 0.0, \"row_token\": \"001 H\\u00f4m\", \"col_token\": \"000 <s>\"}, {\"row\": 1, \"column\": 1, \"value\": 27.5178165435791, \"row_token\": \"001 H\\u00f4m\", \"col_token\": \"001 H\\u00f4m\"}, {\"row\": 1, \"column\": 2, \"value\": 0.0, \"row_token\": \"001 H\\u00f4m\", \"col_token\": \"002 nay\"}, {\"row\": 1, \"column\": 3, \"value\": 0.0, \"row_token\": \"001 H\\u00f4m\", \"col_token\": \"003 l\\u00e0\"}, {\"row\": 1, \"column\": 4, \"value\": 0.0, \"row_token\": \"001 H\\u00f4m\", \"col_token\": \"004 m\\u1ed9t\"}, {\"row\": 1, \"column\": 5, \"value\": 28.37247657775879, \"row_token\": \"001 H\\u00f4m\", \"col_token\": \"005 ng\\u00e0y\"}, {\"row\": 1, \"column\": 6, \"value\": 0.0, \"row_token\": \"001 H\\u00f4m\", \"col_token\": \"006 \\u0111\\u1eb9p\"}, {\"row\": 1, \"column\": 7, \"value\": 0.0, \"row_token\": \"001 H\\u00f4m\", \"col_token\": \"007 tr\\u1eddi\"}, {\"row\": 1, \"column\": 8, \"value\": 0.0, \"row_token\": \"001 H\\u00f4m\", \"col_token\": \"008 </s>\"}, {\"row\": 2, \"column\": 0, \"value\": 0.0, \"row_token\": \"002 nay\", \"col_token\": \"000 <s>\"}, {\"row\": 2, \"column\": 1, \"value\": 4.063779354095459, \"row_token\": \"002 nay\", \"col_token\": \"001 H\\u00f4m\"}, {\"row\": 2, \"column\": 2, \"value\": 0.0, \"row_token\": \"002 nay\", \"col_token\": \"002 nay\"}, {\"row\": 2, \"column\": 3, \"value\": 0.0, \"row_token\": \"002 nay\", \"col_token\": \"003 l\\u00e0\"}, {\"row\": 2, \"column\": 4, \"value\": 0.0, \"row_token\": \"002 nay\", \"col_token\": \"004 m\\u1ed9t\"}, {\"row\": 2, \"column\": 5, \"value\": 14.122773170471191, \"row_token\": \"002 nay\", \"col_token\": \"005 ng\\u00e0y\"}, {\"row\": 2, \"column\": 6, \"value\": 3.6461570262908936, \"row_token\": \"002 nay\", \"col_token\": \"006 \\u0111\\u1eb9p\"}, {\"row\": 2, \"column\": 7, \"value\": 19.243484497070312, \"row_token\": \"002 nay\", \"col_token\": \"007 tr\\u1eddi\"}, {\"row\": 2, \"column\": 8, \"value\": 0.0, \"row_token\": \"002 nay\", \"col_token\": \"008 </s>\"}, {\"row\": 3, \"column\": 0, \"value\": 0.0, \"row_token\": \"003 l\\u00e0\", \"col_token\": \"000 <s>\"}, {\"row\": 3, \"column\": 1, \"value\": 12.22706127166748, \"row_token\": \"003 l\\u00e0\", \"col_token\": \"001 H\\u00f4m\"}, {\"row\": 3, \"column\": 2, \"value\": 0.0, \"row_token\": \"003 l\\u00e0\", \"col_token\": \"002 nay\"}, {\"row\": 3, \"column\": 3, \"value\": 0.0, \"row_token\": \"003 l\\u00e0\", \"col_token\": \"003 l\\u00e0\"}, {\"row\": 3, \"column\": 4, \"value\": 0.0, \"row_token\": \"003 l\\u00e0\", \"col_token\": \"004 m\\u1ed9t\"}, {\"row\": 3, \"column\": 5, \"value\": 23.042400360107422, \"row_token\": \"003 l\\u00e0\", \"col_token\": \"005 ng\\u00e0y\"}, {\"row\": 3, \"column\": 6, \"value\": 4.882889747619629, \"row_token\": \"003 l\\u00e0\", \"col_token\": \"006 \\u0111\\u1eb9p\"}, {\"row\": 3, \"column\": 7, \"value\": 22.825332641601562, \"row_token\": \"003 l\\u00e0\", \"col_token\": \"007 tr\\u1eddi\"}, {\"row\": 3, \"column\": 8, \"value\": 0.0, \"row_token\": \"003 l\\u00e0\", \"col_token\": \"008 </s>\"}, {\"row\": 4, \"column\": 0, \"value\": 0.0, \"row_token\": \"004 m\\u1ed9t\", \"col_token\": \"000 <s>\"}, {\"row\": 4, \"column\": 1, \"value\": 19.247058868408203, \"row_token\": \"004 m\\u1ed9t\", \"col_token\": \"001 H\\u00f4m\"}, {\"row\": 4, \"column\": 2, \"value\": 0.0, \"row_token\": \"004 m\\u1ed9t\", \"col_token\": \"002 nay\"}, {\"row\": 4, \"column\": 3, \"value\": 0.0, \"row_token\": \"004 m\\u1ed9t\", \"col_token\": \"003 l\\u00e0\"}, {\"row\": 4, \"column\": 4, \"value\": 0.0, \"row_token\": \"004 m\\u1ed9t\", \"col_token\": \"004 m\\u1ed9t\"}, {\"row\": 4, \"column\": 5, \"value\": 30.374116897583008, \"row_token\": \"004 m\\u1ed9t\", \"col_token\": \"005 ng\\u00e0y\"}, {\"row\": 4, \"column\": 6, \"value\": 4.814376354217529, \"row_token\": \"004 m\\u1ed9t\", \"col_token\": \"006 \\u0111\\u1eb9p\"}, {\"row\": 4, \"column\": 7, \"value\": 24.238203048706055, \"row_token\": \"004 m\\u1ed9t\", \"col_token\": \"007 tr\\u1eddi\"}, {\"row\": 4, \"column\": 8, \"value\": 0.0, \"row_token\": \"004 m\\u1ed9t\", \"col_token\": \"008 </s>\"}, {\"row\": 5, \"column\": 0, \"value\": 0.0, \"row_token\": \"005 ng\\u00e0y\", \"col_token\": \"000 <s>\"}, {\"row\": 5, \"column\": 1, \"value\": 29.610780715942383, \"row_token\": \"005 ng\\u00e0y\", \"col_token\": \"001 H\\u00f4m\"}, {\"row\": 5, \"column\": 2, \"value\": 0.0, \"row_token\": \"005 ng\\u00e0y\", \"col_token\": \"002 nay\"}, {\"row\": 5, \"column\": 3, \"value\": 0.0, \"row_token\": \"005 ng\\u00e0y\", \"col_token\": \"003 l\\u00e0\"}, {\"row\": 5, \"column\": 4, \"value\": 0.0, \"row_token\": \"005 ng\\u00e0y\", \"col_token\": \"004 m\\u1ed9t\"}, {\"row\": 5, \"column\": 5, \"value\": 30.810449600219727, \"row_token\": \"005 ng\\u00e0y\", \"col_token\": \"005 ng\\u00e0y\"}, {\"row\": 5, \"column\": 6, \"value\": 0.0, \"row_token\": \"005 ng\\u00e0y\", \"col_token\": \"006 \\u0111\\u1eb9p\"}, {\"row\": 5, \"column\": 7, \"value\": 0.0, \"row_token\": \"005 ng\\u00e0y\", \"col_token\": \"007 tr\\u1eddi\"}, {\"row\": 5, \"column\": 8, \"value\": 0.0, \"row_token\": \"005 ng\\u00e0y\", \"col_token\": \"008 </s>\"}, {\"row\": 6, \"column\": 0, \"value\": 0.0, \"row_token\": \"006 \\u0111\\u1eb9p\", \"col_token\": \"000 <s>\"}, {\"row\": 6, \"column\": 1, \"value\": 22.92710304260254, \"row_token\": \"006 \\u0111\\u1eb9p\", \"col_token\": \"001 H\\u00f4m\"}, {\"row\": 6, \"column\": 2, \"value\": 0.0, \"row_token\": \"006 \\u0111\\u1eb9p\", \"col_token\": \"002 nay\"}, {\"row\": 6, \"column\": 3, \"value\": 0.0, \"row_token\": \"006 \\u0111\\u1eb9p\", \"col_token\": \"003 l\\u00e0\"}, {\"row\": 6, \"column\": 4, \"value\": 0.0, \"row_token\": \"006 \\u0111\\u1eb9p\", \"col_token\": \"004 m\\u1ed9t\"}, {\"row\": 6, \"column\": 5, \"value\": 33.98922348022461, \"row_token\": \"006 \\u0111\\u1eb9p\", \"col_token\": \"005 ng\\u00e0y\"}, {\"row\": 6, \"column\": 6, \"value\": 4.238131523132324, \"row_token\": \"006 \\u0111\\u1eb9p\", \"col_token\": \"006 \\u0111\\u1eb9p\"}, {\"row\": 6, \"column\": 7, \"value\": 24.105432510375977, \"row_token\": \"006 \\u0111\\u1eb9p\", \"col_token\": \"007 tr\\u1eddi\"}, {\"row\": 6, \"column\": 8, \"value\": 0.0, \"row_token\": \"006 \\u0111\\u1eb9p\", \"col_token\": \"008 </s>\"}, {\"row\": 7, \"column\": 0, \"value\": 0.0, \"row_token\": \"007 tr\\u1eddi\", \"col_token\": \"000 <s>\"}, {\"row\": 7, \"column\": 1, \"value\": 26.427066802978516, \"row_token\": \"007 tr\\u1eddi\", \"col_token\": \"001 H\\u00f4m\"}, {\"row\": 7, \"column\": 2, \"value\": 0.0, \"row_token\": \"007 tr\\u1eddi\", \"col_token\": \"002 nay\"}, {\"row\": 7, \"column\": 3, \"value\": 0.0, \"row_token\": \"007 tr\\u1eddi\", \"col_token\": \"003 l\\u00e0\"}, {\"row\": 7, \"column\": 4, \"value\": 0.0, \"row_token\": \"007 tr\\u1eddi\", \"col_token\": \"004 m\\u1ed9t\"}, {\"row\": 7, \"column\": 5, \"value\": 38.1460075378418, \"row_token\": \"007 tr\\u1eddi\", \"col_token\": \"005 ng\\u00e0y\"}, {\"row\": 7, \"column\": 6, \"value\": 5.593196392059326, \"row_token\": \"007 tr\\u1eddi\", \"col_token\": \"006 \\u0111\\u1eb9p\"}, {\"row\": 7, \"column\": 7, \"value\": 26.898061752319336, \"row_token\": \"007 tr\\u1eddi\", \"col_token\": \"007 tr\\u1eddi\"}, {\"row\": 7, \"column\": 8, \"value\": 0.0, \"row_token\": \"007 tr\\u1eddi\", \"col_token\": \"008 </s>\"}, {\"row\": 8, \"column\": 0, \"value\": 0.0, \"row_token\": \"008 </s>\", \"col_token\": \"000 <s>\"}, {\"row\": 8, \"column\": 1, \"value\": 18.219350814819336, \"row_token\": \"008 </s>\", \"col_token\": \"001 H\\u00f4m\"}, {\"row\": 8, \"column\": 2, \"value\": 0.0, \"row_token\": \"008 </s>\", \"col_token\": \"002 nay\"}, {\"row\": 8, \"column\": 3, \"value\": 0.0, \"row_token\": \"008 </s>\", \"col_token\": \"003 l\\u00e0\"}, {\"row\": 8, \"column\": 4, \"value\": 0.0, \"row_token\": \"008 </s>\", \"col_token\": \"004 m\\u1ed9t\"}, {\"row\": 8, \"column\": 5, \"value\": 29.017911911010742, \"row_token\": \"008 </s>\", \"col_token\": \"005 ng\\u00e0y\"}, {\"row\": 8, \"column\": 6, \"value\": 3.201436996459961, \"row_token\": \"008 </s>\", \"col_token\": \"006 \\u0111\\u1eb9p\"}, {\"row\": 8, \"column\": 7, \"value\": 22.017200469970703, \"row_token\": \"008 </s>\", \"col_token\": \"007 tr\\u1eddi\"}, {\"row\": 8, \"column\": 8, \"value\": 0.0, \"row_token\": \"008 </s>\", \"col_token\": \"008 </s>\"}], \"data-acc8cbe36fd91a067b57d338d395ac5d\": [{\"row\": 0, \"column\": 0, \"value\": 0.0, \"row_token\": \"000 <s>\", \"col_token\": \"000 <s>\"}, {\"row\": 0, \"column\": 1, \"value\": 0.0, \"row_token\": \"000 <s>\", \"col_token\": \"001 H\\u00f4m\"}, {\"row\": 0, \"column\": 2, \"value\": 0.0, \"row_token\": \"000 <s>\", \"col_token\": \"002 nay\"}, {\"row\": 0, \"column\": 3, \"value\": 0.0, \"row_token\": \"000 <s>\", \"col_token\": \"003 l\\u00e0\"}, {\"row\": 0, \"column\": 4, \"value\": 0.0, \"row_token\": \"000 <s>\", \"col_token\": \"004 m\\u1ed9t\"}, {\"row\": 0, \"column\": 5, \"value\": 0.0, \"row_token\": \"000 <s>\", \"col_token\": \"005 ng\\u00e0y\"}, {\"row\": 0, \"column\": 6, \"value\": 0.0, \"row_token\": \"000 <s>\", \"col_token\": \"006 \\u0111\\u1eb9p\"}, {\"row\": 0, \"column\": 7, \"value\": 0.0, \"row_token\": \"000 <s>\", \"col_token\": \"007 tr\\u1eddi\"}, {\"row\": 0, \"column\": 8, \"value\": 0.0, \"row_token\": \"000 <s>\", \"col_token\": \"008 </s>\"}, {\"row\": 1, \"column\": 0, \"value\": 86.33499145507812, \"row_token\": \"001 H\\u00f4m\", \"col_token\": \"000 <s>\"}, {\"row\": 1, \"column\": 1, \"value\": 64.99776458740234, \"row_token\": \"001 H\\u00f4m\", \"col_token\": \"001 H\\u00f4m\"}, {\"row\": 1, \"column\": 2, \"value\": 89.16576385498047, \"row_token\": \"001 H\\u00f4m\", \"col_token\": \"002 nay\"}, {\"row\": 1, \"column\": 3, \"value\": 104.99954986572266, \"row_token\": \"001 H\\u00f4m\", \"col_token\": \"003 l\\u00e0\"}, {\"row\": 1, \"column\": 4, \"value\": 116.4486312866211, \"row_token\": \"001 H\\u00f4m\", \"col_token\": \"004 m\\u1ed9t\"}, {\"row\": 1, \"column\": 5, \"value\": 69.65446472167969, \"row_token\": \"001 H\\u00f4m\", \"col_token\": \"005 ng\\u00e0y\"}, {\"row\": 1, \"column\": 6, \"value\": 117.92384338378906, \"row_token\": \"001 H\\u00f4m\", \"col_token\": \"006 \\u0111\\u1eb9p\"}, {\"row\": 1, \"column\": 7, \"value\": 127.6358871459961, \"row_token\": \"001 H\\u00f4m\", \"col_token\": \"007 tr\\u1eddi\"}, {\"row\": 1, \"column\": 8, \"value\": 111.94364166259766, \"row_token\": \"001 H\\u00f4m\", \"col_token\": \"008 </s>\"}, {\"row\": 2, \"column\": 0, \"value\": 0.0, \"row_token\": \"002 nay\", \"col_token\": \"000 <s>\"}, {\"row\": 2, \"column\": 1, \"value\": 0.0, \"row_token\": \"002 nay\", \"col_token\": \"001 H\\u00f4m\"}, {\"row\": 2, \"column\": 2, \"value\": 0.0, \"row_token\": \"002 nay\", \"col_token\": \"002 nay\"}, {\"row\": 2, \"column\": 3, \"value\": 0.0, \"row_token\": \"002 nay\", \"col_token\": \"003 l\\u00e0\"}, {\"row\": 2, \"column\": 4, \"value\": 0.0, \"row_token\": \"002 nay\", \"col_token\": \"004 m\\u1ed9t\"}, {\"row\": 2, \"column\": 5, \"value\": 0.0, \"row_token\": \"002 nay\", \"col_token\": \"005 ng\\u00e0y\"}, {\"row\": 2, \"column\": 6, \"value\": 0.0, \"row_token\": \"002 nay\", \"col_token\": \"006 \\u0111\\u1eb9p\"}, {\"row\": 2, \"column\": 7, \"value\": 0.0, \"row_token\": \"002 nay\", \"col_token\": \"007 tr\\u1eddi\"}, {\"row\": 2, \"column\": 8, \"value\": 0.0, \"row_token\": \"002 nay\", \"col_token\": \"008 </s>\"}, {\"row\": 3, \"column\": 0, \"value\": 0.0, \"row_token\": \"003 l\\u00e0\", \"col_token\": \"000 <s>\"}, {\"row\": 3, \"column\": 1, \"value\": 0.0, \"row_token\": \"003 l\\u00e0\", \"col_token\": \"001 H\\u00f4m\"}, {\"row\": 3, \"column\": 2, \"value\": 0.0, \"row_token\": \"003 l\\u00e0\", \"col_token\": \"002 nay\"}, {\"row\": 3, \"column\": 3, \"value\": 0.0, \"row_token\": \"003 l\\u00e0\", \"col_token\": \"003 l\\u00e0\"}, {\"row\": 3, \"column\": 4, \"value\": 0.0, \"row_token\": \"003 l\\u00e0\", \"col_token\": \"004 m\\u1ed9t\"}, {\"row\": 3, \"column\": 5, \"value\": 0.0, \"row_token\": \"003 l\\u00e0\", \"col_token\": \"005 ng\\u00e0y\"}, {\"row\": 3, \"column\": 6, \"value\": 0.0, \"row_token\": \"003 l\\u00e0\", \"col_token\": \"006 \\u0111\\u1eb9p\"}, {\"row\": 3, \"column\": 7, \"value\": 0.0, \"row_token\": \"003 l\\u00e0\", \"col_token\": \"007 tr\\u1eddi\"}, {\"row\": 3, \"column\": 8, \"value\": 0.0, \"row_token\": \"003 l\\u00e0\", \"col_token\": \"008 </s>\"}, {\"row\": 4, \"column\": 0, \"value\": 10.32356071472168, \"row_token\": \"004 m\\u1ed9t\", \"col_token\": \"000 <s>\"}, {\"row\": 4, \"column\": 1, \"value\": 6.38430643081665, \"row_token\": \"004 m\\u1ed9t\", \"col_token\": \"001 H\\u00f4m\"}, {\"row\": 4, \"column\": 2, \"value\": 11.352744102478027, \"row_token\": \"004 m\\u1ed9t\", \"col_token\": \"002 nay\"}, {\"row\": 4, \"column\": 3, \"value\": 14.666346549987793, \"row_token\": \"004 m\\u1ed9t\", \"col_token\": \"003 l\\u00e0\"}, {\"row\": 4, \"column\": 4, \"value\": 19.58881378173828, \"row_token\": \"004 m\\u1ed9t\", \"col_token\": \"004 m\\u1ed9t\"}, {\"row\": 4, \"column\": 5, \"value\": 8.453680992126465, \"row_token\": \"004 m\\u1ed9t\", \"col_token\": \"005 ng\\u00e0y\"}, {\"row\": 4, \"column\": 6, \"value\": 21.687358856201172, \"row_token\": \"004 m\\u1ed9t\", \"col_token\": \"006 \\u0111\\u1eb9p\"}, {\"row\": 4, \"column\": 7, \"value\": 24.401823043823242, \"row_token\": \"004 m\\u1ed9t\", \"col_token\": \"007 tr\\u1eddi\"}, {\"row\": 4, \"column\": 8, \"value\": 20.03472900390625, \"row_token\": \"004 m\\u1ed9t\", \"col_token\": \"008 </s>\"}, {\"row\": 5, \"column\": 0, \"value\": 95.76344299316406, \"row_token\": \"005 ng\\u00e0y\", \"col_token\": \"000 <s>\"}, {\"row\": 5, \"column\": 1, \"value\": 72.17127990722656, \"row_token\": \"005 ng\\u00e0y\", \"col_token\": \"001 H\\u00f4m\"}, {\"row\": 5, \"column\": 2, \"value\": 98.67411041259766, \"row_token\": \"005 ng\\u00e0y\", \"col_token\": \"002 nay\"}, {\"row\": 5, \"column\": 3, \"value\": 115.64582824707031, \"row_token\": \"005 ng\\u00e0y\", \"col_token\": \"003 l\\u00e0\"}, {\"row\": 5, \"column\": 4, \"value\": 127.79231262207031, \"row_token\": \"005 ng\\u00e0y\", \"col_token\": \"004 m\\u1ed9t\"}, {\"row\": 5, \"column\": 5, \"value\": 77.0538330078125, \"row_token\": \"005 ng\\u00e0y\", \"col_token\": \"005 ng\\u00e0y\"}, {\"row\": 5, \"column\": 6, \"value\": 129.19442749023438, \"row_token\": \"005 ng\\u00e0y\", \"col_token\": \"006 \\u0111\\u1eb9p\"}, {\"row\": 5, \"column\": 7, \"value\": 139.9001922607422, \"row_token\": \"005 ng\\u00e0y\", \"col_token\": \"007 tr\\u1eddi\"}, {\"row\": 5, \"column\": 8, \"value\": 122.79170227050781, \"row_token\": \"005 ng\\u00e0y\", \"col_token\": \"008 </s>\"}, {\"row\": 6, \"column\": 0, \"value\": 19.06801414489746, \"row_token\": \"006 \\u0111\\u1eb9p\", \"col_token\": \"000 <s>\"}, {\"row\": 6, \"column\": 1, \"value\": 13.7848539352417, \"row_token\": \"006 \\u0111\\u1eb9p\", \"col_token\": \"001 H\\u00f4m\"}, {\"row\": 6, \"column\": 2, \"value\": 20.25063705444336, \"row_token\": \"006 \\u0111\\u1eb9p\", \"col_token\": \"002 nay\"}, {\"row\": 6, \"column\": 3, \"value\": 25.0948543548584, \"row_token\": \"006 \\u0111\\u1eb9p\", \"col_token\": \"003 l\\u00e0\"}, {\"row\": 6, \"column\": 4, \"value\": 30.93243408203125, \"row_token\": \"006 \\u0111\\u1eb9p\", \"col_token\": \"004 m\\u1ed9t\"}, {\"row\": 6, \"column\": 5, \"value\": 16.196596145629883, \"row_token\": \"006 \\u0111\\u1eb9p\", \"col_token\": \"005 ng\\u00e0y\"}, {\"row\": 6, \"column\": 6, \"value\": 33.05823516845703, \"row_token\": \"006 \\u0111\\u1eb9p\", \"col_token\": \"006 \\u0111\\u1eb9p\"}, {\"row\": 6, \"column\": 7, \"value\": 36.8209342956543, \"row_token\": \"006 \\u0111\\u1eb9p\", \"col_token\": \"007 tr\\u1eddi\"}, {\"row\": 6, \"column\": 8, \"value\": 30.774450302124023, \"row_token\": \"006 \\u0111\\u1eb9p\", \"col_token\": \"008 </s>\"}, {\"row\": 7, \"column\": 0, \"value\": 35.62890625, \"row_token\": \"007 tr\\u1eddi\", \"col_token\": \"000 <s>\"}, {\"row\": 7, \"column\": 1, \"value\": 27.280963897705078, \"row_token\": \"007 tr\\u1eddi\", \"col_token\": \"001 H\\u00f4m\"}, {\"row\": 7, \"column\": 2, \"value\": 37.11111068725586, \"row_token\": \"007 tr\\u1eddi\", \"col_token\": \"002 nay\"}, {\"row\": 7, \"column\": 3, \"value\": 44.824127197265625, \"row_token\": \"007 tr\\u1eddi\", \"col_token\": \"003 l\\u00e0\"}, {\"row\": 7, \"column\": 4, \"value\": 52.33851623535156, \"row_token\": \"007 tr\\u1eddi\", \"col_token\": \"004 m\\u1ed9t\"}, {\"row\": 7, \"column\": 5, \"value\": 30.33779525756836, \"row_token\": \"007 tr\\u1eddi\", \"col_token\": \"005 ng\\u00e0y\"}, {\"row\": 7, \"column\": 6, \"value\": 54.46156311035156, \"row_token\": \"007 tr\\u1eddi\", \"col_token\": \"006 \\u0111\\u1eb9p\"}, {\"row\": 7, \"column\": 7, \"value\": 60.238643646240234, \"row_token\": \"007 tr\\u1eddi\", \"col_token\": \"007 tr\\u1eddi\"}, {\"row\": 7, \"column\": 8, \"value\": 50.95823669433594, \"row_token\": \"007 tr\\u1eddi\", \"col_token\": \"008 </s>\"}, {\"row\": 8, \"column\": 0, \"value\": 0.0, \"row_token\": \"008 </s>\", \"col_token\": \"000 <s>\"}, {\"row\": 8, \"column\": 1, \"value\": 0.0, \"row_token\": \"008 </s>\", \"col_token\": \"001 H\\u00f4m\"}, {\"row\": 8, \"column\": 2, \"value\": 0.0, \"row_token\": \"008 </s>\", \"col_token\": \"002 nay\"}, {\"row\": 8, \"column\": 3, \"value\": 0.08293669670820236, \"row_token\": \"008 </s>\", \"col_token\": \"003 l\\u00e0\"}, {\"row\": 8, \"column\": 4, \"value\": 4.0652756690979, \"row_token\": \"008 </s>\", \"col_token\": \"004 m\\u1ed9t\"}, {\"row\": 8, \"column\": 5, \"value\": 0.0, \"row_token\": \"008 </s>\", \"col_token\": \"005 ng\\u00e0y\"}, {\"row\": 8, \"column\": 6, \"value\": 6.297641754150391, \"row_token\": \"008 </s>\", \"col_token\": \"006 \\u0111\\u1eb9p\"}, {\"row\": 8, \"column\": 7, \"value\": 7.744940280914307, \"row_token\": \"008 </s>\", \"col_token\": \"007 tr\\u1eddi\"}, {\"row\": 8, \"column\": 8, \"value\": 5.243228435516357, \"row_token\": \"008 </s>\", \"col_token\": \"008 </s>\"}], \"data-4590f2d24e6a2e5faa47280c123cb1d7\": [{\"row\": 0, \"column\": 0, \"value\": 10.834198951721191, \"row_token\": \"000 <s>\", \"col_token\": \"000 <s>\"}, {\"row\": 0, \"column\": 1, \"value\": 30.881078720092773, \"row_token\": \"000 <s>\", \"col_token\": \"001 H\\u00f4m\"}, {\"row\": 0, \"column\": 2, \"value\": 12.995452880859375, \"row_token\": \"000 <s>\", \"col_token\": \"002 nay\"}, {\"row\": 0, \"column\": 3, \"value\": 28.951305389404297, \"row_token\": \"000 <s>\", \"col_token\": \"003 l\\u00e0\"}, {\"row\": 0, \"column\": 4, \"value\": 39.5429573059082, \"row_token\": \"000 <s>\", \"col_token\": \"004 m\\u1ed9t\"}, {\"row\": 0, \"column\": 5, \"value\": 36.192317962646484, \"row_token\": \"000 <s>\", \"col_token\": \"005 ng\\u00e0y\"}, {\"row\": 0, \"column\": 6, \"value\": 43.52051544189453, \"row_token\": \"000 <s>\", \"col_token\": \"006 \\u0111\\u1eb9p\"}, {\"row\": 0, \"column\": 7, \"value\": 49.730709075927734, \"row_token\": \"000 <s>\", \"col_token\": \"007 tr\\u1eddi\"}, {\"row\": 0, \"column\": 8, \"value\": 35.67440414428711, \"row_token\": \"000 <s>\", \"col_token\": \"008 </s>\"}, {\"row\": 1, \"column\": 0, \"value\": 0.0, \"row_token\": \"001 H\\u00f4m\", \"col_token\": \"000 <s>\"}, {\"row\": 1, \"column\": 1, \"value\": 45.76554870605469, \"row_token\": \"001 H\\u00f4m\", \"col_token\": \"001 H\\u00f4m\"}, {\"row\": 1, \"column\": 2, \"value\": 0.0, \"row_token\": \"001 H\\u00f4m\", \"col_token\": \"002 nay\"}, {\"row\": 1, \"column\": 3, \"value\": 0.0, \"row_token\": \"001 H\\u00f4m\", \"col_token\": \"003 l\\u00e0\"}, {\"row\": 1, \"column\": 4, \"value\": 0.0, \"row_token\": \"001 H\\u00f4m\", \"col_token\": \"004 m\\u1ed9t\"}, {\"row\": 1, \"column\": 5, \"value\": 48.63664245605469, \"row_token\": \"001 H\\u00f4m\", \"col_token\": \"005 ng\\u00e0y\"}, {\"row\": 1, \"column\": 6, \"value\": 0.0, \"row_token\": \"001 H\\u00f4m\", \"col_token\": \"006 \\u0111\\u1eb9p\"}, {\"row\": 1, \"column\": 7, \"value\": 6.690567970275879, \"row_token\": \"001 H\\u00f4m\", \"col_token\": \"007 tr\\u1eddi\"}, {\"row\": 1, \"column\": 8, \"value\": 0.0, \"row_token\": \"001 H\\u00f4m\", \"col_token\": \"008 </s>\"}, {\"row\": 2, \"column\": 0, \"value\": 11.367218971252441, \"row_token\": \"002 nay\", \"col_token\": \"000 <s>\"}, {\"row\": 2, \"column\": 1, \"value\": 32.702842712402344, \"row_token\": \"002 nay\", \"col_token\": \"001 H\\u00f4m\"}, {\"row\": 2, \"column\": 2, \"value\": 13.716876983642578, \"row_token\": \"002 nay\", \"col_token\": \"002 nay\"}, {\"row\": 2, \"column\": 3, \"value\": 31.163745880126953, \"row_token\": \"002 nay\", \"col_token\": \"003 l\\u00e0\"}, {\"row\": 2, \"column\": 4, \"value\": 42.868953704833984, \"row_token\": \"002 nay\", \"col_token\": \"004 m\\u1ed9t\"}, {\"row\": 2, \"column\": 5, \"value\": 38.59400939941406, \"row_token\": \"002 nay\", \"col_token\": \"005 ng\\u00e0y\"}, {\"row\": 2, \"column\": 6, \"value\": 47.31196594238281, \"row_token\": \"002 nay\", \"col_token\": \"006 \\u0111\\u1eb9p\"}, {\"row\": 2, \"column\": 7, \"value\": 54.36824035644531, \"row_token\": \"002 nay\", \"col_token\": \"007 tr\\u1eddi\"}, {\"row\": 2, \"column\": 8, \"value\": 38.56667709350586, \"row_token\": \"002 nay\", \"col_token\": \"008 </s>\"}, {\"row\": 3, \"column\": 0, \"value\": 2.642551898956299, \"row_token\": \"003 l\\u00e0\", \"col_token\": \"000 <s>\"}, {\"row\": 3, \"column\": 1, \"value\": 44.52975082397461, \"row_token\": \"003 l\\u00e0\", \"col_token\": \"001 H\\u00f4m\"}, {\"row\": 3, \"column\": 2, \"value\": 4.960875034332275, \"row_token\": \"003 l\\u00e0\", \"col_token\": \"002 nay\"}, {\"row\": 3, \"column\": 3, \"value\": 28.868305206298828, \"row_token\": \"003 l\\u00e0\", \"col_token\": \"003 l\\u00e0\"}, {\"row\": 3, \"column\": 4, \"value\": 47.28033447265625, \"row_token\": \"003 l\\u00e0\", \"col_token\": \"004 m\\u1ed9t\"}, {\"row\": 3, \"column\": 5, \"value\": 52.91997528076172, \"row_token\": \"003 l\\u00e0\", \"col_token\": \"005 ng\\u00e0y\"}, {\"row\": 3, \"column\": 6, \"value\": 54.75263977050781, \"row_token\": \"003 l\\u00e0\", \"col_token\": \"006 \\u0111\\u1eb9p\"}, {\"row\": 3, \"column\": 7, \"value\": 68.05767822265625, \"row_token\": \"003 l\\u00e0\", \"col_token\": \"007 tr\\u1eddi\"}, {\"row\": 3, \"column\": 8, \"value\": 40.398109436035156, \"row_token\": \"003 l\\u00e0\", \"col_token\": \"008 </s>\"}, {\"row\": 4, \"column\": 0, \"value\": 0.0, \"row_token\": \"004 m\\u1ed9t\", \"col_token\": \"000 <s>\"}, {\"row\": 4, \"column\": 1, \"value\": 50.74345397949219, \"row_token\": \"004 m\\u1ed9t\", \"col_token\": \"001 H\\u00f4m\"}, {\"row\": 4, \"column\": 2, \"value\": 0.0, \"row_token\": \"004 m\\u1ed9t\", \"col_token\": \"002 nay\"}, {\"row\": 4, \"column\": 3, \"value\": 26.55677032470703, \"row_token\": \"004 m\\u1ed9t\", \"col_token\": \"003 l\\u00e0\"}, {\"row\": 4, \"column\": 4, \"value\": 49.467262268066406, \"row_token\": \"004 m\\u1ed9t\", \"col_token\": \"004 m\\u1ed9t\"}, {\"row\": 4, \"column\": 5, \"value\": 60.85069274902344, \"row_token\": \"004 m\\u1ed9t\", \"col_token\": \"005 ng\\u00e0y\"}, {\"row\": 4, \"column\": 6, \"value\": 59.039485931396484, \"row_token\": \"004 m\\u1ed9t\", \"col_token\": \"006 \\u0111\\u1eb9p\"}, {\"row\": 4, \"column\": 7, \"value\": 76.64818572998047, \"row_token\": \"004 m\\u1ed9t\", \"col_token\": \"007 tr\\u1eddi\"}, {\"row\": 4, \"column\": 8, \"value\": 40.876121520996094, \"row_token\": \"004 m\\u1ed9t\", \"col_token\": \"008 </s>\"}, {\"row\": 5, \"column\": 0, \"value\": 0.0, \"row_token\": \"005 ng\\u00e0y\", \"col_token\": \"000 <s>\"}, {\"row\": 5, \"column\": 1, \"value\": 48.0412712097168, \"row_token\": \"005 ng\\u00e0y\", \"col_token\": \"001 H\\u00f4m\"}, {\"row\": 5, \"column\": 2, \"value\": 0.0, \"row_token\": \"005 ng\\u00e0y\", \"col_token\": \"002 nay\"}, {\"row\": 5, \"column\": 3, \"value\": 0.0, \"row_token\": \"005 ng\\u00e0y\", \"col_token\": \"003 l\\u00e0\"}, {\"row\": 5, \"column\": 4, \"value\": 0.0, \"row_token\": \"005 ng\\u00e0y\", \"col_token\": \"004 m\\u1ed9t\"}, {\"row\": 5, \"column\": 5, \"value\": 51.9366455078125, \"row_token\": \"005 ng\\u00e0y\", \"col_token\": \"005 ng\\u00e0y\"}, {\"row\": 5, \"column\": 6, \"value\": 0.8374543190002441, \"row_token\": \"005 ng\\u00e0y\", \"col_token\": \"006 \\u0111\\u1eb9p\"}, {\"row\": 5, \"column\": 7, \"value\": 13.123437881469727, \"row_token\": \"005 ng\\u00e0y\", \"col_token\": \"007 tr\\u1eddi\"}, {\"row\": 5, \"column\": 8, \"value\": 0.0, \"row_token\": \"005 ng\\u00e0y\", \"col_token\": \"008 </s>\"}, {\"row\": 6, \"column\": 0, \"value\": 0.0, \"row_token\": \"006 \\u0111\\u1eb9p\", \"col_token\": \"000 <s>\"}, {\"row\": 6, \"column\": 1, \"value\": 51.951148986816406, \"row_token\": \"006 \\u0111\\u1eb9p\", \"col_token\": \"001 H\\u00f4m\"}, {\"row\": 6, \"column\": 2, \"value\": 0.0, \"row_token\": \"006 \\u0111\\u1eb9p\", \"col_token\": \"002 nay\"}, {\"row\": 6, \"column\": 3, \"value\": 24.7499942779541, \"row_token\": \"006 \\u0111\\u1eb9p\", \"col_token\": \"003 l\\u00e0\"}, {\"row\": 6, \"column\": 4, \"value\": 49.27873229980469, \"row_token\": \"006 \\u0111\\u1eb9p\", \"col_token\": \"004 m\\u1ed9t\"}, {\"row\": 6, \"column\": 5, \"value\": 62.67530059814453, \"row_token\": \"006 \\u0111\\u1eb9p\", \"col_token\": \"005 ng\\u00e0y\"}, {\"row\": 6, \"column\": 6, \"value\": 59.65684509277344, \"row_token\": \"006 \\u0111\\u1eb9p\", \"col_token\": \"006 \\u0111\\u1eb9p\"}, {\"row\": 6, \"column\": 7, \"value\": 78.92791748046875, \"row_token\": \"006 \\u0111\\u1eb9p\", \"col_token\": \"007 tr\\u1eddi\"}, {\"row\": 6, \"column\": 8, \"value\": 40.08357238769531, \"row_token\": \"006 \\u0111\\u1eb9p\", \"col_token\": \"008 </s>\"}, {\"row\": 7, \"column\": 0, \"value\": 0.0, \"row_token\": \"007 tr\\u1eddi\", \"col_token\": \"000 <s>\"}, {\"row\": 7, \"column\": 1, \"value\": 53.98142623901367, \"row_token\": \"007 tr\\u1eddi\", \"col_token\": \"001 H\\u00f4m\"}, {\"row\": 7, \"column\": 2, \"value\": 0.0, \"row_token\": \"007 tr\\u1eddi\", \"col_token\": \"002 nay\"}, {\"row\": 7, \"column\": 3, \"value\": 23.411060333251953, \"row_token\": \"007 tr\\u1eddi\", \"col_token\": \"003 l\\u00e0\"}, {\"row\": 7, \"column\": 4, \"value\": 50.74968338012695, \"row_token\": \"007 tr\\u1eddi\", \"col_token\": \"004 m\\u1ed9t\"}, {\"row\": 7, \"column\": 5, \"value\": 65.85169982910156, \"row_token\": \"007 tr\\u1eddi\", \"col_token\": \"005 ng\\u00e0y\"}, {\"row\": 7, \"column\": 6, \"value\": 62.49538803100586, \"row_token\": \"007 tr\\u1eddi\", \"col_token\": \"006 \\u0111\\u1eb9p\"}, {\"row\": 7, \"column\": 7, \"value\": 84.7866439819336, \"row_token\": \"007 tr\\u1eddi\", \"col_token\": \"007 tr\\u1eddi\"}, {\"row\": 7, \"column\": 8, \"value\": 40.391021728515625, \"row_token\": \"007 tr\\u1eddi\", \"col_token\": \"008 </s>\"}, {\"row\": 8, \"column\": 0, \"value\": 0.0, \"row_token\": \"008 </s>\", \"col_token\": \"000 <s>\"}, {\"row\": 8, \"column\": 1, \"value\": 48.201324462890625, \"row_token\": \"008 </s>\", \"col_token\": \"001 H\\u00f4m\"}, {\"row\": 8, \"column\": 2, \"value\": 0.48636794090270996, \"row_token\": \"008 </s>\", \"col_token\": \"002 nay\"}, {\"row\": 8, \"column\": 3, \"value\": 27.14380645751953, \"row_token\": \"008 </s>\", \"col_token\": \"003 l\\u00e0\"}, {\"row\": 8, \"column\": 4, \"value\": 48.49162292480469, \"row_token\": \"008 </s>\", \"col_token\": \"004 m\\u1ed9t\"}, {\"row\": 8, \"column\": 5, \"value\": 57.738502502441406, \"row_token\": \"008 </s>\", \"col_token\": \"005 ng\\u00e0y\"}, {\"row\": 8, \"column\": 6, \"value\": 57.36066818237305, \"row_token\": \"008 </s>\", \"col_token\": \"006 \\u0111\\u1eb9p\"}, {\"row\": 8, \"column\": 7, \"value\": 73.40140533447266, \"row_token\": \"008 </s>\", \"col_token\": \"007 tr\\u1eddi\"}, {\"row\": 8, \"column\": 8, \"value\": 40.54711151123047, \"row_token\": \"008 </s>\", \"col_token\": \"008 </s>\"}], \"data-b9a6f7b44706cf60a26be74133412c62\": [{\"row\": 0, \"column\": 0, \"value\": 2.1238341331481934, \"row_token\": \"000 <s>\", \"col_token\": \"000 <s>\"}, {\"row\": 0, \"column\": 1, \"value\": 19.786714553833008, \"row_token\": \"000 <s>\", \"col_token\": \"001 H\\u00f4m\"}, {\"row\": 0, \"column\": 2, \"value\": 0.0, \"row_token\": \"000 <s>\", \"col_token\": \"002 nay\"}, {\"row\": 0, \"column\": 3, \"value\": 0.0, \"row_token\": \"000 <s>\", \"col_token\": \"003 l\\u00e0\"}, {\"row\": 0, \"column\": 4, \"value\": 0.0, \"row_token\": \"000 <s>\", \"col_token\": \"004 m\\u1ed9t\"}, {\"row\": 0, \"column\": 5, \"value\": 14.721755027770996, \"row_token\": \"000 <s>\", \"col_token\": \"005 ng\\u00e0y\"}, {\"row\": 0, \"column\": 6, \"value\": 0.0, \"row_token\": \"000 <s>\", \"col_token\": \"006 \\u0111\\u1eb9p\"}, {\"row\": 0, \"column\": 7, \"value\": 0.0, \"row_token\": \"000 <s>\", \"col_token\": \"007 tr\\u1eddi\"}, {\"row\": 0, \"column\": 8, \"value\": 0.0, \"row_token\": \"000 <s>\", \"col_token\": \"008 </s>\"}, {\"row\": 1, \"column\": 0, \"value\": 0.0, \"row_token\": \"001 H\\u00f4m\", \"col_token\": \"000 <s>\"}, {\"row\": 1, \"column\": 1, \"value\": 12.726835250854492, \"row_token\": \"001 H\\u00f4m\", \"col_token\": \"001 H\\u00f4m\"}, {\"row\": 1, \"column\": 2, \"value\": 0.0, \"row_token\": \"001 H\\u00f4m\", \"col_token\": \"002 nay\"}, {\"row\": 1, \"column\": 3, \"value\": 0.0, \"row_token\": \"001 H\\u00f4m\", \"col_token\": \"003 l\\u00e0\"}, {\"row\": 1, \"column\": 4, \"value\": 0.0, \"row_token\": \"001 H\\u00f4m\", \"col_token\": \"004 m\\u1ed9t\"}, {\"row\": 1, \"column\": 5, \"value\": 12.0819091796875, \"row_token\": \"001 H\\u00f4m\", \"col_token\": \"005 ng\\u00e0y\"}, {\"row\": 1, \"column\": 6, \"value\": 0.0, \"row_token\": \"001 H\\u00f4m\", \"col_token\": \"006 \\u0111\\u1eb9p\"}, {\"row\": 1, \"column\": 7, \"value\": 0.0, \"row_token\": \"001 H\\u00f4m\", \"col_token\": \"007 tr\\u1eddi\"}, {\"row\": 1, \"column\": 8, \"value\": 0.0, \"row_token\": \"001 H\\u00f4m\", \"col_token\": \"008 </s>\"}, {\"row\": 2, \"column\": 0, \"value\": 4.916299819946289, \"row_token\": \"002 nay\", \"col_token\": \"000 <s>\"}, {\"row\": 2, \"column\": 1, \"value\": 20.755456924438477, \"row_token\": \"002 nay\", \"col_token\": \"001 H\\u00f4m\"}, {\"row\": 2, \"column\": 2, \"value\": 2.3959829807281494, \"row_token\": \"002 nay\", \"col_token\": \"002 nay\"}, {\"row\": 2, \"column\": 3, \"value\": 0.0, \"row_token\": \"002 nay\", \"col_token\": \"003 l\\u00e0\"}, {\"row\": 2, \"column\": 4, \"value\": 0.0, \"row_token\": \"002 nay\", \"col_token\": \"004 m\\u1ed9t\"}, {\"row\": 2, \"column\": 5, \"value\": 15.308671951293945, \"row_token\": \"002 nay\", \"col_token\": \"005 ng\\u00e0y\"}, {\"row\": 2, \"column\": 6, \"value\": 0.0, \"row_token\": \"002 nay\", \"col_token\": \"006 \\u0111\\u1eb9p\"}, {\"row\": 2, \"column\": 7, \"value\": 0.0, \"row_token\": \"002 nay\", \"col_token\": \"007 tr\\u1eddi\"}, {\"row\": 2, \"column\": 8, \"value\": 0.0, \"row_token\": \"002 nay\", \"col_token\": \"008 </s>\"}, {\"row\": 3, \"column\": 0, \"value\": 14.860773086547852, \"row_token\": \"003 l\\u00e0\", \"col_token\": \"000 <s>\"}, {\"row\": 3, \"column\": 1, \"value\": 27.672672271728516, \"row_token\": \"003 l\\u00e0\", \"col_token\": \"001 H\\u00f4m\"}, {\"row\": 3, \"column\": 2, \"value\": 11.96759033203125, \"row_token\": \"003 l\\u00e0\", \"col_token\": \"002 nay\"}, {\"row\": 3, \"column\": 3, \"value\": 0.0, \"row_token\": \"003 l\\u00e0\", \"col_token\": \"003 l\\u00e0\"}, {\"row\": 3, \"column\": 4, \"value\": 0.0, \"row_token\": \"003 l\\u00e0\", \"col_token\": \"004 m\\u1ed9t\"}, {\"row\": 3, \"column\": 5, \"value\": 20.87050437927246, \"row_token\": \"003 l\\u00e0\", \"col_token\": \"005 ng\\u00e0y\"}, {\"row\": 3, \"column\": 6, \"value\": 0.0, \"row_token\": \"003 l\\u00e0\", \"col_token\": \"006 \\u0111\\u1eb9p\"}, {\"row\": 3, \"column\": 7, \"value\": 0.0, \"row_token\": \"003 l\\u00e0\", \"col_token\": \"007 tr\\u1eddi\"}, {\"row\": 3, \"column\": 8, \"value\": 0.0, \"row_token\": \"003 l\\u00e0\", \"col_token\": \"008 </s>\"}, {\"row\": 4, \"column\": 0, \"value\": 20.05234718322754, \"row_token\": \"004 m\\u1ed9t\", \"col_token\": \"000 <s>\"}, {\"row\": 4, \"column\": 1, \"value\": 33.26932907104492, \"row_token\": \"004 m\\u1ed9t\", \"col_token\": \"001 H\\u00f4m\"}, {\"row\": 4, \"column\": 2, \"value\": 17.059202194213867, \"row_token\": \"004 m\\u1ed9t\", \"col_token\": \"002 nay\"}, {\"row\": 4, \"column\": 3, \"value\": 3.010946035385132, \"row_token\": \"004 m\\u1ed9t\", \"col_token\": \"003 l\\u00e0\"}, {\"row\": 4, \"column\": 4, \"value\": 0.0, \"row_token\": \"004 m\\u1ed9t\", \"col_token\": \"004 m\\u1ed9t\"}, {\"row\": 4, \"column\": 5, \"value\": 26.03179359436035, \"row_token\": \"004 m\\u1ed9t\", \"col_token\": \"005 ng\\u00e0y\"}, {\"row\": 4, \"column\": 6, \"value\": 0.0, \"row_token\": \"004 m\\u1ed9t\", \"col_token\": \"006 \\u0111\\u1eb9p\"}, {\"row\": 4, \"column\": 7, \"value\": 0.0, \"row_token\": \"004 m\\u1ed9t\", \"col_token\": \"007 tr\\u1eddi\"}, {\"row\": 4, \"column\": 8, \"value\": 0.0, \"row_token\": \"004 m\\u1ed9t\", \"col_token\": \"008 </s>\"}, {\"row\": 5, \"column\": 0, \"value\": 0.0, \"row_token\": \"005 ng\\u00e0y\", \"col_token\": \"000 <s>\"}, {\"row\": 5, \"column\": 1, \"value\": 15.437127113342285, \"row_token\": \"005 ng\\u00e0y\", \"col_token\": \"001 H\\u00f4m\"}, {\"row\": 5, \"column\": 2, \"value\": 0.0, \"row_token\": \"005 ng\\u00e0y\", \"col_token\": \"002 nay\"}, {\"row\": 5, \"column\": 3, \"value\": 0.0, \"row_token\": \"005 ng\\u00e0y\", \"col_token\": \"003 l\\u00e0\"}, {\"row\": 5, \"column\": 4, \"value\": 0.0, \"row_token\": \"005 ng\\u00e0y\", \"col_token\": \"004 m\\u1ed9t\"}, {\"row\": 5, \"column\": 5, \"value\": 14.293235778808594, \"row_token\": \"005 ng\\u00e0y\", \"col_token\": \"005 ng\\u00e0y\"}, {\"row\": 5, \"column\": 6, \"value\": 0.0, \"row_token\": \"005 ng\\u00e0y\", \"col_token\": \"006 \\u0111\\u1eb9p\"}, {\"row\": 5, \"column\": 7, \"value\": 0.0, \"row_token\": \"005 ng\\u00e0y\", \"col_token\": \"007 tr\\u1eddi\"}, {\"row\": 5, \"column\": 8, \"value\": 0.0, \"row_token\": \"005 ng\\u00e0y\", \"col_token\": \"008 </s>\"}, {\"row\": 6, \"column\": 0, \"value\": 22.33956527709961, \"row_token\": \"006 \\u0111\\u1eb9p\", \"col_token\": \"000 <s>\"}, {\"row\": 6, \"column\": 1, \"value\": 35.51960754394531, \"row_token\": \"006 \\u0111\\u1eb9p\", \"col_token\": \"001 H\\u00f4m\"}, {\"row\": 6, \"column\": 2, \"value\": 19.343820571899414, \"row_token\": \"006 \\u0111\\u1eb9p\", \"col_token\": \"002 nay\"}, {\"row\": 6, \"column\": 3, \"value\": 5.232326507568359, \"row_token\": \"006 \\u0111\\u1eb9p\", \"col_token\": \"003 l\\u00e0\"}, {\"row\": 6, \"column\": 4, \"value\": 0.0, \"row_token\": \"006 \\u0111\\u1eb9p\", \"col_token\": \"004 m\\u1ed9t\"}, {\"row\": 6, \"column\": 5, \"value\": 28.175386428833008, \"row_token\": \"006 \\u0111\\u1eb9p\", \"col_token\": \"005 ng\\u00e0y\"}, {\"row\": 6, \"column\": 6, \"value\": 0.0, \"row_token\": \"006 \\u0111\\u1eb9p\", \"col_token\": \"006 \\u0111\\u1eb9p\"}, {\"row\": 6, \"column\": 7, \"value\": 0.0, \"row_token\": \"006 \\u0111\\u1eb9p\", \"col_token\": \"007 tr\\u1eddi\"}, {\"row\": 6, \"column\": 8, \"value\": 0.0, \"row_token\": \"006 \\u0111\\u1eb9p\", \"col_token\": \"008 </s>\"}, {\"row\": 7, \"column\": 0, \"value\": 23.692554473876953, \"row_token\": \"007 tr\\u1eddi\", \"col_token\": \"000 <s>\"}, {\"row\": 7, \"column\": 1, \"value\": 41.404396057128906, \"row_token\": \"007 tr\\u1eddi\", \"col_token\": \"001 H\\u00f4m\"}, {\"row\": 7, \"column\": 2, \"value\": 20.54303741455078, \"row_token\": \"007 tr\\u1eddi\", \"col_token\": \"002 nay\"}, {\"row\": 7, \"column\": 3, \"value\": 6.355147838592529, \"row_token\": \"007 tr\\u1eddi\", \"col_token\": \"003 l\\u00e0\"}, {\"row\": 7, \"column\": 4, \"value\": 0.0, \"row_token\": \"007 tr\\u1eddi\", \"col_token\": \"004 m\\u1ed9t\"}, {\"row\": 7, \"column\": 5, \"value\": 33.73678970336914, \"row_token\": \"007 tr\\u1eddi\", \"col_token\": \"005 ng\\u00e0y\"}, {\"row\": 7, \"column\": 6, \"value\": 0.0, \"row_token\": \"007 tr\\u1eddi\", \"col_token\": \"006 \\u0111\\u1eb9p\"}, {\"row\": 7, \"column\": 7, \"value\": 0.0, \"row_token\": \"007 tr\\u1eddi\", \"col_token\": \"007 tr\\u1eddi\"}, {\"row\": 7, \"column\": 8, \"value\": 1.0047868490219116, \"row_token\": \"007 tr\\u1eddi\", \"col_token\": \"008 </s>\"}, {\"row\": 8, \"column\": 0, \"value\": 18.322290420532227, \"row_token\": \"008 </s>\", \"col_token\": \"000 <s>\"}, {\"row\": 8, \"column\": 1, \"value\": 30.625720977783203, \"row_token\": \"008 </s>\", \"col_token\": \"001 H\\u00f4m\"}, {\"row\": 8, \"column\": 2, \"value\": 15.451290130615234, \"row_token\": \"008 </s>\", \"col_token\": \"002 nay\"}, {\"row\": 8, \"column\": 3, \"value\": 1.9286491870880127, \"row_token\": \"008 </s>\", \"col_token\": \"003 l\\u00e0\"}, {\"row\": 8, \"column\": 4, \"value\": 0.0, \"row_token\": \"008 </s>\", \"col_token\": \"004 m\\u1ed9t\"}, {\"row\": 8, \"column\": 5, \"value\": 23.724647521972656, \"row_token\": \"008 </s>\", \"col_token\": \"005 ng\\u00e0y\"}, {\"row\": 8, \"column\": 6, \"value\": 0.0, \"row_token\": \"008 </s>\", \"col_token\": \"006 \\u0111\\u1eb9p\"}, {\"row\": 8, \"column\": 7, \"value\": 0.0, \"row_token\": \"008 </s>\", \"col_token\": \"007 tr\\u1eddi\"}, {\"row\": 8, \"column\": 8, \"value\": 0.0, \"row_token\": \"008 </s>\", \"col_token\": \"008 </s>\"}], \"data-b3d9ff462ab3be82809522bbaf44bb58\": [{\"row\": 0, \"column\": 0, \"value\": 8.764370918273926, \"row_token\": \"000 <s>\", \"col_token\": \"000 <s>\"}, {\"row\": 0, \"column\": 1, \"value\": 0.0, \"row_token\": \"000 <s>\", \"col_token\": \"001 H\\u00f4m\"}, {\"row\": 0, \"column\": 2, \"value\": 9.906509399414062, \"row_token\": \"000 <s>\", \"col_token\": \"002 nay\"}, {\"row\": 0, \"column\": 3, \"value\": 0.0, \"row_token\": \"000 <s>\", \"col_token\": \"003 l\\u00e0\"}, {\"row\": 0, \"column\": 4, \"value\": 0.0, \"row_token\": \"000 <s>\", \"col_token\": \"004 m\\u1ed9t\"}, {\"row\": 0, \"column\": 5, \"value\": 0.0, \"row_token\": \"000 <s>\", \"col_token\": \"005 ng\\u00e0y\"}, {\"row\": 0, \"column\": 6, \"value\": 0.0, \"row_token\": \"000 <s>\", \"col_token\": \"006 \\u0111\\u1eb9p\"}, {\"row\": 0, \"column\": 7, \"value\": 0.0, \"row_token\": \"000 <s>\", \"col_token\": \"007 tr\\u1eddi\"}, {\"row\": 0, \"column\": 8, \"value\": 0.0, \"row_token\": \"000 <s>\", \"col_token\": \"008 </s>\"}, {\"row\": 1, \"column\": 0, \"value\": 0.0, \"row_token\": \"001 H\\u00f4m\", \"col_token\": \"000 <s>\"}, {\"row\": 1, \"column\": 1, \"value\": 0.0, \"row_token\": \"001 H\\u00f4m\", \"col_token\": \"001 H\\u00f4m\"}, {\"row\": 1, \"column\": 2, \"value\": 0.0, \"row_token\": \"001 H\\u00f4m\", \"col_token\": \"002 nay\"}, {\"row\": 1, \"column\": 3, \"value\": 0.0, \"row_token\": \"001 H\\u00f4m\", \"col_token\": \"003 l\\u00e0\"}, {\"row\": 1, \"column\": 4, \"value\": 0.0, \"row_token\": \"001 H\\u00f4m\", \"col_token\": \"004 m\\u1ed9t\"}, {\"row\": 1, \"column\": 5, \"value\": 0.0, \"row_token\": \"001 H\\u00f4m\", \"col_token\": \"005 ng\\u00e0y\"}, {\"row\": 1, \"column\": 6, \"value\": 0.0, \"row_token\": \"001 H\\u00f4m\", \"col_token\": \"006 \\u0111\\u1eb9p\"}, {\"row\": 1, \"column\": 7, \"value\": 0.0, \"row_token\": \"001 H\\u00f4m\", \"col_token\": \"007 tr\\u1eddi\"}, {\"row\": 1, \"column\": 8, \"value\": 0.0, \"row_token\": \"001 H\\u00f4m\", \"col_token\": \"008 </s>\"}, {\"row\": 2, \"column\": 0, \"value\": 10.60106372833252, \"row_token\": \"002 nay\", \"col_token\": \"000 <s>\"}, {\"row\": 2, \"column\": 1, \"value\": 0.0, \"row_token\": \"002 nay\", \"col_token\": \"001 H\\u00f4m\"}, {\"row\": 2, \"column\": 2, \"value\": 11.945196151733398, \"row_token\": \"002 nay\", \"col_token\": \"002 nay\"}, {\"row\": 2, \"column\": 3, \"value\": 0.0, \"row_token\": \"002 nay\", \"col_token\": \"003 l\\u00e0\"}, {\"row\": 2, \"column\": 4, \"value\": 0.0, \"row_token\": \"002 nay\", \"col_token\": \"004 m\\u1ed9t\"}, {\"row\": 2, \"column\": 5, \"value\": 0.0, \"row_token\": \"002 nay\", \"col_token\": \"005 ng\\u00e0y\"}, {\"row\": 2, \"column\": 6, \"value\": 0.0, \"row_token\": \"002 nay\", \"col_token\": \"006 \\u0111\\u1eb9p\"}, {\"row\": 2, \"column\": 7, \"value\": 0.0, \"row_token\": \"002 nay\", \"col_token\": \"007 tr\\u1eddi\"}, {\"row\": 2, \"column\": 8, \"value\": 0.0, \"row_token\": \"002 nay\", \"col_token\": \"008 </s>\"}, {\"row\": 3, \"column\": 0, \"value\": 12.577380180358887, \"row_token\": \"003 l\\u00e0\", \"col_token\": \"000 <s>\"}, {\"row\": 3, \"column\": 1, \"value\": 0.0, \"row_token\": \"003 l\\u00e0\", \"col_token\": \"001 H\\u00f4m\"}, {\"row\": 3, \"column\": 2, \"value\": 14.69093132019043, \"row_token\": \"003 l\\u00e0\", \"col_token\": \"002 nay\"}, {\"row\": 3, \"column\": 3, \"value\": 0.0, \"row_token\": \"003 l\\u00e0\", \"col_token\": \"003 l\\u00e0\"}, {\"row\": 3, \"column\": 4, \"value\": 0.0, \"row_token\": \"003 l\\u00e0\", \"col_token\": \"004 m\\u1ed9t\"}, {\"row\": 3, \"column\": 5, \"value\": 0.0, \"row_token\": \"003 l\\u00e0\", \"col_token\": \"005 ng\\u00e0y\"}, {\"row\": 3, \"column\": 6, \"value\": 0.0, \"row_token\": \"003 l\\u00e0\", \"col_token\": \"006 \\u0111\\u1eb9p\"}, {\"row\": 3, \"column\": 7, \"value\": 0.0, \"row_token\": \"003 l\\u00e0\", \"col_token\": \"007 tr\\u1eddi\"}, {\"row\": 3, \"column\": 8, \"value\": 0.0, \"row_token\": \"003 l\\u00e0\", \"col_token\": \"008 </s>\"}, {\"row\": 4, \"column\": 0, \"value\": 11.085334777832031, \"row_token\": \"004 m\\u1ed9t\", \"col_token\": \"000 <s>\"}, {\"row\": 4, \"column\": 1, \"value\": 0.0, \"row_token\": \"004 m\\u1ed9t\", \"col_token\": \"001 H\\u00f4m\"}, {\"row\": 4, \"column\": 2, \"value\": 13.540136337280273, \"row_token\": \"004 m\\u1ed9t\", \"col_token\": \"002 nay\"}, {\"row\": 4, \"column\": 3, \"value\": 0.0, \"row_token\": \"004 m\\u1ed9t\", \"col_token\": \"003 l\\u00e0\"}, {\"row\": 4, \"column\": 4, \"value\": 0.0, \"row_token\": \"004 m\\u1ed9t\", \"col_token\": \"004 m\\u1ed9t\"}, {\"row\": 4, \"column\": 5, \"value\": 0.0, \"row_token\": \"004 m\\u1ed9t\", \"col_token\": \"005 ng\\u00e0y\"}, {\"row\": 4, \"column\": 6, \"value\": 0.0, \"row_token\": \"004 m\\u1ed9t\", \"col_token\": \"006 \\u0111\\u1eb9p\"}, {\"row\": 4, \"column\": 7, \"value\": 0.0, \"row_token\": \"004 m\\u1ed9t\", \"col_token\": \"007 tr\\u1eddi\"}, {\"row\": 4, \"column\": 8, \"value\": 0.0, \"row_token\": \"004 m\\u1ed9t\", \"col_token\": \"008 </s>\"}, {\"row\": 5, \"column\": 0, \"value\": 0.0, \"row_token\": \"005 ng\\u00e0y\", \"col_token\": \"000 <s>\"}, {\"row\": 5, \"column\": 1, \"value\": 0.0, \"row_token\": \"005 ng\\u00e0y\", \"col_token\": \"001 H\\u00f4m\"}, {\"row\": 5, \"column\": 2, \"value\": 0.0, \"row_token\": \"005 ng\\u00e0y\", \"col_token\": \"002 nay\"}, {\"row\": 5, \"column\": 3, \"value\": 0.0, \"row_token\": \"005 ng\\u00e0y\", \"col_token\": \"003 l\\u00e0\"}, {\"row\": 5, \"column\": 4, \"value\": 0.0, \"row_token\": \"005 ng\\u00e0y\", \"col_token\": \"004 m\\u1ed9t\"}, {\"row\": 5, \"column\": 5, \"value\": 0.0, \"row_token\": \"005 ng\\u00e0y\", \"col_token\": \"005 ng\\u00e0y\"}, {\"row\": 5, \"column\": 6, \"value\": 0.0, \"row_token\": \"005 ng\\u00e0y\", \"col_token\": \"006 \\u0111\\u1eb9p\"}, {\"row\": 5, \"column\": 7, \"value\": 0.0, \"row_token\": \"005 ng\\u00e0y\", \"col_token\": \"007 tr\\u1eddi\"}, {\"row\": 5, \"column\": 8, \"value\": 0.0, \"row_token\": \"005 ng\\u00e0y\", \"col_token\": \"008 </s>\"}, {\"row\": 6, \"column\": 0, \"value\": 9.992974281311035, \"row_token\": \"006 \\u0111\\u1eb9p\", \"col_token\": \"000 <s>\"}, {\"row\": 6, \"column\": 1, \"value\": 0.0, \"row_token\": \"006 \\u0111\\u1eb9p\", \"col_token\": \"001 H\\u00f4m\"}, {\"row\": 6, \"column\": 2, \"value\": 12.573437690734863, \"row_token\": \"006 \\u0111\\u1eb9p\", \"col_token\": \"002 nay\"}, {\"row\": 6, \"column\": 3, \"value\": 0.0, \"row_token\": \"006 \\u0111\\u1eb9p\", \"col_token\": \"003 l\\u00e0\"}, {\"row\": 6, \"column\": 4, \"value\": 0.0, \"row_token\": \"006 \\u0111\\u1eb9p\", \"col_token\": \"004 m\\u1ed9t\"}, {\"row\": 6, \"column\": 5, \"value\": 0.0, \"row_token\": \"006 \\u0111\\u1eb9p\", \"col_token\": \"005 ng\\u00e0y\"}, {\"row\": 6, \"column\": 6, \"value\": 0.0, \"row_token\": \"006 \\u0111\\u1eb9p\", \"col_token\": \"006 \\u0111\\u1eb9p\"}, {\"row\": 6, \"column\": 7, \"value\": 0.0, \"row_token\": \"006 \\u0111\\u1eb9p\", \"col_token\": \"007 tr\\u1eddi\"}, {\"row\": 6, \"column\": 8, \"value\": 0.0, \"row_token\": \"006 \\u0111\\u1eb9p\", \"col_token\": \"008 </s>\"}, {\"row\": 7, \"column\": 0, \"value\": 8.528265953063965, \"row_token\": \"007 tr\\u1eddi\", \"col_token\": \"000 <s>\"}, {\"row\": 7, \"column\": 1, \"value\": 0.0, \"row_token\": \"007 tr\\u1eddi\", \"col_token\": \"001 H\\u00f4m\"}, {\"row\": 7, \"column\": 2, \"value\": 11.369344711303711, \"row_token\": \"007 tr\\u1eddi\", \"col_token\": \"002 nay\"}, {\"row\": 7, \"column\": 3, \"value\": 0.0, \"row_token\": \"007 tr\\u1eddi\", \"col_token\": \"003 l\\u00e0\"}, {\"row\": 7, \"column\": 4, \"value\": 0.0, \"row_token\": \"007 tr\\u1eddi\", \"col_token\": \"004 m\\u1ed9t\"}, {\"row\": 7, \"column\": 5, \"value\": 0.0, \"row_token\": \"007 tr\\u1eddi\", \"col_token\": \"005 ng\\u00e0y\"}, {\"row\": 7, \"column\": 6, \"value\": 0.0, \"row_token\": \"007 tr\\u1eddi\", \"col_token\": \"006 \\u0111\\u1eb9p\"}, {\"row\": 7, \"column\": 7, \"value\": 0.0, \"row_token\": \"007 tr\\u1eddi\", \"col_token\": \"007 tr\\u1eddi\"}, {\"row\": 7, \"column\": 8, \"value\": 0.0, \"row_token\": \"007 tr\\u1eddi\", \"col_token\": \"008 </s>\"}, {\"row\": 8, \"column\": 0, \"value\": 10.533184051513672, \"row_token\": \"008 </s>\", \"col_token\": \"000 <s>\"}, {\"row\": 8, \"column\": 1, \"value\": 0.0, \"row_token\": \"008 </s>\", \"col_token\": \"001 H\\u00f4m\"}, {\"row\": 8, \"column\": 2, \"value\": 12.783393859863281, \"row_token\": \"008 </s>\", \"col_token\": \"002 nay\"}, {\"row\": 8, \"column\": 3, \"value\": 0.0, \"row_token\": \"008 </s>\", \"col_token\": \"003 l\\u00e0\"}, {\"row\": 8, \"column\": 4, \"value\": 0.0, \"row_token\": \"008 </s>\", \"col_token\": \"004 m\\u1ed9t\"}, {\"row\": 8, \"column\": 5, \"value\": 0.0, \"row_token\": \"008 </s>\", \"col_token\": \"005 ng\\u00e0y\"}, {\"row\": 8, \"column\": 6, \"value\": 0.0, \"row_token\": \"008 </s>\", \"col_token\": \"006 \\u0111\\u1eb9p\"}, {\"row\": 8, \"column\": 7, \"value\": 0.0, \"row_token\": \"008 </s>\", \"col_token\": \"007 tr\\u1eddi\"}, {\"row\": 8, \"column\": 8, \"value\": 0.0, \"row_token\": \"008 </s>\", \"col_token\": \"008 </s>\"}], \"data-8ac43b60b5b9bc27ca1f1a905abe30bf\": [{\"row\": 0, \"column\": 0, \"value\": 0.0, \"row_token\": \"000 <s>\", \"col_token\": \"000 <s>\"}, {\"row\": 0, \"column\": 1, \"value\": 50.66633605957031, \"row_token\": \"000 <s>\", \"col_token\": \"001 H\\u00f4m\"}, {\"row\": 0, \"column\": 2, \"value\": 0.0, \"row_token\": \"000 <s>\", \"col_token\": \"002 nay\"}, {\"row\": 0, \"column\": 3, \"value\": 19.983552932739258, \"row_token\": \"000 <s>\", \"col_token\": \"003 l\\u00e0\"}, {\"row\": 0, \"column\": 4, \"value\": 39.42400360107422, \"row_token\": \"000 <s>\", \"col_token\": \"004 m\\u1ed9t\"}, {\"row\": 0, \"column\": 5, \"value\": 59.00716018676758, \"row_token\": \"000 <s>\", \"col_token\": \"005 ng\\u00e0y\"}, {\"row\": 0, \"column\": 6, \"value\": 47.02497863769531, \"row_token\": \"000 <s>\", \"col_token\": \"006 \\u0111\\u1eb9p\"}, {\"row\": 0, \"column\": 7, \"value\": 58.25691223144531, \"row_token\": \"000 <s>\", \"col_token\": \"007 tr\\u1eddi\"}, {\"row\": 0, \"column\": 8, \"value\": 33.162681579589844, \"row_token\": \"000 <s>\", \"col_token\": \"008 </s>\"}, {\"row\": 1, \"column\": 0, \"value\": 23.681211471557617, \"row_token\": \"001 H\\u00f4m\", \"col_token\": \"000 <s>\"}, {\"row\": 1, \"column\": 1, \"value\": 27.40631103515625, \"row_token\": \"001 H\\u00f4m\", \"col_token\": \"001 H\\u00f4m\"}, {\"row\": 1, \"column\": 2, \"value\": 25.48525047302246, \"row_token\": \"001 H\\u00f4m\", \"col_token\": \"002 nay\"}, {\"row\": 1, \"column\": 3, \"value\": 33.05697250366211, \"row_token\": \"001 H\\u00f4m\", \"col_token\": \"003 l\\u00e0\"}, {\"row\": 1, \"column\": 4, \"value\": 38.0424690246582, \"row_token\": \"001 H\\u00f4m\", \"col_token\": \"004 m\\u1ed9t\"}, {\"row\": 1, \"column\": 5, \"value\": 29.808059692382812, \"row_token\": \"001 H\\u00f4m\", \"col_token\": \"005 ng\\u00e0y\"}, {\"row\": 1, \"column\": 6, \"value\": 38.975345611572266, \"row_token\": \"001 H\\u00f4m\", \"col_token\": \"006 \\u0111\\u1eb9p\"}, {\"row\": 1, \"column\": 7, \"value\": 40.56113815307617, \"row_token\": \"001 H\\u00f4m\", \"col_token\": \"007 tr\\u1eddi\"}, {\"row\": 1, \"column\": 8, \"value\": 36.481163024902344, \"row_token\": \"001 H\\u00f4m\", \"col_token\": \"008 </s>\"}, {\"row\": 2, \"column\": 0, \"value\": 0.0, \"row_token\": \"002 nay\", \"col_token\": \"000 <s>\"}, {\"row\": 2, \"column\": 1, \"value\": 55.40993881225586, \"row_token\": \"002 nay\", \"col_token\": \"001 H\\u00f4m\"}, {\"row\": 2, \"column\": 2, \"value\": 0.0, \"row_token\": \"002 nay\", \"col_token\": \"002 nay\"}, {\"row\": 2, \"column\": 3, \"value\": 23.629575729370117, \"row_token\": \"002 nay\", \"col_token\": \"003 l\\u00e0\"}, {\"row\": 2, \"column\": 4, \"value\": 45.30485916137695, \"row_token\": \"002 nay\", \"col_token\": \"004 m\\u1ed9t\"}, {\"row\": 2, \"column\": 5, \"value\": 64.76325225830078, \"row_token\": \"002 nay\", \"col_token\": \"005 ng\\u00e0y\"}, {\"row\": 2, \"column\": 6, \"value\": 53.78350067138672, \"row_token\": \"002 nay\", \"col_token\": \"006 \\u0111\\u1eb9p\"}, {\"row\": 2, \"column\": 7, \"value\": 66.10601806640625, \"row_token\": \"002 nay\", \"col_token\": \"007 tr\\u1eddi\"}, {\"row\": 2, \"column\": 8, \"value\": 38.52845764160156, \"row_token\": \"002 nay\", \"col_token\": \"008 </s>\"}, {\"row\": 3, \"column\": 0, \"value\": 0.0, \"row_token\": \"003 l\\u00e0\", \"col_token\": \"000 <s>\"}, {\"row\": 3, \"column\": 1, \"value\": 67.61859893798828, \"row_token\": \"003 l\\u00e0\", \"col_token\": \"001 H\\u00f4m\"}, {\"row\": 3, \"column\": 2, \"value\": 1.2811003923416138, \"row_token\": \"003 l\\u00e0\", \"col_token\": \"002 nay\"}, {\"row\": 3, \"column\": 3, \"value\": 35.70999526977539, \"row_token\": \"003 l\\u00e0\", \"col_token\": \"003 l\\u00e0\"}, {\"row\": 3, \"column\": 4, \"value\": 63.9623908996582, \"row_token\": \"003 l\\u00e0\", \"col_token\": \"004 m\\u1ed9t\"}, {\"row\": 3, \"column\": 5, \"value\": 79.92817687988281, \"row_token\": \"003 l\\u00e0\", \"col_token\": \"005 ng\\u00e0y\"}, {\"row\": 3, \"column\": 6, \"value\": 74.9976806640625, \"row_token\": \"003 l\\u00e0\", \"col_token\": \"006 \\u0111\\u1eb9p\"}, {\"row\": 3, \"column\": 7, \"value\": 90.40526580810547, \"row_token\": \"003 l\\u00e0\", \"col_token\": \"007 tr\\u1eddi\"}, {\"row\": 3, \"column\": 8, \"value\": 55.96604537963867, \"row_token\": \"003 l\\u00e0\", \"col_token\": \"008 </s>\"}, {\"row\": 4, \"column\": 0, \"value\": 0.0, \"row_token\": \"004 m\\u1ed9t\", \"col_token\": \"000 <s>\"}, {\"row\": 4, \"column\": 1, \"value\": 70.06297302246094, \"row_token\": \"004 m\\u1ed9t\", \"col_token\": \"001 H\\u00f4m\"}, {\"row\": 4, \"column\": 2, \"value\": 2.1936850547790527, \"row_token\": \"004 m\\u1ed9t\", \"col_token\": \"002 nay\"}, {\"row\": 4, \"column\": 3, \"value\": 39.71483612060547, \"row_token\": \"004 m\\u1ed9t\", \"col_token\": \"003 l\\u00e0\"}, {\"row\": 4, \"column\": 4, \"value\": 71.06661987304688, \"row_token\": \"004 m\\u1ed9t\", \"col_token\": \"004 m\\u1ed9t\"}, {\"row\": 4, \"column\": 5, \"value\": 83.79434204101562, \"row_token\": \"004 m\\u1ed9t\", \"col_token\": \"005 ng\\u00e0y\"}, {\"row\": 4, \"column\": 6, \"value\": 83.41893768310547, \"row_token\": \"004 m\\u1ed9t\", \"col_token\": \"006 \\u0111\\u1eb9p\"}, {\"row\": 4, \"column\": 7, \"value\": 100.32775115966797, \"row_token\": \"004 m\\u1ed9t\", \"col_token\": \"007 tr\\u1eddi\"}, {\"row\": 4, \"column\": 8, \"value\": 62.67735290527344, \"row_token\": \"004 m\\u1ed9t\", \"col_token\": \"008 </s>\"}, {\"row\": 5, \"column\": 0, \"value\": 23.204471588134766, \"row_token\": \"005 ng\\u00e0y\", \"col_token\": \"000 <s>\"}, {\"row\": 5, \"column\": 1, \"value\": 30.937957763671875, \"row_token\": \"005 ng\\u00e0y\", \"col_token\": \"001 H\\u00f4m\"}, {\"row\": 5, \"column\": 2, \"value\": 25.500333786010742, \"row_token\": \"005 ng\\u00e0y\", \"col_token\": \"002 nay\"}, {\"row\": 5, \"column\": 3, \"value\": 35.87633514404297, \"row_token\": \"005 ng\\u00e0y\", \"col_token\": \"003 l\\u00e0\"}, {\"row\": 5, \"column\": 4, \"value\": 43.47001647949219, \"row_token\": \"005 ng\\u00e0y\", \"col_token\": \"004 m\\u1ed9t\"}, {\"row\": 5, \"column\": 5, \"value\": 34.503448486328125, \"row_token\": \"005 ng\\u00e0y\", \"col_token\": \"005 ng\\u00e0y\"}, {\"row\": 5, \"column\": 6, \"value\": 45.491432189941406, \"row_token\": \"005 ng\\u00e0y\", \"col_token\": \"006 \\u0111\\u1eb9p\"}, {\"row\": 5, \"column\": 7, \"value\": 48.399757385253906, \"row_token\": \"005 ng\\u00e0y\", \"col_token\": \"007 tr\\u1eddi\"}, {\"row\": 5, \"column\": 8, \"value\": 41.435726165771484, \"row_token\": \"005 ng\\u00e0y\", \"col_token\": \"008 </s>\"}, {\"row\": 6, \"column\": 0, \"value\": 0.0, \"row_token\": \"006 \\u0111\\u1eb9p\", \"col_token\": \"000 <s>\"}, {\"row\": 6, \"column\": 1, \"value\": 68.47798919677734, \"row_token\": \"006 \\u0111\\u1eb9p\", \"col_token\": \"001 H\\u00f4m\"}, {\"row\": 6, \"column\": 2, \"value\": 1.412270188331604, \"row_token\": \"006 \\u0111\\u1eb9p\", \"col_token\": \"002 nay\"}, {\"row\": 6, \"column\": 3, \"value\": 39.26143264770508, \"row_token\": \"006 \\u0111\\u1eb9p\", \"col_token\": \"003 l\\u00e0\"}, {\"row\": 6, \"column\": 4, \"value\": 71.24002838134766, \"row_token\": \"006 \\u0111\\u1eb9p\", \"col_token\": \"004 m\\u1ed9t\"}, {\"row\": 6, \"column\": 5, \"value\": 82.49327850341797, \"row_token\": \"006 \\u0111\\u1eb9p\", \"col_token\": \"005 ng\\u00e0y\"}, {\"row\": 6, \"column\": 6, \"value\": 83.93125915527344, \"row_token\": \"006 \\u0111\\u1eb9p\", \"col_token\": \"006 \\u0111\\u1eb9p\"}, {\"row\": 6, \"column\": 7, \"value\": 101.16400146484375, \"row_token\": \"006 \\u0111\\u1eb9p\", \"col_token\": \"007 tr\\u1eddi\"}, {\"row\": 6, \"column\": 8, \"value\": 62.911407470703125, \"row_token\": \"006 \\u0111\\u1eb9p\", \"col_token\": \"008 </s>\"}, {\"row\": 7, \"column\": 0, \"value\": 0.0, \"row_token\": \"007 tr\\u1eddi\", \"col_token\": \"000 <s>\"}, {\"row\": 7, \"column\": 1, \"value\": 66.40634155273438, \"row_token\": \"007 tr\\u1eddi\", \"col_token\": \"001 H\\u00f4m\"}, {\"row\": 7, \"column\": 2, \"value\": 0.0, \"row_token\": \"007 tr\\u1eddi\", \"col_token\": \"002 nay\"}, {\"row\": 7, \"column\": 3, \"value\": 37.18015670776367, \"row_token\": \"007 tr\\u1eddi\", \"col_token\": \"003 l\\u00e0\"}, {\"row\": 7, \"column\": 4, \"value\": 70.72474670410156, \"row_token\": \"007 tr\\u1eddi\", \"col_token\": \"004 m\\u1ed9t\"}, {\"row\": 7, \"column\": 5, \"value\": 81.12779998779297, \"row_token\": \"007 tr\\u1eddi\", \"col_token\": \"005 ng\\u00e0y\"}, {\"row\": 7, \"column\": 6, \"value\": 84.23493957519531, \"row_token\": \"007 tr\\u1eddi\", \"col_token\": \"006 \\u0111\\u1eb9p\"}, {\"row\": 7, \"column\": 7, \"value\": 102.42793273925781, \"row_token\": \"007 tr\\u1eddi\", \"col_token\": \"007 tr\\u1eddi\"}, {\"row\": 7, \"column\": 8, \"value\": 62.2899284362793, \"row_token\": \"007 tr\\u1eddi\", \"col_token\": \"008 </s>\"}, {\"row\": 8, \"column\": 0, \"value\": 0.0, \"row_token\": \"008 </s>\", \"col_token\": \"000 <s>\"}, {\"row\": 8, \"column\": 1, \"value\": 67.4357681274414, \"row_token\": \"008 </s>\", \"col_token\": \"001 H\\u00f4m\"}, {\"row\": 8, \"column\": 2, \"value\": 1.120067834854126, \"row_token\": \"008 </s>\", \"col_token\": \"002 nay\"}, {\"row\": 8, \"column\": 3, \"value\": 36.866249084472656, \"row_token\": \"008 </s>\", \"col_token\": \"003 l\\u00e0\"}, {\"row\": 8, \"column\": 4, \"value\": 66.6279296875, \"row_token\": \"008 </s>\", \"col_token\": \"004 m\\u1ed9t\"}, {\"row\": 8, \"column\": 5, \"value\": 80.42787170410156, \"row_token\": \"008 </s>\", \"col_token\": \"005 ng\\u00e0y\"}, {\"row\": 8, \"column\": 6, \"value\": 78.35252380371094, \"row_token\": \"008 </s>\", \"col_token\": \"006 \\u0111\\u1eb9p\"}, {\"row\": 8, \"column\": 7, \"value\": 94.5222396850586, \"row_token\": \"008 </s>\", \"col_token\": \"007 tr\\u1eddi\"}, {\"row\": 8, \"column\": 8, \"value\": 58.51551818847656, \"row_token\": \"008 </s>\", \"col_token\": \"008 </s>\"}]}}, {\"mode\": \"vega-lite\"});\n",
       "</script>"
      ],
      "text/plain": [
       "alt.HConcatChart(...)"
      ]
     },
     "execution_count": 107,
     "metadata": {},
     "output_type": "execute_result"
    }
   ],
   "source": [
    "def viz_encoder_self():\n",
    "    for model_name in ['vi_to_en_complete_rela_3.pt']:\n",
    "        model_path = './models/'+ model_name\n",
    "        start_time = time.time()\n",
    "        gc.collect()\n",
    "        torch.cuda.empty_cache()\n",
    "    \n",
    "        temp = [('Hôm nay là một ngày đẹp trời', 'Today is a beautiful day')] \n",
    "\n",
    "        model_data = torch.load(model_path)\n",
    "        model, tgt_truth, tgt_pred, score, results = run_model_example(\n",
    "            False,\n",
    "            1, \n",
    "            0,\n",
    "            model_data['train_iter'],\n",
    "            model_data['val_iter'],\n",
    "            temp,\n",
    "    #         model_data['test_iter'],\n",
    "            model_data['vocab_src'],\n",
    "            model_data['vocab_tgt'],\n",
    "            model_data['tokenizer_src'],\n",
    "            model_data['tokenizer_tgt'],\n",
    "            model_data['config'],\n",
    "            model_data['params'],\n",
    "            model_path\n",
    "        )\n",
    "    \n",
    "    \n",
    "        example = results[len(results) - 1]  # batch object for the final example\n",
    "\n",
    "        layer_viz = [\n",
    "            visualize_layer(\n",
    "                model, layer, get_encoder, len(example[1]), example[1], example[1]\n",
    "            )\n",
    "            for layer in range(6)\n",
    "        ]\n",
    "        return alt.hconcat(\n",
    "            layer_viz[0]\n",
    "            & layer_viz[1]\n",
    "                    & layer_viz[2]\n",
    "            & layer_viz[3]\n",
    "                    & layer_viz[4]\n",
    "            & \n",
    "            layer_viz[5]\n",
    "        )\n",
    "\n",
    "\n",
    "show_example(viz_encoder_self)"
   ]
  },
  {
   "cell_type": "markdown",
   "id": "f25f695d",
   "metadata": {},
   "source": [
    "## Decoder Self Attention"
   ]
  },
  {
   "cell_type": "code",
   "execution_count": 90,
   "id": "e933449d",
   "metadata": {
    "execution": {
     "iopub.execute_input": "2022-05-02T01:25:41.871884Z",
     "iopub.status.busy": "2022-05-02T01:25:41.870065Z",
     "iopub.status.idle": "2022-05-02T01:25:55.723590Z",
     "shell.execute_reply": "2022-05-02T01:25:55.724083Z"
    },
    "tags": []
   },
   "outputs": [
    {
     "name": "stdout",
     "output_type": "stream",
     "text": [
      "\n",
      "Complete.\n"
     ]
    },
    {
     "data": {
      "text/html": [
       "\n",
       "<div id=\"altair-viz-b837e70ded614bf1ac094cb1d524f66a\"></div>\n",
       "<script type=\"text/javascript\">\n",
       "  var VEGA_DEBUG = (typeof VEGA_DEBUG == \"undefined\") ? {} : VEGA_DEBUG;\n",
       "  (function(spec, embedOpt){\n",
       "    let outputDiv = document.currentScript.previousElementSibling;\n",
       "    if (outputDiv.id !== \"altair-viz-b837e70ded614bf1ac094cb1d524f66a\") {\n",
       "      outputDiv = document.getElementById(\"altair-viz-b837e70ded614bf1ac094cb1d524f66a\");\n",
       "    }\n",
       "    const paths = {\n",
       "      \"vega\": \"https://cdn.jsdelivr.net/npm//vega@5?noext\",\n",
       "      \"vega-lib\": \"https://cdn.jsdelivr.net/npm//vega-lib?noext\",\n",
       "      \"vega-lite\": \"https://cdn.jsdelivr.net/npm//vega-lite@4.17.0?noext\",\n",
       "      \"vega-embed\": \"https://cdn.jsdelivr.net/npm//vega-embed@6?noext\",\n",
       "    };\n",
       "\n",
       "    function maybeLoadScript(lib, version) {\n",
       "      var key = `${lib.replace(\"-\", \"\")}_version`;\n",
       "      return (VEGA_DEBUG[key] == version) ?\n",
       "        Promise.resolve(paths[lib]) :\n",
       "        new Promise(function(resolve, reject) {\n",
       "          var s = document.createElement('script');\n",
       "          document.getElementsByTagName(\"head\")[0].appendChild(s);\n",
       "          s.async = true;\n",
       "          s.onload = () => {\n",
       "            VEGA_DEBUG[key] = version;\n",
       "            return resolve(paths[lib]);\n",
       "          };\n",
       "          s.onerror = () => reject(`Error loading script: ${paths[lib]}`);\n",
       "          s.src = paths[lib];\n",
       "        });\n",
       "    }\n",
       "\n",
       "    function showError(err) {\n",
       "      outputDiv.innerHTML = `<div class=\"error\" style=\"color:red;\">${err}</div>`;\n",
       "      throw err;\n",
       "    }\n",
       "\n",
       "    function displayChart(vegaEmbed) {\n",
       "      vegaEmbed(outputDiv, spec, embedOpt)\n",
       "        .catch(err => showError(`Javascript Error: ${err.message}<br>This usually means there's a typo in your chart specification. See the javascript console for the full traceback.`));\n",
       "    }\n",
       "\n",
       "    if(typeof define === \"function\" && define.amd) {\n",
       "      requirejs.config({paths});\n",
       "      require([\"vega-embed\"], displayChart, err => showError(`Error loading script: ${err.message}`));\n",
       "    } else {\n",
       "      maybeLoadScript(\"vega\", \"5\")\n",
       "        .then(() => maybeLoadScript(\"vega-lite\", \"4.17.0\"))\n",
       "        .then(() => maybeLoadScript(\"vega-embed\", \"6\"))\n",
       "        .catch(showError)\n",
       "        .then(() => displayChart(vegaEmbed));\n",
       "    }\n",
       "  })({\"config\": {\"view\": {\"continuousWidth\": 400, \"continuousHeight\": 300}}, \"hconcat\": [{\"vconcat\": [{\"hconcat\": [{\"data\": {\"name\": \"data-8d37611f1a5683c555f3f5a42c98d981\"}, \"mark\": \"rect\", \"encoding\": {\"color\": {\"field\": \"value\", \"scale\": {\"scheme\": \"lightgreyteal\"}, \"type\": \"quantitative\"}, \"tooltip\": [{\"field\": \"row\", \"type\": \"quantitative\"}, {\"field\": \"column\", \"type\": \"quantitative\"}, {\"field\": \"value\", \"type\": \"quantitative\"}, {\"field\": \"row_token\", \"type\": \"nominal\"}, {\"field\": \"col_token\", \"type\": \"nominal\"}], \"x\": {\"axis\": {\"title\": \"\"}, \"field\": \"col_token\", \"type\": \"nominal\"}, \"y\": {\"axis\": {\"title\": \"\"}, \"field\": \"row_token\", \"type\": \"nominal\"}}, \"height\": 400, \"selection\": {\"selector097\": {\"type\": \"interval\", \"bind\": \"scales\", \"encodings\": [\"x\", \"y\"]}}, \"width\": 400}, {\"data\": {\"name\": \"data-f8692d7953ec92774485add6861bfdb9\"}, \"mark\": \"rect\", \"encoding\": {\"color\": {\"field\": \"value\", \"scale\": {\"scheme\": \"lightgreyteal\"}, \"type\": \"quantitative\"}, \"tooltip\": [{\"field\": \"row\", \"type\": \"quantitative\"}, {\"field\": \"column\", \"type\": \"quantitative\"}, {\"field\": \"value\", \"type\": \"quantitative\"}, {\"field\": \"row_token\", \"type\": \"nominal\"}, {\"field\": \"col_token\", \"type\": \"nominal\"}], \"x\": {\"axis\": {\"title\": \"\"}, \"field\": \"col_token\", \"type\": \"nominal\"}, \"y\": {\"axis\": {\"title\": \"\"}, \"field\": \"row_token\", \"type\": \"nominal\"}}, \"height\": 400, \"selection\": {\"selector099\": {\"type\": \"interval\", \"bind\": \"scales\", \"encodings\": [\"x\", \"y\"]}}, \"width\": 400}, {\"data\": {\"name\": \"data-e8368d673caca4ae550d650f0d0b1502\"}, \"mark\": \"rect\", \"encoding\": {\"color\": {\"field\": \"value\", \"scale\": {\"scheme\": \"lightgreyteal\"}, \"type\": \"quantitative\"}, \"tooltip\": [{\"field\": \"row\", \"type\": \"quantitative\"}, {\"field\": \"column\", \"type\": \"quantitative\"}, {\"field\": \"value\", \"type\": \"quantitative\"}, {\"field\": \"row_token\", \"type\": \"nominal\"}, {\"field\": \"col_token\", \"type\": \"nominal\"}], \"x\": {\"axis\": {\"title\": \"\"}, \"field\": \"col_token\", \"type\": \"nominal\"}, \"y\": {\"axis\": {\"title\": \"\"}, \"field\": \"row_token\", \"type\": \"nominal\"}}, \"height\": 400, \"selection\": {\"selector101\": {\"type\": \"interval\", \"bind\": \"scales\", \"encodings\": [\"x\", \"y\"]}}, \"width\": 400}, {\"data\": {\"name\": \"data-f55374617884bb686c2674f11a672a9b\"}, \"mark\": \"rect\", \"encoding\": {\"color\": {\"field\": \"value\", \"scale\": {\"scheme\": \"lightgreyteal\"}, \"type\": \"quantitative\"}, \"tooltip\": [{\"field\": \"row\", \"type\": \"quantitative\"}, {\"field\": \"column\", \"type\": \"quantitative\"}, {\"field\": \"value\", \"type\": \"quantitative\"}, {\"field\": \"row_token\", \"type\": \"nominal\"}, {\"field\": \"col_token\", \"type\": \"nominal\"}], \"x\": {\"axis\": {\"title\": \"\"}, \"field\": \"col_token\", \"type\": \"nominal\"}, \"y\": {\"axis\": {\"title\": \"\"}, \"field\": \"row_token\", \"type\": \"nominal\"}}, \"height\": 400, \"selection\": {\"selector103\": {\"type\": \"interval\", \"bind\": \"scales\", \"encodings\": [\"x\", \"y\"]}}, \"width\": 400}]}, {\"vconcat\": [{\"hconcat\": [{\"data\": {\"name\": \"data-232a3cbfb032617cbc3db052cba9e3db\"}, \"mark\": \"rect\", \"encoding\": {\"color\": {\"field\": \"value\", \"scale\": {\"scheme\": \"lightgreyteal\"}, \"type\": \"quantitative\"}, \"tooltip\": [{\"field\": \"row\", \"type\": \"quantitative\"}, {\"field\": \"column\", \"type\": \"quantitative\"}, {\"field\": \"value\", \"type\": \"quantitative\"}, {\"field\": \"row_token\", \"type\": \"nominal\"}, {\"field\": \"col_token\", \"type\": \"nominal\"}], \"x\": {\"axis\": {\"title\": \"\"}, \"field\": \"col_token\", \"type\": \"nominal\"}, \"y\": {\"axis\": {\"title\": \"\"}, \"field\": \"row_token\", \"type\": \"nominal\"}}, \"height\": 400, \"selection\": {\"selector121\": {\"type\": \"interval\", \"bind\": \"scales\", \"encodings\": [\"x\", \"y\"]}}, \"width\": 400}, {\"data\": {\"name\": \"data-e670588a12bb8d0ff087c3200d47839b\"}, \"mark\": \"rect\", \"encoding\": {\"color\": {\"field\": \"value\", \"scale\": {\"scheme\": \"lightgreyteal\"}, \"type\": \"quantitative\"}, \"tooltip\": [{\"field\": \"row\", \"type\": \"quantitative\"}, {\"field\": \"column\", \"type\": \"quantitative\"}, {\"field\": \"value\", \"type\": \"quantitative\"}, {\"field\": \"row_token\", \"type\": \"nominal\"}, {\"field\": \"col_token\", \"type\": \"nominal\"}], \"x\": {\"axis\": {\"title\": \"\"}, \"field\": \"col_token\", \"type\": \"nominal\"}, \"y\": {\"axis\": {\"title\": \"\"}, \"field\": \"row_token\", \"type\": \"nominal\"}}, \"height\": 400, \"selection\": {\"selector123\": {\"type\": \"interval\", \"bind\": \"scales\", \"encodings\": [\"x\", \"y\"]}}, \"width\": 400}, {\"data\": {\"name\": \"data-1281e0d1e4fd80710de964801c837fae\"}, \"mark\": \"rect\", \"encoding\": {\"color\": {\"field\": \"value\", \"scale\": {\"scheme\": \"lightgreyteal\"}, \"type\": \"quantitative\"}, \"tooltip\": [{\"field\": \"row\", \"type\": \"quantitative\"}, {\"field\": \"column\", \"type\": \"quantitative\"}, {\"field\": \"value\", \"type\": \"quantitative\"}, {\"field\": \"row_token\", \"type\": \"nominal\"}, {\"field\": \"col_token\", \"type\": \"nominal\"}], \"x\": {\"axis\": {\"title\": \"\"}, \"field\": \"col_token\", \"type\": \"nominal\"}, \"y\": {\"axis\": {\"title\": \"\"}, \"field\": \"row_token\", \"type\": \"nominal\"}}, \"height\": 400, \"selection\": {\"selector125\": {\"type\": \"interval\", \"bind\": \"scales\", \"encodings\": [\"x\", \"y\"]}}, \"width\": 400}, {\"data\": {\"name\": \"data-a4050ca03c9b633051ed288f88006f4b\"}, \"mark\": \"rect\", \"encoding\": {\"color\": {\"field\": \"value\", \"scale\": {\"scheme\": \"lightgreyteal\"}, \"type\": \"quantitative\"}, \"tooltip\": [{\"field\": \"row\", \"type\": \"quantitative\"}, {\"field\": \"column\", \"type\": \"quantitative\"}, {\"field\": \"value\", \"type\": \"quantitative\"}, {\"field\": \"row_token\", \"type\": \"nominal\"}, {\"field\": \"col_token\", \"type\": \"nominal\"}], \"x\": {\"axis\": {\"title\": \"\"}, \"field\": \"col_token\", \"type\": \"nominal\"}, \"y\": {\"axis\": {\"title\": \"\"}, \"field\": \"row_token\", \"type\": \"nominal\"}}, \"height\": 400, \"selection\": {\"selector127\": {\"type\": \"interval\", \"bind\": \"scales\", \"encodings\": [\"x\", \"y\"]}}, \"width\": 400}]}], \"title\": \"Layer 4\"}, {\"vconcat\": [{\"hconcat\": [{\"data\": {\"name\": \"data-ba361393c4e2a8705c5c0ada95c0a41e\"}, \"mark\": \"rect\", \"encoding\": {\"color\": {\"field\": \"value\", \"scale\": {\"scheme\": \"lightgreyteal\"}, \"type\": \"quantitative\"}, \"tooltip\": [{\"field\": \"row\", \"type\": \"quantitative\"}, {\"field\": \"column\", \"type\": \"quantitative\"}, {\"field\": \"value\", \"type\": \"quantitative\"}, {\"field\": \"row_token\", \"type\": \"nominal\"}, {\"field\": \"col_token\", \"type\": \"nominal\"}], \"x\": {\"axis\": {\"title\": \"\"}, \"field\": \"col_token\", \"type\": \"nominal\"}, \"y\": {\"axis\": {\"title\": \"\"}, \"field\": \"row_token\", \"type\": \"nominal\"}}, \"height\": 400, \"selection\": {\"selector137\": {\"type\": \"interval\", \"bind\": \"scales\", \"encodings\": [\"x\", \"y\"]}}, \"width\": 400}, {\"data\": {\"name\": \"data-698565260e67ae47f6ac9f4eba767bc0\"}, \"mark\": \"rect\", \"encoding\": {\"color\": {\"field\": \"value\", \"scale\": {\"scheme\": \"lightgreyteal\"}, \"type\": \"quantitative\"}, \"tooltip\": [{\"field\": \"row\", \"type\": \"quantitative\"}, {\"field\": \"column\", \"type\": \"quantitative\"}, {\"field\": \"value\", \"type\": \"quantitative\"}, {\"field\": \"row_token\", \"type\": \"nominal\"}, {\"field\": \"col_token\", \"type\": \"nominal\"}], \"x\": {\"axis\": {\"title\": \"\"}, \"field\": \"col_token\", \"type\": \"nominal\"}, \"y\": {\"axis\": {\"title\": \"\"}, \"field\": \"row_token\", \"type\": \"nominal\"}}, \"height\": 400, \"selection\": {\"selector139\": {\"type\": \"interval\", \"bind\": \"scales\", \"encodings\": [\"x\", \"y\"]}}, \"width\": 400}, {\"data\": {\"name\": \"data-9ebbc2dbd0f8fe1dec6d9bd6b011425d\"}, \"mark\": \"rect\", \"encoding\": {\"color\": {\"field\": \"value\", \"scale\": {\"scheme\": \"lightgreyteal\"}, \"type\": \"quantitative\"}, \"tooltip\": [{\"field\": \"row\", \"type\": \"quantitative\"}, {\"field\": \"column\", \"type\": \"quantitative\"}, {\"field\": \"value\", \"type\": \"quantitative\"}, {\"field\": \"row_token\", \"type\": \"nominal\"}, {\"field\": \"col_token\", \"type\": \"nominal\"}], \"x\": {\"axis\": {\"title\": \"\"}, \"field\": \"col_token\", \"type\": \"nominal\"}, \"y\": {\"axis\": {\"title\": \"\"}, \"field\": \"row_token\", \"type\": \"nominal\"}}, \"height\": 400, \"selection\": {\"selector141\": {\"type\": \"interval\", \"bind\": \"scales\", \"encodings\": [\"x\", \"y\"]}}, \"width\": 400}, {\"data\": {\"name\": \"data-0bfbb4bb7512b9d0b327e250fae884e3\"}, \"mark\": \"rect\", \"encoding\": {\"color\": {\"field\": \"value\", \"scale\": {\"scheme\": \"lightgreyteal\"}, \"type\": \"quantitative\"}, \"tooltip\": [{\"field\": \"row\", \"type\": \"quantitative\"}, {\"field\": \"column\", \"type\": \"quantitative\"}, {\"field\": \"value\", \"type\": \"quantitative\"}, {\"field\": \"row_token\", \"type\": \"nominal\"}, {\"field\": \"col_token\", \"type\": \"nominal\"}], \"x\": {\"axis\": {\"title\": \"\"}, \"field\": \"col_token\", \"type\": \"nominal\"}, \"y\": {\"axis\": {\"title\": \"\"}, \"field\": \"row_token\", \"type\": \"nominal\"}}, \"height\": 400, \"selection\": {\"selector143\": {\"type\": \"interval\", \"bind\": \"scales\", \"encodings\": [\"x\", \"y\"]}}, \"width\": 400}]}], \"title\": \"Layer 6\"}], \"title\": \"Layer 1\"}], \"$schema\": \"https://vega.github.io/schema/vega-lite/v4.17.0.json\", \"datasets\": {\"data-8d37611f1a5683c555f3f5a42c98d981\": [{\"row\": 0, \"column\": 0, \"value\": 1.0, \"row_token\": \"000 <s>\", \"col_token\": \"000 <s>\"}, {\"row\": 0, \"column\": 1, \"value\": 0.0, \"row_token\": \"000 <s>\", \"col_token\": \"001 H\\u00f4m\"}, {\"row\": 0, \"column\": 2, \"value\": 0.0, \"row_token\": \"000 <s>\", \"col_token\": \"002 nay\"}, {\"row\": 0, \"column\": 3, \"value\": 0.0, \"row_token\": \"000 <s>\", \"col_token\": \"003 l\\u00e0\"}, {\"row\": 0, \"column\": 4, \"value\": 0.0, \"row_token\": \"000 <s>\", \"col_token\": \"004 m\\u1ed9t\"}, {\"row\": 0, \"column\": 5, \"value\": 0.0, \"row_token\": \"000 <s>\", \"col_token\": \"005 ng\\u00e0y\"}, {\"row\": 0, \"column\": 6, \"value\": 0.0, \"row_token\": \"000 <s>\", \"col_token\": \"006 \\u0111\\u1eb9p\"}, {\"row\": 0, \"column\": 7, \"value\": 0.0, \"row_token\": \"000 <s>\", \"col_token\": \"007 tr\\u1eddi\"}, {\"row\": 0, \"column\": 8, \"value\": 0.0, \"row_token\": \"000 <s>\", \"col_token\": \"008 </s>\"}, {\"row\": 1, \"column\": 0, \"value\": 0.5451070070266724, \"row_token\": \"001 H\\u00f4m\", \"col_token\": \"000 <s>\"}, {\"row\": 1, \"column\": 1, \"value\": 0.45489296317100525, \"row_token\": \"001 H\\u00f4m\", \"col_token\": \"001 H\\u00f4m\"}, {\"row\": 1, \"column\": 2, \"value\": 0.0, \"row_token\": \"001 H\\u00f4m\", \"col_token\": \"002 nay\"}, {\"row\": 1, \"column\": 3, \"value\": 0.0, \"row_token\": \"001 H\\u00f4m\", \"col_token\": \"003 l\\u00e0\"}, {\"row\": 1, \"column\": 4, \"value\": 0.0, \"row_token\": \"001 H\\u00f4m\", \"col_token\": \"004 m\\u1ed9t\"}, {\"row\": 1, \"column\": 5, \"value\": 0.0, \"row_token\": \"001 H\\u00f4m\", \"col_token\": \"005 ng\\u00e0y\"}, {\"row\": 1, \"column\": 6, \"value\": 0.0, \"row_token\": \"001 H\\u00f4m\", \"col_token\": \"006 \\u0111\\u1eb9p\"}, {\"row\": 1, \"column\": 7, \"value\": 0.0, \"row_token\": \"001 H\\u00f4m\", \"col_token\": \"007 tr\\u1eddi\"}, {\"row\": 1, \"column\": 8, \"value\": 0.0, \"row_token\": \"001 H\\u00f4m\", \"col_token\": \"008 </s>\"}, {\"row\": 2, \"column\": 0, \"value\": 0.03635125234723091, \"row_token\": \"002 nay\", \"col_token\": \"000 <s>\"}, {\"row\": 2, \"column\": 1, \"value\": 0.9610785841941833, \"row_token\": \"002 nay\", \"col_token\": \"001 H\\u00f4m\"}, {\"row\": 2, \"column\": 2, \"value\": 0.0025701685808598995, \"row_token\": \"002 nay\", \"col_token\": \"002 nay\"}, {\"row\": 2, \"column\": 3, \"value\": 0.0, \"row_token\": \"002 nay\", \"col_token\": \"003 l\\u00e0\"}, {\"row\": 2, \"column\": 4, \"value\": 0.0, \"row_token\": \"002 nay\", \"col_token\": \"004 m\\u1ed9t\"}, {\"row\": 2, \"column\": 5, \"value\": 0.0, \"row_token\": \"002 nay\", \"col_token\": \"005 ng\\u00e0y\"}, {\"row\": 2, \"column\": 6, \"value\": 0.0, \"row_token\": \"002 nay\", \"col_token\": \"006 \\u0111\\u1eb9p\"}, {\"row\": 2, \"column\": 7, \"value\": 0.0, \"row_token\": \"002 nay\", \"col_token\": \"007 tr\\u1eddi\"}, {\"row\": 2, \"column\": 8, \"value\": 0.0, \"row_token\": \"002 nay\", \"col_token\": \"008 </s>\"}, {\"row\": 3, \"column\": 0, \"value\": 0.38596925139427185, \"row_token\": \"003 l\\u00e0\", \"col_token\": \"000 <s>\"}, {\"row\": 3, \"column\": 1, \"value\": 0.5534335970878601, \"row_token\": \"003 l\\u00e0\", \"col_token\": \"001 H\\u00f4m\"}, {\"row\": 3, \"column\": 2, \"value\": 0.020028669387102127, \"row_token\": \"003 l\\u00e0\", \"col_token\": \"002 nay\"}, {\"row\": 3, \"column\": 3, \"value\": 0.040568459779024124, \"row_token\": \"003 l\\u00e0\", \"col_token\": \"003 l\\u00e0\"}, {\"row\": 3, \"column\": 4, \"value\": 0.0, \"row_token\": \"003 l\\u00e0\", \"col_token\": \"004 m\\u1ed9t\"}, {\"row\": 3, \"column\": 5, \"value\": 0.0, \"row_token\": \"003 l\\u00e0\", \"col_token\": \"005 ng\\u00e0y\"}, {\"row\": 3, \"column\": 6, \"value\": 0.0, \"row_token\": \"003 l\\u00e0\", \"col_token\": \"006 \\u0111\\u1eb9p\"}, {\"row\": 3, \"column\": 7, \"value\": 0.0, \"row_token\": \"003 l\\u00e0\", \"col_token\": \"007 tr\\u1eddi\"}, {\"row\": 3, \"column\": 8, \"value\": 0.0, \"row_token\": \"003 l\\u00e0\", \"col_token\": \"008 </s>\"}, {\"row\": 4, \"column\": 0, \"value\": 0.688282310962677, \"row_token\": \"004 m\\u1ed9t\", \"col_token\": \"000 <s>\"}, {\"row\": 4, \"column\": 1, \"value\": 0.009018558077514172, \"row_token\": \"004 m\\u1ed9t\", \"col_token\": \"001 H\\u00f4m\"}, {\"row\": 4, \"column\": 2, \"value\": 0.021495623514056206, \"row_token\": \"004 m\\u1ed9t\", \"col_token\": \"002 nay\"}, {\"row\": 4, \"column\": 3, \"value\": 0.05496819689869881, \"row_token\": \"004 m\\u1ed9t\", \"col_token\": \"003 l\\u00e0\"}, {\"row\": 4, \"column\": 4, \"value\": 0.22623534500598907, \"row_token\": \"004 m\\u1ed9t\", \"col_token\": \"004 m\\u1ed9t\"}, {\"row\": 4, \"column\": 5, \"value\": 0.0, \"row_token\": \"004 m\\u1ed9t\", \"col_token\": \"005 ng\\u00e0y\"}, {\"row\": 4, \"column\": 6, \"value\": 0.0, \"row_token\": \"004 m\\u1ed9t\", \"col_token\": \"006 \\u0111\\u1eb9p\"}, {\"row\": 4, \"column\": 7, \"value\": 0.0, \"row_token\": \"004 m\\u1ed9t\", \"col_token\": \"007 tr\\u1eddi\"}, {\"row\": 4, \"column\": 8, \"value\": 0.0, \"row_token\": \"004 m\\u1ed9t\", \"col_token\": \"008 </s>\"}, {\"row\": 5, \"column\": 0, \"value\": 0.3022899627685547, \"row_token\": \"005 ng\\u00e0y\", \"col_token\": \"000 <s>\"}, {\"row\": 5, \"column\": 1, \"value\": 0.004915114026516676, \"row_token\": \"005 ng\\u00e0y\", \"col_token\": \"001 H\\u00f4m\"}, {\"row\": 5, \"column\": 2, \"value\": 0.01417252141982317, \"row_token\": \"005 ng\\u00e0y\", \"col_token\": \"002 nay\"}, {\"row\": 5, \"column\": 3, \"value\": 0.0772351399064064, \"row_token\": \"005 ng\\u00e0y\", \"col_token\": \"003 l\\u00e0\"}, {\"row\": 5, \"column\": 4, \"value\": 0.19072936475276947, \"row_token\": \"005 ng\\u00e0y\", \"col_token\": \"004 m\\u1ed9t\"}, {\"row\": 5, \"column\": 5, \"value\": 0.4106578826904297, \"row_token\": \"005 ng\\u00e0y\", \"col_token\": \"005 ng\\u00e0y\"}, {\"row\": 5, \"column\": 6, \"value\": 0.0, \"row_token\": \"005 ng\\u00e0y\", \"col_token\": \"006 \\u0111\\u1eb9p\"}, {\"row\": 5, \"column\": 7, \"value\": 0.0, \"row_token\": \"005 ng\\u00e0y\", \"col_token\": \"007 tr\\u1eddi\"}, {\"row\": 5, \"column\": 8, \"value\": 0.0, \"row_token\": \"005 ng\\u00e0y\", \"col_token\": \"008 </s>\"}, {\"row\": 6, \"column\": 0, \"value\": 0.875304102897644, \"row_token\": \"006 \\u0111\\u1eb9p\", \"col_token\": \"000 <s>\"}, {\"row\": 6, \"column\": 1, \"value\": 0.0005794516764581203, \"row_token\": \"006 \\u0111\\u1eb9p\", \"col_token\": \"001 H\\u00f4m\"}, {\"row\": 6, \"column\": 2, \"value\": 0.011347689665853977, \"row_token\": \"006 \\u0111\\u1eb9p\", \"col_token\": \"002 nay\"}, {\"row\": 6, \"column\": 3, \"value\": 0.009250053204596043, \"row_token\": \"006 \\u0111\\u1eb9p\", \"col_token\": \"003 l\\u00e0\"}, {\"row\": 6, \"column\": 4, \"value\": 0.030913731083273888, \"row_token\": \"006 \\u0111\\u1eb9p\", \"col_token\": \"004 m\\u1ed9t\"}, {\"row\": 6, \"column\": 5, \"value\": 0.014404786750674248, \"row_token\": \"006 \\u0111\\u1eb9p\", \"col_token\": \"005 ng\\u00e0y\"}, {\"row\": 6, \"column\": 6, \"value\": 0.058200281113386154, \"row_token\": \"006 \\u0111\\u1eb9p\", \"col_token\": \"006 \\u0111\\u1eb9p\"}, {\"row\": 6, \"column\": 7, \"value\": 0.0, \"row_token\": \"006 \\u0111\\u1eb9p\", \"col_token\": \"007 tr\\u1eddi\"}, {\"row\": 6, \"column\": 8, \"value\": 0.0, \"row_token\": \"006 \\u0111\\u1eb9p\", \"col_token\": \"008 </s>\"}, {\"row\": 7, \"column\": 0, \"value\": 0.00025576085317879915, \"row_token\": \"007 tr\\u1eddi\", \"col_token\": \"000 <s>\"}, {\"row\": 7, \"column\": 1, \"value\": 5.257781054979205e-08, \"row_token\": \"007 tr\\u1eddi\", \"col_token\": \"001 H\\u00f4m\"}, {\"row\": 7, \"column\": 2, \"value\": 3.9114787853122834e-08, \"row_token\": \"007 tr\\u1eddi\", \"col_token\": \"002 nay\"}, {\"row\": 7, \"column\": 3, \"value\": 5.770031066276715e-07, \"row_token\": \"007 tr\\u1eddi\", \"col_token\": \"003 l\\u00e0\"}, {\"row\": 7, \"column\": 4, \"value\": 2.8770259632437956e-06, \"row_token\": \"007 tr\\u1eddi\", \"col_token\": \"004 m\\u1ed9t\"}, {\"row\": 7, \"column\": 5, \"value\": 1.6005449651856907e-05, \"row_token\": \"007 tr\\u1eddi\", \"col_token\": \"005 ng\\u00e0y\"}, {\"row\": 7, \"column\": 6, \"value\": 0.0009567614761181176, \"row_token\": \"007 tr\\u1eddi\", \"col_token\": \"006 \\u0111\\u1eb9p\"}, {\"row\": 7, \"column\": 7, \"value\": 0.9987679123878479, \"row_token\": \"007 tr\\u1eddi\", \"col_token\": \"007 tr\\u1eddi\"}, {\"row\": 7, \"column\": 8, \"value\": 0.0, \"row_token\": \"007 tr\\u1eddi\", \"col_token\": \"008 </s>\"}, {\"row\": 8, \"column\": 0, \"value\": 0.00028387343627400696, \"row_token\": \"008 </s>\", \"col_token\": \"000 <s>\"}, {\"row\": 8, \"column\": 1, \"value\": 6.874903846210145e-08, \"row_token\": \"008 </s>\", \"col_token\": \"001 H\\u00f4m\"}, {\"row\": 8, \"column\": 2, \"value\": 5.104855205217973e-08, \"row_token\": \"008 </s>\", \"col_token\": \"002 nay\"}, {\"row\": 8, \"column\": 3, \"value\": 2.959154130621755e-07, \"row_token\": \"008 </s>\", \"col_token\": \"003 l\\u00e0\"}, {\"row\": 8, \"column\": 4, \"value\": 5.311128461471526e-07, \"row_token\": \"008 </s>\", \"col_token\": \"004 m\\u1ed9t\"}, {\"row\": 8, \"column\": 5, \"value\": 8.447857453575125e-07, \"row_token\": \"008 </s>\", \"col_token\": \"005 ng\\u00e0y\"}, {\"row\": 8, \"column\": 6, \"value\": 7.674181688344106e-05, \"row_token\": \"008 </s>\", \"col_token\": \"006 \\u0111\\u1eb9p\"}, {\"row\": 8, \"column\": 7, \"value\": 0.08446937054395676, \"row_token\": \"008 </s>\", \"col_token\": \"007 tr\\u1eddi\"}, {\"row\": 8, \"column\": 8, \"value\": 0.915168285369873, \"row_token\": \"008 </s>\", \"col_token\": \"008 </s>\"}], \"data-f8692d7953ec92774485add6861bfdb9\": [{\"row\": 0, \"column\": 0, \"value\": 1.0, \"row_token\": \"000 <s>\", \"col_token\": \"000 <s>\"}, {\"row\": 0, \"column\": 1, \"value\": 0.0, \"row_token\": \"000 <s>\", \"col_token\": \"001 H\\u00f4m\"}, {\"row\": 0, \"column\": 2, \"value\": 0.0, \"row_token\": \"000 <s>\", \"col_token\": \"002 nay\"}, {\"row\": 0, \"column\": 3, \"value\": 0.0, \"row_token\": \"000 <s>\", \"col_token\": \"003 l\\u00e0\"}, {\"row\": 0, \"column\": 4, \"value\": 0.0, \"row_token\": \"000 <s>\", \"col_token\": \"004 m\\u1ed9t\"}, {\"row\": 0, \"column\": 5, \"value\": 0.0, \"row_token\": \"000 <s>\", \"col_token\": \"005 ng\\u00e0y\"}, {\"row\": 0, \"column\": 6, \"value\": 0.0, \"row_token\": \"000 <s>\", \"col_token\": \"006 \\u0111\\u1eb9p\"}, {\"row\": 0, \"column\": 7, \"value\": 0.0, \"row_token\": \"000 <s>\", \"col_token\": \"007 tr\\u1eddi\"}, {\"row\": 0, \"column\": 8, \"value\": 0.0, \"row_token\": \"000 <s>\", \"col_token\": \"008 </s>\"}, {\"row\": 1, \"column\": 0, \"value\": 0.10882775485515594, \"row_token\": \"001 H\\u00f4m\", \"col_token\": \"000 <s>\"}, {\"row\": 1, \"column\": 1, \"value\": 0.8911722302436829, \"row_token\": \"001 H\\u00f4m\", \"col_token\": \"001 H\\u00f4m\"}, {\"row\": 1, \"column\": 2, \"value\": 0.0, \"row_token\": \"001 H\\u00f4m\", \"col_token\": \"002 nay\"}, {\"row\": 1, \"column\": 3, \"value\": 0.0, \"row_token\": \"001 H\\u00f4m\", \"col_token\": \"003 l\\u00e0\"}, {\"row\": 1, \"column\": 4, \"value\": 0.0, \"row_token\": \"001 H\\u00f4m\", \"col_token\": \"004 m\\u1ed9t\"}, {\"row\": 1, \"column\": 5, \"value\": 0.0, \"row_token\": \"001 H\\u00f4m\", \"col_token\": \"005 ng\\u00e0y\"}, {\"row\": 1, \"column\": 6, \"value\": 0.0, \"row_token\": \"001 H\\u00f4m\", \"col_token\": \"006 \\u0111\\u1eb9p\"}, {\"row\": 1, \"column\": 7, \"value\": 0.0, \"row_token\": \"001 H\\u00f4m\", \"col_token\": \"007 tr\\u1eddi\"}, {\"row\": 1, \"column\": 8, \"value\": 0.0, \"row_token\": \"001 H\\u00f4m\", \"col_token\": \"008 </s>\"}, {\"row\": 2, \"column\": 0, \"value\": 0.045767735689878464, \"row_token\": \"002 nay\", \"col_token\": \"000 <s>\"}, {\"row\": 2, \"column\": 1, \"value\": 0.9376964569091797, \"row_token\": \"002 nay\", \"col_token\": \"001 H\\u00f4m\"}, {\"row\": 2, \"column\": 2, \"value\": 0.016535861417651176, \"row_token\": \"002 nay\", \"col_token\": \"002 nay\"}, {\"row\": 2, \"column\": 3, \"value\": 0.0, \"row_token\": \"002 nay\", \"col_token\": \"003 l\\u00e0\"}, {\"row\": 2, \"column\": 4, \"value\": 0.0, \"row_token\": \"002 nay\", \"col_token\": \"004 m\\u1ed9t\"}, {\"row\": 2, \"column\": 5, \"value\": 0.0, \"row_token\": \"002 nay\", \"col_token\": \"005 ng\\u00e0y\"}, {\"row\": 2, \"column\": 6, \"value\": 0.0, \"row_token\": \"002 nay\", \"col_token\": \"006 \\u0111\\u1eb9p\"}, {\"row\": 2, \"column\": 7, \"value\": 0.0, \"row_token\": \"002 nay\", \"col_token\": \"007 tr\\u1eddi\"}, {\"row\": 2, \"column\": 8, \"value\": 0.0, \"row_token\": \"002 nay\", \"col_token\": \"008 </s>\"}, {\"row\": 3, \"column\": 0, \"value\": 0.0002825299743562937, \"row_token\": \"003 l\\u00e0\", \"col_token\": \"000 <s>\"}, {\"row\": 3, \"column\": 1, \"value\": 8.823136158753186e-05, \"row_token\": \"003 l\\u00e0\", \"col_token\": \"001 H\\u00f4m\"}, {\"row\": 3, \"column\": 2, \"value\": 0.00018378213280811906, \"row_token\": \"003 l\\u00e0\", \"col_token\": \"002 nay\"}, {\"row\": 3, \"column\": 3, \"value\": 0.999445378780365, \"row_token\": \"003 l\\u00e0\", \"col_token\": \"003 l\\u00e0\"}, {\"row\": 3, \"column\": 4, \"value\": 0.0, \"row_token\": \"003 l\\u00e0\", \"col_token\": \"004 m\\u1ed9t\"}, {\"row\": 3, \"column\": 5, \"value\": 0.0, \"row_token\": \"003 l\\u00e0\", \"col_token\": \"005 ng\\u00e0y\"}, {\"row\": 3, \"column\": 6, \"value\": 0.0, \"row_token\": \"003 l\\u00e0\", \"col_token\": \"006 \\u0111\\u1eb9p\"}, {\"row\": 3, \"column\": 7, \"value\": 0.0, \"row_token\": \"003 l\\u00e0\", \"col_token\": \"007 tr\\u1eddi\"}, {\"row\": 3, \"column\": 8, \"value\": 0.0, \"row_token\": \"003 l\\u00e0\", \"col_token\": \"008 </s>\"}, {\"row\": 4, \"column\": 0, \"value\": 1.9557633095246274e-06, \"row_token\": \"004 m\\u1ed9t\", \"col_token\": \"000 <s>\"}, {\"row\": 4, \"column\": 1, \"value\": 2.5487526045253617e-07, \"row_token\": \"004 m\\u1ed9t\", \"col_token\": \"001 H\\u00f4m\"}, {\"row\": 4, \"column\": 2, \"value\": 9.105429512601404e-07, \"row_token\": \"004 m\\u1ed9t\", \"col_token\": \"002 nay\"}, {\"row\": 4, \"column\": 3, \"value\": 0.008955510333180428, \"row_token\": \"004 m\\u1ed9t\", \"col_token\": \"003 l\\u00e0\"}, {\"row\": 4, \"column\": 4, \"value\": 0.9910412430763245, \"row_token\": \"004 m\\u1ed9t\", \"col_token\": \"004 m\\u1ed9t\"}, {\"row\": 4, \"column\": 5, \"value\": 0.0, \"row_token\": \"004 m\\u1ed9t\", \"col_token\": \"005 ng\\u00e0y\"}, {\"row\": 4, \"column\": 6, \"value\": 0.0, \"row_token\": \"004 m\\u1ed9t\", \"col_token\": \"006 \\u0111\\u1eb9p\"}, {\"row\": 4, \"column\": 7, \"value\": 0.0, \"row_token\": \"004 m\\u1ed9t\", \"col_token\": \"007 tr\\u1eddi\"}, {\"row\": 4, \"column\": 8, \"value\": 0.0, \"row_token\": \"004 m\\u1ed9t\", \"col_token\": \"008 </s>\"}, {\"row\": 5, \"column\": 0, \"value\": 0.00038500025402754545, \"row_token\": \"005 ng\\u00e0y\", \"col_token\": \"000 <s>\"}, {\"row\": 5, \"column\": 1, \"value\": 0.0002165210316888988, \"row_token\": \"005 ng\\u00e0y\", \"col_token\": \"001 H\\u00f4m\"}, {\"row\": 5, \"column\": 2, \"value\": 7.487241964554414e-05, \"row_token\": \"005 ng\\u00e0y\", \"col_token\": \"002 nay\"}, {\"row\": 5, \"column\": 3, \"value\": 4.3919371819356456e-05, \"row_token\": \"005 ng\\u00e0y\", \"col_token\": \"003 l\\u00e0\"}, {\"row\": 5, \"column\": 4, \"value\": 0.006021713837981224, \"row_token\": \"005 ng\\u00e0y\", \"col_token\": \"004 m\\u1ed9t\"}, {\"row\": 5, \"column\": 5, \"value\": 0.9932578802108765, \"row_token\": \"005 ng\\u00e0y\", \"col_token\": \"005 ng\\u00e0y\"}, {\"row\": 5, \"column\": 6, \"value\": 0.0, \"row_token\": \"005 ng\\u00e0y\", \"col_token\": \"006 \\u0111\\u1eb9p\"}, {\"row\": 5, \"column\": 7, \"value\": 0.0, \"row_token\": \"005 ng\\u00e0y\", \"col_token\": \"007 tr\\u1eddi\"}, {\"row\": 5, \"column\": 8, \"value\": 0.0, \"row_token\": \"005 ng\\u00e0y\", \"col_token\": \"008 </s>\"}, {\"row\": 6, \"column\": 0, \"value\": 6.3820484683674295e-06, \"row_token\": \"006 \\u0111\\u1eb9p\", \"col_token\": \"000 <s>\"}, {\"row\": 6, \"column\": 1, \"value\": 1.2231740242896194e-07, \"row_token\": \"006 \\u0111\\u1eb9p\", \"col_token\": \"001 H\\u00f4m\"}, {\"row\": 6, \"column\": 2, \"value\": 1.3825287226154614e-07, \"row_token\": \"006 \\u0111\\u1eb9p\", \"col_token\": \"002 nay\"}, {\"row\": 6, \"column\": 3, \"value\": 5.353057375145909e-08, \"row_token\": \"006 \\u0111\\u1eb9p\", \"col_token\": \"003 l\\u00e0\"}, {\"row\": 6, \"column\": 4, \"value\": 5.291365960147232e-05, \"row_token\": \"006 \\u0111\\u1eb9p\", \"col_token\": \"004 m\\u1ed9t\"}, {\"row\": 6, \"column\": 5, \"value\": 0.0031714807264506817, \"row_token\": \"006 \\u0111\\u1eb9p\", \"col_token\": \"005 ng\\u00e0y\"}, {\"row\": 6, \"column\": 6, \"value\": 0.9967689514160156, \"row_token\": \"006 \\u0111\\u1eb9p\", \"col_token\": \"006 \\u0111\\u1eb9p\"}, {\"row\": 6, \"column\": 7, \"value\": 0.0, \"row_token\": \"006 \\u0111\\u1eb9p\", \"col_token\": \"007 tr\\u1eddi\"}, {\"row\": 6, \"column\": 8, \"value\": 0.0, \"row_token\": \"006 \\u0111\\u1eb9p\", \"col_token\": \"008 </s>\"}, {\"row\": 7, \"column\": 0, \"value\": 2.113599052722126e-11, \"row_token\": \"007 tr\\u1eddi\", \"col_token\": \"000 <s>\"}, {\"row\": 7, \"column\": 1, \"value\": 3.361259025020519e-13, \"row_token\": \"007 tr\\u1eddi\", \"col_token\": \"001 H\\u00f4m\"}, {\"row\": 7, \"column\": 2, \"value\": 1.493803059459569e-15, \"row_token\": \"007 tr\\u1eddi\", \"col_token\": \"002 nay\"}, {\"row\": 7, \"column\": 3, \"value\": 7.570571371300083e-16, \"row_token\": \"007 tr\\u1eddi\", \"col_token\": \"003 l\\u00e0\"}, {\"row\": 7, \"column\": 4, \"value\": 2.26532464661644e-12, \"row_token\": \"007 tr\\u1eddi\", \"col_token\": \"004 m\\u1ed9t\"}, {\"row\": 7, \"column\": 5, \"value\": 5.855815138344767e-11, \"row_token\": \"007 tr\\u1eddi\", \"col_token\": \"005 ng\\u00e0y\"}, {\"row\": 7, \"column\": 6, \"value\": 2.6736532987570172e-08, \"row_token\": \"007 tr\\u1eddi\", \"col_token\": \"006 \\u0111\\u1eb9p\"}, {\"row\": 7, \"column\": 7, \"value\": 1.0, \"row_token\": \"007 tr\\u1eddi\", \"col_token\": \"007 tr\\u1eddi\"}, {\"row\": 7, \"column\": 8, \"value\": 0.0, \"row_token\": \"007 tr\\u1eddi\", \"col_token\": \"008 </s>\"}, {\"row\": 8, \"column\": 0, \"value\": 1.8388064508545465e-12, \"row_token\": \"008 </s>\", \"col_token\": \"000 <s>\"}, {\"row\": 8, \"column\": 1, \"value\": 1.5487956782963413e-13, \"row_token\": \"008 </s>\", \"col_token\": \"001 H\\u00f4m\"}, {\"row\": 8, \"column\": 2, \"value\": 9.132179841703832e-16, \"row_token\": \"008 </s>\", \"col_token\": \"002 nay\"}, {\"row\": 8, \"column\": 3, \"value\": 1.2371466766064772e-16, \"row_token\": \"008 </s>\", \"col_token\": \"003 l\\u00e0\"}, {\"row\": 8, \"column\": 4, \"value\": 9.168031358229318e-15, \"row_token\": \"008 </s>\", \"col_token\": \"004 m\\u1ed9t\"}, {\"row\": 8, \"column\": 5, \"value\": 2.6342523065767294e-14, \"row_token\": \"008 </s>\", \"col_token\": \"005 ng\\u00e0y\"}, {\"row\": 8, \"column\": 6, \"value\": 1.0007056815142246e-11, \"row_token\": \"008 </s>\", \"col_token\": \"006 \\u0111\\u1eb9p\"}, {\"row\": 8, \"column\": 7, \"value\": 0.00023883458925411105, \"row_token\": \"008 </s>\", \"col_token\": \"007 tr\\u1eddi\"}, {\"row\": 8, \"column\": 8, \"value\": 0.999761164188385, \"row_token\": \"008 </s>\", \"col_token\": \"008 </s>\"}], \"data-e8368d673caca4ae550d650f0d0b1502\": [{\"row\": 0, \"column\": 0, \"value\": 1.0, \"row_token\": \"000 <s>\", \"col_token\": \"000 <s>\"}, {\"row\": 0, \"column\": 1, \"value\": 0.0, \"row_token\": \"000 <s>\", \"col_token\": \"001 H\\u00f4m\"}, {\"row\": 0, \"column\": 2, \"value\": 0.0, \"row_token\": \"000 <s>\", \"col_token\": \"002 nay\"}, {\"row\": 0, \"column\": 3, \"value\": 0.0, \"row_token\": \"000 <s>\", \"col_token\": \"003 l\\u00e0\"}, {\"row\": 0, \"column\": 4, \"value\": 0.0, \"row_token\": \"000 <s>\", \"col_token\": \"004 m\\u1ed9t\"}, {\"row\": 0, \"column\": 5, \"value\": 0.0, \"row_token\": \"000 <s>\", \"col_token\": \"005 ng\\u00e0y\"}, {\"row\": 0, \"column\": 6, \"value\": 0.0, \"row_token\": \"000 <s>\", \"col_token\": \"006 \\u0111\\u1eb9p\"}, {\"row\": 0, \"column\": 7, \"value\": 0.0, \"row_token\": \"000 <s>\", \"col_token\": \"007 tr\\u1eddi\"}, {\"row\": 0, \"column\": 8, \"value\": 0.0, \"row_token\": \"000 <s>\", \"col_token\": \"008 </s>\"}, {\"row\": 1, \"column\": 0, \"value\": 0.26652753353118896, \"row_token\": \"001 H\\u00f4m\", \"col_token\": \"000 <s>\"}, {\"row\": 1, \"column\": 1, \"value\": 0.733472466468811, \"row_token\": \"001 H\\u00f4m\", \"col_token\": \"001 H\\u00f4m\"}, {\"row\": 1, \"column\": 2, \"value\": 0.0, \"row_token\": \"001 H\\u00f4m\", \"col_token\": \"002 nay\"}, {\"row\": 1, \"column\": 3, \"value\": 0.0, \"row_token\": \"001 H\\u00f4m\", \"col_token\": \"003 l\\u00e0\"}, {\"row\": 1, \"column\": 4, \"value\": 0.0, \"row_token\": \"001 H\\u00f4m\", \"col_token\": \"004 m\\u1ed9t\"}, {\"row\": 1, \"column\": 5, \"value\": 0.0, \"row_token\": \"001 H\\u00f4m\", \"col_token\": \"005 ng\\u00e0y\"}, {\"row\": 1, \"column\": 6, \"value\": 0.0, \"row_token\": \"001 H\\u00f4m\", \"col_token\": \"006 \\u0111\\u1eb9p\"}, {\"row\": 1, \"column\": 7, \"value\": 0.0, \"row_token\": \"001 H\\u00f4m\", \"col_token\": \"007 tr\\u1eddi\"}, {\"row\": 1, \"column\": 8, \"value\": 0.0, \"row_token\": \"001 H\\u00f4m\", \"col_token\": \"008 </s>\"}, {\"row\": 2, \"column\": 0, \"value\": 0.00012730888556689024, \"row_token\": \"002 nay\", \"col_token\": \"000 <s>\"}, {\"row\": 2, \"column\": 1, \"value\": 0.0038228887133300304, \"row_token\": \"002 nay\", \"col_token\": \"001 H\\u00f4m\"}, {\"row\": 2, \"column\": 2, \"value\": 0.9960498213768005, \"row_token\": \"002 nay\", \"col_token\": \"002 nay\"}, {\"row\": 2, \"column\": 3, \"value\": 0.0, \"row_token\": \"002 nay\", \"col_token\": \"003 l\\u00e0\"}, {\"row\": 2, \"column\": 4, \"value\": 0.0, \"row_token\": \"002 nay\", \"col_token\": \"004 m\\u1ed9t\"}, {\"row\": 2, \"column\": 5, \"value\": 0.0, \"row_token\": \"002 nay\", \"col_token\": \"005 ng\\u00e0y\"}, {\"row\": 2, \"column\": 6, \"value\": 0.0, \"row_token\": \"002 nay\", \"col_token\": \"006 \\u0111\\u1eb9p\"}, {\"row\": 2, \"column\": 7, \"value\": 0.0, \"row_token\": \"002 nay\", \"col_token\": \"007 tr\\u1eddi\"}, {\"row\": 2, \"column\": 8, \"value\": 0.0, \"row_token\": \"002 nay\", \"col_token\": \"008 </s>\"}, {\"row\": 3, \"column\": 0, \"value\": 0.0004181163967587054, \"row_token\": \"003 l\\u00e0\", \"col_token\": \"000 <s>\"}, {\"row\": 3, \"column\": 1, \"value\": 8.420985068369191e-06, \"row_token\": \"003 l\\u00e0\", \"col_token\": \"001 H\\u00f4m\"}, {\"row\": 3, \"column\": 2, \"value\": 0.0005493746721185744, \"row_token\": \"003 l\\u00e0\", \"col_token\": \"002 nay\"}, {\"row\": 3, \"column\": 3, \"value\": 0.9990240335464478, \"row_token\": \"003 l\\u00e0\", \"col_token\": \"003 l\\u00e0\"}, {\"row\": 3, \"column\": 4, \"value\": 0.0, \"row_token\": \"003 l\\u00e0\", \"col_token\": \"004 m\\u1ed9t\"}, {\"row\": 3, \"column\": 5, \"value\": 0.0, \"row_token\": \"003 l\\u00e0\", \"col_token\": \"005 ng\\u00e0y\"}, {\"row\": 3, \"column\": 6, \"value\": 0.0, \"row_token\": \"003 l\\u00e0\", \"col_token\": \"006 \\u0111\\u1eb9p\"}, {\"row\": 3, \"column\": 7, \"value\": 0.0, \"row_token\": \"003 l\\u00e0\", \"col_token\": \"007 tr\\u1eddi\"}, {\"row\": 3, \"column\": 8, \"value\": 0.0, \"row_token\": \"003 l\\u00e0\", \"col_token\": \"008 </s>\"}, {\"row\": 4, \"column\": 0, \"value\": 4.729703960038023e-06, \"row_token\": \"004 m\\u1ed9t\", \"col_token\": \"000 <s>\"}, {\"row\": 4, \"column\": 1, \"value\": 2.4346427380805835e-06, \"row_token\": \"004 m\\u1ed9t\", \"col_token\": \"001 H\\u00f4m\"}, {\"row\": 4, \"column\": 2, \"value\": 4.7181706577248406e-06, \"row_token\": \"004 m\\u1ed9t\", \"col_token\": \"002 nay\"}, {\"row\": 4, \"column\": 3, \"value\": 0.000546624418348074, \"row_token\": \"004 m\\u1ed9t\", \"col_token\": \"003 l\\u00e0\"}, {\"row\": 4, \"column\": 4, \"value\": 0.9994414448738098, \"row_token\": \"004 m\\u1ed9t\", \"col_token\": \"004 m\\u1ed9t\"}, {\"row\": 4, \"column\": 5, \"value\": 0.0, \"row_token\": \"004 m\\u1ed9t\", \"col_token\": \"005 ng\\u00e0y\"}, {\"row\": 4, \"column\": 6, \"value\": 0.0, \"row_token\": \"004 m\\u1ed9t\", \"col_token\": \"006 \\u0111\\u1eb9p\"}, {\"row\": 4, \"column\": 7, \"value\": 0.0, \"row_token\": \"004 m\\u1ed9t\", \"col_token\": \"007 tr\\u1eddi\"}, {\"row\": 4, \"column\": 8, \"value\": 0.0, \"row_token\": \"004 m\\u1ed9t\", \"col_token\": \"008 </s>\"}, {\"row\": 5, \"column\": 0, \"value\": 5.3557076171273366e-05, \"row_token\": \"005 ng\\u00e0y\", \"col_token\": \"000 <s>\"}, {\"row\": 5, \"column\": 1, \"value\": 1.3103326637065038e-05, \"row_token\": \"005 ng\\u00e0y\", \"col_token\": \"001 H\\u00f4m\"}, {\"row\": 5, \"column\": 2, \"value\": 8.980938218883239e-06, \"row_token\": \"005 ng\\u00e0y\", \"col_token\": \"002 nay\"}, {\"row\": 5, \"column\": 3, \"value\": 1.8697568293646327e-06, \"row_token\": \"005 ng\\u00e0y\", \"col_token\": \"003 l\\u00e0\"}, {\"row\": 5, \"column\": 4, \"value\": 0.00020091977785341442, \"row_token\": \"005 ng\\u00e0y\", \"col_token\": \"004 m\\u1ed9t\"}, {\"row\": 5, \"column\": 5, \"value\": 0.9997214674949646, \"row_token\": \"005 ng\\u00e0y\", \"col_token\": \"005 ng\\u00e0y\"}, {\"row\": 5, \"column\": 6, \"value\": 0.0, \"row_token\": \"005 ng\\u00e0y\", \"col_token\": \"006 \\u0111\\u1eb9p\"}, {\"row\": 5, \"column\": 7, \"value\": 0.0, \"row_token\": \"005 ng\\u00e0y\", \"col_token\": \"007 tr\\u1eddi\"}, {\"row\": 5, \"column\": 8, \"value\": 0.0, \"row_token\": \"005 ng\\u00e0y\", \"col_token\": \"008 </s>\"}, {\"row\": 6, \"column\": 0, \"value\": 1.714038830868958e-06, \"row_token\": \"006 \\u0111\\u1eb9p\", \"col_token\": \"000 <s>\"}, {\"row\": 6, \"column\": 1, \"value\": 1.9854496519089437e-11, \"row_token\": \"006 \\u0111\\u1eb9p\", \"col_token\": \"001 H\\u00f4m\"}, {\"row\": 6, \"column\": 2, \"value\": 1.7175837304077984e-13, \"row_token\": \"006 \\u0111\\u1eb9p\", \"col_token\": \"002 nay\"}, {\"row\": 6, \"column\": 3, \"value\": 2.1530260213564745e-13, \"row_token\": \"006 \\u0111\\u1eb9p\", \"col_token\": \"003 l\\u00e0\"}, {\"row\": 6, \"column\": 4, \"value\": 1.6970869154420143e-10, \"row_token\": \"006 \\u0111\\u1eb9p\", \"col_token\": \"004 m\\u1ed9t\"}, {\"row\": 6, \"column\": 5, \"value\": 3.1085460250324104e-06, \"row_token\": \"006 \\u0111\\u1eb9p\", \"col_token\": \"005 ng\\u00e0y\"}, {\"row\": 6, \"column\": 6, \"value\": 0.999995231628418, \"row_token\": \"006 \\u0111\\u1eb9p\", \"col_token\": \"006 \\u0111\\u1eb9p\"}, {\"row\": 6, \"column\": 7, \"value\": 0.0, \"row_token\": \"006 \\u0111\\u1eb9p\", \"col_token\": \"007 tr\\u1eddi\"}, {\"row\": 6, \"column\": 8, \"value\": 0.0, \"row_token\": \"006 \\u0111\\u1eb9p\", \"col_token\": \"008 </s>\"}, {\"row\": 7, \"column\": 0, \"value\": 3.829617016299497e-13, \"row_token\": \"007 tr\\u1eddi\", \"col_token\": \"000 <s>\"}, {\"row\": 7, \"column\": 1, \"value\": 2.5229210064950554e-14, \"row_token\": \"007 tr\\u1eddi\", \"col_token\": \"001 H\\u00f4m\"}, {\"row\": 7, \"column\": 2, \"value\": 9.131916467396795e-17, \"row_token\": \"007 tr\\u1eddi\", \"col_token\": \"002 nay\"}, {\"row\": 7, \"column\": 3, \"value\": 1.162642187961581e-16, \"row_token\": \"007 tr\\u1eddi\", \"col_token\": \"003 l\\u00e0\"}, {\"row\": 7, \"column\": 4, \"value\": 2.8901139294268408e-12, \"row_token\": \"007 tr\\u1eddi\", \"col_token\": \"004 m\\u1ed9t\"}, {\"row\": 7, \"column\": 5, \"value\": 2.834925350025941e-10, \"row_token\": \"007 tr\\u1eddi\", \"col_token\": \"005 ng\\u00e0y\"}, {\"row\": 7, \"column\": 6, \"value\": 1.1231258412180978e-07, \"row_token\": \"007 tr\\u1eddi\", \"col_token\": \"006 \\u0111\\u1eb9p\"}, {\"row\": 7, \"column\": 7, \"value\": 0.9999998807907104, \"row_token\": \"007 tr\\u1eddi\", \"col_token\": \"007 tr\\u1eddi\"}, {\"row\": 7, \"column\": 8, \"value\": 0.0, \"row_token\": \"007 tr\\u1eddi\", \"col_token\": \"008 </s>\"}, {\"row\": 8, \"column\": 0, \"value\": 2.7089924270820576e-13, \"row_token\": \"008 </s>\", \"col_token\": \"000 <s>\"}, {\"row\": 8, \"column\": 1, \"value\": 1.413695278461996e-13, \"row_token\": \"008 </s>\", \"col_token\": \"001 H\\u00f4m\"}, {\"row\": 8, \"column\": 2, \"value\": 2.1905524036571367e-16, \"row_token\": \"008 </s>\", \"col_token\": \"002 nay\"}, {\"row\": 8, \"column\": 3, \"value\": 2.1265435465837828e-17, \"row_token\": \"008 </s>\", \"col_token\": \"003 l\\u00e0\"}, {\"row\": 8, \"column\": 4, \"value\": 3.226321729850497e-14, \"row_token\": \"008 </s>\", \"col_token\": \"004 m\\u1ed9t\"}, {\"row\": 8, \"column\": 5, \"value\": 2.3725978321766095e-13, \"row_token\": \"008 </s>\", \"col_token\": \"005 ng\\u00e0y\"}, {\"row\": 8, \"column\": 6, \"value\": 4.454390675756592e-11, \"row_token\": \"008 </s>\", \"col_token\": \"006 \\u0111\\u1eb9p\"}, {\"row\": 8, \"column\": 7, \"value\": 8.639577572466806e-05, \"row_token\": \"008 </s>\", \"col_token\": \"007 tr\\u1eddi\"}, {\"row\": 8, \"column\": 8, \"value\": 0.9999135732650757, \"row_token\": \"008 </s>\", \"col_token\": \"008 </s>\"}], \"data-f55374617884bb686c2674f11a672a9b\": [{\"row\": 0, \"column\": 0, \"value\": 1.0, \"row_token\": \"000 <s>\", \"col_token\": \"000 <s>\"}, {\"row\": 0, \"column\": 1, \"value\": 0.0, \"row_token\": \"000 <s>\", \"col_token\": \"001 H\\u00f4m\"}, {\"row\": 0, \"column\": 2, \"value\": 0.0, \"row_token\": \"000 <s>\", \"col_token\": \"002 nay\"}, {\"row\": 0, \"column\": 3, \"value\": 0.0, \"row_token\": \"000 <s>\", \"col_token\": \"003 l\\u00e0\"}, {\"row\": 0, \"column\": 4, \"value\": 0.0, \"row_token\": \"000 <s>\", \"col_token\": \"004 m\\u1ed9t\"}, {\"row\": 0, \"column\": 5, \"value\": 0.0, \"row_token\": \"000 <s>\", \"col_token\": \"005 ng\\u00e0y\"}, {\"row\": 0, \"column\": 6, \"value\": 0.0, \"row_token\": \"000 <s>\", \"col_token\": \"006 \\u0111\\u1eb9p\"}, {\"row\": 0, \"column\": 7, \"value\": 0.0, \"row_token\": \"000 <s>\", \"col_token\": \"007 tr\\u1eddi\"}, {\"row\": 0, \"column\": 8, \"value\": 0.0, \"row_token\": \"000 <s>\", \"col_token\": \"008 </s>\"}, {\"row\": 1, \"column\": 0, \"value\": 0.8273187875747681, \"row_token\": \"001 H\\u00f4m\", \"col_token\": \"000 <s>\"}, {\"row\": 1, \"column\": 1, \"value\": 0.17268121242523193, \"row_token\": \"001 H\\u00f4m\", \"col_token\": \"001 H\\u00f4m\"}, {\"row\": 1, \"column\": 2, \"value\": 0.0, \"row_token\": \"001 H\\u00f4m\", \"col_token\": \"002 nay\"}, {\"row\": 1, \"column\": 3, \"value\": 0.0, \"row_token\": \"001 H\\u00f4m\", \"col_token\": \"003 l\\u00e0\"}, {\"row\": 1, \"column\": 4, \"value\": 0.0, \"row_token\": \"001 H\\u00f4m\", \"col_token\": \"004 m\\u1ed9t\"}, {\"row\": 1, \"column\": 5, \"value\": 0.0, \"row_token\": \"001 H\\u00f4m\", \"col_token\": \"005 ng\\u00e0y\"}, {\"row\": 1, \"column\": 6, \"value\": 0.0, \"row_token\": \"001 H\\u00f4m\", \"col_token\": \"006 \\u0111\\u1eb9p\"}, {\"row\": 1, \"column\": 7, \"value\": 0.0, \"row_token\": \"001 H\\u00f4m\", \"col_token\": \"007 tr\\u1eddi\"}, {\"row\": 1, \"column\": 8, \"value\": 0.0, \"row_token\": \"001 H\\u00f4m\", \"col_token\": \"008 </s>\"}, {\"row\": 2, \"column\": 0, \"value\": 0.7909576296806335, \"row_token\": \"002 nay\", \"col_token\": \"000 <s>\"}, {\"row\": 2, \"column\": 1, \"value\": 0.042001791298389435, \"row_token\": \"002 nay\", \"col_token\": \"001 H\\u00f4m\"}, {\"row\": 2, \"column\": 2, \"value\": 0.16704055666923523, \"row_token\": \"002 nay\", \"col_token\": \"002 nay\"}, {\"row\": 2, \"column\": 3, \"value\": 0.0, \"row_token\": \"002 nay\", \"col_token\": \"003 l\\u00e0\"}, {\"row\": 2, \"column\": 4, \"value\": 0.0, \"row_token\": \"002 nay\", \"col_token\": \"004 m\\u1ed9t\"}, {\"row\": 2, \"column\": 5, \"value\": 0.0, \"row_token\": \"002 nay\", \"col_token\": \"005 ng\\u00e0y\"}, {\"row\": 2, \"column\": 6, \"value\": 0.0, \"row_token\": \"002 nay\", \"col_token\": \"006 \\u0111\\u1eb9p\"}, {\"row\": 2, \"column\": 7, \"value\": 0.0, \"row_token\": \"002 nay\", \"col_token\": \"007 tr\\u1eddi\"}, {\"row\": 2, \"column\": 8, \"value\": 0.0, \"row_token\": \"002 nay\", \"col_token\": \"008 </s>\"}, {\"row\": 3, \"column\": 0, \"value\": 0.04878779873251915, \"row_token\": \"003 l\\u00e0\", \"col_token\": \"000 <s>\"}, {\"row\": 3, \"column\": 1, \"value\": 0.05148348584771156, \"row_token\": \"003 l\\u00e0\", \"col_token\": \"001 H\\u00f4m\"}, {\"row\": 3, \"column\": 2, \"value\": 0.8823968768119812, \"row_token\": \"003 l\\u00e0\", \"col_token\": \"002 nay\"}, {\"row\": 3, \"column\": 3, \"value\": 0.017331823706626892, \"row_token\": \"003 l\\u00e0\", \"col_token\": \"003 l\\u00e0\"}, {\"row\": 3, \"column\": 4, \"value\": 0.0, \"row_token\": \"003 l\\u00e0\", \"col_token\": \"004 m\\u1ed9t\"}, {\"row\": 3, \"column\": 5, \"value\": 0.0, \"row_token\": \"003 l\\u00e0\", \"col_token\": \"005 ng\\u00e0y\"}, {\"row\": 3, \"column\": 6, \"value\": 0.0, \"row_token\": \"003 l\\u00e0\", \"col_token\": \"006 \\u0111\\u1eb9p\"}, {\"row\": 3, \"column\": 7, \"value\": 0.0, \"row_token\": \"003 l\\u00e0\", \"col_token\": \"007 tr\\u1eddi\"}, {\"row\": 3, \"column\": 8, \"value\": 0.0, \"row_token\": \"003 l\\u00e0\", \"col_token\": \"008 </s>\"}, {\"row\": 4, \"column\": 0, \"value\": 0.009804105386137962, \"row_token\": \"004 m\\u1ed9t\", \"col_token\": \"000 <s>\"}, {\"row\": 4, \"column\": 1, \"value\": 0.018484659492969513, \"row_token\": \"004 m\\u1ed9t\", \"col_token\": \"001 H\\u00f4m\"}, {\"row\": 4, \"column\": 2, \"value\": 0.19210344552993774, \"row_token\": \"004 m\\u1ed9t\", \"col_token\": \"002 nay\"}, {\"row\": 4, \"column\": 3, \"value\": 0.7318156361579895, \"row_token\": \"004 m\\u1ed9t\", \"col_token\": \"003 l\\u00e0\"}, {\"row\": 4, \"column\": 4, \"value\": 0.04779210686683655, \"row_token\": \"004 m\\u1ed9t\", \"col_token\": \"004 m\\u1ed9t\"}, {\"row\": 4, \"column\": 5, \"value\": 0.0, \"row_token\": \"004 m\\u1ed9t\", \"col_token\": \"005 ng\\u00e0y\"}, {\"row\": 4, \"column\": 6, \"value\": 0.0, \"row_token\": \"004 m\\u1ed9t\", \"col_token\": \"006 \\u0111\\u1eb9p\"}, {\"row\": 4, \"column\": 7, \"value\": 0.0, \"row_token\": \"004 m\\u1ed9t\", \"col_token\": \"007 tr\\u1eddi\"}, {\"row\": 4, \"column\": 8, \"value\": 0.0, \"row_token\": \"004 m\\u1ed9t\", \"col_token\": \"008 </s>\"}, {\"row\": 5, \"column\": 0, \"value\": 0.020490508526563644, \"row_token\": \"005 ng\\u00e0y\", \"col_token\": \"000 <s>\"}, {\"row\": 5, \"column\": 1, \"value\": 0.00546717643737793, \"row_token\": \"005 ng\\u00e0y\", \"col_token\": \"001 H\\u00f4m\"}, {\"row\": 5, \"column\": 2, \"value\": 0.025945967063307762, \"row_token\": \"005 ng\\u00e0y\", \"col_token\": \"002 nay\"}, {\"row\": 5, \"column\": 3, \"value\": 0.04226238280534744, \"row_token\": \"005 ng\\u00e0y\", \"col_token\": \"003 l\\u00e0\"}, {\"row\": 5, \"column\": 4, \"value\": 0.8742616772651672, \"row_token\": \"005 ng\\u00e0y\", \"col_token\": \"004 m\\u1ed9t\"}, {\"row\": 5, \"column\": 5, \"value\": 0.031572263687849045, \"row_token\": \"005 ng\\u00e0y\", \"col_token\": \"005 ng\\u00e0y\"}, {\"row\": 5, \"column\": 6, \"value\": 0.0, \"row_token\": \"005 ng\\u00e0y\", \"col_token\": \"006 \\u0111\\u1eb9p\"}, {\"row\": 5, \"column\": 7, \"value\": 0.0, \"row_token\": \"005 ng\\u00e0y\", \"col_token\": \"007 tr\\u1eddi\"}, {\"row\": 5, \"column\": 8, \"value\": 0.0, \"row_token\": \"005 ng\\u00e0y\", \"col_token\": \"008 </s>\"}, {\"row\": 6, \"column\": 0, \"value\": 0.06792628020048141, \"row_token\": \"006 \\u0111\\u1eb9p\", \"col_token\": \"000 <s>\"}, {\"row\": 6, \"column\": 1, \"value\": 0.008797378279268742, \"row_token\": \"006 \\u0111\\u1eb9p\", \"col_token\": \"001 H\\u00f4m\"}, {\"row\": 6, \"column\": 2, \"value\": 0.00685186218470335, \"row_token\": \"006 \\u0111\\u1eb9p\", \"col_token\": \"002 nay\"}, {\"row\": 6, \"column\": 3, \"value\": 0.028346506878733635, \"row_token\": \"006 \\u0111\\u1eb9p\", \"col_token\": \"003 l\\u00e0\"}, {\"row\": 6, \"column\": 4, \"value\": 0.07592903822660446, \"row_token\": \"006 \\u0111\\u1eb9p\", \"col_token\": \"004 m\\u1ed9t\"}, {\"row\": 6, \"column\": 5, \"value\": 0.10187382996082306, \"row_token\": \"006 \\u0111\\u1eb9p\", \"col_token\": \"005 ng\\u00e0y\"}, {\"row\": 6, \"column\": 6, \"value\": 0.7102751135826111, \"row_token\": \"006 \\u0111\\u1eb9p\", \"col_token\": \"006 \\u0111\\u1eb9p\"}, {\"row\": 6, \"column\": 7, \"value\": 0.0, \"row_token\": \"006 \\u0111\\u1eb9p\", \"col_token\": \"007 tr\\u1eddi\"}, {\"row\": 6, \"column\": 8, \"value\": 0.0, \"row_token\": \"006 \\u0111\\u1eb9p\", \"col_token\": \"008 </s>\"}, {\"row\": 7, \"column\": 0, \"value\": 0.0021494433749467134, \"row_token\": \"007 tr\\u1eddi\", \"col_token\": \"000 <s>\"}, {\"row\": 7, \"column\": 1, \"value\": 2.8013768314849585e-05, \"row_token\": \"007 tr\\u1eddi\", \"col_token\": \"001 H\\u00f4m\"}, {\"row\": 7, \"column\": 2, \"value\": 2.5701974664116278e-05, \"row_token\": \"007 tr\\u1eddi\", \"col_token\": \"002 nay\"}, {\"row\": 7, \"column\": 3, \"value\": 1.0069531526823994e-05, \"row_token\": \"007 tr\\u1eddi\", \"col_token\": \"003 l\\u00e0\"}, {\"row\": 7, \"column\": 4, \"value\": 6.775437941541895e-05, \"row_token\": \"007 tr\\u1eddi\", \"col_token\": \"004 m\\u1ed9t\"}, {\"row\": 7, \"column\": 5, \"value\": 0.011697160080075264, \"row_token\": \"007 tr\\u1eddi\", \"col_token\": \"005 ng\\u00e0y\"}, {\"row\": 7, \"column\": 6, \"value\": 0.4645061492919922, \"row_token\": \"007 tr\\u1eddi\", \"col_token\": \"006 \\u0111\\u1eb9p\"}, {\"row\": 7, \"column\": 7, \"value\": 0.5215156674385071, \"row_token\": \"007 tr\\u1eddi\", \"col_token\": \"007 tr\\u1eddi\"}, {\"row\": 7, \"column\": 8, \"value\": 0.0, \"row_token\": \"007 tr\\u1eddi\", \"col_token\": \"008 </s>\"}, {\"row\": 8, \"column\": 0, \"value\": 0.0011199263390153646, \"row_token\": \"008 </s>\", \"col_token\": \"000 <s>\"}, {\"row\": 8, \"column\": 1, \"value\": 6.327616574708372e-05, \"row_token\": \"008 </s>\", \"col_token\": \"001 H\\u00f4m\"}, {\"row\": 8, \"column\": 2, \"value\": 4.6280198148451746e-05, \"row_token\": \"008 </s>\", \"col_token\": \"002 nay\"}, {\"row\": 8, \"column\": 3, \"value\": 2.733091378104291e-06, \"row_token\": \"008 </s>\", \"col_token\": \"003 l\\u00e0\"}, {\"row\": 8, \"column\": 4, \"value\": 1.231396936418605e-06, \"row_token\": \"008 </s>\", \"col_token\": \"004 m\\u1ed9t\"}, {\"row\": 8, \"column\": 5, \"value\": 0.00017692672554403543, \"row_token\": \"008 </s>\", \"col_token\": \"005 ng\\u00e0y\"}, {\"row\": 8, \"column\": 6, \"value\": 0.02805924601852894, \"row_token\": \"008 </s>\", \"col_token\": \"006 \\u0111\\u1eb9p\"}, {\"row\": 8, \"column\": 7, \"value\": 0.6196632385253906, \"row_token\": \"008 </s>\", \"col_token\": \"007 tr\\u1eddi\"}, {\"row\": 8, \"column\": 8, \"value\": 0.3508671522140503, \"row_token\": \"008 </s>\", \"col_token\": \"008 </s>\"}], \"data-232a3cbfb032617cbc3db052cba9e3db\": [{\"row\": 0, \"column\": 0, \"value\": 1.0, \"row_token\": \"000 <s>\", \"col_token\": \"000 <s>\"}, {\"row\": 0, \"column\": 1, \"value\": 0.0, \"row_token\": \"000 <s>\", \"col_token\": \"001 H\\u00f4m\"}, {\"row\": 0, \"column\": 2, \"value\": 0.0, \"row_token\": \"000 <s>\", \"col_token\": \"002 nay\"}, {\"row\": 0, \"column\": 3, \"value\": 0.0, \"row_token\": \"000 <s>\", \"col_token\": \"003 l\\u00e0\"}, {\"row\": 0, \"column\": 4, \"value\": 0.0, \"row_token\": \"000 <s>\", \"col_token\": \"004 m\\u1ed9t\"}, {\"row\": 0, \"column\": 5, \"value\": 0.0, \"row_token\": \"000 <s>\", \"col_token\": \"005 ng\\u00e0y\"}, {\"row\": 0, \"column\": 6, \"value\": 0.0, \"row_token\": \"000 <s>\", \"col_token\": \"006 \\u0111\\u1eb9p\"}, {\"row\": 0, \"column\": 7, \"value\": 0.0, \"row_token\": \"000 <s>\", \"col_token\": \"007 tr\\u1eddi\"}, {\"row\": 0, \"column\": 8, \"value\": 0.0, \"row_token\": \"000 <s>\", \"col_token\": \"008 </s>\"}, {\"row\": 1, \"column\": 0, \"value\": 0.6447136402130127, \"row_token\": \"001 H\\u00f4m\", \"col_token\": \"000 <s>\"}, {\"row\": 1, \"column\": 1, \"value\": 0.3552863895893097, \"row_token\": \"001 H\\u00f4m\", \"col_token\": \"001 H\\u00f4m\"}, {\"row\": 1, \"column\": 2, \"value\": 0.0, \"row_token\": \"001 H\\u00f4m\", \"col_token\": \"002 nay\"}, {\"row\": 1, \"column\": 3, \"value\": 0.0, \"row_token\": \"001 H\\u00f4m\", \"col_token\": \"003 l\\u00e0\"}, {\"row\": 1, \"column\": 4, \"value\": 0.0, \"row_token\": \"001 H\\u00f4m\", \"col_token\": \"004 m\\u1ed9t\"}, {\"row\": 1, \"column\": 5, \"value\": 0.0, \"row_token\": \"001 H\\u00f4m\", \"col_token\": \"005 ng\\u00e0y\"}, {\"row\": 1, \"column\": 6, \"value\": 0.0, \"row_token\": \"001 H\\u00f4m\", \"col_token\": \"006 \\u0111\\u1eb9p\"}, {\"row\": 1, \"column\": 7, \"value\": 0.0, \"row_token\": \"001 H\\u00f4m\", \"col_token\": \"007 tr\\u1eddi\"}, {\"row\": 1, \"column\": 8, \"value\": 0.0, \"row_token\": \"001 H\\u00f4m\", \"col_token\": \"008 </s>\"}, {\"row\": 2, \"column\": 0, \"value\": 0.07199254631996155, \"row_token\": \"002 nay\", \"col_token\": \"000 <s>\"}, {\"row\": 2, \"column\": 1, \"value\": 0.2186177670955658, \"row_token\": \"002 nay\", \"col_token\": \"001 H\\u00f4m\"}, {\"row\": 2, \"column\": 2, \"value\": 0.7093897461891174, \"row_token\": \"002 nay\", \"col_token\": \"002 nay\"}, {\"row\": 2, \"column\": 3, \"value\": 0.0, \"row_token\": \"002 nay\", \"col_token\": \"003 l\\u00e0\"}, {\"row\": 2, \"column\": 4, \"value\": 0.0, \"row_token\": \"002 nay\", \"col_token\": \"004 m\\u1ed9t\"}, {\"row\": 2, \"column\": 5, \"value\": 0.0, \"row_token\": \"002 nay\", \"col_token\": \"005 ng\\u00e0y\"}, {\"row\": 2, \"column\": 6, \"value\": 0.0, \"row_token\": \"002 nay\", \"col_token\": \"006 \\u0111\\u1eb9p\"}, {\"row\": 2, \"column\": 7, \"value\": 0.0, \"row_token\": \"002 nay\", \"col_token\": \"007 tr\\u1eddi\"}, {\"row\": 2, \"column\": 8, \"value\": 0.0, \"row_token\": \"002 nay\", \"col_token\": \"008 </s>\"}, {\"row\": 3, \"column\": 0, \"value\": 0.03611046448349953, \"row_token\": \"003 l\\u00e0\", \"col_token\": \"000 <s>\"}, {\"row\": 3, \"column\": 1, \"value\": 0.07386021316051483, \"row_token\": \"003 l\\u00e0\", \"col_token\": \"001 H\\u00f4m\"}, {\"row\": 3, \"column\": 2, \"value\": 0.8136720657348633, \"row_token\": \"003 l\\u00e0\", \"col_token\": \"002 nay\"}, {\"row\": 3, \"column\": 3, \"value\": 0.07635731995105743, \"row_token\": \"003 l\\u00e0\", \"col_token\": \"003 l\\u00e0\"}, {\"row\": 3, \"column\": 4, \"value\": 0.0, \"row_token\": \"003 l\\u00e0\", \"col_token\": \"004 m\\u1ed9t\"}, {\"row\": 3, \"column\": 5, \"value\": 0.0, \"row_token\": \"003 l\\u00e0\", \"col_token\": \"005 ng\\u00e0y\"}, {\"row\": 3, \"column\": 6, \"value\": 0.0, \"row_token\": \"003 l\\u00e0\", \"col_token\": \"006 \\u0111\\u1eb9p\"}, {\"row\": 3, \"column\": 7, \"value\": 0.0, \"row_token\": \"003 l\\u00e0\", \"col_token\": \"007 tr\\u1eddi\"}, {\"row\": 3, \"column\": 8, \"value\": 0.0, \"row_token\": \"003 l\\u00e0\", \"col_token\": \"008 </s>\"}, {\"row\": 4, \"column\": 0, \"value\": 0.07354218512773514, \"row_token\": \"004 m\\u1ed9t\", \"col_token\": \"000 <s>\"}, {\"row\": 4, \"column\": 1, \"value\": 0.035452842712402344, \"row_token\": \"004 m\\u1ed9t\", \"col_token\": \"001 H\\u00f4m\"}, {\"row\": 4, \"column\": 2, \"value\": 0.519519031047821, \"row_token\": \"004 m\\u1ed9t\", \"col_token\": \"002 nay\"}, {\"row\": 4, \"column\": 3, \"value\": 0.15746991336345673, \"row_token\": \"004 m\\u1ed9t\", \"col_token\": \"003 l\\u00e0\"}, {\"row\": 4, \"column\": 4, \"value\": 0.21401599049568176, \"row_token\": \"004 m\\u1ed9t\", \"col_token\": \"004 m\\u1ed9t\"}, {\"row\": 4, \"column\": 5, \"value\": 0.0, \"row_token\": \"004 m\\u1ed9t\", \"col_token\": \"005 ng\\u00e0y\"}, {\"row\": 4, \"column\": 6, \"value\": 0.0, \"row_token\": \"004 m\\u1ed9t\", \"col_token\": \"006 \\u0111\\u1eb9p\"}, {\"row\": 4, \"column\": 7, \"value\": 0.0, \"row_token\": \"004 m\\u1ed9t\", \"col_token\": \"007 tr\\u1eddi\"}, {\"row\": 4, \"column\": 8, \"value\": 0.0, \"row_token\": \"004 m\\u1ed9t\", \"col_token\": \"008 </s>\"}, {\"row\": 5, \"column\": 0, \"value\": 0.0575738251209259, \"row_token\": \"005 ng\\u00e0y\", \"col_token\": \"000 <s>\"}, {\"row\": 5, \"column\": 1, \"value\": 0.001303785596974194, \"row_token\": \"005 ng\\u00e0y\", \"col_token\": \"001 H\\u00f4m\"}, {\"row\": 5, \"column\": 2, \"value\": 0.0074006179347634315, \"row_token\": \"005 ng\\u00e0y\", \"col_token\": \"002 nay\"}, {\"row\": 5, \"column\": 3, \"value\": 0.0061285411939024925, \"row_token\": \"005 ng\\u00e0y\", \"col_token\": \"003 l\\u00e0\"}, {\"row\": 5, \"column\": 4, \"value\": 0.07709138840436935, \"row_token\": \"005 ng\\u00e0y\", \"col_token\": \"004 m\\u1ed9t\"}, {\"row\": 5, \"column\": 5, \"value\": 0.8505018949508667, \"row_token\": \"005 ng\\u00e0y\", \"col_token\": \"005 ng\\u00e0y\"}, {\"row\": 5, \"column\": 6, \"value\": 0.0, \"row_token\": \"005 ng\\u00e0y\", \"col_token\": \"006 \\u0111\\u1eb9p\"}, {\"row\": 5, \"column\": 7, \"value\": 0.0, \"row_token\": \"005 ng\\u00e0y\", \"col_token\": \"007 tr\\u1eddi\"}, {\"row\": 5, \"column\": 8, \"value\": 0.0, \"row_token\": \"005 ng\\u00e0y\", \"col_token\": \"008 </s>\"}, {\"row\": 6, \"column\": 0, \"value\": 0.68670654296875, \"row_token\": \"006 \\u0111\\u1eb9p\", \"col_token\": \"000 <s>\"}, {\"row\": 6, \"column\": 1, \"value\": 0.014615708962082863, \"row_token\": \"006 \\u0111\\u1eb9p\", \"col_token\": \"001 H\\u00f4m\"}, {\"row\": 6, \"column\": 2, \"value\": 0.0026648438069969416, \"row_token\": \"006 \\u0111\\u1eb9p\", \"col_token\": \"002 nay\"}, {\"row\": 6, \"column\": 3, \"value\": 0.0055433535017073154, \"row_token\": \"006 \\u0111\\u1eb9p\", \"col_token\": \"003 l\\u00e0\"}, {\"row\": 6, \"column\": 4, \"value\": 0.029549390077590942, \"row_token\": \"006 \\u0111\\u1eb9p\", \"col_token\": \"004 m\\u1ed9t\"}, {\"row\": 6, \"column\": 5, \"value\": 0.004848510026931763, \"row_token\": \"006 \\u0111\\u1eb9p\", \"col_token\": \"005 ng\\u00e0y\"}, {\"row\": 6, \"column\": 6, \"value\": 0.25607165694236755, \"row_token\": \"006 \\u0111\\u1eb9p\", \"col_token\": \"006 \\u0111\\u1eb9p\"}, {\"row\": 6, \"column\": 7, \"value\": 0.0, \"row_token\": \"006 \\u0111\\u1eb9p\", \"col_token\": \"007 tr\\u1eddi\"}, {\"row\": 6, \"column\": 8, \"value\": 0.0, \"row_token\": \"006 \\u0111\\u1eb9p\", \"col_token\": \"008 </s>\"}, {\"row\": 7, \"column\": 0, \"value\": 0.0016295014647766948, \"row_token\": \"007 tr\\u1eddi\", \"col_token\": \"000 <s>\"}, {\"row\": 7, \"column\": 1, \"value\": 0.00030527927447110415, \"row_token\": \"007 tr\\u1eddi\", \"col_token\": \"001 H\\u00f4m\"}, {\"row\": 7, \"column\": 2, \"value\": 0.0019042018102481961, \"row_token\": \"007 tr\\u1eddi\", \"col_token\": \"002 nay\"}, {\"row\": 7, \"column\": 3, \"value\": 0.0011709483806043863, \"row_token\": \"007 tr\\u1eddi\", \"col_token\": \"003 l\\u00e0\"}, {\"row\": 7, \"column\": 4, \"value\": 0.014358483254909515, \"row_token\": \"007 tr\\u1eddi\", \"col_token\": \"004 m\\u1ed9t\"}, {\"row\": 7, \"column\": 5, \"value\": 0.027219435200095177, \"row_token\": \"007 tr\\u1eddi\", \"col_token\": \"005 ng\\u00e0y\"}, {\"row\": 7, \"column\": 6, \"value\": 0.030514394864439964, \"row_token\": \"007 tr\\u1eddi\", \"col_token\": \"006 \\u0111\\u1eb9p\"}, {\"row\": 7, \"column\": 7, \"value\": 0.9228977560997009, \"row_token\": \"007 tr\\u1eddi\", \"col_token\": \"007 tr\\u1eddi\"}, {\"row\": 7, \"column\": 8, \"value\": 0.0, \"row_token\": \"007 tr\\u1eddi\", \"col_token\": \"008 </s>\"}, {\"row\": 8, \"column\": 0, \"value\": 0.0028837076388299465, \"row_token\": \"008 </s>\", \"col_token\": \"000 <s>\"}, {\"row\": 8, \"column\": 1, \"value\": 0.00028843028121627867, \"row_token\": \"008 </s>\", \"col_token\": \"001 H\\u00f4m\"}, {\"row\": 8, \"column\": 2, \"value\": 0.0012701612431555986, \"row_token\": \"008 </s>\", \"col_token\": \"002 nay\"}, {\"row\": 8, \"column\": 3, \"value\": 0.0006804020958952606, \"row_token\": \"008 </s>\", \"col_token\": \"003 l\\u00e0\"}, {\"row\": 8, \"column\": 4, \"value\": 0.01564987190067768, \"row_token\": \"008 </s>\", \"col_token\": \"004 m\\u1ed9t\"}, {\"row\": 8, \"column\": 5, \"value\": 0.03237302973866463, \"row_token\": \"008 </s>\", \"col_token\": \"005 ng\\u00e0y\"}, {\"row\": 8, \"column\": 6, \"value\": 0.024689244106411934, \"row_token\": \"008 </s>\", \"col_token\": \"006 \\u0111\\u1eb9p\"}, {\"row\": 8, \"column\": 7, \"value\": 0.5956224203109741, \"row_token\": \"008 </s>\", \"col_token\": \"007 tr\\u1eddi\"}, {\"row\": 8, \"column\": 8, \"value\": 0.32654276490211487, \"row_token\": \"008 </s>\", \"col_token\": \"008 </s>\"}], \"data-e670588a12bb8d0ff087c3200d47839b\": [{\"row\": 0, \"column\": 0, \"value\": 1.0, \"row_token\": \"000 <s>\", \"col_token\": \"000 <s>\"}, {\"row\": 0, \"column\": 1, \"value\": 0.0, \"row_token\": \"000 <s>\", \"col_token\": \"001 H\\u00f4m\"}, {\"row\": 0, \"column\": 2, \"value\": 0.0, \"row_token\": \"000 <s>\", \"col_token\": \"002 nay\"}, {\"row\": 0, \"column\": 3, \"value\": 0.0, \"row_token\": \"000 <s>\", \"col_token\": \"003 l\\u00e0\"}, {\"row\": 0, \"column\": 4, \"value\": 0.0, \"row_token\": \"000 <s>\", \"col_token\": \"004 m\\u1ed9t\"}, {\"row\": 0, \"column\": 5, \"value\": 0.0, \"row_token\": \"000 <s>\", \"col_token\": \"005 ng\\u00e0y\"}, {\"row\": 0, \"column\": 6, \"value\": 0.0, \"row_token\": \"000 <s>\", \"col_token\": \"006 \\u0111\\u1eb9p\"}, {\"row\": 0, \"column\": 7, \"value\": 0.0, \"row_token\": \"000 <s>\", \"col_token\": \"007 tr\\u1eddi\"}, {\"row\": 0, \"column\": 8, \"value\": 0.0, \"row_token\": \"000 <s>\", \"col_token\": \"008 </s>\"}, {\"row\": 1, \"column\": 0, \"value\": 0.9312993288040161, \"row_token\": \"001 H\\u00f4m\", \"col_token\": \"000 <s>\"}, {\"row\": 1, \"column\": 1, \"value\": 0.06870070099830627, \"row_token\": \"001 H\\u00f4m\", \"col_token\": \"001 H\\u00f4m\"}, {\"row\": 1, \"column\": 2, \"value\": 0.0, \"row_token\": \"001 H\\u00f4m\", \"col_token\": \"002 nay\"}, {\"row\": 1, \"column\": 3, \"value\": 0.0, \"row_token\": \"001 H\\u00f4m\", \"col_token\": \"003 l\\u00e0\"}, {\"row\": 1, \"column\": 4, \"value\": 0.0, \"row_token\": \"001 H\\u00f4m\", \"col_token\": \"004 m\\u1ed9t\"}, {\"row\": 1, \"column\": 5, \"value\": 0.0, \"row_token\": \"001 H\\u00f4m\", \"col_token\": \"005 ng\\u00e0y\"}, {\"row\": 1, \"column\": 6, \"value\": 0.0, \"row_token\": \"001 H\\u00f4m\", \"col_token\": \"006 \\u0111\\u1eb9p\"}, {\"row\": 1, \"column\": 7, \"value\": 0.0, \"row_token\": \"001 H\\u00f4m\", \"col_token\": \"007 tr\\u1eddi\"}, {\"row\": 1, \"column\": 8, \"value\": 0.0, \"row_token\": \"001 H\\u00f4m\", \"col_token\": \"008 </s>\"}, {\"row\": 2, \"column\": 0, \"value\": 0.6352553367614746, \"row_token\": \"002 nay\", \"col_token\": \"000 <s>\"}, {\"row\": 2, \"column\": 1, \"value\": 0.0715930238366127, \"row_token\": \"002 nay\", \"col_token\": \"001 H\\u00f4m\"}, {\"row\": 2, \"column\": 2, \"value\": 0.2931516170501709, \"row_token\": \"002 nay\", \"col_token\": \"002 nay\"}, {\"row\": 2, \"column\": 3, \"value\": 0.0, \"row_token\": \"002 nay\", \"col_token\": \"003 l\\u00e0\"}, {\"row\": 2, \"column\": 4, \"value\": 0.0, \"row_token\": \"002 nay\", \"col_token\": \"004 m\\u1ed9t\"}, {\"row\": 2, \"column\": 5, \"value\": 0.0, \"row_token\": \"002 nay\", \"col_token\": \"005 ng\\u00e0y\"}, {\"row\": 2, \"column\": 6, \"value\": 0.0, \"row_token\": \"002 nay\", \"col_token\": \"006 \\u0111\\u1eb9p\"}, {\"row\": 2, \"column\": 7, \"value\": 0.0, \"row_token\": \"002 nay\", \"col_token\": \"007 tr\\u1eddi\"}, {\"row\": 2, \"column\": 8, \"value\": 0.0, \"row_token\": \"002 nay\", \"col_token\": \"008 </s>\"}, {\"row\": 3, \"column\": 0, \"value\": 0.05176230147480965, \"row_token\": \"003 l\\u00e0\", \"col_token\": \"000 <s>\"}, {\"row\": 3, \"column\": 1, \"value\": 0.016647441312670708, \"row_token\": \"003 l\\u00e0\", \"col_token\": \"001 H\\u00f4m\"}, {\"row\": 3, \"column\": 2, \"value\": 0.053647950291633606, \"row_token\": \"003 l\\u00e0\", \"col_token\": \"002 nay\"}, {\"row\": 3, \"column\": 3, \"value\": 0.8779423236846924, \"row_token\": \"003 l\\u00e0\", \"col_token\": \"003 l\\u00e0\"}, {\"row\": 3, \"column\": 4, \"value\": 0.0, \"row_token\": \"003 l\\u00e0\", \"col_token\": \"004 m\\u1ed9t\"}, {\"row\": 3, \"column\": 5, \"value\": 0.0, \"row_token\": \"003 l\\u00e0\", \"col_token\": \"005 ng\\u00e0y\"}, {\"row\": 3, \"column\": 6, \"value\": 0.0, \"row_token\": \"003 l\\u00e0\", \"col_token\": \"006 \\u0111\\u1eb9p\"}, {\"row\": 3, \"column\": 7, \"value\": 0.0, \"row_token\": \"003 l\\u00e0\", \"col_token\": \"007 tr\\u1eddi\"}, {\"row\": 3, \"column\": 8, \"value\": 0.0, \"row_token\": \"003 l\\u00e0\", \"col_token\": \"008 </s>\"}, {\"row\": 4, \"column\": 0, \"value\": 0.0018638299079611897, \"row_token\": \"004 m\\u1ed9t\", \"col_token\": \"000 <s>\"}, {\"row\": 4, \"column\": 1, \"value\": 0.0018854016670957208, \"row_token\": \"004 m\\u1ed9t\", \"col_token\": \"001 H\\u00f4m\"}, {\"row\": 4, \"column\": 2, \"value\": 0.0038385610096156597, \"row_token\": \"004 m\\u1ed9t\", \"col_token\": \"002 nay\"}, {\"row\": 4, \"column\": 3, \"value\": 0.13533125817775726, \"row_token\": \"004 m\\u1ed9t\", \"col_token\": \"003 l\\u00e0\"}, {\"row\": 4, \"column\": 4, \"value\": 0.8570809960365295, \"row_token\": \"004 m\\u1ed9t\", \"col_token\": \"004 m\\u1ed9t\"}, {\"row\": 4, \"column\": 5, \"value\": 0.0, \"row_token\": \"004 m\\u1ed9t\", \"col_token\": \"005 ng\\u00e0y\"}, {\"row\": 4, \"column\": 6, \"value\": 0.0, \"row_token\": \"004 m\\u1ed9t\", \"col_token\": \"006 \\u0111\\u1eb9p\"}, {\"row\": 4, \"column\": 7, \"value\": 0.0, \"row_token\": \"004 m\\u1ed9t\", \"col_token\": \"007 tr\\u1eddi\"}, {\"row\": 4, \"column\": 8, \"value\": 0.0, \"row_token\": \"004 m\\u1ed9t\", \"col_token\": \"008 </s>\"}, {\"row\": 5, \"column\": 0, \"value\": 0.3168761432170868, \"row_token\": \"005 ng\\u00e0y\", \"col_token\": \"000 <s>\"}, {\"row\": 5, \"column\": 1, \"value\": 0.023754803463816643, \"row_token\": \"005 ng\\u00e0y\", \"col_token\": \"001 H\\u00f4m\"}, {\"row\": 5, \"column\": 2, \"value\": 0.11699136346578598, \"row_token\": \"005 ng\\u00e0y\", \"col_token\": \"002 nay\"}, {\"row\": 5, \"column\": 3, \"value\": 0.05598115921020508, \"row_token\": \"005 ng\\u00e0y\", \"col_token\": \"003 l\\u00e0\"}, {\"row\": 5, \"column\": 4, \"value\": 0.08844369649887085, \"row_token\": \"005 ng\\u00e0y\", \"col_token\": \"004 m\\u1ed9t\"}, {\"row\": 5, \"column\": 5, \"value\": 0.3979527950286865, \"row_token\": \"005 ng\\u00e0y\", \"col_token\": \"005 ng\\u00e0y\"}, {\"row\": 5, \"column\": 6, \"value\": 0.0, \"row_token\": \"005 ng\\u00e0y\", \"col_token\": \"006 \\u0111\\u1eb9p\"}, {\"row\": 5, \"column\": 7, \"value\": 0.0, \"row_token\": \"005 ng\\u00e0y\", \"col_token\": \"007 tr\\u1eddi\"}, {\"row\": 5, \"column\": 8, \"value\": 0.0, \"row_token\": \"005 ng\\u00e0y\", \"col_token\": \"008 </s>\"}, {\"row\": 6, \"column\": 0, \"value\": 0.47236189246177673, \"row_token\": \"006 \\u0111\\u1eb9p\", \"col_token\": \"000 <s>\"}, {\"row\": 6, \"column\": 1, \"value\": 0.06333141028881073, \"row_token\": \"006 \\u0111\\u1eb9p\", \"col_token\": \"001 H\\u00f4m\"}, {\"row\": 6, \"column\": 2, \"value\": 0.15256032347679138, \"row_token\": \"006 \\u0111\\u1eb9p\", \"col_token\": \"002 nay\"}, {\"row\": 6, \"column\": 3, \"value\": 0.010989062488079071, \"row_token\": \"006 \\u0111\\u1eb9p\", \"col_token\": \"003 l\\u00e0\"}, {\"row\": 6, \"column\": 4, \"value\": 0.005960978101938963, \"row_token\": \"006 \\u0111\\u1eb9p\", \"col_token\": \"004 m\\u1ed9t\"}, {\"row\": 6, \"column\": 5, \"value\": 0.02239583246409893, \"row_token\": \"006 \\u0111\\u1eb9p\", \"col_token\": \"005 ng\\u00e0y\"}, {\"row\": 6, \"column\": 6, \"value\": 0.272400438785553, \"row_token\": \"006 \\u0111\\u1eb9p\", \"col_token\": \"006 \\u0111\\u1eb9p\"}, {\"row\": 6, \"column\": 7, \"value\": 0.0, \"row_token\": \"006 \\u0111\\u1eb9p\", \"col_token\": \"007 tr\\u1eddi\"}, {\"row\": 6, \"column\": 8, \"value\": 0.0, \"row_token\": \"006 \\u0111\\u1eb9p\", \"col_token\": \"008 </s>\"}, {\"row\": 7, \"column\": 0, \"value\": 0.04027030989527702, \"row_token\": \"007 tr\\u1eddi\", \"col_token\": \"000 <s>\"}, {\"row\": 7, \"column\": 1, \"value\": 0.09283945709466934, \"row_token\": \"007 tr\\u1eddi\", \"col_token\": \"001 H\\u00f4m\"}, {\"row\": 7, \"column\": 2, \"value\": 0.04352801293134689, \"row_token\": \"007 tr\\u1eddi\", \"col_token\": \"002 nay\"}, {\"row\": 7, \"column\": 3, \"value\": 0.007537903729826212, \"row_token\": \"007 tr\\u1eddi\", \"col_token\": \"003 l\\u00e0\"}, {\"row\": 7, \"column\": 4, \"value\": 0.011306457221508026, \"row_token\": \"007 tr\\u1eddi\", \"col_token\": \"004 m\\u1ed9t\"}, {\"row\": 7, \"column\": 5, \"value\": 0.11055703461170197, \"row_token\": \"007 tr\\u1eddi\", \"col_token\": \"005 ng\\u00e0y\"}, {\"row\": 7, \"column\": 6, \"value\": 0.03288227319717407, \"row_token\": \"007 tr\\u1eddi\", \"col_token\": \"006 \\u0111\\u1eb9p\"}, {\"row\": 7, \"column\": 7, \"value\": 0.6610785126686096, \"row_token\": \"007 tr\\u1eddi\", \"col_token\": \"007 tr\\u1eddi\"}, {\"row\": 7, \"column\": 8, \"value\": 0.0, \"row_token\": \"007 tr\\u1eddi\", \"col_token\": \"008 </s>\"}, {\"row\": 8, \"column\": 0, \"value\": 0.01680239476263523, \"row_token\": \"008 </s>\", \"col_token\": \"000 <s>\"}, {\"row\": 8, \"column\": 1, \"value\": 0.03479784354567528, \"row_token\": \"008 </s>\", \"col_token\": \"001 H\\u00f4m\"}, {\"row\": 8, \"column\": 2, \"value\": 0.04484744369983673, \"row_token\": \"008 </s>\", \"col_token\": \"002 nay\"}, {\"row\": 8, \"column\": 3, \"value\": 0.006209195591509342, \"row_token\": \"008 </s>\", \"col_token\": \"003 l\\u00e0\"}, {\"row\": 8, \"column\": 4, \"value\": 0.005843617022037506, \"row_token\": \"008 </s>\", \"col_token\": \"004 m\\u1ed9t\"}, {\"row\": 8, \"column\": 5, \"value\": 0.04131140187382698, \"row_token\": \"008 </s>\", \"col_token\": \"005 ng\\u00e0y\"}, {\"row\": 8, \"column\": 6, \"value\": 0.013270793482661247, \"row_token\": \"008 </s>\", \"col_token\": \"006 \\u0111\\u1eb9p\"}, {\"row\": 8, \"column\": 7, \"value\": 0.24888943135738373, \"row_token\": \"008 </s>\", \"col_token\": \"007 tr\\u1eddi\"}, {\"row\": 8, \"column\": 8, \"value\": 0.5880278944969177, \"row_token\": \"008 </s>\", \"col_token\": \"008 </s>\"}], \"data-1281e0d1e4fd80710de964801c837fae\": [{\"row\": 0, \"column\": 0, \"value\": 1.0, \"row_token\": \"000 <s>\", \"col_token\": \"000 <s>\"}, {\"row\": 0, \"column\": 1, \"value\": 0.0, \"row_token\": \"000 <s>\", \"col_token\": \"001 H\\u00f4m\"}, {\"row\": 0, \"column\": 2, \"value\": 0.0, \"row_token\": \"000 <s>\", \"col_token\": \"002 nay\"}, {\"row\": 0, \"column\": 3, \"value\": 0.0, \"row_token\": \"000 <s>\", \"col_token\": \"003 l\\u00e0\"}, {\"row\": 0, \"column\": 4, \"value\": 0.0, \"row_token\": \"000 <s>\", \"col_token\": \"004 m\\u1ed9t\"}, {\"row\": 0, \"column\": 5, \"value\": 0.0, \"row_token\": \"000 <s>\", \"col_token\": \"005 ng\\u00e0y\"}, {\"row\": 0, \"column\": 6, \"value\": 0.0, \"row_token\": \"000 <s>\", \"col_token\": \"006 \\u0111\\u1eb9p\"}, {\"row\": 0, \"column\": 7, \"value\": 0.0, \"row_token\": \"000 <s>\", \"col_token\": \"007 tr\\u1eddi\"}, {\"row\": 0, \"column\": 8, \"value\": 0.0, \"row_token\": \"000 <s>\", \"col_token\": \"008 </s>\"}, {\"row\": 1, \"column\": 0, \"value\": 0.9911375045776367, \"row_token\": \"001 H\\u00f4m\", \"col_token\": \"000 <s>\"}, {\"row\": 1, \"column\": 1, \"value\": 0.008862479589879513, \"row_token\": \"001 H\\u00f4m\", \"col_token\": \"001 H\\u00f4m\"}, {\"row\": 1, \"column\": 2, \"value\": 0.0, \"row_token\": \"001 H\\u00f4m\", \"col_token\": \"002 nay\"}, {\"row\": 1, \"column\": 3, \"value\": 0.0, \"row_token\": \"001 H\\u00f4m\", \"col_token\": \"003 l\\u00e0\"}, {\"row\": 1, \"column\": 4, \"value\": 0.0, \"row_token\": \"001 H\\u00f4m\", \"col_token\": \"004 m\\u1ed9t\"}, {\"row\": 1, \"column\": 5, \"value\": 0.0, \"row_token\": \"001 H\\u00f4m\", \"col_token\": \"005 ng\\u00e0y\"}, {\"row\": 1, \"column\": 6, \"value\": 0.0, \"row_token\": \"001 H\\u00f4m\", \"col_token\": \"006 \\u0111\\u1eb9p\"}, {\"row\": 1, \"column\": 7, \"value\": 0.0, \"row_token\": \"001 H\\u00f4m\", \"col_token\": \"007 tr\\u1eddi\"}, {\"row\": 1, \"column\": 8, \"value\": 0.0, \"row_token\": \"001 H\\u00f4m\", \"col_token\": \"008 </s>\"}, {\"row\": 2, \"column\": 0, \"value\": 0.0809498131275177, \"row_token\": \"002 nay\", \"col_token\": \"000 <s>\"}, {\"row\": 2, \"column\": 1, \"value\": 0.13224661350250244, \"row_token\": \"002 nay\", \"col_token\": \"001 H\\u00f4m\"}, {\"row\": 2, \"column\": 2, \"value\": 0.7868035435676575, \"row_token\": \"002 nay\", \"col_token\": \"002 nay\"}, {\"row\": 2, \"column\": 3, \"value\": 0.0, \"row_token\": \"002 nay\", \"col_token\": \"003 l\\u00e0\"}, {\"row\": 2, \"column\": 4, \"value\": 0.0, \"row_token\": \"002 nay\", \"col_token\": \"004 m\\u1ed9t\"}, {\"row\": 2, \"column\": 5, \"value\": 0.0, \"row_token\": \"002 nay\", \"col_token\": \"005 ng\\u00e0y\"}, {\"row\": 2, \"column\": 6, \"value\": 0.0, \"row_token\": \"002 nay\", \"col_token\": \"006 \\u0111\\u1eb9p\"}, {\"row\": 2, \"column\": 7, \"value\": 0.0, \"row_token\": \"002 nay\", \"col_token\": \"007 tr\\u1eddi\"}, {\"row\": 2, \"column\": 8, \"value\": 0.0, \"row_token\": \"002 nay\", \"col_token\": \"008 </s>\"}, {\"row\": 3, \"column\": 0, \"value\": 0.008359638974070549, \"row_token\": \"003 l\\u00e0\", \"col_token\": \"000 <s>\"}, {\"row\": 3, \"column\": 1, \"value\": 0.0026392629370093346, \"row_token\": \"003 l\\u00e0\", \"col_token\": \"001 H\\u00f4m\"}, {\"row\": 3, \"column\": 2, \"value\": 0.00027973044780083, \"row_token\": \"003 l\\u00e0\", \"col_token\": \"002 nay\"}, {\"row\": 3, \"column\": 3, \"value\": 0.9887214303016663, \"row_token\": \"003 l\\u00e0\", \"col_token\": \"003 l\\u00e0\"}, {\"row\": 3, \"column\": 4, \"value\": 0.0, \"row_token\": \"003 l\\u00e0\", \"col_token\": \"004 m\\u1ed9t\"}, {\"row\": 3, \"column\": 5, \"value\": 0.0, \"row_token\": \"003 l\\u00e0\", \"col_token\": \"005 ng\\u00e0y\"}, {\"row\": 3, \"column\": 6, \"value\": 0.0, \"row_token\": \"003 l\\u00e0\", \"col_token\": \"006 \\u0111\\u1eb9p\"}, {\"row\": 3, \"column\": 7, \"value\": 0.0, \"row_token\": \"003 l\\u00e0\", \"col_token\": \"007 tr\\u1eddi\"}, {\"row\": 3, \"column\": 8, \"value\": 0.0, \"row_token\": \"003 l\\u00e0\", \"col_token\": \"008 </s>\"}, {\"row\": 4, \"column\": 0, \"value\": 0.00033797352807596326, \"row_token\": \"004 m\\u1ed9t\", \"col_token\": \"000 <s>\"}, {\"row\": 4, \"column\": 1, \"value\": 0.00011178225395269692, \"row_token\": \"004 m\\u1ed9t\", \"col_token\": \"001 H\\u00f4m\"}, {\"row\": 4, \"column\": 2, \"value\": 2.641719220264349e-06, \"row_token\": \"004 m\\u1ed9t\", \"col_token\": \"002 nay\"}, {\"row\": 4, \"column\": 3, \"value\": 0.9945743680000305, \"row_token\": \"004 m\\u1ed9t\", \"col_token\": \"003 l\\u00e0\"}, {\"row\": 4, \"column\": 4, \"value\": 0.004973286762833595, \"row_token\": \"004 m\\u1ed9t\", \"col_token\": \"004 m\\u1ed9t\"}, {\"row\": 4, \"column\": 5, \"value\": 0.0, \"row_token\": \"004 m\\u1ed9t\", \"col_token\": \"005 ng\\u00e0y\"}, {\"row\": 4, \"column\": 6, \"value\": 0.0, \"row_token\": \"004 m\\u1ed9t\", \"col_token\": \"006 \\u0111\\u1eb9p\"}, {\"row\": 4, \"column\": 7, \"value\": 0.0, \"row_token\": \"004 m\\u1ed9t\", \"col_token\": \"007 tr\\u1eddi\"}, {\"row\": 4, \"column\": 8, \"value\": 0.0, \"row_token\": \"004 m\\u1ed9t\", \"col_token\": \"008 </s>\"}, {\"row\": 5, \"column\": 0, \"value\": 0.006217265501618385, \"row_token\": \"005 ng\\u00e0y\", \"col_token\": \"000 <s>\"}, {\"row\": 5, \"column\": 1, \"value\": 0.024347662925720215, \"row_token\": \"005 ng\\u00e0y\", \"col_token\": \"001 H\\u00f4m\"}, {\"row\": 5, \"column\": 2, \"value\": 0.003146095434203744, \"row_token\": \"005 ng\\u00e0y\", \"col_token\": \"002 nay\"}, {\"row\": 5, \"column\": 3, \"value\": 0.15136846899986267, \"row_token\": \"005 ng\\u00e0y\", \"col_token\": \"003 l\\u00e0\"}, {\"row\": 5, \"column\": 4, \"value\": 0.8142331838607788, \"row_token\": \"005 ng\\u00e0y\", \"col_token\": \"004 m\\u1ed9t\"}, {\"row\": 5, \"column\": 5, \"value\": 0.0006872680969536304, \"row_token\": \"005 ng\\u00e0y\", \"col_token\": \"005 ng\\u00e0y\"}, {\"row\": 5, \"column\": 6, \"value\": 0.0, \"row_token\": \"005 ng\\u00e0y\", \"col_token\": \"006 \\u0111\\u1eb9p\"}, {\"row\": 5, \"column\": 7, \"value\": 0.0, \"row_token\": \"005 ng\\u00e0y\", \"col_token\": \"007 tr\\u1eddi\"}, {\"row\": 5, \"column\": 8, \"value\": 0.0, \"row_token\": \"005 ng\\u00e0y\", \"col_token\": \"008 </s>\"}, {\"row\": 6, \"column\": 0, \"value\": 0.2843305766582489, \"row_token\": \"006 \\u0111\\u1eb9p\", \"col_token\": \"000 <s>\"}, {\"row\": 6, \"column\": 1, \"value\": 0.10695044696331024, \"row_token\": \"006 \\u0111\\u1eb9p\", \"col_token\": \"001 H\\u00f4m\"}, {\"row\": 6, \"column\": 2, \"value\": 0.11636000126600266, \"row_token\": \"006 \\u0111\\u1eb9p\", \"col_token\": \"002 nay\"}, {\"row\": 6, \"column\": 3, \"value\": 0.24715687334537506, \"row_token\": \"006 \\u0111\\u1eb9p\", \"col_token\": \"003 l\\u00e0\"}, {\"row\": 6, \"column\": 4, \"value\": 0.18302233517169952, \"row_token\": \"006 \\u0111\\u1eb9p\", \"col_token\": \"004 m\\u1ed9t\"}, {\"row\": 6, \"column\": 5, \"value\": 0.042727991938591, \"row_token\": \"006 \\u0111\\u1eb9p\", \"col_token\": \"005 ng\\u00e0y\"}, {\"row\": 6, \"column\": 6, \"value\": 0.019451774656772614, \"row_token\": \"006 \\u0111\\u1eb9p\", \"col_token\": \"006 \\u0111\\u1eb9p\"}, {\"row\": 6, \"column\": 7, \"value\": 0.0, \"row_token\": \"006 \\u0111\\u1eb9p\", \"col_token\": \"007 tr\\u1eddi\"}, {\"row\": 6, \"column\": 8, \"value\": 0.0, \"row_token\": \"006 \\u0111\\u1eb9p\", \"col_token\": \"008 </s>\"}, {\"row\": 7, \"column\": 0, \"value\": 0.07202854752540588, \"row_token\": \"007 tr\\u1eddi\", \"col_token\": \"000 <s>\"}, {\"row\": 7, \"column\": 1, \"value\": 0.01666221022605896, \"row_token\": \"007 tr\\u1eddi\", \"col_token\": \"001 H\\u00f4m\"}, {\"row\": 7, \"column\": 2, \"value\": 0.031120723113417625, \"row_token\": \"007 tr\\u1eddi\", \"col_token\": \"002 nay\"}, {\"row\": 7, \"column\": 3, \"value\": 0.8579061627388, \"row_token\": \"007 tr\\u1eddi\", \"col_token\": \"003 l\\u00e0\"}, {\"row\": 7, \"column\": 4, \"value\": 0.0005989026976749301, \"row_token\": \"007 tr\\u1eddi\", \"col_token\": \"004 m\\u1ed9t\"}, {\"row\": 7, \"column\": 5, \"value\": 0.00031313541694544256, \"row_token\": \"007 tr\\u1eddi\", \"col_token\": \"005 ng\\u00e0y\"}, {\"row\": 7, \"column\": 6, \"value\": 0.011334522627294064, \"row_token\": \"007 tr\\u1eddi\", \"col_token\": \"006 \\u0111\\u1eb9p\"}, {\"row\": 7, \"column\": 7, \"value\": 0.010035841725766659, \"row_token\": \"007 tr\\u1eddi\", \"col_token\": \"007 tr\\u1eddi\"}, {\"row\": 7, \"column\": 8, \"value\": 0.0, \"row_token\": \"007 tr\\u1eddi\", \"col_token\": \"008 </s>\"}, {\"row\": 8, \"column\": 0, \"value\": 0.09788039326667786, \"row_token\": \"008 </s>\", \"col_token\": \"000 <s>\"}, {\"row\": 8, \"column\": 1, \"value\": 0.023187119513750076, \"row_token\": \"008 </s>\", \"col_token\": \"001 H\\u00f4m\"}, {\"row\": 8, \"column\": 2, \"value\": 0.04917149245738983, \"row_token\": \"008 </s>\", \"col_token\": \"002 nay\"}, {\"row\": 8, \"column\": 3, \"value\": 0.7985740900039673, \"row_token\": \"008 </s>\", \"col_token\": \"003 l\\u00e0\"}, {\"row\": 8, \"column\": 4, \"value\": 0.0006434411043301225, \"row_token\": \"008 </s>\", \"col_token\": \"004 m\\u1ed9t\"}, {\"row\": 8, \"column\": 5, \"value\": 0.00039190478855744004, \"row_token\": \"008 </s>\", \"col_token\": \"005 ng\\u00e0y\"}, {\"row\": 8, \"column\": 6, \"value\": 0.009921307675540447, \"row_token\": \"008 </s>\", \"col_token\": \"006 \\u0111\\u1eb9p\"}, {\"row\": 8, \"column\": 7, \"value\": 0.012425518594682217, \"row_token\": \"008 </s>\", \"col_token\": \"007 tr\\u1eddi\"}, {\"row\": 8, \"column\": 8, \"value\": 0.00780475465580821, \"row_token\": \"008 </s>\", \"col_token\": \"008 </s>\"}], \"data-a4050ca03c9b633051ed288f88006f4b\": [{\"row\": 0, \"column\": 0, \"value\": 1.0, \"row_token\": \"000 <s>\", \"col_token\": \"000 <s>\"}, {\"row\": 0, \"column\": 1, \"value\": 0.0, \"row_token\": \"000 <s>\", \"col_token\": \"001 H\\u00f4m\"}, {\"row\": 0, \"column\": 2, \"value\": 0.0, \"row_token\": \"000 <s>\", \"col_token\": \"002 nay\"}, {\"row\": 0, \"column\": 3, \"value\": 0.0, \"row_token\": \"000 <s>\", \"col_token\": \"003 l\\u00e0\"}, {\"row\": 0, \"column\": 4, \"value\": 0.0, \"row_token\": \"000 <s>\", \"col_token\": \"004 m\\u1ed9t\"}, {\"row\": 0, \"column\": 5, \"value\": 0.0, \"row_token\": \"000 <s>\", \"col_token\": \"005 ng\\u00e0y\"}, {\"row\": 0, \"column\": 6, \"value\": 0.0, \"row_token\": \"000 <s>\", \"col_token\": \"006 \\u0111\\u1eb9p\"}, {\"row\": 0, \"column\": 7, \"value\": 0.0, \"row_token\": \"000 <s>\", \"col_token\": \"007 tr\\u1eddi\"}, {\"row\": 0, \"column\": 8, \"value\": 0.0, \"row_token\": \"000 <s>\", \"col_token\": \"008 </s>\"}, {\"row\": 1, \"column\": 0, \"value\": 0.9108094573020935, \"row_token\": \"001 H\\u00f4m\", \"col_token\": \"000 <s>\"}, {\"row\": 1, \"column\": 1, \"value\": 0.08919049054384232, \"row_token\": \"001 H\\u00f4m\", \"col_token\": \"001 H\\u00f4m\"}, {\"row\": 1, \"column\": 2, \"value\": 0.0, \"row_token\": \"001 H\\u00f4m\", \"col_token\": \"002 nay\"}, {\"row\": 1, \"column\": 3, \"value\": 0.0, \"row_token\": \"001 H\\u00f4m\", \"col_token\": \"003 l\\u00e0\"}, {\"row\": 1, \"column\": 4, \"value\": 0.0, \"row_token\": \"001 H\\u00f4m\", \"col_token\": \"004 m\\u1ed9t\"}, {\"row\": 1, \"column\": 5, \"value\": 0.0, \"row_token\": \"001 H\\u00f4m\", \"col_token\": \"005 ng\\u00e0y\"}, {\"row\": 1, \"column\": 6, \"value\": 0.0, \"row_token\": \"001 H\\u00f4m\", \"col_token\": \"006 \\u0111\\u1eb9p\"}, {\"row\": 1, \"column\": 7, \"value\": 0.0, \"row_token\": \"001 H\\u00f4m\", \"col_token\": \"007 tr\\u1eddi\"}, {\"row\": 1, \"column\": 8, \"value\": 0.0, \"row_token\": \"001 H\\u00f4m\", \"col_token\": \"008 </s>\"}, {\"row\": 2, \"column\": 0, \"value\": 0.7762100100517273, \"row_token\": \"002 nay\", \"col_token\": \"000 <s>\"}, {\"row\": 2, \"column\": 1, \"value\": 0.15564924478530884, \"row_token\": \"002 nay\", \"col_token\": \"001 H\\u00f4m\"}, {\"row\": 2, \"column\": 2, \"value\": 0.0681406706571579, \"row_token\": \"002 nay\", \"col_token\": \"002 nay\"}, {\"row\": 2, \"column\": 3, \"value\": 0.0, \"row_token\": \"002 nay\", \"col_token\": \"003 l\\u00e0\"}, {\"row\": 2, \"column\": 4, \"value\": 0.0, \"row_token\": \"002 nay\", \"col_token\": \"004 m\\u1ed9t\"}, {\"row\": 2, \"column\": 5, \"value\": 0.0, \"row_token\": \"002 nay\", \"col_token\": \"005 ng\\u00e0y\"}, {\"row\": 2, \"column\": 6, \"value\": 0.0, \"row_token\": \"002 nay\", \"col_token\": \"006 \\u0111\\u1eb9p\"}, {\"row\": 2, \"column\": 7, \"value\": 0.0, \"row_token\": \"002 nay\", \"col_token\": \"007 tr\\u1eddi\"}, {\"row\": 2, \"column\": 8, \"value\": 0.0, \"row_token\": \"002 nay\", \"col_token\": \"008 </s>\"}, {\"row\": 3, \"column\": 0, \"value\": 0.08326698839664459, \"row_token\": \"003 l\\u00e0\", \"col_token\": \"000 <s>\"}, {\"row\": 3, \"column\": 1, \"value\": 0.02361006662249565, \"row_token\": \"003 l\\u00e0\", \"col_token\": \"001 H\\u00f4m\"}, {\"row\": 3, \"column\": 2, \"value\": 0.06636405736207962, \"row_token\": \"003 l\\u00e0\", \"col_token\": \"002 nay\"}, {\"row\": 3, \"column\": 3, \"value\": 0.826758861541748, \"row_token\": \"003 l\\u00e0\", \"col_token\": \"003 l\\u00e0\"}, {\"row\": 3, \"column\": 4, \"value\": 0.0, \"row_token\": \"003 l\\u00e0\", \"col_token\": \"004 m\\u1ed9t\"}, {\"row\": 3, \"column\": 5, \"value\": 0.0, \"row_token\": \"003 l\\u00e0\", \"col_token\": \"005 ng\\u00e0y\"}, {\"row\": 3, \"column\": 6, \"value\": 0.0, \"row_token\": \"003 l\\u00e0\", \"col_token\": \"006 \\u0111\\u1eb9p\"}, {\"row\": 3, \"column\": 7, \"value\": 0.0, \"row_token\": \"003 l\\u00e0\", \"col_token\": \"007 tr\\u1eddi\"}, {\"row\": 3, \"column\": 8, \"value\": 0.0, \"row_token\": \"003 l\\u00e0\", \"col_token\": \"008 </s>\"}, {\"row\": 4, \"column\": 0, \"value\": 0.6090984344482422, \"row_token\": \"004 m\\u1ed9t\", \"col_token\": \"000 <s>\"}, {\"row\": 4, \"column\": 1, \"value\": 0.07015145570039749, \"row_token\": \"004 m\\u1ed9t\", \"col_token\": \"001 H\\u00f4m\"}, {\"row\": 4, \"column\": 2, \"value\": 0.12882767617702484, \"row_token\": \"004 m\\u1ed9t\", \"col_token\": \"002 nay\"}, {\"row\": 4, \"column\": 3, \"value\": 0.16534270346164703, \"row_token\": \"004 m\\u1ed9t\", \"col_token\": \"003 l\\u00e0\"}, {\"row\": 4, \"column\": 4, \"value\": 0.02657974883913994, \"row_token\": \"004 m\\u1ed9t\", \"col_token\": \"004 m\\u1ed9t\"}, {\"row\": 4, \"column\": 5, \"value\": 0.0, \"row_token\": \"004 m\\u1ed9t\", \"col_token\": \"005 ng\\u00e0y\"}, {\"row\": 4, \"column\": 6, \"value\": 0.0, \"row_token\": \"004 m\\u1ed9t\", \"col_token\": \"006 \\u0111\\u1eb9p\"}, {\"row\": 4, \"column\": 7, \"value\": 0.0, \"row_token\": \"004 m\\u1ed9t\", \"col_token\": \"007 tr\\u1eddi\"}, {\"row\": 4, \"column\": 8, \"value\": 0.0, \"row_token\": \"004 m\\u1ed9t\", \"col_token\": \"008 </s>\"}, {\"row\": 5, \"column\": 0, \"value\": 0.12225685268640518, \"row_token\": \"005 ng\\u00e0y\", \"col_token\": \"000 <s>\"}, {\"row\": 5, \"column\": 1, \"value\": 0.30523622035980225, \"row_token\": \"005 ng\\u00e0y\", \"col_token\": \"001 H\\u00f4m\"}, {\"row\": 5, \"column\": 2, \"value\": 0.3158857226371765, \"row_token\": \"005 ng\\u00e0y\", \"col_token\": \"002 nay\"}, {\"row\": 5, \"column\": 3, \"value\": 0.006342537235468626, \"row_token\": \"005 ng\\u00e0y\", \"col_token\": \"003 l\\u00e0\"}, {\"row\": 5, \"column\": 4, \"value\": 0.0022441281471401453, \"row_token\": \"005 ng\\u00e0y\", \"col_token\": \"004 m\\u1ed9t\"}, {\"row\": 5, \"column\": 5, \"value\": 0.24803459644317627, \"row_token\": \"005 ng\\u00e0y\", \"col_token\": \"005 ng\\u00e0y\"}, {\"row\": 5, \"column\": 6, \"value\": 0.0, \"row_token\": \"005 ng\\u00e0y\", \"col_token\": \"006 \\u0111\\u1eb9p\"}, {\"row\": 5, \"column\": 7, \"value\": 0.0, \"row_token\": \"005 ng\\u00e0y\", \"col_token\": \"007 tr\\u1eddi\"}, {\"row\": 5, \"column\": 8, \"value\": 0.0, \"row_token\": \"005 ng\\u00e0y\", \"col_token\": \"008 </s>\"}, {\"row\": 6, \"column\": 0, \"value\": 0.05522207170724869, \"row_token\": \"006 \\u0111\\u1eb9p\", \"col_token\": \"000 <s>\"}, {\"row\": 6, \"column\": 1, \"value\": 0.07687323540449142, \"row_token\": \"006 \\u0111\\u1eb9p\", \"col_token\": \"001 H\\u00f4m\"}, {\"row\": 6, \"column\": 2, \"value\": 0.054731953889131546, \"row_token\": \"006 \\u0111\\u1eb9p\", \"col_token\": \"002 nay\"}, {\"row\": 6, \"column\": 3, \"value\": 0.005213855765759945, \"row_token\": \"006 \\u0111\\u1eb9p\", \"col_token\": \"003 l\\u00e0\"}, {\"row\": 6, \"column\": 4, \"value\": 0.10047763586044312, \"row_token\": \"006 \\u0111\\u1eb9p\", \"col_token\": \"004 m\\u1ed9t\"}, {\"row\": 6, \"column\": 5, \"value\": 0.542351484298706, \"row_token\": \"006 \\u0111\\u1eb9p\", \"col_token\": \"005 ng\\u00e0y\"}, {\"row\": 6, \"column\": 6, \"value\": 0.16512978076934814, \"row_token\": \"006 \\u0111\\u1eb9p\", \"col_token\": \"006 \\u0111\\u1eb9p\"}, {\"row\": 6, \"column\": 7, \"value\": 0.0, \"row_token\": \"006 \\u0111\\u1eb9p\", \"col_token\": \"007 tr\\u1eddi\"}, {\"row\": 6, \"column\": 8, \"value\": 0.0, \"row_token\": \"006 \\u0111\\u1eb9p\", \"col_token\": \"008 </s>\"}, {\"row\": 7, \"column\": 0, \"value\": 0.04325311258435249, \"row_token\": \"007 tr\\u1eddi\", \"col_token\": \"000 <s>\"}, {\"row\": 7, \"column\": 1, \"value\": 0.04322424158453941, \"row_token\": \"007 tr\\u1eddi\", \"col_token\": \"001 H\\u00f4m\"}, {\"row\": 7, \"column\": 2, \"value\": 0.020090600475668907, \"row_token\": \"007 tr\\u1eddi\", \"col_token\": \"002 nay\"}, {\"row\": 7, \"column\": 3, \"value\": 0.008116341196000576, \"row_token\": \"007 tr\\u1eddi\", \"col_token\": \"003 l\\u00e0\"}, {\"row\": 7, \"column\": 4, \"value\": 0.008328365162014961, \"row_token\": \"007 tr\\u1eddi\", \"col_token\": \"004 m\\u1ed9t\"}, {\"row\": 7, \"column\": 5, \"value\": 0.30356258153915405, \"row_token\": \"007 tr\\u1eddi\", \"col_token\": \"005 ng\\u00e0y\"}, {\"row\": 7, \"column\": 6, \"value\": 0.5028647780418396, \"row_token\": \"007 tr\\u1eddi\", \"col_token\": \"006 \\u0111\\u1eb9p\"}, {\"row\": 7, \"column\": 7, \"value\": 0.0705600157380104, \"row_token\": \"007 tr\\u1eddi\", \"col_token\": \"007 tr\\u1eddi\"}, {\"row\": 7, \"column\": 8, \"value\": 0.0, \"row_token\": \"007 tr\\u1eddi\", \"col_token\": \"008 </s>\"}, {\"row\": 8, \"column\": 0, \"value\": 0.061316970735788345, \"row_token\": \"008 </s>\", \"col_token\": \"000 <s>\"}, {\"row\": 8, \"column\": 1, \"value\": 0.07601246982812881, \"row_token\": \"008 </s>\", \"col_token\": \"001 H\\u00f4m\"}, {\"row\": 8, \"column\": 2, \"value\": 0.03154673054814339, \"row_token\": \"008 </s>\", \"col_token\": \"002 nay\"}, {\"row\": 8, \"column\": 3, \"value\": 0.01051346119493246, \"row_token\": \"008 </s>\", \"col_token\": \"003 l\\u00e0\"}, {\"row\": 8, \"column\": 4, \"value\": 0.009487592615187168, \"row_token\": \"008 </s>\", \"col_token\": \"004 m\\u1ed9t\"}, {\"row\": 8, \"column\": 5, \"value\": 0.24640138447284698, \"row_token\": \"008 </s>\", \"col_token\": \"005 ng\\u00e0y\"}, {\"row\": 8, \"column\": 6, \"value\": 0.45077645778656006, \"row_token\": \"008 </s>\", \"col_token\": \"006 \\u0111\\u1eb9p\"}, {\"row\": 8, \"column\": 7, \"value\": 0.050092875957489014, \"row_token\": \"008 </s>\", \"col_token\": \"007 tr\\u1eddi\"}, {\"row\": 8, \"column\": 8, \"value\": 0.06385200470685959, \"row_token\": \"008 </s>\", \"col_token\": \"008 </s>\"}], \"data-ba361393c4e2a8705c5c0ada95c0a41e\": [{\"row\": 0, \"column\": 0, \"value\": 1.0, \"row_token\": \"000 <s>\", \"col_token\": \"000 <s>\"}, {\"row\": 0, \"column\": 1, \"value\": 0.0, \"row_token\": \"000 <s>\", \"col_token\": \"001 H\\u00f4m\"}, {\"row\": 0, \"column\": 2, \"value\": 0.0, \"row_token\": \"000 <s>\", \"col_token\": \"002 nay\"}, {\"row\": 0, \"column\": 3, \"value\": 0.0, \"row_token\": \"000 <s>\", \"col_token\": \"003 l\\u00e0\"}, {\"row\": 0, \"column\": 4, \"value\": 0.0, \"row_token\": \"000 <s>\", \"col_token\": \"004 m\\u1ed9t\"}, {\"row\": 0, \"column\": 5, \"value\": 0.0, \"row_token\": \"000 <s>\", \"col_token\": \"005 ng\\u00e0y\"}, {\"row\": 0, \"column\": 6, \"value\": 0.0, \"row_token\": \"000 <s>\", \"col_token\": \"006 \\u0111\\u1eb9p\"}, {\"row\": 0, \"column\": 7, \"value\": 0.0, \"row_token\": \"000 <s>\", \"col_token\": \"007 tr\\u1eddi\"}, {\"row\": 0, \"column\": 8, \"value\": 0.0, \"row_token\": \"000 <s>\", \"col_token\": \"008 </s>\"}, {\"row\": 1, \"column\": 0, \"value\": 0.05084860697388649, \"row_token\": \"001 H\\u00f4m\", \"col_token\": \"000 <s>\"}, {\"row\": 1, \"column\": 1, \"value\": 0.9491514563560486, \"row_token\": \"001 H\\u00f4m\", \"col_token\": \"001 H\\u00f4m\"}, {\"row\": 1, \"column\": 2, \"value\": 0.0, \"row_token\": \"001 H\\u00f4m\", \"col_token\": \"002 nay\"}, {\"row\": 1, \"column\": 3, \"value\": 0.0, \"row_token\": \"001 H\\u00f4m\", \"col_token\": \"003 l\\u00e0\"}, {\"row\": 1, \"column\": 4, \"value\": 0.0, \"row_token\": \"001 H\\u00f4m\", \"col_token\": \"004 m\\u1ed9t\"}, {\"row\": 1, \"column\": 5, \"value\": 0.0, \"row_token\": \"001 H\\u00f4m\", \"col_token\": \"005 ng\\u00e0y\"}, {\"row\": 1, \"column\": 6, \"value\": 0.0, \"row_token\": \"001 H\\u00f4m\", \"col_token\": \"006 \\u0111\\u1eb9p\"}, {\"row\": 1, \"column\": 7, \"value\": 0.0, \"row_token\": \"001 H\\u00f4m\", \"col_token\": \"007 tr\\u1eddi\"}, {\"row\": 1, \"column\": 8, \"value\": 0.0, \"row_token\": \"001 H\\u00f4m\", \"col_token\": \"008 </s>\"}, {\"row\": 2, \"column\": 0, \"value\": 0.02298407442867756, \"row_token\": \"002 nay\", \"col_token\": \"000 <s>\"}, {\"row\": 2, \"column\": 1, \"value\": 0.8684425354003906, \"row_token\": \"002 nay\", \"col_token\": \"001 H\\u00f4m\"}, {\"row\": 2, \"column\": 2, \"value\": 0.10857338458299637, \"row_token\": \"002 nay\", \"col_token\": \"002 nay\"}, {\"row\": 2, \"column\": 3, \"value\": 0.0, \"row_token\": \"002 nay\", \"col_token\": \"003 l\\u00e0\"}, {\"row\": 2, \"column\": 4, \"value\": 0.0, \"row_token\": \"002 nay\", \"col_token\": \"004 m\\u1ed9t\"}, {\"row\": 2, \"column\": 5, \"value\": 0.0, \"row_token\": \"002 nay\", \"col_token\": \"005 ng\\u00e0y\"}, {\"row\": 2, \"column\": 6, \"value\": 0.0, \"row_token\": \"002 nay\", \"col_token\": \"006 \\u0111\\u1eb9p\"}, {\"row\": 2, \"column\": 7, \"value\": 0.0, \"row_token\": \"002 nay\", \"col_token\": \"007 tr\\u1eddi\"}, {\"row\": 2, \"column\": 8, \"value\": 0.0, \"row_token\": \"002 nay\", \"col_token\": \"008 </s>\"}, {\"row\": 3, \"column\": 0, \"value\": 0.6826539039611816, \"row_token\": \"003 l\\u00e0\", \"col_token\": \"000 <s>\"}, {\"row\": 3, \"column\": 1, \"value\": 0.10141010582447052, \"row_token\": \"003 l\\u00e0\", \"col_token\": \"001 H\\u00f4m\"}, {\"row\": 3, \"column\": 2, \"value\": 0.09577060490846634, \"row_token\": \"003 l\\u00e0\", \"col_token\": \"002 nay\"}, {\"row\": 3, \"column\": 3, \"value\": 0.12016536295413971, \"row_token\": \"003 l\\u00e0\", \"col_token\": \"003 l\\u00e0\"}, {\"row\": 3, \"column\": 4, \"value\": 0.0, \"row_token\": \"003 l\\u00e0\", \"col_token\": \"004 m\\u1ed9t\"}, {\"row\": 3, \"column\": 5, \"value\": 0.0, \"row_token\": \"003 l\\u00e0\", \"col_token\": \"005 ng\\u00e0y\"}, {\"row\": 3, \"column\": 6, \"value\": 0.0, \"row_token\": \"003 l\\u00e0\", \"col_token\": \"006 \\u0111\\u1eb9p\"}, {\"row\": 3, \"column\": 7, \"value\": 0.0, \"row_token\": \"003 l\\u00e0\", \"col_token\": \"007 tr\\u1eddi\"}, {\"row\": 3, \"column\": 8, \"value\": 0.0, \"row_token\": \"003 l\\u00e0\", \"col_token\": \"008 </s>\"}, {\"row\": 4, \"column\": 0, \"value\": 0.9594860672950745, \"row_token\": \"004 m\\u1ed9t\", \"col_token\": \"000 <s>\"}, {\"row\": 4, \"column\": 1, \"value\": 0.011621889658272266, \"row_token\": \"004 m\\u1ed9t\", \"col_token\": \"001 H\\u00f4m\"}, {\"row\": 4, \"column\": 2, \"value\": 0.02282111905515194, \"row_token\": \"004 m\\u1ed9t\", \"col_token\": \"002 nay\"}, {\"row\": 4, \"column\": 3, \"value\": 0.004925212357193232, \"row_token\": \"004 m\\u1ed9t\", \"col_token\": \"003 l\\u00e0\"}, {\"row\": 4, \"column\": 4, \"value\": 0.0011457038344815373, \"row_token\": \"004 m\\u1ed9t\", \"col_token\": \"004 m\\u1ed9t\"}, {\"row\": 4, \"column\": 5, \"value\": 0.0, \"row_token\": \"004 m\\u1ed9t\", \"col_token\": \"005 ng\\u00e0y\"}, {\"row\": 4, \"column\": 6, \"value\": 0.0, \"row_token\": \"004 m\\u1ed9t\", \"col_token\": \"006 \\u0111\\u1eb9p\"}, {\"row\": 4, \"column\": 7, \"value\": 0.0, \"row_token\": \"004 m\\u1ed9t\", \"col_token\": \"007 tr\\u1eddi\"}, {\"row\": 4, \"column\": 8, \"value\": 0.0, \"row_token\": \"004 m\\u1ed9t\", \"col_token\": \"008 </s>\"}, {\"row\": 5, \"column\": 0, \"value\": 0.01682300493121147, \"row_token\": \"005 ng\\u00e0y\", \"col_token\": \"000 <s>\"}, {\"row\": 5, \"column\": 1, \"value\": 0.008811607025563717, \"row_token\": \"005 ng\\u00e0y\", \"col_token\": \"001 H\\u00f4m\"}, {\"row\": 5, \"column\": 2, \"value\": 0.22742460668087006, \"row_token\": \"005 ng\\u00e0y\", \"col_token\": \"002 nay\"}, {\"row\": 5, \"column\": 3, \"value\": 0.5231385231018066, \"row_token\": \"005 ng\\u00e0y\", \"col_token\": \"003 l\\u00e0\"}, {\"row\": 5, \"column\": 4, \"value\": 0.14030449092388153, \"row_token\": \"005 ng\\u00e0y\", \"col_token\": \"004 m\\u1ed9t\"}, {\"row\": 5, \"column\": 5, \"value\": 0.08349776268005371, \"row_token\": \"005 ng\\u00e0y\", \"col_token\": \"005 ng\\u00e0y\"}, {\"row\": 5, \"column\": 6, \"value\": 0.0, \"row_token\": \"005 ng\\u00e0y\", \"col_token\": \"006 \\u0111\\u1eb9p\"}, {\"row\": 5, \"column\": 7, \"value\": 0.0, \"row_token\": \"005 ng\\u00e0y\", \"col_token\": \"007 tr\\u1eddi\"}, {\"row\": 5, \"column\": 8, \"value\": 0.0, \"row_token\": \"005 ng\\u00e0y\", \"col_token\": \"008 </s>\"}, {\"row\": 6, \"column\": 0, \"value\": 0.498013973236084, \"row_token\": \"006 \\u0111\\u1eb9p\", \"col_token\": \"000 <s>\"}, {\"row\": 6, \"column\": 1, \"value\": 0.015528748743236065, \"row_token\": \"006 \\u0111\\u1eb9p\", \"col_token\": \"001 H\\u00f4m\"}, {\"row\": 6, \"column\": 2, \"value\": 0.031861040741205215, \"row_token\": \"006 \\u0111\\u1eb9p\", \"col_token\": \"002 nay\"}, {\"row\": 6, \"column\": 3, \"value\": 0.1429508477449417, \"row_token\": \"006 \\u0111\\u1eb9p\", \"col_token\": \"003 l\\u00e0\"}, {\"row\": 6, \"column\": 4, \"value\": 0.0537988506257534, \"row_token\": \"006 \\u0111\\u1eb9p\", \"col_token\": \"004 m\\u1ed9t\"}, {\"row\": 6, \"column\": 5, \"value\": 0.08103367686271667, \"row_token\": \"006 \\u0111\\u1eb9p\", \"col_token\": \"005 ng\\u00e0y\"}, {\"row\": 6, \"column\": 6, \"value\": 0.17681297659873962, \"row_token\": \"006 \\u0111\\u1eb9p\", \"col_token\": \"006 \\u0111\\u1eb9p\"}, {\"row\": 6, \"column\": 7, \"value\": 0.0, \"row_token\": \"006 \\u0111\\u1eb9p\", \"col_token\": \"007 tr\\u1eddi\"}, {\"row\": 6, \"column\": 8, \"value\": 0.0, \"row_token\": \"006 \\u0111\\u1eb9p\", \"col_token\": \"008 </s>\"}, {\"row\": 7, \"column\": 0, \"value\": 0.1497109830379486, \"row_token\": \"007 tr\\u1eddi\", \"col_token\": \"000 <s>\"}, {\"row\": 7, \"column\": 1, \"value\": 0.06217207387089729, \"row_token\": \"007 tr\\u1eddi\", \"col_token\": \"001 H\\u00f4m\"}, {\"row\": 7, \"column\": 2, \"value\": 0.3301297724246979, \"row_token\": \"007 tr\\u1eddi\", \"col_token\": \"002 nay\"}, {\"row\": 7, \"column\": 3, \"value\": 0.1625920981168747, \"row_token\": \"007 tr\\u1eddi\", \"col_token\": \"003 l\\u00e0\"}, {\"row\": 7, \"column\": 4, \"value\": 0.00969957746565342, \"row_token\": \"007 tr\\u1eddi\", \"col_token\": \"004 m\\u1ed9t\"}, {\"row\": 7, \"column\": 5, \"value\": 0.029186289757490158, \"row_token\": \"007 tr\\u1eddi\", \"col_token\": \"005 ng\\u00e0y\"}, {\"row\": 7, \"column\": 6, \"value\": 0.06468520313501358, \"row_token\": \"007 tr\\u1eddi\", \"col_token\": \"006 \\u0111\\u1eb9p\"}, {\"row\": 7, \"column\": 7, \"value\": 0.1918240785598755, \"row_token\": \"007 tr\\u1eddi\", \"col_token\": \"007 tr\\u1eddi\"}, {\"row\": 7, \"column\": 8, \"value\": 0.0, \"row_token\": \"007 tr\\u1eddi\", \"col_token\": \"008 </s>\"}, {\"row\": 8, \"column\": 0, \"value\": 0.06598363071680069, \"row_token\": \"008 </s>\", \"col_token\": \"000 <s>\"}, {\"row\": 8, \"column\": 1, \"value\": 0.03272659331560135, \"row_token\": \"008 </s>\", \"col_token\": \"001 H\\u00f4m\"}, {\"row\": 8, \"column\": 2, \"value\": 0.1745581328868866, \"row_token\": \"008 </s>\", \"col_token\": \"002 nay\"}, {\"row\": 8, \"column\": 3, \"value\": 0.12299970537424088, \"row_token\": \"008 </s>\", \"col_token\": \"003 l\\u00e0\"}, {\"row\": 8, \"column\": 4, \"value\": 0.008910764008760452, \"row_token\": \"008 </s>\", \"col_token\": \"004 m\\u1ed9t\"}, {\"row\": 8, \"column\": 5, \"value\": 0.037213973701000214, \"row_token\": \"008 </s>\", \"col_token\": \"005 ng\\u00e0y\"}, {\"row\": 8, \"column\": 6, \"value\": 0.05571766942739487, \"row_token\": \"008 </s>\", \"col_token\": \"006 \\u0111\\u1eb9p\"}, {\"row\": 8, \"column\": 7, \"value\": 0.25786635279655457, \"row_token\": \"008 </s>\", \"col_token\": \"007 tr\\u1eddi\"}, {\"row\": 8, \"column\": 8, \"value\": 0.2440231740474701, \"row_token\": \"008 </s>\", \"col_token\": \"008 </s>\"}], \"data-698565260e67ae47f6ac9f4eba767bc0\": [{\"row\": 0, \"column\": 0, \"value\": 1.0, \"row_token\": \"000 <s>\", \"col_token\": \"000 <s>\"}, {\"row\": 0, \"column\": 1, \"value\": 0.0, \"row_token\": \"000 <s>\", \"col_token\": \"001 H\\u00f4m\"}, {\"row\": 0, \"column\": 2, \"value\": 0.0, \"row_token\": \"000 <s>\", \"col_token\": \"002 nay\"}, {\"row\": 0, \"column\": 3, \"value\": 0.0, \"row_token\": \"000 <s>\", \"col_token\": \"003 l\\u00e0\"}, {\"row\": 0, \"column\": 4, \"value\": 0.0, \"row_token\": \"000 <s>\", \"col_token\": \"004 m\\u1ed9t\"}, {\"row\": 0, \"column\": 5, \"value\": 0.0, \"row_token\": \"000 <s>\", \"col_token\": \"005 ng\\u00e0y\"}, {\"row\": 0, \"column\": 6, \"value\": 0.0, \"row_token\": \"000 <s>\", \"col_token\": \"006 \\u0111\\u1eb9p\"}, {\"row\": 0, \"column\": 7, \"value\": 0.0, \"row_token\": \"000 <s>\", \"col_token\": \"007 tr\\u1eddi\"}, {\"row\": 0, \"column\": 8, \"value\": 0.0, \"row_token\": \"000 <s>\", \"col_token\": \"008 </s>\"}, {\"row\": 1, \"column\": 0, \"value\": 0.7562553286552429, \"row_token\": \"001 H\\u00f4m\", \"col_token\": \"000 <s>\"}, {\"row\": 1, \"column\": 1, \"value\": 0.24374471604824066, \"row_token\": \"001 H\\u00f4m\", \"col_token\": \"001 H\\u00f4m\"}, {\"row\": 1, \"column\": 2, \"value\": 0.0, \"row_token\": \"001 H\\u00f4m\", \"col_token\": \"002 nay\"}, {\"row\": 1, \"column\": 3, \"value\": 0.0, \"row_token\": \"001 H\\u00f4m\", \"col_token\": \"003 l\\u00e0\"}, {\"row\": 1, \"column\": 4, \"value\": 0.0, \"row_token\": \"001 H\\u00f4m\", \"col_token\": \"004 m\\u1ed9t\"}, {\"row\": 1, \"column\": 5, \"value\": 0.0, \"row_token\": \"001 H\\u00f4m\", \"col_token\": \"005 ng\\u00e0y\"}, {\"row\": 1, \"column\": 6, \"value\": 0.0, \"row_token\": \"001 H\\u00f4m\", \"col_token\": \"006 \\u0111\\u1eb9p\"}, {\"row\": 1, \"column\": 7, \"value\": 0.0, \"row_token\": \"001 H\\u00f4m\", \"col_token\": \"007 tr\\u1eddi\"}, {\"row\": 1, \"column\": 8, \"value\": 0.0, \"row_token\": \"001 H\\u00f4m\", \"col_token\": \"008 </s>\"}, {\"row\": 2, \"column\": 0, \"value\": 0.7138741612434387, \"row_token\": \"002 nay\", \"col_token\": \"000 <s>\"}, {\"row\": 2, \"column\": 1, \"value\": 0.19005976617336273, \"row_token\": \"002 nay\", \"col_token\": \"001 H\\u00f4m\"}, {\"row\": 2, \"column\": 2, \"value\": 0.09606616199016571, \"row_token\": \"002 nay\", \"col_token\": \"002 nay\"}, {\"row\": 2, \"column\": 3, \"value\": 0.0, \"row_token\": \"002 nay\", \"col_token\": \"003 l\\u00e0\"}, {\"row\": 2, \"column\": 4, \"value\": 0.0, \"row_token\": \"002 nay\", \"col_token\": \"004 m\\u1ed9t\"}, {\"row\": 2, \"column\": 5, \"value\": 0.0, \"row_token\": \"002 nay\", \"col_token\": \"005 ng\\u00e0y\"}, {\"row\": 2, \"column\": 6, \"value\": 0.0, \"row_token\": \"002 nay\", \"col_token\": \"006 \\u0111\\u1eb9p\"}, {\"row\": 2, \"column\": 7, \"value\": 0.0, \"row_token\": \"002 nay\", \"col_token\": \"007 tr\\u1eddi\"}, {\"row\": 2, \"column\": 8, \"value\": 0.0, \"row_token\": \"002 nay\", \"col_token\": \"008 </s>\"}, {\"row\": 3, \"column\": 0, \"value\": 0.17860016226768494, \"row_token\": \"003 l\\u00e0\", \"col_token\": \"000 <s>\"}, {\"row\": 3, \"column\": 1, \"value\": 0.49678945541381836, \"row_token\": \"003 l\\u00e0\", \"col_token\": \"001 H\\u00f4m\"}, {\"row\": 3, \"column\": 2, \"value\": 0.2024383246898651, \"row_token\": \"003 l\\u00e0\", \"col_token\": \"002 nay\"}, {\"row\": 3, \"column\": 3, \"value\": 0.12217194586992264, \"row_token\": \"003 l\\u00e0\", \"col_token\": \"003 l\\u00e0\"}, {\"row\": 3, \"column\": 4, \"value\": 0.0, \"row_token\": \"003 l\\u00e0\", \"col_token\": \"004 m\\u1ed9t\"}, {\"row\": 3, \"column\": 5, \"value\": 0.0, \"row_token\": \"003 l\\u00e0\", \"col_token\": \"005 ng\\u00e0y\"}, {\"row\": 3, \"column\": 6, \"value\": 0.0, \"row_token\": \"003 l\\u00e0\", \"col_token\": \"006 \\u0111\\u1eb9p\"}, {\"row\": 3, \"column\": 7, \"value\": 0.0, \"row_token\": \"003 l\\u00e0\", \"col_token\": \"007 tr\\u1eddi\"}, {\"row\": 3, \"column\": 8, \"value\": 0.0, \"row_token\": \"003 l\\u00e0\", \"col_token\": \"008 </s>\"}, {\"row\": 4, \"column\": 0, \"value\": 0.17891614139080048, \"row_token\": \"004 m\\u1ed9t\", \"col_token\": \"000 <s>\"}, {\"row\": 4, \"column\": 1, \"value\": 0.2394685596227646, \"row_token\": \"004 m\\u1ed9t\", \"col_token\": \"001 H\\u00f4m\"}, {\"row\": 4, \"column\": 2, \"value\": 0.42769113183021545, \"row_token\": \"004 m\\u1ed9t\", \"col_token\": \"002 nay\"}, {\"row\": 4, \"column\": 3, \"value\": 0.06210746243596077, \"row_token\": \"004 m\\u1ed9t\", \"col_token\": \"003 l\\u00e0\"}, {\"row\": 4, \"column\": 4, \"value\": 0.091816745698452, \"row_token\": \"004 m\\u1ed9t\", \"col_token\": \"004 m\\u1ed9t\"}, {\"row\": 4, \"column\": 5, \"value\": 0.0, \"row_token\": \"004 m\\u1ed9t\", \"col_token\": \"005 ng\\u00e0y\"}, {\"row\": 4, \"column\": 6, \"value\": 0.0, \"row_token\": \"004 m\\u1ed9t\", \"col_token\": \"006 \\u0111\\u1eb9p\"}, {\"row\": 4, \"column\": 7, \"value\": 0.0, \"row_token\": \"004 m\\u1ed9t\", \"col_token\": \"007 tr\\u1eddi\"}, {\"row\": 4, \"column\": 8, \"value\": 0.0, \"row_token\": \"004 m\\u1ed9t\", \"col_token\": \"008 </s>\"}, {\"row\": 5, \"column\": 0, \"value\": 0.10495048016309738, \"row_token\": \"005 ng\\u00e0y\", \"col_token\": \"000 <s>\"}, {\"row\": 5, \"column\": 1, \"value\": 0.045258231461048126, \"row_token\": \"005 ng\\u00e0y\", \"col_token\": \"001 H\\u00f4m\"}, {\"row\": 5, \"column\": 2, \"value\": 0.008491411805152893, \"row_token\": \"005 ng\\u00e0y\", \"col_token\": \"002 nay\"}, {\"row\": 5, \"column\": 3, \"value\": 0.005447428673505783, \"row_token\": \"005 ng\\u00e0y\", \"col_token\": \"003 l\\u00e0\"}, {\"row\": 5, \"column\": 4, \"value\": 0.012215523049235344, \"row_token\": \"005 ng\\u00e0y\", \"col_token\": \"004 m\\u1ed9t\"}, {\"row\": 5, \"column\": 5, \"value\": 0.8236369490623474, \"row_token\": \"005 ng\\u00e0y\", \"col_token\": \"005 ng\\u00e0y\"}, {\"row\": 5, \"column\": 6, \"value\": 0.0, \"row_token\": \"005 ng\\u00e0y\", \"col_token\": \"006 \\u0111\\u1eb9p\"}, {\"row\": 5, \"column\": 7, \"value\": 0.0, \"row_token\": \"005 ng\\u00e0y\", \"col_token\": \"007 tr\\u1eddi\"}, {\"row\": 5, \"column\": 8, \"value\": 0.0, \"row_token\": \"005 ng\\u00e0y\", \"col_token\": \"008 </s>\"}, {\"row\": 6, \"column\": 0, \"value\": 0.0006791285122744739, \"row_token\": \"006 \\u0111\\u1eb9p\", \"col_token\": \"000 <s>\"}, {\"row\": 6, \"column\": 1, \"value\": 0.018161645159125328, \"row_token\": \"006 \\u0111\\u1eb9p\", \"col_token\": \"001 H\\u00f4m\"}, {\"row\": 6, \"column\": 2, \"value\": 0.002100601326674223, \"row_token\": \"006 \\u0111\\u1eb9p\", \"col_token\": \"002 nay\"}, {\"row\": 6, \"column\": 3, \"value\": 0.0024027994368225336, \"row_token\": \"006 \\u0111\\u1eb9p\", \"col_token\": \"003 l\\u00e0\"}, {\"row\": 6, \"column\": 4, \"value\": 0.0004998411750420928, \"row_token\": \"006 \\u0111\\u1eb9p\", \"col_token\": \"004 m\\u1ed9t\"}, {\"row\": 6, \"column\": 5, \"value\": 0.44477880001068115, \"row_token\": \"006 \\u0111\\u1eb9p\", \"col_token\": \"005 ng\\u00e0y\"}, {\"row\": 6, \"column\": 6, \"value\": 0.5313771963119507, \"row_token\": \"006 \\u0111\\u1eb9p\", \"col_token\": \"006 \\u0111\\u1eb9p\"}, {\"row\": 6, \"column\": 7, \"value\": 0.0, \"row_token\": \"006 \\u0111\\u1eb9p\", \"col_token\": \"007 tr\\u1eddi\"}, {\"row\": 6, \"column\": 8, \"value\": 0.0, \"row_token\": \"006 \\u0111\\u1eb9p\", \"col_token\": \"008 </s>\"}, {\"row\": 7, \"column\": 0, \"value\": 0.001051792991347611, \"row_token\": \"007 tr\\u1eddi\", \"col_token\": \"000 <s>\"}, {\"row\": 7, \"column\": 1, \"value\": 0.06404440850019455, \"row_token\": \"007 tr\\u1eddi\", \"col_token\": \"001 H\\u00f4m\"}, {\"row\": 7, \"column\": 2, \"value\": 0.002856964012607932, \"row_token\": \"007 tr\\u1eddi\", \"col_token\": \"002 nay\"}, {\"row\": 7, \"column\": 3, \"value\": 0.002401582198217511, \"row_token\": \"007 tr\\u1eddi\", \"col_token\": \"003 l\\u00e0\"}, {\"row\": 7, \"column\": 4, \"value\": 0.003757012775167823, \"row_token\": \"007 tr\\u1eddi\", \"col_token\": \"004 m\\u1ed9t\"}, {\"row\": 7, \"column\": 5, \"value\": 0.05318676680326462, \"row_token\": \"007 tr\\u1eddi\", \"col_token\": \"005 ng\\u00e0y\"}, {\"row\": 7, \"column\": 6, \"value\": 0.03118158131837845, \"row_token\": \"007 tr\\u1eddi\", \"col_token\": \"006 \\u0111\\u1eb9p\"}, {\"row\": 7, \"column\": 7, \"value\": 0.841519832611084, \"row_token\": \"007 tr\\u1eddi\", \"col_token\": \"007 tr\\u1eddi\"}, {\"row\": 7, \"column\": 8, \"value\": 0.0, \"row_token\": \"007 tr\\u1eddi\", \"col_token\": \"008 </s>\"}, {\"row\": 8, \"column\": 0, \"value\": 0.0004771295061800629, \"row_token\": \"008 </s>\", \"col_token\": \"000 <s>\"}, {\"row\": 8, \"column\": 1, \"value\": 0.02229127660393715, \"row_token\": \"008 </s>\", \"col_token\": \"001 H\\u00f4m\"}, {\"row\": 8, \"column\": 2, \"value\": 0.0007692281506024301, \"row_token\": \"008 </s>\", \"col_token\": \"002 nay\"}, {\"row\": 8, \"column\": 3, \"value\": 0.0006283564143814147, \"row_token\": \"008 </s>\", \"col_token\": \"003 l\\u00e0\"}, {\"row\": 8, \"column\": 4, \"value\": 0.0009805993176996708, \"row_token\": \"008 </s>\", \"col_token\": \"004 m\\u1ed9t\"}, {\"row\": 8, \"column\": 5, \"value\": 0.02646121196448803, \"row_token\": \"008 </s>\", \"col_token\": \"005 ng\\u00e0y\"}, {\"row\": 8, \"column\": 6, \"value\": 0.018103167414665222, \"row_token\": \"008 </s>\", \"col_token\": \"006 \\u0111\\u1eb9p\"}, {\"row\": 8, \"column\": 7, \"value\": 0.4838311970233917, \"row_token\": \"008 </s>\", \"col_token\": \"007 tr\\u1eddi\"}, {\"row\": 8, \"column\": 8, \"value\": 0.4464578628540039, \"row_token\": \"008 </s>\", \"col_token\": \"008 </s>\"}], \"data-9ebbc2dbd0f8fe1dec6d9bd6b011425d\": [{\"row\": 0, \"column\": 0, \"value\": 1.0, \"row_token\": \"000 <s>\", \"col_token\": \"000 <s>\"}, {\"row\": 0, \"column\": 1, \"value\": 0.0, \"row_token\": \"000 <s>\", \"col_token\": \"001 H\\u00f4m\"}, {\"row\": 0, \"column\": 2, \"value\": 0.0, \"row_token\": \"000 <s>\", \"col_token\": \"002 nay\"}, {\"row\": 0, \"column\": 3, \"value\": 0.0, \"row_token\": \"000 <s>\", \"col_token\": \"003 l\\u00e0\"}, {\"row\": 0, \"column\": 4, \"value\": 0.0, \"row_token\": \"000 <s>\", \"col_token\": \"004 m\\u1ed9t\"}, {\"row\": 0, \"column\": 5, \"value\": 0.0, \"row_token\": \"000 <s>\", \"col_token\": \"005 ng\\u00e0y\"}, {\"row\": 0, \"column\": 6, \"value\": 0.0, \"row_token\": \"000 <s>\", \"col_token\": \"006 \\u0111\\u1eb9p\"}, {\"row\": 0, \"column\": 7, \"value\": 0.0, \"row_token\": \"000 <s>\", \"col_token\": \"007 tr\\u1eddi\"}, {\"row\": 0, \"column\": 8, \"value\": 0.0, \"row_token\": \"000 <s>\", \"col_token\": \"008 </s>\"}, {\"row\": 1, \"column\": 0, \"value\": 0.20514893531799316, \"row_token\": \"001 H\\u00f4m\", \"col_token\": \"000 <s>\"}, {\"row\": 1, \"column\": 1, \"value\": 0.7948510646820068, \"row_token\": \"001 H\\u00f4m\", \"col_token\": \"001 H\\u00f4m\"}, {\"row\": 1, \"column\": 2, \"value\": 0.0, \"row_token\": \"001 H\\u00f4m\", \"col_token\": \"002 nay\"}, {\"row\": 1, \"column\": 3, \"value\": 0.0, \"row_token\": \"001 H\\u00f4m\", \"col_token\": \"003 l\\u00e0\"}, {\"row\": 1, \"column\": 4, \"value\": 0.0, \"row_token\": \"001 H\\u00f4m\", \"col_token\": \"004 m\\u1ed9t\"}, {\"row\": 1, \"column\": 5, \"value\": 0.0, \"row_token\": \"001 H\\u00f4m\", \"col_token\": \"005 ng\\u00e0y\"}, {\"row\": 1, \"column\": 6, \"value\": 0.0, \"row_token\": \"001 H\\u00f4m\", \"col_token\": \"006 \\u0111\\u1eb9p\"}, {\"row\": 1, \"column\": 7, \"value\": 0.0, \"row_token\": \"001 H\\u00f4m\", \"col_token\": \"007 tr\\u1eddi\"}, {\"row\": 1, \"column\": 8, \"value\": 0.0, \"row_token\": \"001 H\\u00f4m\", \"col_token\": \"008 </s>\"}, {\"row\": 2, \"column\": 0, \"value\": 0.25934648513793945, \"row_token\": \"002 nay\", \"col_token\": \"000 <s>\"}, {\"row\": 2, \"column\": 1, \"value\": 0.37442338466644287, \"row_token\": \"002 nay\", \"col_token\": \"001 H\\u00f4m\"}, {\"row\": 2, \"column\": 2, \"value\": 0.3662301003932953, \"row_token\": \"002 nay\", \"col_token\": \"002 nay\"}, {\"row\": 2, \"column\": 3, \"value\": 0.0, \"row_token\": \"002 nay\", \"col_token\": \"003 l\\u00e0\"}, {\"row\": 2, \"column\": 4, \"value\": 0.0, \"row_token\": \"002 nay\", \"col_token\": \"004 m\\u1ed9t\"}, {\"row\": 2, \"column\": 5, \"value\": 0.0, \"row_token\": \"002 nay\", \"col_token\": \"005 ng\\u00e0y\"}, {\"row\": 2, \"column\": 6, \"value\": 0.0, \"row_token\": \"002 nay\", \"col_token\": \"006 \\u0111\\u1eb9p\"}, {\"row\": 2, \"column\": 7, \"value\": 0.0, \"row_token\": \"002 nay\", \"col_token\": \"007 tr\\u1eddi\"}, {\"row\": 2, \"column\": 8, \"value\": 0.0, \"row_token\": \"002 nay\", \"col_token\": \"008 </s>\"}, {\"row\": 3, \"column\": 0, \"value\": 0.11433111131191254, \"row_token\": \"003 l\\u00e0\", \"col_token\": \"000 <s>\"}, {\"row\": 3, \"column\": 1, \"value\": 0.09578794240951538, \"row_token\": \"003 l\\u00e0\", \"col_token\": \"001 H\\u00f4m\"}, {\"row\": 3, \"column\": 2, \"value\": 0.38202744722366333, \"row_token\": \"003 l\\u00e0\", \"col_token\": \"002 nay\"}, {\"row\": 3, \"column\": 3, \"value\": 0.40785348415374756, \"row_token\": \"003 l\\u00e0\", \"col_token\": \"003 l\\u00e0\"}, {\"row\": 3, \"column\": 4, \"value\": 0.0, \"row_token\": \"003 l\\u00e0\", \"col_token\": \"004 m\\u1ed9t\"}, {\"row\": 3, \"column\": 5, \"value\": 0.0, \"row_token\": \"003 l\\u00e0\", \"col_token\": \"005 ng\\u00e0y\"}, {\"row\": 3, \"column\": 6, \"value\": 0.0, \"row_token\": \"003 l\\u00e0\", \"col_token\": \"006 \\u0111\\u1eb9p\"}, {\"row\": 3, \"column\": 7, \"value\": 0.0, \"row_token\": \"003 l\\u00e0\", \"col_token\": \"007 tr\\u1eddi\"}, {\"row\": 3, \"column\": 8, \"value\": 0.0, \"row_token\": \"003 l\\u00e0\", \"col_token\": \"008 </s>\"}, {\"row\": 4, \"column\": 0, \"value\": 0.26132869720458984, \"row_token\": \"004 m\\u1ed9t\", \"col_token\": \"000 <s>\"}, {\"row\": 4, \"column\": 1, \"value\": 0.04897158220410347, \"row_token\": \"004 m\\u1ed9t\", \"col_token\": \"001 H\\u00f4m\"}, {\"row\": 4, \"column\": 2, \"value\": 0.28413334488868713, \"row_token\": \"004 m\\u1ed9t\", \"col_token\": \"002 nay\"}, {\"row\": 4, \"column\": 3, \"value\": 0.16144534945487976, \"row_token\": \"004 m\\u1ed9t\", \"col_token\": \"003 l\\u00e0\"}, {\"row\": 4, \"column\": 4, \"value\": 0.24412105977535248, \"row_token\": \"004 m\\u1ed9t\", \"col_token\": \"004 m\\u1ed9t\"}, {\"row\": 4, \"column\": 5, \"value\": 0.0, \"row_token\": \"004 m\\u1ed9t\", \"col_token\": \"005 ng\\u00e0y\"}, {\"row\": 4, \"column\": 6, \"value\": 0.0, \"row_token\": \"004 m\\u1ed9t\", \"col_token\": \"006 \\u0111\\u1eb9p\"}, {\"row\": 4, \"column\": 7, \"value\": 0.0, \"row_token\": \"004 m\\u1ed9t\", \"col_token\": \"007 tr\\u1eddi\"}, {\"row\": 4, \"column\": 8, \"value\": 0.0, \"row_token\": \"004 m\\u1ed9t\", \"col_token\": \"008 </s>\"}, {\"row\": 5, \"column\": 0, \"value\": 0.2608668804168701, \"row_token\": \"005 ng\\u00e0y\", \"col_token\": \"000 <s>\"}, {\"row\": 5, \"column\": 1, \"value\": 0.12389009445905685, \"row_token\": \"005 ng\\u00e0y\", \"col_token\": \"001 H\\u00f4m\"}, {\"row\": 5, \"column\": 2, \"value\": 0.24410006403923035, \"row_token\": \"005 ng\\u00e0y\", \"col_token\": \"002 nay\"}, {\"row\": 5, \"column\": 3, \"value\": 0.16062875092029572, \"row_token\": \"005 ng\\u00e0y\", \"col_token\": \"003 l\\u00e0\"}, {\"row\": 5, \"column\": 4, \"value\": 0.18536682426929474, \"row_token\": \"005 ng\\u00e0y\", \"col_token\": \"004 m\\u1ed9t\"}, {\"row\": 5, \"column\": 5, \"value\": 0.02514742873609066, \"row_token\": \"005 ng\\u00e0y\", \"col_token\": \"005 ng\\u00e0y\"}, {\"row\": 5, \"column\": 6, \"value\": 0.0, \"row_token\": \"005 ng\\u00e0y\", \"col_token\": \"006 \\u0111\\u1eb9p\"}, {\"row\": 5, \"column\": 7, \"value\": 0.0, \"row_token\": \"005 ng\\u00e0y\", \"col_token\": \"007 tr\\u1eddi\"}, {\"row\": 5, \"column\": 8, \"value\": 0.0, \"row_token\": \"005 ng\\u00e0y\", \"col_token\": \"008 </s>\"}, {\"row\": 6, \"column\": 0, \"value\": 0.015307288616895676, \"row_token\": \"006 \\u0111\\u1eb9p\", \"col_token\": \"000 <s>\"}, {\"row\": 6, \"column\": 1, \"value\": 0.0030935686081647873, \"row_token\": \"006 \\u0111\\u1eb9p\", \"col_token\": \"001 H\\u00f4m\"}, {\"row\": 6, \"column\": 2, \"value\": 0.008895630948245525, \"row_token\": \"006 \\u0111\\u1eb9p\", \"col_token\": \"002 nay\"}, {\"row\": 6, \"column\": 3, \"value\": 0.005405018106102943, \"row_token\": \"006 \\u0111\\u1eb9p\", \"col_token\": \"003 l\\u00e0\"}, {\"row\": 6, \"column\": 4, \"value\": 0.005164242349565029, \"row_token\": \"006 \\u0111\\u1eb9p\", \"col_token\": \"004 m\\u1ed9t\"}, {\"row\": 6, \"column\": 5, \"value\": 0.002534228377044201, \"row_token\": \"006 \\u0111\\u1eb9p\", \"col_token\": \"005 ng\\u00e0y\"}, {\"row\": 6, \"column\": 6, \"value\": 0.9595999717712402, \"row_token\": \"006 \\u0111\\u1eb9p\", \"col_token\": \"006 \\u0111\\u1eb9p\"}, {\"row\": 6, \"column\": 7, \"value\": 0.0, \"row_token\": \"006 \\u0111\\u1eb9p\", \"col_token\": \"007 tr\\u1eddi\"}, {\"row\": 6, \"column\": 8, \"value\": 0.0, \"row_token\": \"006 \\u0111\\u1eb9p\", \"col_token\": \"008 </s>\"}, {\"row\": 7, \"column\": 0, \"value\": 0.12942710518836975, \"row_token\": \"007 tr\\u1eddi\", \"col_token\": \"000 <s>\"}, {\"row\": 7, \"column\": 1, \"value\": 0.16817225515842438, \"row_token\": \"007 tr\\u1eddi\", \"col_token\": \"001 H\\u00f4m\"}, {\"row\": 7, \"column\": 2, \"value\": 0.0304251741617918, \"row_token\": \"007 tr\\u1eddi\", \"col_token\": \"002 nay\"}, {\"row\": 7, \"column\": 3, \"value\": 0.03634309023618698, \"row_token\": \"007 tr\\u1eddi\", \"col_token\": \"003 l\\u00e0\"}, {\"row\": 7, \"column\": 4, \"value\": 0.039131708443164825, \"row_token\": \"007 tr\\u1eddi\", \"col_token\": \"004 m\\u1ed9t\"}, {\"row\": 7, \"column\": 5, \"value\": 0.012919925153255463, \"row_token\": \"007 tr\\u1eddi\", \"col_token\": \"005 ng\\u00e0y\"}, {\"row\": 7, \"column\": 6, \"value\": 0.29131922125816345, \"row_token\": \"007 tr\\u1eddi\", \"col_token\": \"006 \\u0111\\u1eb9p\"}, {\"row\": 7, \"column\": 7, \"value\": 0.29226154088974, \"row_token\": \"007 tr\\u1eddi\", \"col_token\": \"007 tr\\u1eddi\"}, {\"row\": 7, \"column\": 8, \"value\": 0.0, \"row_token\": \"007 tr\\u1eddi\", \"col_token\": \"008 </s>\"}, {\"row\": 8, \"column\": 0, \"value\": 0.0849139466881752, \"row_token\": \"008 </s>\", \"col_token\": \"000 <s>\"}, {\"row\": 8, \"column\": 1, \"value\": 0.13921549916267395, \"row_token\": \"008 </s>\", \"col_token\": \"001 H\\u00f4m\"}, {\"row\": 8, \"column\": 2, \"value\": 0.022236960008740425, \"row_token\": \"008 </s>\", \"col_token\": \"002 nay\"}, {\"row\": 8, \"column\": 3, \"value\": 0.026335379108786583, \"row_token\": \"008 </s>\", \"col_token\": \"003 l\\u00e0\"}, {\"row\": 8, \"column\": 4, \"value\": 0.02518489398062229, \"row_token\": \"008 </s>\", \"col_token\": \"004 m\\u1ed9t\"}, {\"row\": 8, \"column\": 5, \"value\": 0.011071080341935158, \"row_token\": \"008 </s>\", \"col_token\": \"005 ng\\u00e0y\"}, {\"row\": 8, \"column\": 6, \"value\": 0.19240301847457886, \"row_token\": \"008 </s>\", \"col_token\": \"006 \\u0111\\u1eb9p\"}, {\"row\": 8, \"column\": 7, \"value\": 0.25351712107658386, \"row_token\": \"008 </s>\", \"col_token\": \"007 tr\\u1eddi\"}, {\"row\": 8, \"column\": 8, \"value\": 0.24512210488319397, \"row_token\": \"008 </s>\", \"col_token\": \"008 </s>\"}], \"data-0bfbb4bb7512b9d0b327e250fae884e3\": [{\"row\": 0, \"column\": 0, \"value\": 1.0, \"row_token\": \"000 <s>\", \"col_token\": \"000 <s>\"}, {\"row\": 0, \"column\": 1, \"value\": 0.0, \"row_token\": \"000 <s>\", \"col_token\": \"001 H\\u00f4m\"}, {\"row\": 0, \"column\": 2, \"value\": 0.0, \"row_token\": \"000 <s>\", \"col_token\": \"002 nay\"}, {\"row\": 0, \"column\": 3, \"value\": 0.0, \"row_token\": \"000 <s>\", \"col_token\": \"003 l\\u00e0\"}, {\"row\": 0, \"column\": 4, \"value\": 0.0, \"row_token\": \"000 <s>\", \"col_token\": \"004 m\\u1ed9t\"}, {\"row\": 0, \"column\": 5, \"value\": 0.0, \"row_token\": \"000 <s>\", \"col_token\": \"005 ng\\u00e0y\"}, {\"row\": 0, \"column\": 6, \"value\": 0.0, \"row_token\": \"000 <s>\", \"col_token\": \"006 \\u0111\\u1eb9p\"}, {\"row\": 0, \"column\": 7, \"value\": 0.0, \"row_token\": \"000 <s>\", \"col_token\": \"007 tr\\u1eddi\"}, {\"row\": 0, \"column\": 8, \"value\": 0.0, \"row_token\": \"000 <s>\", \"col_token\": \"008 </s>\"}, {\"row\": 1, \"column\": 0, \"value\": 0.7320603728294373, \"row_token\": \"001 H\\u00f4m\", \"col_token\": \"000 <s>\"}, {\"row\": 1, \"column\": 1, \"value\": 0.2679396867752075, \"row_token\": \"001 H\\u00f4m\", \"col_token\": \"001 H\\u00f4m\"}, {\"row\": 1, \"column\": 2, \"value\": 0.0, \"row_token\": \"001 H\\u00f4m\", \"col_token\": \"002 nay\"}, {\"row\": 1, \"column\": 3, \"value\": 0.0, \"row_token\": \"001 H\\u00f4m\", \"col_token\": \"003 l\\u00e0\"}, {\"row\": 1, \"column\": 4, \"value\": 0.0, \"row_token\": \"001 H\\u00f4m\", \"col_token\": \"004 m\\u1ed9t\"}, {\"row\": 1, \"column\": 5, \"value\": 0.0, \"row_token\": \"001 H\\u00f4m\", \"col_token\": \"005 ng\\u00e0y\"}, {\"row\": 1, \"column\": 6, \"value\": 0.0, \"row_token\": \"001 H\\u00f4m\", \"col_token\": \"006 \\u0111\\u1eb9p\"}, {\"row\": 1, \"column\": 7, \"value\": 0.0, \"row_token\": \"001 H\\u00f4m\", \"col_token\": \"007 tr\\u1eddi\"}, {\"row\": 1, \"column\": 8, \"value\": 0.0, \"row_token\": \"001 H\\u00f4m\", \"col_token\": \"008 </s>\"}, {\"row\": 2, \"column\": 0, \"value\": 0.13111862540245056, \"row_token\": \"002 nay\", \"col_token\": \"000 <s>\"}, {\"row\": 2, \"column\": 1, \"value\": 0.5498366951942444, \"row_token\": \"002 nay\", \"col_token\": \"001 H\\u00f4m\"}, {\"row\": 2, \"column\": 2, \"value\": 0.31904470920562744, \"row_token\": \"002 nay\", \"col_token\": \"002 nay\"}, {\"row\": 2, \"column\": 3, \"value\": 0.0, \"row_token\": \"002 nay\", \"col_token\": \"003 l\\u00e0\"}, {\"row\": 2, \"column\": 4, \"value\": 0.0, \"row_token\": \"002 nay\", \"col_token\": \"004 m\\u1ed9t\"}, {\"row\": 2, \"column\": 5, \"value\": 0.0, \"row_token\": \"002 nay\", \"col_token\": \"005 ng\\u00e0y\"}, {\"row\": 2, \"column\": 6, \"value\": 0.0, \"row_token\": \"002 nay\", \"col_token\": \"006 \\u0111\\u1eb9p\"}, {\"row\": 2, \"column\": 7, \"value\": 0.0, \"row_token\": \"002 nay\", \"col_token\": \"007 tr\\u1eddi\"}, {\"row\": 2, \"column\": 8, \"value\": 0.0, \"row_token\": \"002 nay\", \"col_token\": \"008 </s>\"}, {\"row\": 3, \"column\": 0, \"value\": 0.04941852018237114, \"row_token\": \"003 l\\u00e0\", \"col_token\": \"000 <s>\"}, {\"row\": 3, \"column\": 1, \"value\": 0.1793109029531479, \"row_token\": \"003 l\\u00e0\", \"col_token\": \"001 H\\u00f4m\"}, {\"row\": 3, \"column\": 2, \"value\": 0.4974217414855957, \"row_token\": \"003 l\\u00e0\", \"col_token\": \"002 nay\"}, {\"row\": 3, \"column\": 3, \"value\": 0.2738487422466278, \"row_token\": \"003 l\\u00e0\", \"col_token\": \"003 l\\u00e0\"}, {\"row\": 3, \"column\": 4, \"value\": 0.0, \"row_token\": \"003 l\\u00e0\", \"col_token\": \"004 m\\u1ed9t\"}, {\"row\": 3, \"column\": 5, \"value\": 0.0, \"row_token\": \"003 l\\u00e0\", \"col_token\": \"005 ng\\u00e0y\"}, {\"row\": 3, \"column\": 6, \"value\": 0.0, \"row_token\": \"003 l\\u00e0\", \"col_token\": \"006 \\u0111\\u1eb9p\"}, {\"row\": 3, \"column\": 7, \"value\": 0.0, \"row_token\": \"003 l\\u00e0\", \"col_token\": \"007 tr\\u1eddi\"}, {\"row\": 3, \"column\": 8, \"value\": 0.0, \"row_token\": \"003 l\\u00e0\", \"col_token\": \"008 </s>\"}, {\"row\": 4, \"column\": 0, \"value\": 0.03444135934114456, \"row_token\": \"004 m\\u1ed9t\", \"col_token\": \"000 <s>\"}, {\"row\": 4, \"column\": 1, \"value\": 0.039519742131233215, \"row_token\": \"004 m\\u1ed9t\", \"col_token\": \"001 H\\u00f4m\"}, {\"row\": 4, \"column\": 2, \"value\": 0.12835437059402466, \"row_token\": \"004 m\\u1ed9t\", \"col_token\": \"002 nay\"}, {\"row\": 4, \"column\": 3, \"value\": 0.27521488070487976, \"row_token\": \"004 m\\u1ed9t\", \"col_token\": \"003 l\\u00e0\"}, {\"row\": 4, \"column\": 4, \"value\": 0.522469699382782, \"row_token\": \"004 m\\u1ed9t\", \"col_token\": \"004 m\\u1ed9t\"}, {\"row\": 4, \"column\": 5, \"value\": 0.0, \"row_token\": \"004 m\\u1ed9t\", \"col_token\": \"005 ng\\u00e0y\"}, {\"row\": 4, \"column\": 6, \"value\": 0.0, \"row_token\": \"004 m\\u1ed9t\", \"col_token\": \"006 \\u0111\\u1eb9p\"}, {\"row\": 4, \"column\": 7, \"value\": 0.0, \"row_token\": \"004 m\\u1ed9t\", \"col_token\": \"007 tr\\u1eddi\"}, {\"row\": 4, \"column\": 8, \"value\": 0.0, \"row_token\": \"004 m\\u1ed9t\", \"col_token\": \"008 </s>\"}, {\"row\": 5, \"column\": 0, \"value\": 0.002555051352828741, \"row_token\": \"005 ng\\u00e0y\", \"col_token\": \"000 <s>\"}, {\"row\": 5, \"column\": 1, \"value\": 0.016231093555688858, \"row_token\": \"005 ng\\u00e0y\", \"col_token\": \"001 H\\u00f4m\"}, {\"row\": 5, \"column\": 2, \"value\": 0.005169915035367012, \"row_token\": \"005 ng\\u00e0y\", \"col_token\": \"002 nay\"}, {\"row\": 5, \"column\": 3, \"value\": 0.006163937039673328, \"row_token\": \"005 ng\\u00e0y\", \"col_token\": \"003 l\\u00e0\"}, {\"row\": 5, \"column\": 4, \"value\": 0.09333064407110214, \"row_token\": \"005 ng\\u00e0y\", \"col_token\": \"004 m\\u1ed9t\"}, {\"row\": 5, \"column\": 5, \"value\": 0.8765493631362915, \"row_token\": \"005 ng\\u00e0y\", \"col_token\": \"005 ng\\u00e0y\"}, {\"row\": 5, \"column\": 6, \"value\": 0.0, \"row_token\": \"005 ng\\u00e0y\", \"col_token\": \"006 \\u0111\\u1eb9p\"}, {\"row\": 5, \"column\": 7, \"value\": 0.0, \"row_token\": \"005 ng\\u00e0y\", \"col_token\": \"007 tr\\u1eddi\"}, {\"row\": 5, \"column\": 8, \"value\": 0.0, \"row_token\": \"005 ng\\u00e0y\", \"col_token\": \"008 </s>\"}, {\"row\": 6, \"column\": 0, \"value\": 0.20517678558826447, \"row_token\": \"006 \\u0111\\u1eb9p\", \"col_token\": \"000 <s>\"}, {\"row\": 6, \"column\": 1, \"value\": 0.21546469628810883, \"row_token\": \"006 \\u0111\\u1eb9p\", \"col_token\": \"001 H\\u00f4m\"}, {\"row\": 6, \"column\": 2, \"value\": 0.025524673983454704, \"row_token\": \"006 \\u0111\\u1eb9p\", \"col_token\": \"002 nay\"}, {\"row\": 6, \"column\": 3, \"value\": 0.028253762051463127, \"row_token\": \"006 \\u0111\\u1eb9p\", \"col_token\": \"003 l\\u00e0\"}, {\"row\": 6, \"column\": 4, \"value\": 0.07256025820970535, \"row_token\": \"006 \\u0111\\u1eb9p\", \"col_token\": \"004 m\\u1ed9t\"}, {\"row\": 6, \"column\": 5, \"value\": 0.028415434062480927, \"row_token\": \"006 \\u0111\\u1eb9p\", \"col_token\": \"005 ng\\u00e0y\"}, {\"row\": 6, \"column\": 6, \"value\": 0.4246044158935547, \"row_token\": \"006 \\u0111\\u1eb9p\", \"col_token\": \"006 \\u0111\\u1eb9p\"}, {\"row\": 6, \"column\": 7, \"value\": 0.0, \"row_token\": \"006 \\u0111\\u1eb9p\", \"col_token\": \"007 tr\\u1eddi\"}, {\"row\": 6, \"column\": 8, \"value\": 0.0, \"row_token\": \"006 \\u0111\\u1eb9p\", \"col_token\": \"008 </s>\"}, {\"row\": 7, \"column\": 0, \"value\": 0.0026392063591629267, \"row_token\": \"007 tr\\u1eddi\", \"col_token\": \"000 <s>\"}, {\"row\": 7, \"column\": 1, \"value\": 0.009273361414670944, \"row_token\": \"007 tr\\u1eddi\", \"col_token\": \"001 H\\u00f4m\"}, {\"row\": 7, \"column\": 2, \"value\": 0.007900516502559185, \"row_token\": \"007 tr\\u1eddi\", \"col_token\": \"002 nay\"}, {\"row\": 7, \"column\": 3, \"value\": 0.0033201391343027353, \"row_token\": \"007 tr\\u1eddi\", \"col_token\": \"003 l\\u00e0\"}, {\"row\": 7, \"column\": 4, \"value\": 0.04418554902076721, \"row_token\": \"007 tr\\u1eddi\", \"col_token\": \"004 m\\u1ed9t\"}, {\"row\": 7, \"column\": 5, \"value\": 0.0829596221446991, \"row_token\": \"007 tr\\u1eddi\", \"col_token\": \"005 ng\\u00e0y\"}, {\"row\": 7, \"column\": 6, \"value\": 0.007340156473219395, \"row_token\": \"007 tr\\u1eddi\", \"col_token\": \"006 \\u0111\\u1eb9p\"}, {\"row\": 7, \"column\": 7, \"value\": 0.842381477355957, \"row_token\": \"007 tr\\u1eddi\", \"col_token\": \"007 tr\\u1eddi\"}, {\"row\": 7, \"column\": 8, \"value\": 0.0, \"row_token\": \"007 tr\\u1eddi\", \"col_token\": \"008 </s>\"}, {\"row\": 8, \"column\": 0, \"value\": 0.0018032852094620466, \"row_token\": \"008 </s>\", \"col_token\": \"000 <s>\"}, {\"row\": 8, \"column\": 1, \"value\": 0.005204955115914345, \"row_token\": \"008 </s>\", \"col_token\": \"001 H\\u00f4m\"}, {\"row\": 8, \"column\": 2, \"value\": 0.0032568839378654957, \"row_token\": \"008 </s>\", \"col_token\": \"002 nay\"}, {\"row\": 8, \"column\": 3, \"value\": 0.0015837070532143116, \"row_token\": \"008 </s>\", \"col_token\": \"003 l\\u00e0\"}, {\"row\": 8, \"column\": 4, \"value\": 0.026446722447872162, \"row_token\": \"008 </s>\", \"col_token\": \"004 m\\u1ed9t\"}, {\"row\": 8, \"column\": 5, \"value\": 0.04412886127829552, \"row_token\": \"008 </s>\", \"col_token\": \"005 ng\\u00e0y\"}, {\"row\": 8, \"column\": 6, \"value\": 0.0031904960051178932, \"row_token\": \"008 </s>\", \"col_token\": \"006 \\u0111\\u1eb9p\"}, {\"row\": 8, \"column\": 7, \"value\": 0.548183798789978, \"row_token\": \"008 </s>\", \"col_token\": \"007 tr\\u1eddi\"}, {\"row\": 8, \"column\": 8, \"value\": 0.366201251745224, \"row_token\": \"008 </s>\", \"col_token\": \"008 </s>\"}]}}, {\"mode\": \"vega-lite\"});\n",
       "</script>"
      ],
      "text/plain": [
       "alt.HConcatChart(...)"
      ]
     },
     "execution_count": 90,
     "metadata": {},
     "output_type": "execute_result"
    }
   ],
   "source": [
    "def viz_decoder_self():\n",
    "    \n",
    "    for model_name in ['vi_to_en_complete_softmax_3.pt', 'vi_to_en_complete_rela_3.pt', 'vi_to_en_complete_sparsemax_3.pt']:\n",
    "        model_path = './models/'+ model_name\n",
    "        start_time = time.time()\n",
    "        gc.collect()\n",
    "        torch.cuda.empty_cache()\n",
    "    \n",
    "        temp = [('Hôm nay là một ngày đẹp trời', 'Today is a beautiful day')] \n",
    "\n",
    "        model_data = torch.load(model_path)\n",
    "        model, tgt_truth, tgt_pred, score, results = run_model_example(\n",
    "            False,\n",
    "            1, \n",
    "            0,\n",
    "            model_data['train_iter'],\n",
    "            model_data['val_iter'],\n",
    "            temp,\n",
    "    #         model_data['test_iter'],\n",
    "            model_data['vocab_src'],\n",
    "            model_data['vocab_tgt'],\n",
    "            model_data['tokenizer_src'],\n",
    "            model_data['tokenizer_tgt'],\n",
    "            model_data['config'],\n",
    "            model_data['params'],\n",
    "            model_path,\n",
    "        )\n",
    "\n",
    "    \n",
    "        example = results[len(results) - 1]  # batch object for the final example\n",
    "\n",
    "        layer_viz = [\n",
    "            visualize_layer(\n",
    "                model,\n",
    "                layer,\n",
    "                get_decoder_self,\n",
    "                len(example[1]),\n",
    "                example[1],\n",
    "                example[1],\n",
    "            )\n",
    "            for layer in range(6)\n",
    "        ]\n",
    "        return alt.hconcat(\n",
    "            layer_viz[0]\n",
    "    #         & layer_viz[1]\n",
    "    #         & layer_viz[2]\n",
    "            & layer_viz[3]\n",
    "    #         & layer_viz[4]\n",
    "            & layer_viz[5]\n",
    "        )\n",
    "\n",
    "\n",
    "    show_example(viz_decoder_self)"
   ]
  },
  {
   "cell_type": "markdown",
   "id": "c9c8034b",
   "metadata": {},
   "source": [
    "## Decoder Src Attention"
   ]
  },
  {
   "cell_type": "code",
   "execution_count": null,
   "id": "b5242587",
   "metadata": {},
   "outputs": [],
   "source": [
    "'vi_to_en_complete_softmax_3.pt', 'vi_to_en_complete_rela_3.pt', 'vi_to_en_complete_sparsemax_3.pt'"
   ]
  },
  {
   "cell_type": "code",
   "execution_count": 95,
   "id": "5492b6d9",
   "metadata": {
    "execution": {
     "iopub.execute_input": "2022-05-02T01:25:55.734026Z",
     "iopub.status.busy": "2022-05-02T01:25:55.733345Z",
     "iopub.status.idle": "2022-05-02T01:26:09.503900Z",
     "shell.execute_reply": "2022-05-02T01:26:09.504315Z"
    },
    "tags": []
   },
   "outputs": [
    {
     "name": "stdout",
     "output_type": "stream",
     "text": [
      "\n",
      "Complete.\n"
     ]
    },
    {
     "data": {
      "text/html": [
       "\n",
       "<div id=\"altair-viz-0091e141b2ce4c7c83dd7d4f74a21a9c\"></div>\n",
       "<script type=\"text/javascript\">\n",
       "  var VEGA_DEBUG = (typeof VEGA_DEBUG == \"undefined\") ? {} : VEGA_DEBUG;\n",
       "  (function(spec, embedOpt){\n",
       "    let outputDiv = document.currentScript.previousElementSibling;\n",
       "    if (outputDiv.id !== \"altair-viz-0091e141b2ce4c7c83dd7d4f74a21a9c\") {\n",
       "      outputDiv = document.getElementById(\"altair-viz-0091e141b2ce4c7c83dd7d4f74a21a9c\");\n",
       "    }\n",
       "    const paths = {\n",
       "      \"vega\": \"https://cdn.jsdelivr.net/npm//vega@5?noext\",\n",
       "      \"vega-lib\": \"https://cdn.jsdelivr.net/npm//vega-lib?noext\",\n",
       "      \"vega-lite\": \"https://cdn.jsdelivr.net/npm//vega-lite@4.17.0?noext\",\n",
       "      \"vega-embed\": \"https://cdn.jsdelivr.net/npm//vega-embed@6?noext\",\n",
       "    };\n",
       "\n",
       "    function maybeLoadScript(lib, version) {\n",
       "      var key = `${lib.replace(\"-\", \"\")}_version`;\n",
       "      return (VEGA_DEBUG[key] == version) ?\n",
       "        Promise.resolve(paths[lib]) :\n",
       "        new Promise(function(resolve, reject) {\n",
       "          var s = document.createElement('script');\n",
       "          document.getElementsByTagName(\"head\")[0].appendChild(s);\n",
       "          s.async = true;\n",
       "          s.onload = () => {\n",
       "            VEGA_DEBUG[key] = version;\n",
       "            return resolve(paths[lib]);\n",
       "          };\n",
       "          s.onerror = () => reject(`Error loading script: ${paths[lib]}`);\n",
       "          s.src = paths[lib];\n",
       "        });\n",
       "    }\n",
       "\n",
       "    function showError(err) {\n",
       "      outputDiv.innerHTML = `<div class=\"error\" style=\"color:red;\">${err}</div>`;\n",
       "      throw err;\n",
       "    }\n",
       "\n",
       "    function displayChart(vegaEmbed) {\n",
       "      vegaEmbed(outputDiv, spec, embedOpt)\n",
       "        .catch(err => showError(`Javascript Error: ${err.message}<br>This usually means there's a typo in your chart specification. See the javascript console for the full traceback.`));\n",
       "    }\n",
       "\n",
       "    if(typeof define === \"function\" && define.amd) {\n",
       "      requirejs.config({paths});\n",
       "      require([\"vega-embed\"], displayChart, err => showError(`Error loading script: ${err.message}`));\n",
       "    } else {\n",
       "      maybeLoadScript(\"vega\", \"5\")\n",
       "        .then(() => maybeLoadScript(\"vega-lite\", \"4.17.0\"))\n",
       "        .then(() => maybeLoadScript(\"vega-embed\", \"6\"))\n",
       "        .catch(showError)\n",
       "        .then(() => displayChart(vegaEmbed));\n",
       "    }\n",
       "  })({\"config\": {\"view\": {\"continuousWidth\": 400, \"continuousHeight\": 300}}, \"hconcat\": [{\"vconcat\": [{\"hconcat\": [{\"data\": {\"name\": \"data-459ad2a0f4c01635ccad5d2cbe7332b4\"}, \"mark\": \"rect\", \"encoding\": {\"color\": {\"field\": \"value\", \"scale\": {\"scheme\": \"lightgreyteal\"}, \"type\": \"quantitative\"}, \"tooltip\": [{\"field\": \"row\", \"type\": \"quantitative\"}, {\"field\": \"column\", \"type\": \"quantitative\"}, {\"field\": \"value\", \"type\": \"quantitative\"}, {\"field\": \"row_token\", \"type\": \"nominal\"}, {\"field\": \"col_token\", \"type\": \"nominal\"}], \"x\": {\"axis\": {\"title\": \"\"}, \"field\": \"col_token\", \"type\": \"nominal\"}, \"y\": {\"axis\": {\"title\": \"\"}, \"field\": \"row_token\", \"type\": \"nominal\"}}, \"height\": 400, \"selection\": {\"selector281\": {\"type\": \"interval\", \"bind\": \"scales\", \"encodings\": [\"x\", \"y\"]}}, \"width\": 400}, {\"data\": {\"name\": \"data-889e71537102b74625c3f3392bf1f0ce\"}, \"mark\": \"rect\", \"encoding\": {\"color\": {\"field\": \"value\", \"scale\": {\"scheme\": \"lightgreyteal\"}, \"type\": \"quantitative\"}, \"tooltip\": [{\"field\": \"row\", \"type\": \"quantitative\"}, {\"field\": \"column\", \"type\": \"quantitative\"}, {\"field\": \"value\", \"type\": \"quantitative\"}, {\"field\": \"row_token\", \"type\": \"nominal\"}, {\"field\": \"col_token\", \"type\": \"nominal\"}], \"x\": {\"axis\": {\"title\": \"\"}, \"field\": \"col_token\", \"type\": \"nominal\"}, \"y\": {\"axis\": {\"title\": \"\"}, \"field\": \"row_token\", \"type\": \"nominal\"}}, \"height\": 400, \"selection\": {\"selector283\": {\"type\": \"interval\", \"bind\": \"scales\", \"encodings\": [\"x\", \"y\"]}}, \"width\": 400}, {\"data\": {\"name\": \"data-85777e79f3eecdc9dc93fcdf26f318d7\"}, \"mark\": \"rect\", \"encoding\": {\"color\": {\"field\": \"value\", \"scale\": {\"scheme\": \"lightgreyteal\"}, \"type\": \"quantitative\"}, \"tooltip\": [{\"field\": \"row\", \"type\": \"quantitative\"}, {\"field\": \"column\", \"type\": \"quantitative\"}, {\"field\": \"value\", \"type\": \"quantitative\"}, {\"field\": \"row_token\", \"type\": \"nominal\"}, {\"field\": \"col_token\", \"type\": \"nominal\"}], \"x\": {\"axis\": {\"title\": \"\"}, \"field\": \"col_token\", \"type\": \"nominal\"}, \"y\": {\"axis\": {\"title\": \"\"}, \"field\": \"row_token\", \"type\": \"nominal\"}}, \"height\": 400, \"selection\": {\"selector285\": {\"type\": \"interval\", \"bind\": \"scales\", \"encodings\": [\"x\", \"y\"]}}, \"width\": 400}, {\"data\": {\"name\": \"data-3892fbd2297c9e6f63a270aa036c3889\"}, \"mark\": \"rect\", \"encoding\": {\"color\": {\"field\": \"value\", \"scale\": {\"scheme\": \"lightgreyteal\"}, \"type\": \"quantitative\"}, \"tooltip\": [{\"field\": \"row\", \"type\": \"quantitative\"}, {\"field\": \"column\", \"type\": \"quantitative\"}, {\"field\": \"value\", \"type\": \"quantitative\"}, {\"field\": \"row_token\", \"type\": \"nominal\"}, {\"field\": \"col_token\", \"type\": \"nominal\"}], \"x\": {\"axis\": {\"title\": \"\"}, \"field\": \"col_token\", \"type\": \"nominal\"}, \"y\": {\"axis\": {\"title\": \"\"}, \"field\": \"row_token\", \"type\": \"nominal\"}}, \"height\": 400, \"selection\": {\"selector287\": {\"type\": \"interval\", \"bind\": \"scales\", \"encodings\": [\"x\", \"y\"]}}, \"width\": 400}]}], \"title\": \"Layer 6\"}], \"$schema\": \"https://vega.github.io/schema/vega-lite/v4.17.0.json\", \"datasets\": {\"data-459ad2a0f4c01635ccad5d2cbe7332b4\": [{\"row\": 0, \"column\": 0, \"value\": 0.17564144730567932, \"row_token\": \"000 <s>\", \"col_token\": \"000 <s>\"}, {\"row\": 0, \"column\": 1, \"value\": 0.2178736925125122, \"row_token\": \"000 <s>\", \"col_token\": \"001 Today\"}, {\"row\": 0, \"column\": 2, \"value\": 0.5619432926177979, \"row_token\": \"000 <s>\", \"col_token\": \"002 is\"}, {\"row\": 0, \"column\": 3, \"value\": 0.01297700498253107, \"row_token\": \"000 <s>\", \"col_token\": \"003 a\"}, {\"row\": 0, \"column\": 4, \"value\": 0.014170880429446697, \"row_token\": \"000 <s>\", \"col_token\": \"004 beautiful\"}, {\"row\": 0, \"column\": 5, \"value\": 0.002006190363317728, \"row_token\": \"000 <s>\", \"col_token\": \"005 day\"}, {\"row\": 0, \"column\": 6, \"value\": 0.005755678750574589, \"row_token\": \"000 <s>\", \"col_token\": \"006 </s>\"}, {\"row\": 0, \"column\": 7, \"value\": 0.002034117467701435, \"row_token\": \"000 <s>\", \"col_token\": \"007 <blank>\"}, {\"row\": 0, \"column\": 8, \"value\": 0.007597656454890966, \"row_token\": \"000 <s>\", \"col_token\": \"008 <blank>\"}, {\"row\": 1, \"column\": 0, \"value\": 0.1197294294834137, \"row_token\": \"001 H\\u00f4m\", \"col_token\": \"000 <s>\"}, {\"row\": 1, \"column\": 1, \"value\": 0.1333077847957611, \"row_token\": \"001 H\\u00f4m\", \"col_token\": \"001 Today\"}, {\"row\": 1, \"column\": 2, \"value\": 0.27476656436920166, \"row_token\": \"001 H\\u00f4m\", \"col_token\": \"002 is\"}, {\"row\": 1, \"column\": 3, \"value\": 0.18923650681972504, \"row_token\": \"001 H\\u00f4m\", \"col_token\": \"003 a\"}, {\"row\": 1, \"column\": 4, \"value\": 0.15215103328227997, \"row_token\": \"001 H\\u00f4m\", \"col_token\": \"004 beautiful\"}, {\"row\": 1, \"column\": 5, \"value\": 0.027888823300600052, \"row_token\": \"001 H\\u00f4m\", \"col_token\": \"005 day\"}, {\"row\": 1, \"column\": 6, \"value\": 0.028432311490178108, \"row_token\": \"001 H\\u00f4m\", \"col_token\": \"006 </s>\"}, {\"row\": 1, \"column\": 7, \"value\": 0.013012830168008804, \"row_token\": \"001 H\\u00f4m\", \"col_token\": \"007 <blank>\"}, {\"row\": 1, \"column\": 8, \"value\": 0.06147473677992821, \"row_token\": \"001 H\\u00f4m\", \"col_token\": \"008 <blank>\"}, {\"row\": 2, \"column\": 0, \"value\": 0.14763256907463074, \"row_token\": \"002 nay\", \"col_token\": \"000 <s>\"}, {\"row\": 2, \"column\": 1, \"value\": 0.14412041008472443, \"row_token\": \"002 nay\", \"col_token\": \"001 Today\"}, {\"row\": 2, \"column\": 2, \"value\": 0.2090025693178177, \"row_token\": \"002 nay\", \"col_token\": \"002 is\"}, {\"row\": 2, \"column\": 3, \"value\": 0.1113538146018982, \"row_token\": \"002 nay\", \"col_token\": \"003 a\"}, {\"row\": 2, \"column\": 4, \"value\": 0.05505819991230965, \"row_token\": \"002 nay\", \"col_token\": \"004 beautiful\"}, {\"row\": 2, \"column\": 5, \"value\": 0.037883128970861435, \"row_token\": \"002 nay\", \"col_token\": \"005 day\"}, {\"row\": 2, \"column\": 6, \"value\": 0.14329564571380615, \"row_token\": \"002 nay\", \"col_token\": \"006 </s>\"}, {\"row\": 2, \"column\": 7, \"value\": 0.06510105729103088, \"row_token\": \"002 nay\", \"col_token\": \"007 <blank>\"}, {\"row\": 2, \"column\": 8, \"value\": 0.08655260503292084, \"row_token\": \"002 nay\", \"col_token\": \"008 <blank>\"}, {\"row\": 3, \"column\": 0, \"value\": 0.015286651439964771, \"row_token\": \"003 l\\u00e0\", \"col_token\": \"000 <s>\"}, {\"row\": 3, \"column\": 1, \"value\": 0.014319704845547676, \"row_token\": \"003 l\\u00e0\", \"col_token\": \"001 Today\"}, {\"row\": 3, \"column\": 2, \"value\": 0.018657466396689415, \"row_token\": \"003 l\\u00e0\", \"col_token\": \"002 is\"}, {\"row\": 3, \"column\": 3, \"value\": 0.05459526926279068, \"row_token\": \"003 l\\u00e0\", \"col_token\": \"003 a\"}, {\"row\": 3, \"column\": 4, \"value\": 0.02258777618408203, \"row_token\": \"003 l\\u00e0\", \"col_token\": \"004 beautiful\"}, {\"row\": 3, \"column\": 5, \"value\": 0.13339410722255707, \"row_token\": \"003 l\\u00e0\", \"col_token\": \"005 day\"}, {\"row\": 3, \"column\": 6, \"value\": 0.5727185606956482, \"row_token\": \"003 l\\u00e0\", \"col_token\": \"006 </s>\"}, {\"row\": 3, \"column\": 7, \"value\": 0.11062677949666977, \"row_token\": \"003 l\\u00e0\", \"col_token\": \"007 <blank>\"}, {\"row\": 3, \"column\": 8, \"value\": 0.057813625782728195, \"row_token\": \"003 l\\u00e0\", \"col_token\": \"008 <blank>\"}, {\"row\": 4, \"column\": 0, \"value\": 0.03788422420620918, \"row_token\": \"004 m\\u1ed9t\", \"col_token\": \"000 <s>\"}, {\"row\": 4, \"column\": 1, \"value\": 0.04942847415804863, \"row_token\": \"004 m\\u1ed9t\", \"col_token\": \"001 Today\"}, {\"row\": 4, \"column\": 2, \"value\": 0.052205927670001984, \"row_token\": \"004 m\\u1ed9t\", \"col_token\": \"002 is\"}, {\"row\": 4, \"column\": 3, \"value\": 0.012428565882146358, \"row_token\": \"004 m\\u1ed9t\", \"col_token\": \"003 a\"}, {\"row\": 4, \"column\": 4, \"value\": 0.020594213157892227, \"row_token\": \"004 m\\u1ed9t\", \"col_token\": \"004 beautiful\"}, {\"row\": 4, \"column\": 5, \"value\": 0.5514213442802429, \"row_token\": \"004 m\\u1ed9t\", \"col_token\": \"005 day\"}, {\"row\": 4, \"column\": 6, \"value\": 0.04182494804263115, \"row_token\": \"004 m\\u1ed9t\", \"col_token\": \"006 </s>\"}, {\"row\": 4, \"column\": 7, \"value\": 0.13455858826637268, \"row_token\": \"004 m\\u1ed9t\", \"col_token\": \"007 <blank>\"}, {\"row\": 4, \"column\": 8, \"value\": 0.09965372085571289, \"row_token\": \"004 m\\u1ed9t\", \"col_token\": \"008 <blank>\"}, {\"row\": 5, \"column\": 0, \"value\": 0.19009073078632355, \"row_token\": \"005 ng\\u00e0y\", \"col_token\": \"000 <s>\"}, {\"row\": 5, \"column\": 1, \"value\": 0.22599151730537415, \"row_token\": \"005 ng\\u00e0y\", \"col_token\": \"001 Today\"}, {\"row\": 5, \"column\": 2, \"value\": 0.5160804390907288, \"row_token\": \"005 ng\\u00e0y\", \"col_token\": \"002 is\"}, {\"row\": 5, \"column\": 3, \"value\": 0.01393180713057518, \"row_token\": \"005 ng\\u00e0y\", \"col_token\": \"003 a\"}, {\"row\": 5, \"column\": 4, \"value\": 0.014271539635956287, \"row_token\": \"005 ng\\u00e0y\", \"col_token\": \"004 beautiful\"}, {\"row\": 5, \"column\": 5, \"value\": 0.008828820660710335, \"row_token\": \"005 ng\\u00e0y\", \"col_token\": \"005 day\"}, {\"row\": 5, \"column\": 6, \"value\": 0.00042904671863652766, \"row_token\": \"005 ng\\u00e0y\", \"col_token\": \"006 </s>\"}, {\"row\": 5, \"column\": 7, \"value\": 0.0010788898216560483, \"row_token\": \"005 ng\\u00e0y\", \"col_token\": \"007 <blank>\"}, {\"row\": 5, \"column\": 8, \"value\": 0.029297256842255592, \"row_token\": \"005 ng\\u00e0y\", \"col_token\": \"008 <blank>\"}, {\"row\": 6, \"column\": 0, \"value\": 0.0539088100194931, \"row_token\": \"006 \\u0111\\u1eb9p\", \"col_token\": \"000 <s>\"}, {\"row\": 6, \"column\": 1, \"value\": 0.06575986742973328, \"row_token\": \"006 \\u0111\\u1eb9p\", \"col_token\": \"001 Today\"}, {\"row\": 6, \"column\": 2, \"value\": 0.061022982001304626, \"row_token\": \"006 \\u0111\\u1eb9p\", \"col_token\": \"002 is\"}, {\"row\": 6, \"column\": 3, \"value\": 0.11643949151039124, \"row_token\": \"006 \\u0111\\u1eb9p\", \"col_token\": \"003 a\"}, {\"row\": 6, \"column\": 4, \"value\": 0.15891139209270477, \"row_token\": \"006 \\u0111\\u1eb9p\", \"col_token\": \"004 beautiful\"}, {\"row\": 6, \"column\": 5, \"value\": 0.08770155161619186, \"row_token\": \"006 \\u0111\\u1eb9p\", \"col_token\": \"005 day\"}, {\"row\": 6, \"column\": 6, \"value\": 0.025761857628822327, \"row_token\": \"006 \\u0111\\u1eb9p\", \"col_token\": \"006 </s>\"}, {\"row\": 6, \"column\": 7, \"value\": 0.0941556990146637, \"row_token\": \"006 \\u0111\\u1eb9p\", \"col_token\": \"007 <blank>\"}, {\"row\": 6, \"column\": 8, \"value\": 0.3363382816314697, \"row_token\": \"006 \\u0111\\u1eb9p\", \"col_token\": \"008 <blank>\"}, {\"row\": 7, \"column\": 0, \"value\": 0.1777893453836441, \"row_token\": \"007 tr\\u1eddi\", \"col_token\": \"000 <s>\"}, {\"row\": 7, \"column\": 1, \"value\": 0.21784336864948273, \"row_token\": \"007 tr\\u1eddi\", \"col_token\": \"001 Today\"}, {\"row\": 7, \"column\": 2, \"value\": 0.1392415463924408, \"row_token\": \"007 tr\\u1eddi\", \"col_token\": \"002 is\"}, {\"row\": 7, \"column\": 3, \"value\": 0.06736061722040176, \"row_token\": \"007 tr\\u1eddi\", \"col_token\": \"003 a\"}, {\"row\": 7, \"column\": 4, \"value\": 0.07709424197673798, \"row_token\": \"007 tr\\u1eddi\", \"col_token\": \"004 beautiful\"}, {\"row\": 7, \"column\": 5, \"value\": 0.12898744642734528, \"row_token\": \"007 tr\\u1eddi\", \"col_token\": \"005 day\"}, {\"row\": 7, \"column\": 6, \"value\": 0.020113229751586914, \"row_token\": \"007 tr\\u1eddi\", \"col_token\": \"006 </s>\"}, {\"row\": 7, \"column\": 7, \"value\": 0.04776393994688988, \"row_token\": \"007 tr\\u1eddi\", \"col_token\": \"007 <blank>\"}, {\"row\": 7, \"column\": 8, \"value\": 0.12380624562501907, \"row_token\": \"007 tr\\u1eddi\", \"col_token\": \"008 <blank>\"}, {\"row\": 8, \"column\": 0, \"value\": 0.1917501986026764, \"row_token\": \"008 </s>\", \"col_token\": \"000 <s>\"}, {\"row\": 8, \"column\": 1, \"value\": 0.22142647206783295, \"row_token\": \"008 </s>\", \"col_token\": \"001 Today\"}, {\"row\": 8, \"column\": 2, \"value\": 0.15831723809242249, \"row_token\": \"008 </s>\", \"col_token\": \"002 is\"}, {\"row\": 8, \"column\": 3, \"value\": 0.06346738338470459, \"row_token\": \"008 </s>\", \"col_token\": \"003 a\"}, {\"row\": 8, \"column\": 4, \"value\": 0.08110307157039642, \"row_token\": \"008 </s>\", \"col_token\": \"004 beautiful\"}, {\"row\": 8, \"column\": 5, \"value\": 0.1076926738023758, \"row_token\": \"008 </s>\", \"col_token\": \"005 day\"}, {\"row\": 8, \"column\": 6, \"value\": 0.022035159170627594, \"row_token\": \"008 </s>\", \"col_token\": \"006 </s>\"}, {\"row\": 8, \"column\": 7, \"value\": 0.03998497501015663, \"row_token\": \"008 </s>\", \"col_token\": \"007 <blank>\"}, {\"row\": 8, \"column\": 8, \"value\": 0.11422286182641983, \"row_token\": \"008 </s>\", \"col_token\": \"008 <blank>\"}], \"data-889e71537102b74625c3f3392bf1f0ce\": [{\"row\": 0, \"column\": 0, \"value\": 0.020201822742819786, \"row_token\": \"000 <s>\", \"col_token\": \"000 <s>\"}, {\"row\": 0, \"column\": 1, \"value\": 0.02249283902347088, \"row_token\": \"000 <s>\", \"col_token\": \"001 Today\"}, {\"row\": 0, \"column\": 2, \"value\": 0.051324084401130676, \"row_token\": \"000 <s>\", \"col_token\": \"002 is\"}, {\"row\": 0, \"column\": 3, \"value\": 0.5605752468109131, \"row_token\": \"000 <s>\", \"col_token\": \"003 a\"}, {\"row\": 0, \"column\": 4, \"value\": 0.23734867572784424, \"row_token\": \"000 <s>\", \"col_token\": \"004 beautiful\"}, {\"row\": 0, \"column\": 5, \"value\": 0.05150943621993065, \"row_token\": \"000 <s>\", \"col_token\": \"005 day\"}, {\"row\": 0, \"column\": 6, \"value\": 0.013138393871486187, \"row_token\": \"000 <s>\", \"col_token\": \"006 </s>\"}, {\"row\": 0, \"column\": 7, \"value\": 0.028439505025744438, \"row_token\": \"000 <s>\", \"col_token\": \"007 <blank>\"}, {\"row\": 0, \"column\": 8, \"value\": 0.014970063231885433, \"row_token\": \"000 <s>\", \"col_token\": \"008 <blank>\"}, {\"row\": 1, \"column\": 0, \"value\": 0.03610372543334961, \"row_token\": \"001 H\\u00f4m\", \"col_token\": \"000 <s>\"}, {\"row\": 1, \"column\": 1, \"value\": 0.04146641492843628, \"row_token\": \"001 H\\u00f4m\", \"col_token\": \"001 Today\"}, {\"row\": 1, \"column\": 2, \"value\": 0.019518069922924042, \"row_token\": \"001 H\\u00f4m\", \"col_token\": \"002 is\"}, {\"row\": 1, \"column\": 3, \"value\": 0.26915615797042847, \"row_token\": \"001 H\\u00f4m\", \"col_token\": \"003 a\"}, {\"row\": 1, \"column\": 4, \"value\": 0.05001090094447136, \"row_token\": \"001 H\\u00f4m\", \"col_token\": \"004 beautiful\"}, {\"row\": 1, \"column\": 5, \"value\": 0.4084765613079071, \"row_token\": \"001 H\\u00f4m\", \"col_token\": \"005 day\"}, {\"row\": 1, \"column\": 6, \"value\": 0.019680170342326164, \"row_token\": \"001 H\\u00f4m\", \"col_token\": \"006 </s>\"}, {\"row\": 1, \"column\": 7, \"value\": 0.09522686898708344, \"row_token\": \"001 H\\u00f4m\", \"col_token\": \"007 <blank>\"}, {\"row\": 1, \"column\": 8, \"value\": 0.0603611059486866, \"row_token\": \"001 H\\u00f4m\", \"col_token\": \"008 <blank>\"}, {\"row\": 2, \"column\": 0, \"value\": 0.02125452272593975, \"row_token\": \"002 nay\", \"col_token\": \"000 <s>\"}, {\"row\": 2, \"column\": 1, \"value\": 0.0331789068877697, \"row_token\": \"002 nay\", \"col_token\": \"001 Today\"}, {\"row\": 2, \"column\": 2, \"value\": 0.015905722975730896, \"row_token\": \"002 nay\", \"col_token\": \"002 is\"}, {\"row\": 2, \"column\": 3, \"value\": 0.097073033452034, \"row_token\": \"002 nay\", \"col_token\": \"003 a\"}, {\"row\": 2, \"column\": 4, \"value\": 0.07803886383771896, \"row_token\": \"002 nay\", \"col_token\": \"004 beautiful\"}, {\"row\": 2, \"column\": 5, \"value\": 0.4671761691570282, \"row_token\": \"002 nay\", \"col_token\": \"005 day\"}, {\"row\": 2, \"column\": 6, \"value\": 0.12073539197444916, \"row_token\": \"002 nay\", \"col_token\": \"006 </s>\"}, {\"row\": 2, \"column\": 7, \"value\": 0.15163815021514893, \"row_token\": \"002 nay\", \"col_token\": \"007 <blank>\"}, {\"row\": 2, \"column\": 8, \"value\": 0.014999146573245525, \"row_token\": \"002 nay\", \"col_token\": \"008 <blank>\"}, {\"row\": 3, \"column\": 0, \"value\": 0.009190816432237625, \"row_token\": \"003 l\\u00e0\", \"col_token\": \"000 <s>\"}, {\"row\": 3, \"column\": 1, \"value\": 0.01392837893217802, \"row_token\": \"003 l\\u00e0\", \"col_token\": \"001 Today\"}, {\"row\": 3, \"column\": 2, \"value\": 0.008313087746500969, \"row_token\": \"003 l\\u00e0\", \"col_token\": \"002 is\"}, {\"row\": 3, \"column\": 3, \"value\": 0.02928902395069599, \"row_token\": \"003 l\\u00e0\", \"col_token\": \"003 a\"}, {\"row\": 3, \"column\": 4, \"value\": 0.020296158269047737, \"row_token\": \"003 l\\u00e0\", \"col_token\": \"004 beautiful\"}, {\"row\": 3, \"column\": 5, \"value\": 0.6891916394233704, \"row_token\": \"003 l\\u00e0\", \"col_token\": \"005 day\"}, {\"row\": 3, \"column\": 6, \"value\": 0.039452943950891495, \"row_token\": \"003 l\\u00e0\", \"col_token\": \"006 </s>\"}, {\"row\": 3, \"column\": 7, \"value\": 0.15808413922786713, \"row_token\": \"003 l\\u00e0\", \"col_token\": \"007 <blank>\"}, {\"row\": 3, \"column\": 8, \"value\": 0.03225376456975937, \"row_token\": \"003 l\\u00e0\", \"col_token\": \"008 <blank>\"}, {\"row\": 4, \"column\": 0, \"value\": 0.0032700435258448124, \"row_token\": \"004 m\\u1ed9t\", \"col_token\": \"000 <s>\"}, {\"row\": 4, \"column\": 1, \"value\": 0.0050905304960906506, \"row_token\": \"004 m\\u1ed9t\", \"col_token\": \"001 Today\"}, {\"row\": 4, \"column\": 2, \"value\": 0.00561980064958334, \"row_token\": \"004 m\\u1ed9t\", \"col_token\": \"002 is\"}, {\"row\": 4, \"column\": 3, \"value\": 0.017133459448814392, \"row_token\": \"004 m\\u1ed9t\", \"col_token\": \"003 a\"}, {\"row\": 4, \"column\": 4, \"value\": 0.02979612722992897, \"row_token\": \"004 m\\u1ed9t\", \"col_token\": \"004 beautiful\"}, {\"row\": 4, \"column\": 5, \"value\": 0.8492811322212219, \"row_token\": \"004 m\\u1ed9t\", \"col_token\": \"005 day\"}, {\"row\": 4, \"column\": 6, \"value\": 0.00571032240986824, \"row_token\": \"004 m\\u1ed9t\", \"col_token\": \"006 </s>\"}, {\"row\": 4, \"column\": 7, \"value\": 0.07384415715932846, \"row_token\": \"004 m\\u1ed9t\", \"col_token\": \"007 <blank>\"}, {\"row\": 4, \"column\": 8, \"value\": 0.010254304856061935, \"row_token\": \"004 m\\u1ed9t\", \"col_token\": \"008 <blank>\"}, {\"row\": 5, \"column\": 0, \"value\": 0.008458717726171017, \"row_token\": \"005 ng\\u00e0y\", \"col_token\": \"000 <s>\"}, {\"row\": 5, \"column\": 1, \"value\": 0.01066872850060463, \"row_token\": \"005 ng\\u00e0y\", \"col_token\": \"001 Today\"}, {\"row\": 5, \"column\": 2, \"value\": 0.011265105567872524, \"row_token\": \"005 ng\\u00e0y\", \"col_token\": \"002 is\"}, {\"row\": 5, \"column\": 3, \"value\": 0.29252612590789795, \"row_token\": \"005 ng\\u00e0y\", \"col_token\": \"003 a\"}, {\"row\": 5, \"column\": 4, \"value\": 0.2755436301231384, \"row_token\": \"005 ng\\u00e0y\", \"col_token\": \"004 beautiful\"}, {\"row\": 5, \"column\": 5, \"value\": 0.13274285197257996, \"row_token\": \"005 ng\\u00e0y\", \"col_token\": \"005 day\"}, {\"row\": 5, \"column\": 6, \"value\": 0.009608929976820946, \"row_token\": \"005 ng\\u00e0y\", \"col_token\": \"006 </s>\"}, {\"row\": 5, \"column\": 7, \"value\": 0.0346384160220623, \"row_token\": \"005 ng\\u00e0y\", \"col_token\": \"007 <blank>\"}, {\"row\": 5, \"column\": 8, \"value\": 0.22454749047756195, \"row_token\": \"005 ng\\u00e0y\", \"col_token\": \"008 <blank>\"}, {\"row\": 6, \"column\": 0, \"value\": 0.01563248783349991, \"row_token\": \"006 \\u0111\\u1eb9p\", \"col_token\": \"000 <s>\"}, {\"row\": 6, \"column\": 1, \"value\": 0.014015765860676765, \"row_token\": \"006 \\u0111\\u1eb9p\", \"col_token\": \"001 Today\"}, {\"row\": 6, \"column\": 2, \"value\": 0.016008134931325912, \"row_token\": \"006 \\u0111\\u1eb9p\", \"col_token\": \"002 is\"}, {\"row\": 6, \"column\": 3, \"value\": 0.2333432137966156, \"row_token\": \"006 \\u0111\\u1eb9p\", \"col_token\": \"003 a\"}, {\"row\": 6, \"column\": 4, \"value\": 0.12624742090702057, \"row_token\": \"006 \\u0111\\u1eb9p\", \"col_token\": \"004 beautiful\"}, {\"row\": 6, \"column\": 5, \"value\": 0.012509005144238472, \"row_token\": \"006 \\u0111\\u1eb9p\", \"col_token\": \"005 day\"}, {\"row\": 6, \"column\": 6, \"value\": 0.01312730461359024, \"row_token\": \"006 \\u0111\\u1eb9p\", \"col_token\": \"006 </s>\"}, {\"row\": 6, \"column\": 7, \"value\": 0.032889753580093384, \"row_token\": \"006 \\u0111\\u1eb9p\", \"col_token\": \"007 <blank>\"}, {\"row\": 6, \"column\": 8, \"value\": 0.5362268686294556, \"row_token\": \"006 \\u0111\\u1eb9p\", \"col_token\": \"008 <blank>\"}, {\"row\": 7, \"column\": 0, \"value\": 0.014436325989663601, \"row_token\": \"007 tr\\u1eddi\", \"col_token\": \"000 <s>\"}, {\"row\": 7, \"column\": 1, \"value\": 0.013750014826655388, \"row_token\": \"007 tr\\u1eddi\", \"col_token\": \"001 Today\"}, {\"row\": 7, \"column\": 2, \"value\": 0.010973380878567696, \"row_token\": \"007 tr\\u1eddi\", \"col_token\": \"002 is\"}, {\"row\": 7, \"column\": 3, \"value\": 0.2635060250759125, \"row_token\": \"007 tr\\u1eddi\", \"col_token\": \"003 a\"}, {\"row\": 7, \"column\": 4, \"value\": 0.05558658391237259, \"row_token\": \"007 tr\\u1eddi\", \"col_token\": \"004 beautiful\"}, {\"row\": 7, \"column\": 5, \"value\": 0.10752567648887634, \"row_token\": \"007 tr\\u1eddi\", \"col_token\": \"005 day\"}, {\"row\": 7, \"column\": 6, \"value\": 0.044366784393787384, \"row_token\": \"007 tr\\u1eddi\", \"col_token\": \"006 </s>\"}, {\"row\": 7, \"column\": 7, \"value\": 0.0928325429558754, \"row_token\": \"007 tr\\u1eddi\", \"col_token\": \"007 <blank>\"}, {\"row\": 7, \"column\": 8, \"value\": 0.39702266454696655, \"row_token\": \"007 tr\\u1eddi\", \"col_token\": \"008 <blank>\"}, {\"row\": 8, \"column\": 0, \"value\": 0.016092892736196518, \"row_token\": \"008 </s>\", \"col_token\": \"000 <s>\"}, {\"row\": 8, \"column\": 1, \"value\": 0.015178344212472439, \"row_token\": \"008 </s>\", \"col_token\": \"001 Today\"}, {\"row\": 8, \"column\": 2, \"value\": 0.012399192899465561, \"row_token\": \"008 </s>\", \"col_token\": \"002 is\"}, {\"row\": 8, \"column\": 3, \"value\": 0.24483829736709595, \"row_token\": \"008 </s>\", \"col_token\": \"003 a\"}, {\"row\": 8, \"column\": 4, \"value\": 0.05475148186087608, \"row_token\": \"008 </s>\", \"col_token\": \"004 beautiful\"}, {\"row\": 8, \"column\": 5, \"value\": 0.11126909404993057, \"row_token\": \"008 </s>\", \"col_token\": \"005 day\"}, {\"row\": 8, \"column\": 6, \"value\": 0.03710242360830307, \"row_token\": \"008 </s>\", \"col_token\": \"006 </s>\"}, {\"row\": 8, \"column\": 7, \"value\": 0.08828296512365341, \"row_token\": \"008 </s>\", \"col_token\": \"007 <blank>\"}, {\"row\": 8, \"column\": 8, \"value\": 0.4200854003429413, \"row_token\": \"008 </s>\", \"col_token\": \"008 <blank>\"}], \"data-85777e79f3eecdc9dc93fcdf26f318d7\": [{\"row\": 0, \"column\": 0, \"value\": 0.020478781312704086, \"row_token\": \"000 <s>\", \"col_token\": \"000 <s>\"}, {\"row\": 0, \"column\": 1, \"value\": 0.02381402999162674, \"row_token\": \"000 <s>\", \"col_token\": \"001 Today\"}, {\"row\": 0, \"column\": 2, \"value\": 0.020291412249207497, \"row_token\": \"000 <s>\", \"col_token\": \"002 is\"}, {\"row\": 0, \"column\": 3, \"value\": 0.12119624018669128, \"row_token\": \"000 <s>\", \"col_token\": \"003 a\"}, {\"row\": 0, \"column\": 4, \"value\": 0.5823289155960083, \"row_token\": \"000 <s>\", \"col_token\": \"004 beautiful\"}, {\"row\": 0, \"column\": 5, \"value\": 0.05121222510933876, \"row_token\": \"000 <s>\", \"col_token\": \"005 day\"}, {\"row\": 0, \"column\": 6, \"value\": 0.029069148004055023, \"row_token\": \"000 <s>\", \"col_token\": \"006 </s>\"}, {\"row\": 0, \"column\": 7, \"value\": 0.05827787145972252, \"row_token\": \"000 <s>\", \"col_token\": \"007 <blank>\"}, {\"row\": 0, \"column\": 8, \"value\": 0.09333143383264542, \"row_token\": \"000 <s>\", \"col_token\": \"008 <blank>\"}, {\"row\": 1, \"column\": 0, \"value\": 0.04429883882403374, \"row_token\": \"001 H\\u00f4m\", \"col_token\": \"000 <s>\"}, {\"row\": 1, \"column\": 1, \"value\": 0.06954214721918106, \"row_token\": \"001 H\\u00f4m\", \"col_token\": \"001 Today\"}, {\"row\": 1, \"column\": 2, \"value\": 0.09736349433660507, \"row_token\": \"001 H\\u00f4m\", \"col_token\": \"002 is\"}, {\"row\": 1, \"column\": 3, \"value\": 0.04577697440981865, \"row_token\": \"001 H\\u00f4m\", \"col_token\": \"003 a\"}, {\"row\": 1, \"column\": 4, \"value\": 0.01676444336771965, \"row_token\": \"001 H\\u00f4m\", \"col_token\": \"004 beautiful\"}, {\"row\": 1, \"column\": 5, \"value\": 0.14554840326309204, \"row_token\": \"001 H\\u00f4m\", \"col_token\": \"005 day\"}, {\"row\": 1, \"column\": 6, \"value\": 0.1503034085035324, \"row_token\": \"001 H\\u00f4m\", \"col_token\": \"006 </s>\"}, {\"row\": 1, \"column\": 7, \"value\": 0.18602484464645386, \"row_token\": \"001 H\\u00f4m\", \"col_token\": \"007 <blank>\"}, {\"row\": 1, \"column\": 8, \"value\": 0.2443775087594986, \"row_token\": \"001 H\\u00f4m\", \"col_token\": \"008 <blank>\"}, {\"row\": 2, \"column\": 0, \"value\": 0.01460215449333191, \"row_token\": \"002 nay\", \"col_token\": \"000 <s>\"}, {\"row\": 2, \"column\": 1, \"value\": 0.030765406787395477, \"row_token\": \"002 nay\", \"col_token\": \"001 Today\"}, {\"row\": 2, \"column\": 2, \"value\": 0.010351301170885563, \"row_token\": \"002 nay\", \"col_token\": \"002 is\"}, {\"row\": 2, \"column\": 3, \"value\": 0.02928108535706997, \"row_token\": \"002 nay\", \"col_token\": \"003 a\"}, {\"row\": 2, \"column\": 4, \"value\": 0.2458457499742508, \"row_token\": \"002 nay\", \"col_token\": \"004 beautiful\"}, {\"row\": 2, \"column\": 5, \"value\": 0.48711010813713074, \"row_token\": \"002 nay\", \"col_token\": \"005 day\"}, {\"row\": 2, \"column\": 6, \"value\": 0.12595412135124207, \"row_token\": \"002 nay\", \"col_token\": \"006 </s>\"}, {\"row\": 2, \"column\": 7, \"value\": 0.05097702518105507, \"row_token\": \"002 nay\", \"col_token\": \"007 <blank>\"}, {\"row\": 2, \"column\": 8, \"value\": 0.005113041028380394, \"row_token\": \"002 nay\", \"col_token\": \"008 <blank>\"}, {\"row\": 3, \"column\": 0, \"value\": 0.012055193074047565, \"row_token\": \"003 l\\u00e0\", \"col_token\": \"000 <s>\"}, {\"row\": 3, \"column\": 1, \"value\": 0.022230464965105057, \"row_token\": \"003 l\\u00e0\", \"col_token\": \"001 Today\"}, {\"row\": 3, \"column\": 2, \"value\": 0.009365490637719631, \"row_token\": \"003 l\\u00e0\", \"col_token\": \"002 is\"}, {\"row\": 3, \"column\": 3, \"value\": 0.02042701654136181, \"row_token\": \"003 l\\u00e0\", \"col_token\": \"003 a\"}, {\"row\": 3, \"column\": 4, \"value\": 0.034304384142160416, \"row_token\": \"003 l\\u00e0\", \"col_token\": \"004 beautiful\"}, {\"row\": 3, \"column\": 5, \"value\": 0.5510949492454529, \"row_token\": \"003 l\\u00e0\", \"col_token\": \"005 day\"}, {\"row\": 3, \"column\": 6, \"value\": 0.07484391331672668, \"row_token\": \"003 l\\u00e0\", \"col_token\": \"006 </s>\"}, {\"row\": 3, \"column\": 7, \"value\": 0.24144315719604492, \"row_token\": \"003 l\\u00e0\", \"col_token\": \"007 <blank>\"}, {\"row\": 3, \"column\": 8, \"value\": 0.034235429018735886, \"row_token\": \"003 l\\u00e0\", \"col_token\": \"008 <blank>\"}, {\"row\": 4, \"column\": 0, \"value\": 0.011623788625001907, \"row_token\": \"004 m\\u1ed9t\", \"col_token\": \"000 <s>\"}, {\"row\": 4, \"column\": 1, \"value\": 0.0209646038711071, \"row_token\": \"004 m\\u1ed9t\", \"col_token\": \"001 Today\"}, {\"row\": 4, \"column\": 2, \"value\": 0.005894247908145189, \"row_token\": \"004 m\\u1ed9t\", \"col_token\": \"002 is\"}, {\"row\": 4, \"column\": 3, \"value\": 0.005656746216118336, \"row_token\": \"004 m\\u1ed9t\", \"col_token\": \"003 a\"}, {\"row\": 4, \"column\": 4, \"value\": 0.004823417868465185, \"row_token\": \"004 m\\u1ed9t\", \"col_token\": \"004 beautiful\"}, {\"row\": 4, \"column\": 5, \"value\": 0.8264480233192444, \"row_token\": \"004 m\\u1ed9t\", \"col_token\": \"005 day\"}, {\"row\": 4, \"column\": 6, \"value\": 0.004876599181443453, \"row_token\": \"004 m\\u1ed9t\", \"col_token\": \"006 </s>\"}, {\"row\": 4, \"column\": 7, \"value\": 0.10931672900915146, \"row_token\": \"004 m\\u1ed9t\", \"col_token\": \"007 <blank>\"}, {\"row\": 4, \"column\": 8, \"value\": 0.010395853780210018, \"row_token\": \"004 m\\u1ed9t\", \"col_token\": \"008 <blank>\"}, {\"row\": 5, \"column\": 0, \"value\": 0.34018993377685547, \"row_token\": \"005 ng\\u00e0y\", \"col_token\": \"000 <s>\"}, {\"row\": 5, \"column\": 1, \"value\": 0.2532428503036499, \"row_token\": \"005 ng\\u00e0y\", \"col_token\": \"001 Today\"}, {\"row\": 5, \"column\": 2, \"value\": 0.27557387948036194, \"row_token\": \"005 ng\\u00e0y\", \"col_token\": \"002 is\"}, {\"row\": 5, \"column\": 3, \"value\": 0.009801174513995647, \"row_token\": \"005 ng\\u00e0y\", \"col_token\": \"003 a\"}, {\"row\": 5, \"column\": 4, \"value\": 0.0028853979893028736, \"row_token\": \"005 ng\\u00e0y\", \"col_token\": \"004 beautiful\"}, {\"row\": 5, \"column\": 5, \"value\": 0.02861369587481022, \"row_token\": \"005 ng\\u00e0y\", \"col_token\": \"005 day\"}, {\"row\": 5, \"column\": 6, \"value\": 0.001269359141588211, \"row_token\": \"005 ng\\u00e0y\", \"col_token\": \"006 </s>\"}, {\"row\": 5, \"column\": 7, \"value\": 0.026458676904439926, \"row_token\": \"005 ng\\u00e0y\", \"col_token\": \"007 <blank>\"}, {\"row\": 5, \"column\": 8, \"value\": 0.061965033411979675, \"row_token\": \"005 ng\\u00e0y\", \"col_token\": \"008 <blank>\"}, {\"row\": 6, \"column\": 0, \"value\": 0.05008861422538757, \"row_token\": \"006 \\u0111\\u1eb9p\", \"col_token\": \"000 <s>\"}, {\"row\": 6, \"column\": 1, \"value\": 0.03702903911471367, \"row_token\": \"006 \\u0111\\u1eb9p\", \"col_token\": \"001 Today\"}, {\"row\": 6, \"column\": 2, \"value\": 0.06204313039779663, \"row_token\": \"006 \\u0111\\u1eb9p\", \"col_token\": \"002 is\"}, {\"row\": 6, \"column\": 3, \"value\": 0.1809493750333786, \"row_token\": \"006 \\u0111\\u1eb9p\", \"col_token\": \"003 a\"}, {\"row\": 6, \"column\": 4, \"value\": 0.025453781709074974, \"row_token\": \"006 \\u0111\\u1eb9p\", \"col_token\": \"004 beautiful\"}, {\"row\": 6, \"column\": 5, \"value\": 0.049261800944805145, \"row_token\": \"006 \\u0111\\u1eb9p\", \"col_token\": \"005 day\"}, {\"row\": 6, \"column\": 6, \"value\": 0.015973858535289764, \"row_token\": \"006 \\u0111\\u1eb9p\", \"col_token\": \"006 </s>\"}, {\"row\": 6, \"column\": 7, \"value\": 0.17656798660755157, \"row_token\": \"006 \\u0111\\u1eb9p\", \"col_token\": \"007 <blank>\"}, {\"row\": 6, \"column\": 8, \"value\": 0.4026324450969696, \"row_token\": \"006 \\u0111\\u1eb9p\", \"col_token\": \"008 <blank>\"}, {\"row\": 7, \"column\": 0, \"value\": 0.01954520121216774, \"row_token\": \"007 tr\\u1eddi\", \"col_token\": \"000 <s>\"}, {\"row\": 7, \"column\": 1, \"value\": 0.020450880751013756, \"row_token\": \"007 tr\\u1eddi\", \"col_token\": \"001 Today\"}, {\"row\": 7, \"column\": 2, \"value\": 0.01778523437678814, \"row_token\": \"007 tr\\u1eddi\", \"col_token\": \"002 is\"}, {\"row\": 7, \"column\": 3, \"value\": 0.05230135843157768, \"row_token\": \"007 tr\\u1eddi\", \"col_token\": \"003 a\"}, {\"row\": 7, \"column\": 4, \"value\": 0.012112215161323547, \"row_token\": \"007 tr\\u1eddi\", \"col_token\": \"004 beautiful\"}, {\"row\": 7, \"column\": 5, \"value\": 0.1092449203133583, \"row_token\": \"007 tr\\u1eddi\", \"col_token\": \"005 day\"}, {\"row\": 7, \"column\": 6, \"value\": 0.02319689653813839, \"row_token\": \"007 tr\\u1eddi\", \"col_token\": \"006 </s>\"}, {\"row\": 7, \"column\": 7, \"value\": 0.3889829218387604, \"row_token\": \"007 tr\\u1eddi\", \"col_token\": \"007 <blank>\"}, {\"row\": 7, \"column\": 8, \"value\": 0.3563803434371948, \"row_token\": \"007 tr\\u1eddi\", \"col_token\": \"008 <blank>\"}, {\"row\": 8, \"column\": 0, \"value\": 0.01962243765592575, \"row_token\": \"008 </s>\", \"col_token\": \"000 <s>\"}, {\"row\": 8, \"column\": 1, \"value\": 0.02047092467546463, \"row_token\": \"008 </s>\", \"col_token\": \"001 Today\"}, {\"row\": 8, \"column\": 2, \"value\": 0.0197144765406847, \"row_token\": \"008 </s>\", \"col_token\": \"002 is\"}, {\"row\": 8, \"column\": 3, \"value\": 0.04935040697455406, \"row_token\": \"008 </s>\", \"col_token\": \"003 a\"}, {\"row\": 8, \"column\": 4, \"value\": 0.015134777873754501, \"row_token\": \"008 </s>\", \"col_token\": \"004 beautiful\"}, {\"row\": 8, \"column\": 5, \"value\": 0.09821345657110214, \"row_token\": \"008 </s>\", \"col_token\": \"005 day\"}, {\"row\": 8, \"column\": 6, \"value\": 0.019900958985090256, \"row_token\": \"008 </s>\", \"col_token\": \"006 </s>\"}, {\"row\": 8, \"column\": 7, \"value\": 0.3417712152004242, \"row_token\": \"008 </s>\", \"col_token\": \"007 <blank>\"}, {\"row\": 8, \"column\": 8, \"value\": 0.41582128405570984, \"row_token\": \"008 </s>\", \"col_token\": \"008 <blank>\"}], \"data-3892fbd2297c9e6f63a270aa036c3889\": [{\"row\": 0, \"column\": 0, \"value\": 0.027854088693857193, \"row_token\": \"000 <s>\", \"col_token\": \"000 <s>\"}, {\"row\": 0, \"column\": 1, \"value\": 0.060187678784132004, \"row_token\": \"000 <s>\", \"col_token\": \"001 Today\"}, {\"row\": 0, \"column\": 2, \"value\": 0.028691064566373825, \"row_token\": \"000 <s>\", \"col_token\": \"002 is\"}, {\"row\": 0, \"column\": 3, \"value\": 0.02525395154953003, \"row_token\": \"000 <s>\", \"col_token\": \"003 a\"}, {\"row\": 0, \"column\": 4, \"value\": 0.09459268301725388, \"row_token\": \"000 <s>\", \"col_token\": \"004 beautiful\"}, {\"row\": 0, \"column\": 5, \"value\": 0.0459696501493454, \"row_token\": \"000 <s>\", \"col_token\": \"005 day\"}, {\"row\": 0, \"column\": 6, \"value\": 0.5957162976264954, \"row_token\": \"000 <s>\", \"col_token\": \"006 </s>\"}, {\"row\": 0, \"column\": 7, \"value\": 0.04885648190975189, \"row_token\": \"000 <s>\", \"col_token\": \"007 <blank>\"}, {\"row\": 0, \"column\": 8, \"value\": 0.07287810742855072, \"row_token\": \"000 <s>\", \"col_token\": \"008 <blank>\"}, {\"row\": 1, \"column\": 0, \"value\": 0.003676792373880744, \"row_token\": \"001 H\\u00f4m\", \"col_token\": \"000 <s>\"}, {\"row\": 1, \"column\": 1, \"value\": 0.003116319654509425, \"row_token\": \"001 H\\u00f4m\", \"col_token\": \"001 Today\"}, {\"row\": 1, \"column\": 2, \"value\": 0.0015620453050360084, \"row_token\": \"001 H\\u00f4m\", \"col_token\": \"002 is\"}, {\"row\": 1, \"column\": 3, \"value\": 0.21180273592472076, \"row_token\": \"001 H\\u00f4m\", \"col_token\": \"003 a\"}, {\"row\": 1, \"column\": 4, \"value\": 0.029300440102815628, \"row_token\": \"001 H\\u00f4m\", \"col_token\": \"004 beautiful\"}, {\"row\": 1, \"column\": 5, \"value\": 0.015881991013884544, \"row_token\": \"001 H\\u00f4m\", \"col_token\": \"005 day\"}, {\"row\": 1, \"column\": 6, \"value\": 0.5070611834526062, \"row_token\": \"001 H\\u00f4m\", \"col_token\": \"006 </s>\"}, {\"row\": 1, \"column\": 7, \"value\": 0.05312860757112503, \"row_token\": \"001 H\\u00f4m\", \"col_token\": \"007 <blank>\"}, {\"row\": 1, \"column\": 8, \"value\": 0.17446984350681305, \"row_token\": \"001 H\\u00f4m\", \"col_token\": \"008 <blank>\"}, {\"row\": 2, \"column\": 0, \"value\": 0.0004959134384989738, \"row_token\": \"002 nay\", \"col_token\": \"000 <s>\"}, {\"row\": 2, \"column\": 1, \"value\": 0.00037660947418771684, \"row_token\": \"002 nay\", \"col_token\": \"001 Today\"}, {\"row\": 2, \"column\": 2, \"value\": 0.00019937881734222174, \"row_token\": \"002 nay\", \"col_token\": \"002 is\"}, {\"row\": 2, \"column\": 3, \"value\": 0.033120229840278625, \"row_token\": \"002 nay\", \"col_token\": \"003 a\"}, {\"row\": 2, \"column\": 4, \"value\": 0.03204729035496712, \"row_token\": \"002 nay\", \"col_token\": \"004 beautiful\"}, {\"row\": 2, \"column\": 5, \"value\": 0.005765257403254509, \"row_token\": \"002 nay\", \"col_token\": \"005 day\"}, {\"row\": 2, \"column\": 6, \"value\": 0.8140624165534973, \"row_token\": \"002 nay\", \"col_token\": \"006 </s>\"}, {\"row\": 2, \"column\": 7, \"value\": 0.0281284898519516, \"row_token\": \"002 nay\", \"col_token\": \"007 <blank>\"}, {\"row\": 2, \"column\": 8, \"value\": 0.08580432832241058, \"row_token\": \"002 nay\", \"col_token\": \"008 <blank>\"}, {\"row\": 3, \"column\": 0, \"value\": 3.611837746575475e-05, \"row_token\": \"003 l\\u00e0\", \"col_token\": \"000 <s>\"}, {\"row\": 3, \"column\": 1, \"value\": 2.3070062525221147e-05, \"row_token\": \"003 l\\u00e0\", \"col_token\": \"001 Today\"}, {\"row\": 3, \"column\": 2, \"value\": 1.9289422198198736e-05, \"row_token\": \"003 l\\u00e0\", \"col_token\": \"002 is\"}, {\"row\": 3, \"column\": 3, \"value\": 0.0365021638572216, \"row_token\": \"003 l\\u00e0\", \"col_token\": \"003 a\"}, {\"row\": 3, \"column\": 4, \"value\": 0.009139113128185272, \"row_token\": \"003 l\\u00e0\", \"col_token\": \"004 beautiful\"}, {\"row\": 3, \"column\": 5, \"value\": 0.001840467331930995, \"row_token\": \"003 l\\u00e0\", \"col_token\": \"005 day\"}, {\"row\": 3, \"column\": 6, \"value\": 0.7855915427207947, \"row_token\": \"003 l\\u00e0\", \"col_token\": \"006 </s>\"}, {\"row\": 3, \"column\": 7, \"value\": 0.03472619503736496, \"row_token\": \"003 l\\u00e0\", \"col_token\": \"007 <blank>\"}, {\"row\": 3, \"column\": 8, \"value\": 0.13212203979492188, \"row_token\": \"003 l\\u00e0\", \"col_token\": \"008 <blank>\"}, {\"row\": 4, \"column\": 0, \"value\": 0.00018637318862602115, \"row_token\": \"004 m\\u1ed9t\", \"col_token\": \"000 <s>\"}, {\"row\": 4, \"column\": 1, \"value\": 0.00019725887977983803, \"row_token\": \"004 m\\u1ed9t\", \"col_token\": \"001 Today\"}, {\"row\": 4, \"column\": 2, \"value\": 0.00010600918903946877, \"row_token\": \"004 m\\u1ed9t\", \"col_token\": \"002 is\"}, {\"row\": 4, \"column\": 3, \"value\": 0.4383752644062042, \"row_token\": \"004 m\\u1ed9t\", \"col_token\": \"003 a\"}, {\"row\": 4, \"column\": 4, \"value\": 0.06266713887453079, \"row_token\": \"004 m\\u1ed9t\", \"col_token\": \"004 beautiful\"}, {\"row\": 4, \"column\": 5, \"value\": 0.02051028050482273, \"row_token\": \"004 m\\u1ed9t\", \"col_token\": \"005 day\"}, {\"row\": 4, \"column\": 6, \"value\": 0.1558852642774582, \"row_token\": \"004 m\\u1ed9t\", \"col_token\": \"006 </s>\"}, {\"row\": 4, \"column\": 7, \"value\": 0.0661567747592926, \"row_token\": \"004 m\\u1ed9t\", \"col_token\": \"007 <blank>\"}, {\"row\": 4, \"column\": 8, \"value\": 0.2559156119823456, \"row_token\": \"004 m\\u1ed9t\", \"col_token\": \"008 <blank>\"}, {\"row\": 5, \"column\": 0, \"value\": 0.0008423206163570285, \"row_token\": \"005 ng\\u00e0y\", \"col_token\": \"000 <s>\"}, {\"row\": 5, \"column\": 1, \"value\": 0.0010014945873990655, \"row_token\": \"005 ng\\u00e0y\", \"col_token\": \"001 Today\"}, {\"row\": 5, \"column\": 2, \"value\": 0.0006176837487146258, \"row_token\": \"005 ng\\u00e0y\", \"col_token\": \"002 is\"}, {\"row\": 5, \"column\": 3, \"value\": 0.3813765048980713, \"row_token\": \"005 ng\\u00e0y\", \"col_token\": \"003 a\"}, {\"row\": 5, \"column\": 4, \"value\": 0.3380102515220642, \"row_token\": \"005 ng\\u00e0y\", \"col_token\": \"004 beautiful\"}, {\"row\": 5, \"column\": 5, \"value\": 0.01440699864178896, \"row_token\": \"005 ng\\u00e0y\", \"col_token\": \"005 day\"}, {\"row\": 5, \"column\": 6, \"value\": 0.014020387083292007, \"row_token\": \"005 ng\\u00e0y\", \"col_token\": \"006 </s>\"}, {\"row\": 5, \"column\": 7, \"value\": 0.008587225340306759, \"row_token\": \"005 ng\\u00e0y\", \"col_token\": \"007 <blank>\"}, {\"row\": 5, \"column\": 8, \"value\": 0.24113716185092926, \"row_token\": \"005 ng\\u00e0y\", \"col_token\": \"008 <blank>\"}, {\"row\": 6, \"column\": 0, \"value\": 0.014918521977961063, \"row_token\": \"006 \\u0111\\u1eb9p\", \"col_token\": \"000 <s>\"}, {\"row\": 6, \"column\": 1, \"value\": 0.01619601435959339, \"row_token\": \"006 \\u0111\\u1eb9p\", \"col_token\": \"001 Today\"}, {\"row\": 6, \"column\": 2, \"value\": 0.02396567165851593, \"row_token\": \"006 \\u0111\\u1eb9p\", \"col_token\": \"002 is\"}, {\"row\": 6, \"column\": 3, \"value\": 0.11298210918903351, \"row_token\": \"006 \\u0111\\u1eb9p\", \"col_token\": \"003 a\"}, {\"row\": 6, \"column\": 4, \"value\": 0.10630935430526733, \"row_token\": \"006 \\u0111\\u1eb9p\", \"col_token\": \"004 beautiful\"}, {\"row\": 6, \"column\": 5, \"value\": 0.014570881612598896, \"row_token\": \"006 \\u0111\\u1eb9p\", \"col_token\": \"005 day\"}, {\"row\": 6, \"column\": 6, \"value\": 0.005804549902677536, \"row_token\": \"006 \\u0111\\u1eb9p\", \"col_token\": \"006 </s>\"}, {\"row\": 6, \"column\": 7, \"value\": 0.01149652898311615, \"row_token\": \"006 \\u0111\\u1eb9p\", \"col_token\": \"007 <blank>\"}, {\"row\": 6, \"column\": 8, \"value\": 0.6937564015388489, \"row_token\": \"006 \\u0111\\u1eb9p\", \"col_token\": \"008 <blank>\"}, {\"row\": 7, \"column\": 0, \"value\": 0.0035103419795632362, \"row_token\": \"007 tr\\u1eddi\", \"col_token\": \"000 <s>\"}, {\"row\": 7, \"column\": 1, \"value\": 0.004050679970532656, \"row_token\": \"007 tr\\u1eddi\", \"col_token\": \"001 Today\"}, {\"row\": 7, \"column\": 2, \"value\": 0.0019100001081824303, \"row_token\": \"007 tr\\u1eddi\", \"col_token\": \"002 is\"}, {\"row\": 7, \"column\": 3, \"value\": 0.3928714990615845, \"row_token\": \"007 tr\\u1eddi\", \"col_token\": \"003 a\"}, {\"row\": 7, \"column\": 4, \"value\": 0.12515531480312347, \"row_token\": \"007 tr\\u1eddi\", \"col_token\": \"004 beautiful\"}, {\"row\": 7, \"column\": 5, \"value\": 0.053552668541669846, \"row_token\": \"007 tr\\u1eddi\", \"col_token\": \"005 day\"}, {\"row\": 7, \"column\": 6, \"value\": 0.09332501888275146, \"row_token\": \"007 tr\\u1eddi\", \"col_token\": \"006 </s>\"}, {\"row\": 7, \"column\": 7, \"value\": 0.022938676178455353, \"row_token\": \"007 tr\\u1eddi\", \"col_token\": \"007 <blank>\"}, {\"row\": 7, \"column\": 8, \"value\": 0.3026857376098633, \"row_token\": \"007 tr\\u1eddi\", \"col_token\": \"008 <blank>\"}, {\"row\": 8, \"column\": 0, \"value\": 0.0032735043205320835, \"row_token\": \"008 </s>\", \"col_token\": \"000 <s>\"}, {\"row\": 8, \"column\": 1, \"value\": 0.0035770724061876535, \"row_token\": \"008 </s>\", \"col_token\": \"001 Today\"}, {\"row\": 8, \"column\": 2, \"value\": 0.001764568849466741, \"row_token\": \"008 </s>\", \"col_token\": \"002 is\"}, {\"row\": 8, \"column\": 3, \"value\": 0.4282684028148651, \"row_token\": \"008 </s>\", \"col_token\": \"003 a\"}, {\"row\": 8, \"column\": 4, \"value\": 0.12733590602874756, \"row_token\": \"008 </s>\", \"col_token\": \"004 beautiful\"}, {\"row\": 8, \"column\": 5, \"value\": 0.0519423633813858, \"row_token\": \"008 </s>\", \"col_token\": \"005 day\"}, {\"row\": 8, \"column\": 6, \"value\": 0.057659685611724854, \"row_token\": \"008 </s>\", \"col_token\": \"006 </s>\"}, {\"row\": 8, \"column\": 7, \"value\": 0.015995221212506294, \"row_token\": \"008 </s>\", \"col_token\": \"007 <blank>\"}, {\"row\": 8, \"column\": 8, \"value\": 0.3101832866668701, \"row_token\": \"008 </s>\", \"col_token\": \"008 <blank>\"}]}}, {\"mode\": \"vega-lite\"});\n",
       "</script>"
      ],
      "text/plain": [
       "alt.HConcatChart(...)"
      ]
     },
     "execution_count": 95,
     "metadata": {},
     "output_type": "execute_result"
    }
   ],
   "source": [
    "def viz_decoder_src():\n",
    "    for model_name in ['vi_to_en_complete_softmax_3.pt']:\n",
    "        model_path = './models/'+ model_name\n",
    "        start_time = time.time()\n",
    "        gc.collect()\n",
    "        torch.cuda.empty_cache()\n",
    "    \n",
    "        temp = [('Hôm nay là một ngày đẹp trời', 'Today is a beautiful day')] \n",
    "\n",
    "        model_data = torch.load(model_path)\n",
    "        model, tgt_truth, tgt_pred, score, results = run_model_example(\n",
    "            False,\n",
    "            1, \n",
    "            0,\n",
    "            model_data['train_iter'],\n",
    "            model_data['val_iter'],\n",
    "            temp,\n",
    "    #         model_data['test_iter'],\n",
    "            model_data['vocab_src'],\n",
    "            model_data['vocab_tgt'],\n",
    "            model_data['tokenizer_src'],\n",
    "            model_data['tokenizer_tgt'],\n",
    "            model_data['config'],\n",
    "            model_data['params'],\n",
    "            model_path\n",
    "        )\n",
    "        \n",
    "        example = results[len(results) - 1]  # batch object for the final example\n",
    "\n",
    "        layer_viz = [\n",
    "            visualize_layer(\n",
    "                model,\n",
    "                layer,\n",
    "                get_decoder_src,\n",
    "                max(len(example[1]), len(example[2])),\n",
    "                example[1],\n",
    "                example[2],\n",
    "            )\n",
    "            for layer in range(6)\n",
    "        ]\n",
    "        return alt.hconcat(\n",
    "#             layer_viz[0]\n",
    "#             & layer_viz[1]\n",
    "#             & layer_viz[2]\n",
    "#             & layer_viz[3]\n",
    "#             & layer_viz[4]\n",
    "#             & \n",
    "            layer_viz[5]\n",
    "        )\n",
    "\n",
    "\n",
    "show_example(viz_decoder_src)"
   ]
  },
  {
   "cell_type": "markdown",
   "id": "6eb41512",
   "metadata": {
    "id": "nSseuCcATsqO"
   },
   "source": [
    "# Conclusion\n",
    "\n",
    " Hopefully this code is useful for future research. Please reach\n",
    " out if you have any issues.\n",
    "\n",
    "\n",
    " Cheers,\n",
    " Sasha Rush, Austin Huang, Suraj Subramanian, Jonathan Sum, Khalid Almubarak,\n",
    " Stella Biderman"
   ]
  },
  {
   "cell_type": "code",
   "execution_count": null,
   "id": "63f1480e",
   "metadata": {},
   "outputs": [],
   "source": []
  },
  {
   "cell_type": "code",
   "execution_count": null,
   "id": "fb085a6e",
   "metadata": {},
   "outputs": [],
   "source": []
  },
  {
   "cell_type": "code",
   "execution_count": null,
   "id": "46ed3079",
   "metadata": {},
   "outputs": [],
   "source": []
  }
 ],
 "metadata": {
  "jupytext": {
   "encoding": "# -*- coding: utf-8 -*-",
   "formats": "ipynb,py:percent"
  },
  "kernelspec": {
   "display_name": "Python 3 (ipykernel)",
   "language": "python",
   "name": "python3"
  },
  "language_info": {
   "codemirror_mode": {
    "name": "ipython",
    "version": 3
   },
   "file_extension": ".py",
   "mimetype": "text/x-python",
   "name": "python",
   "nbconvert_exporter": "python",
   "pygments_lexer": "ipython3",
   "version": "3.10.10"
  }
 },
 "nbformat": 4,
 "nbformat_minor": 5
}
